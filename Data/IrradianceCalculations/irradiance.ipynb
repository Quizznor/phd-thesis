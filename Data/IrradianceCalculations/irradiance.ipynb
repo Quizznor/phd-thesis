{
 "cells": [
  {
   "cell_type": "code",
   "execution_count": 1,
   "metadata": {},
   "outputs": [
    {
     "name": "stderr",
     "output_type": "stream",
     "text": [
      "\u001b[01;32m10:02:11 [INFO] utils         \u001b[0m -- (\u001b[01;35m +2697ms\u001b[0m) -- import \u001b[1m\u001b[91mlogging\u001b[0m\n",
      "\u001b[01;32m10:02:11 [INFO] utils.binaries\u001b[0m -- (\u001b[01;35m  +100ms\u001b[0m) -- import \u001b[1m\u001b[91mnumpy\u001b[0m as \u001b[1m\u001b[91mnp\u001b[0m\n",
      "\u001b[01;32m10:02:12 [INFO] utils.binaries\u001b[0m -- (\u001b[01;35m  +244ms\u001b[0m) -- import \u001b[1m\u001b[91mpandas\u001b[0m as \u001b[1m\u001b[91mpd\u001b[0m\n",
      "\u001b[01;32m10:02:12 [INFO] utils.binaries\u001b[0m -- (\u001b[01;35m    +2ms\u001b[0m) -- import \u001b[1m\u001b[91mbinaries.tools\u001b[0m as \u001b[1m\u001b[91mtool\u001b[0m\n",
      "\u001b[01;32m10:02:12 [INFO] utils.plotting\u001b[0m -- (\u001b[01;35m  +342ms\u001b[0m) -- import \u001b[1m\u001b[91mmatplotlib.pyplot\u001b[0m as \u001b[1m\u001b[91mplt\u001b[0m\n",
      "\u001b[01;32m10:02:12 [INFO] utils.plotting\u001b[0m -- (\u001b[01;35m  +227ms\u001b[0m) -- import \u001b[1m\u001b[91mseaborn\u001b[0m as \u001b[1m\u001b[91mso\u001b[0m\n",
      "\u001b[01;36m10:02:12 [DBUG] utils.plotting\u001b[0m -- (\u001b[01;35m    +6ms\u001b[0m) -- font size set to 9.5\u001b[0m\n",
      "\u001b[01;36m10:02:12 [DBUG] utils.plotting\u001b[0m -- (\u001b[01;35m    +1ms\u001b[0m) -- label size set to 13.0\u001b[0m\n",
      "\u001b[01;36m10:02:12 [DBUG] utils.plotting\u001b[0m -- (\u001b[01;35m    +1ms\u001b[0m) -- figure size set to [6.6, 3.3]\u001b[0m\n",
      "\u001b[01;36m10:02:12 [DBUG] utils.plotting\u001b[0m -- (\u001b[01;35m    +1ms\u001b[0m) -- markersize set to 2.0\u001b[0m\n",
      "\u001b[01;36m10:02:12 [DBUG] utils.plotting\u001b[0m -- (\u001b[01;35m    +1ms\u001b[0m) -- usetex set to False\u001b[0m\n",
      "\u001b[01;32m10:02:12 [INFO] utils.plotting\u001b[0m -- (\u001b[01;35m    +2ms\u001b[0m) -- import \u001b[1m\u001b[91mplotting.tools\u001b[0m as \u001b[1m\u001b[91mplot\u001b[0m\n"
     ]
    }
   ],
   "source": [
    "import sys, os\n",
    "\n",
    "hostname = os.uname()[1]\n",
    "\n",
    "if \"crc\" in hostname:\n",
    "    scriptdir = \"/cr/users/filip/bin/\"\n",
    "elif \"beep-boop\" == hostname:\n",
    "    scriptdir = \"/home/quizznor/projects/phd-thesis/bin/\"\n",
    "\n",
    "sys.path.append(scriptdir)\n",
    "\n",
    "from utils.binaries import *\n",
    "from utils.plotting import *"
   ]
  },
  {
   "cell_type": "markdown",
   "metadata": {},
   "source": [
    "# UV irradiance moon"
   ]
  },
  {
   "cell_type": "code",
   "execution_count": null,
   "metadata": {},
   "outputs": [],
   "source": [
    "nm, photons = np.loadtxt(\"moon.csv\", delimiter=',', unpack=True)\n",
    "sort = np.argsort(nm)\n",
    "\n",
    "h = 6.626e-34                               # Js\n",
    "c = 3e8                                     # m/s\n",
    "irradiance = photons * h * c / (nm * 1e-9)\n",
    "irradiance *= 1e5                           # to convert from cm2 to m2\n",
    "\n",
    "irradiance = irradiance[sort]\n",
    "nm = nm[sort]\n",
    "\n",
    "plt.plot(nm, irradiance)\n",
    "plt.yscale('log')\n",
    "\n",
    "int_irradiance = 0\n",
    "\n",
    "for dx, y in zip(np.diff(nm), irradiance):\n",
    "    int_irradiance += y * dx\n",
    "\n",
    "print(int_irradiance)"
   ]
  },
  {
   "cell_type": "markdown",
   "metadata": {},
   "source": [
    "# UV irradiance extensive air shower"
   ]
  },
  {
   "cell_type": "code",
   "execution_count": 7,
   "metadata": {},
   "outputs": [
    {
     "name": "stdout",
     "output_type": "stream",
     "text": [
      "700 18670.0 3.2471613203001736e-10\n"
     ]
    }
   ],
   "source": [
    "# calculate irradiance in W/m2\n",
    "def calc_irradiance(distance, irradiance):\n",
    "    return np.max(irradiance) / (4 * np.pi * (distance)**2) * np.exp(-0.14 * distance/1e3)\n",
    "#                                    ^ area                      ^ attenuation\n",
    "\n",
    "def calc_density(h):\n",
    "\n",
    "    pb = 0.8638\n",
    "    hb = 1400\n",
    "    Lb = 5\n",
    "    Tb = 278\n",
    "    M = 0.0289644\n",
    "    g = 9.80665\n",
    "    R = 8.314459\n",
    "    \n",
    "    # troposphere = lambda x: pb * (1 - (x-hb) * Lb/Tb) ** ((g*M)/(R*Lb)-1)         # something went wrong here\n",
    "    stratosphere = lambda x: pb * np.exp(-g*M*(x-hb)/(R*Tb))\n",
    "\n",
    "    return stratosphere(h)\n",
    "\n",
    "def calc_height(depth, theta=0):\n",
    "\n",
    "    x, h = 0, 100000\n",
    "    stepwidth = np.cos(360/(2*np.pi) * theta)\n",
    "\n",
    "    while x < depth:\n",
    "        x += calc_density(h) * stepwidth\n",
    "        h -= stepwidth\n",
    "\n",
    "    return h - 1500\n",
    "\n",
    "E0 = 1e18                                                       # energy of primary particle (eV)\n",
    "e_gamma = 0.5 * E0 * (1 - 1/np.log(E0/(20e9)/np.log(15)))\n",
    "e_fluorescence = 8 * (e_gamma/1e6) * 5.894e-19                  # fluorescence energy in J\n",
    "t_life = 42e-9                                                  # radiation time for transition state\n",
    "t = np.linspace(1e-12, 0.2e-5, int(1e4))\n",
    "irradiance = e_fluorescence * np.exp(-t_life/t) / t             # total irradiance in W\n",
    "xmax = 700\n",
    "r0 = calc_height(xmax, 0)\n",
    "print(xmax, r0, calc_irradiance(r0, irradiance))"
   ]
  },
  {
   "cell_type": "code",
   "execution_count": 8,
   "metadata": {},
   "outputs": [
    {
     "name": "stdout",
     "output_type": "stream",
     "text": [
      "19.416067886981825\n"
     ]
    }
   ],
   "source": [
    "print(max(irradiance))"
   ]
  },
  {
   "cell_type": "code",
   "execution_count": null,
   "metadata": {},
   "outputs": [],
   "source": []
  }
 ],
 "metadata": {
  "kernelspec": {
   "display_name": "Python 3",
   "language": "python",
   "name": "python3"
  },
  "language_info": {
   "codemirror_mode": {
    "name": "ipython",
    "version": 3
   },
   "file_extension": ".py",
   "mimetype": "text/x-python",
   "name": "python",
   "nbconvert_exporter": "python",
   "pygments_lexer": "ipython3",
   "version": "3.9.12"
  }
 },
 "nbformat": 4,
 "nbformat_minor": 2
}
