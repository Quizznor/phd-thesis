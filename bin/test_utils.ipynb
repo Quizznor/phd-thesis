{
 "cells": [
  {
   "cell_type": "code",
   "execution_count": 1,
   "metadata": {},
   "outputs": [
    {
     "name": "stderr",
     "output_type": "stream",
     "text": [
      "\u001b[1;32m21:24:43 [INFO] utils         \u001b[0m -- (\u001b[1;35m +1812ms\u001b[0m) -- import \u001b[1m\u001b[91mlogging\u001b[0m\n",
      "\u001b[1;32m21:24:43 [INFO] utils.binaries\u001b[0m -- (\u001b[1;35m  +117ms\u001b[0m) -- import \u001b[1m\u001b[91mnumpy\u001b[0m as \u001b[1m\u001b[91mnp\u001b[0m\n",
      "\u001b[1;32m21:24:44 [INFO] utils.binaries\u001b[0m -- (\u001b[1;35m  +317ms\u001b[0m) -- import \u001b[1m\u001b[91mpandas\u001b[0m as \u001b[1m\u001b[91mpd\u001b[0m\n",
      "\u001b[1;32m21:24:44 [INFO] utils.binaries\u001b[0m -- (\u001b[1;35m    +1ms\u001b[0m) -- import \u001b[1m\u001b[91mbinaries.tools\u001b[0m as \u001b[1m\u001b[91mtool\u001b[0m\n"
     ]
    }
   ],
   "source": [
    "import sys\n",
    "\n",
    "from utils.binaries import *\n",
    "# from utils.plotting import *"
   ]
  }
 ],
 "metadata": {
  "kernelspec": {
   "display_name": "Python 3",
   "language": "python",
   "name": "python3"
  },
  "language_info": {
   "codemirror_mode": {
    "name": "ipython",
    "version": 3
   },
   "file_extension": ".py",
   "mimetype": "text/x-python",
   "name": "python",
   "nbconvert_exporter": "python",
   "pygments_lexer": "ipython3",
   "version": "3.11.6"
  }
 },
 "nbformat": 4,
 "nbformat_minor": 2
}
