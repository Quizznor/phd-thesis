{
 "cells": [
  {
   "cell_type": "code",
   "execution_count": 42,
   "metadata": {},
   "outputs": [
    {
     "data": {
      "text/html": [
       "<div>\n",
       "<style scoped>\n",
       "    .dataframe tbody tr th:only-of-type {\n",
       "        vertical-align: middle;\n",
       "    }\n",
       "\n",
       "    .dataframe tbody tr th {\n",
       "        vertical-align: top;\n",
       "    }\n",
       "\n",
       "    .dataframe thead th {\n",
       "        text-align: right;\n",
       "    }\n",
       "</style>\n",
       "<table border=\"1\" class=\"dataframe\">\n",
       "  <thead>\n",
       "    <tr style=\"text-align: right;\">\n",
       "      <th></th>\n",
       "      <th>tel</th>\n",
       "      <th>step</th>\n",
       "      <th>date</th>\n",
       "      <th>source</th>\n",
       "      <th>mA</th>\n",
       "      <th>forDB</th>\n",
       "      <th>jobfile</th>\n",
       "      <th>comment</th>\n",
       "    </tr>\n",
       "    <tr>\n",
       "      <th>id</th>\n",
       "      <th></th>\n",
       "      <th></th>\n",
       "      <th></th>\n",
       "      <th></th>\n",
       "      <th></th>\n",
       "      <th></th>\n",
       "      <th></th>\n",
       "      <th></th>\n",
       "    </tr>\n",
       "  </thead>\n",
       "  <tbody>\n",
       "    <tr>\n",
       "      <th>15443x</th>\n",
       "      <td>co5</td>\n",
       "      <td>6</td>\n",
       "      <td>2022-10-15</td>\n",
       "      <td>OLO</td>\n",
       "      <td>15.9</td>\n",
       "      <td>True</td>\n",
       "      <td>job_Coihueco_bay5-CZ_hex_s60_r0-1300_cut.txt</td>\n",
       "      <td></td>\n",
       "    </tr>\n",
       "    <tr>\n",
       "      <th>15448</th>\n",
       "      <td>co3</td>\n",
       "      <td>6</td>\n",
       "      <td>2022-10-15</td>\n",
       "      <td>OLO</td>\n",
       "      <td>15.9</td>\n",
       "      <td>True</td>\n",
       "      <td>job_Coihueco_bay3-CZ_hex_s60_r0-1300_cut.txt</td>\n",
       "      <td></td>\n",
       "    </tr>\n",
       "    <tr>\n",
       "      <th>15451</th>\n",
       "      <td>co4</td>\n",
       "      <td>6</td>\n",
       "      <td>2022-10-15</td>\n",
       "      <td>OLO</td>\n",
       "      <td>15.9</td>\n",
       "      <td>True</td>\n",
       "      <td>job_Coihueco_bay4-CZ_hex_s60_r0-1300_cut.txt</td>\n",
       "      <td></td>\n",
       "    </tr>\n",
       "    <tr>\n",
       "      <th>11863</th>\n",
       "      <td>la3</td>\n",
       "      <td>6</td>\n",
       "      <td>2022-10-19</td>\n",
       "      <td>OLO</td>\n",
       "      <td>15.9</td>\n",
       "      <td>True</td>\n",
       "      <td>job_LomaAmarilla_bay3-CZ_hex_s60_r0-1300_cut.txt</td>\n",
       "      <td></td>\n",
       "    </tr>\n",
       "    <tr>\n",
       "      <th>11875</th>\n",
       "      <td>la4</td>\n",
       "      <td>6</td>\n",
       "      <td>2022-10-20</td>\n",
       "      <td>OLO</td>\n",
       "      <td>15.9</td>\n",
       "      <td>True</td>\n",
       "      <td>job_LomaAmarilla_bay4-CZ_hex_s60_r0-1300_cut.txt</td>\n",
       "      <td></td>\n",
       "    </tr>\n",
       "    <tr>\n",
       "      <th>05616x</th>\n",
       "      <td>he1</td>\n",
       "      <td>6</td>\n",
       "      <td>2022-10-21</td>\n",
       "      <td>OLO</td>\n",
       "      <td>15.9</td>\n",
       "      <td>True</td>\n",
       "      <td>job_HEAT_bay1-CZ_hex_s60_r0-1300_cut.txt</td>\n",
       "      <td></td>\n",
       "    </tr>\n",
       "    <tr>\n",
       "      <th>05621x</th>\n",
       "      <td>he2</td>\n",
       "      <td>6</td>\n",
       "      <td>2022-10-21</td>\n",
       "      <td>OLO</td>\n",
       "      <td>15.9</td>\n",
       "      <td>True</td>\n",
       "      <td>job_HEAT_bay2-CZ_hex_s60_r0-1300_cut.txt</td>\n",
       "      <td></td>\n",
       "    </tr>\n",
       "    <tr>\n",
       "      <th>05626x</th>\n",
       "      <td>he3</td>\n",
       "      <td>6</td>\n",
       "      <td>2022-10-21</td>\n",
       "      <td>OLO</td>\n",
       "      <td>15.9</td>\n",
       "      <td>True</td>\n",
       "      <td>job_HEAT_bay3-CZ_hex_s60_r0-1300_cut.txt</td>\n",
       "      <td></td>\n",
       "    </tr>\n",
       "    <tr>\n",
       "      <th>15672</th>\n",
       "      <td>ll4</td>\n",
       "      <td>6</td>\n",
       "      <td>2022-10-24</td>\n",
       "      <td>OLO</td>\n",
       "      <td>15.9</td>\n",
       "      <td>True</td>\n",
       "      <td>job_LosLeones_bay4-CZ_hex_s60_r0-1300_cut.txt</td>\n",
       "      <td></td>\n",
       "    </tr>\n",
       "    <tr>\n",
       "      <th>15675</th>\n",
       "      <td>ll3</td>\n",
       "      <td>6</td>\n",
       "      <td>2022-10-24</td>\n",
       "      <td>OLO</td>\n",
       "      <td>15.9</td>\n",
       "      <td>True</td>\n",
       "      <td>job_LosLeones_bay3-CZ_hex_s60_r0-1300_cut.txt</td>\n",
       "      <td></td>\n",
       "    </tr>\n",
       "  </tbody>\n",
       "</table>\n",
       "</div>"
      ],
      "text/plain": [
       "            tel  step            date source    mA  forDB  \\\n",
       "id                                                          \n",
       "15443x      co5     6      2022-10-15    OLO  15.9   True   \n",
       "15448       co3     6      2022-10-15    OLO  15.9   True   \n",
       "15451       co4     6      2022-10-15    OLO  15.9   True   \n",
       "11863       la3     6      2022-10-19    OLO  15.9   True   \n",
       "11875       la4     6      2022-10-20    OLO  15.9   True   \n",
       "05616x      he1     6      2022-10-21    OLO  15.9   True   \n",
       "05621x      he2     6      2022-10-21    OLO  15.9   True   \n",
       "05626x      he3     6      2022-10-21    OLO  15.9   True   \n",
       "15672       ll4     6      2022-10-24    OLO  15.9   True   \n",
       "15675       ll3     6      2022-10-24    OLO  15.9   True   \n",
       "\n",
       "                                                 jobfile comment  \n",
       "id                                                                \n",
       "15443x      job_Coihueco_bay5-CZ_hex_s60_r0-1300_cut.txt          \n",
       "15448       job_Coihueco_bay3-CZ_hex_s60_r0-1300_cut.txt          \n",
       "15451       job_Coihueco_bay4-CZ_hex_s60_r0-1300_cut.txt          \n",
       "11863   job_LomaAmarilla_bay3-CZ_hex_s60_r0-1300_cut.txt          \n",
       "11875   job_LomaAmarilla_bay4-CZ_hex_s60_r0-1300_cut.txt          \n",
       "05616x          job_HEAT_bay1-CZ_hex_s60_r0-1300_cut.txt          \n",
       "05621x          job_HEAT_bay2-CZ_hex_s60_r0-1300_cut.txt          \n",
       "05626x          job_HEAT_bay3-CZ_hex_s60_r0-1300_cut.txt          \n",
       "15672      job_LosLeones_bay4-CZ_hex_s60_r0-1300_cut.txt          \n",
       "15675      job_LosLeones_bay3-CZ_hex_s60_r0-1300_cut.txt          "
      ]
     },
     "execution_count": 42,
     "metadata": {},
     "output_type": "execute_result"
    }
   ],
   "source": [
    "import pandas as pd\n",
    "from collections import defaultdict\n",
    "\n",
    "def load_runlist(year_month: str) -> pd.DataFrame:\n",
    "    data = pd.read_csv(\n",
    "        f\"/cr/data01/filip/xy-calibration/config/calib_runlists/calib_runs_{year_month}.list\",\n",
    "        names=[\"id\",\"tel\",\"step\",\"date\",\"source\",\"mA\",\"forDB\",\"jobfile\",\"comment\"],\n",
    "        dtype=defaultdict(lambda: str, step=\"int\", mA=\"float\", forDB=\"bool\"),\n",
    "        index_col=0,\n",
    "        comment=\"#\",\n",
    "        sep=\";\",\n",
    "    )\n",
    "\n",
    "    for col in [\"source\", \"jobfile\", \"comment\"]:\n",
    "        data[col] = data[col].map(lambda x: x.strip().replace('\"',''))\n",
    "\n",
    "    return data\n",
    "\n",
    "def get_good_runs(runlist: pd.DataFrame) -> pd.DataFrame:\n",
    "    return runlist[\n",
    "        runlist['forDB']\n",
    "        & (runlist['step'] == 6)\n",
    "        & (runlist['source'] == \"OLO\")\n",
    "        & (runlist['mA'] == 15.9)\n",
    "        & (runlist['comment'] == \"\")\n",
    "        ]\n",
    "\n",
    "runlist=get_good_runs(load_runlist('2022-10'))\n",
    "\n",
    "runlist"
   ]
  },
  {
   "cell_type": "code",
   "execution_count": 33,
   "metadata": {},
   "outputs": [
    {
     "name": "stdout",
     "output_type": "stream",
     "text": [
      "id\n",
      "15434     False\n",
      "15443x    False\n",
      "15448     False\n",
      "15451     False\n",
      "11863     False\n",
      "11875     False\n",
      "05616x    False\n",
      "05621x    False\n",
      "05626x    False\n",
      "15670     False\n",
      "15672     False\n",
      "15675     False\n",
      "Name: source, dtype: bool\n"
     ]
    }
   ],
   "source": [
    "print(runlist['source'] == \"OLO\")"
   ]
  },
  {
   "cell_type": "code",
   "execution_count": 38,
   "metadata": {},
   "outputs": [
    {
     "data": {
      "text/plain": [
       "'    KIT'"
      ]
     },
     "execution_count": 38,
     "metadata": {},
     "output_type": "execute_result"
    }
   ],
   "source": [
    "runlist.iloc[0]['source']"
   ]
  },
  {
   "cell_type": "code",
   "execution_count": 1,
   "metadata": {},
   "outputs": [
    {
     "name": "stderr",
     "output_type": "stream",
     "text": [
      "\u001b[1m\u001b[32m18:35:54\u001b[0m (\u001b[1m\u001b[35m  +10.2s\u001b[0m) \u001b[1m\u001b[32m[INFO   ]\u001b[0m -- import \u001b[1m\u001b[31mlogging\u001b[0m\n",
      "\u001b[1m\u001b[32m18:35:54\u001b[0m (\u001b[1m\u001b[35m  +202ms\u001b[0m) \u001b[1m\u001b[32m[INFO   ]\u001b[0m -- import \u001b[1m\u001b[31mnumpy\u001b[0m as \u001b[1m\u001b[31mnp\u001b[0m\n",
      "\u001b[1m\u001b[32m18:35:54\u001b[0m (\u001b[1m\u001b[35m   +12ms\u001b[0m) \u001b[1m\u001b[32m[INFO   ]\u001b[0m -- import \u001b[1m\u001b[31muncertainties\u001b[0m\n",
      "\u001b[1m\u001b[32m18:35:55\u001b[0m (\u001b[1m\u001b[35m  +482ms\u001b[0m) \u001b[1m\u001b[32m[INFO   ]\u001b[0m -- import \u001b[1m\u001b[31mpandas\u001b[0m as \u001b[1m\u001b[31mpd\u001b[0m\n",
      "\u001b[1m\u001b[33m18:35:55\u001b[0m (\u001b[1m\u001b[35m    +1ms\u001b[0m) \u001b[1m\u001b[33m[WARNING]\u001b[0m -- pandas support to be dropped at some point!\n",
      "\u001b[1m\u001b[32m18:35:55\u001b[0m (\u001b[1m\u001b[35m    +2ms\u001b[0m) \u001b[1m\u001b[32m[INFO   ]\u001b[0m -- import \u001b[1m\u001b[31mbinaries.tools\u001b[0m as \u001b[1m\u001b[31mtools\u001b[0m\n",
      "\u001b[1m\u001b[32m18:35:55\u001b[0m (\u001b[1m\u001b[35m    +1ms\u001b[0m) \u001b[1m\u001b[32m[INFO   ]\u001b[0m -- set MONI_PATH = '/cr/work/filip/monit_and_sd/'\n",
      "\u001b[1m\u001b[32m18:35:55\u001b[0m (\u001b[1m\u001b[35m    +1ms\u001b[0m) \u001b[1m\u001b[32m[INFO   ]\u001b[0m -- set HIST_PATH = '/cr/work/filip/monit_and_sd/'\n",
      "\u001b[1m\u001b[32m18:35:55\u001b[0m (\u001b[1m\u001b[35m    +0ms\u001b[0m) \u001b[1m\u001b[32m[INFO   ]\u001b[0m -- set PLOT_PATH = '/cr/data01/filip/plots/'\n",
      "\u001b[1m\u001b[32m18:35:55\u001b[0m (\u001b[1m\u001b[35m    +1ms\u001b[0m) \u001b[1m\u001b[32m[INFO   ]\u001b[0m -- set DATA_PATH = '/cr/data01/filip/Data/'\n"
     ]
    }
   ],
   "source": [
    "from utils.Auger.SD.Simulation import Simulation"
   ]
  },
  {
   "cell_type": "code",
   "execution_count": 2,
   "metadata": {},
   "outputs": [],
   "source": [
    "sim = Simulation(name='test_sim', offline='ds_forced_station_triggers', \n",
    "                 src='/cr/users/filip/Projects/SSDTriggerEfficiency/SdSimulationReconstructionUpgrade/',\n",
    "                 PRIMARY='photon')"
   ]
  },
  {
   "cell_type": "code",
   "execution_count": 3,
   "metadata": {},
   "outputs": [],
   "source": [
    "# sim.run(191)"
   ]
  },
  {
   "cell_type": "code",
   "execution_count": 4,
   "metadata": {},
   "outputs": [
    {
     "name": "stdout",
     "output_type": "stream",
     "text": [
      "*.root files present:\n",
      "  proton\n",
      "    16.5_17:     1 files\n",
      "  photon\n",
      "    16.5_17:     1 files\n",
      "\n",
      "*.csv files present:\n",
      "  proton\n",
      "    16.5_17:     1 files\n",
      "  photon\n",
      "    16.5_17:     0 files\n",
      "\n",
      "{\n",
      "  \"PRIMARY\": \"photon\",\n",
      "  \"ENERGY\": \"16.5_17\",\n",
      "  \"RETHROWS\": \"1\",\n",
      "  \"NPARTICLES\": \"30000\",\n",
      "  \"max_idle\": \"150\",\n",
      "  \"max_materialize\": \"150\",\n",
      "  \"request_memory\": \"1G\",\n",
      "  \"JobBatchName\": \"test_sim_photon_16.5_17\",\n",
      "  \"arguments\": \"\\\"test_sim photon 16.5_17 1 30000 $(Process)\\\"\",\n",
      "  \"executable\": \"./run.py\",\n",
      "  \"error\": \"/cr/work/filip/Simulations/test_sim/log/test_sim_photon_16.5_17-$(Process).err\",\n",
      "  \"output\": \"/cr/work/filip/Simulations/test_sim/log/test_sim_photon_16.5_17-$(Process).out\",\n",
      "  \"log\": \"/cr/work/filip/Simulations/test_sim/log/test_sim_photon_16.5_17-$(Process).log\"\n",
      "}\n"
     ]
    }
   ],
   "source": [
    "sim.status()"
   ]
  },
  {
   "cell_type": "code",
   "execution_count": 5,
   "metadata": {},
   "outputs": [
    {
     "name": "stdout",
     "output_type": "stream",
     "text": [
      "1/1 [********************] || 00:00:00>00:00:00,    148434.02 it/s\n"
     ]
    }
   ],
   "source": [
    "sim.process()"
   ]
  },
  {
   "cell_type": "code",
   "execution_count": 6,
   "metadata": {},
   "outputs": [
    {
     "name": "stdout",
     "output_type": "stream",
     "text": [
      "*.root files present:\n",
      "  proton\n",
      "    16.5_17:     1 files\n",
      "  photon\n",
      "    16.5_17:     1 files\n",
      "\n",
      "*.csv files present:\n",
      "  proton\n",
      "    16.5_17:     1 files\n",
      "  photon\n",
      "    16.5_17:     1 files\n",
      "\n",
      "{\n",
      "  \"PRIMARY\": \"photon\",\n",
      "  \"ENERGY\": \"16.5_17\",\n",
      "  \"RETHROWS\": \"1\",\n",
      "  \"NPARTICLES\": \"30000\",\n",
      "  \"max_idle\": \"150\",\n",
      "  \"max_materialize\": \"150\",\n",
      "  \"request_memory\": \"1G\",\n",
      "  \"JobBatchName\": \"test_sim_photon_16.5_17\",\n",
      "  \"arguments\": \"\\\"test_sim photon 16.5_17 1 30000 $(Process)\\\"\",\n",
      "  \"executable\": \"./run.py\",\n",
      "  \"error\": \"/cr/work/filip/Simulations/test_sim/log/test_sim_photon_16.5_17-$(Process).err\",\n",
      "  \"output\": \"/cr/work/filip/Simulations/test_sim/log/test_sim_photon_16.5_17-$(Process).out\",\n",
      "  \"log\": \"/cr/work/filip/Simulations/test_sim/log/test_sim_photon_16.5_17-$(Process).log\"\n",
      "}\n"
     ]
    }
   ],
   "source": [
    "sim.status()"
   ]
  },
  {
   "cell_type": "code",
   "execution_count": null,
   "metadata": {},
   "outputs": [],
   "source": []
  }
 ],
 "metadata": {
  "kernelspec": {
   "display_name": ".venv",
   "language": "python",
   "name": "python3"
  },
  "language_info": {
   "codemirror_mode": {
    "name": "ipython",
    "version": 3
   },
   "file_extension": ".py",
   "mimetype": "text/x-python",
   "name": "python",
   "nbconvert_exporter": "python",
   "pygments_lexer": "ipython3",
   "version": "3.10.12"
  }
 },
 "nbformat": 4,
 "nbformat_minor": 2
}
