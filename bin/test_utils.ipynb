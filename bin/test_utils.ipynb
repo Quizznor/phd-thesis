{
 "cells": [
  {
   "cell_type": "code",
   "execution_count": null,
   "metadata": {},
   "outputs": [],
   "source": [
    "from utils.plotting import *"
   ]
  },
  {
   "cell_type": "code",
   "execution_count": null,
   "metadata": {},
   "outputs": [],
   "source": [
    "def model(x, p):\n",
    "    return x ** (2 * p + 1) / (1 + x ** (2 * p))\n",
    "\n",
    "pparam = dict(xlabel='Voltage (mV)', ylabel=r'Current ($\\mu$A)')\n",
    "\n",
    "x = np.linspace(0.75, 1.25, 201)\n",
    "\n",
    "fig, ax = plt.subplots()\n",
    "for p in [10, 15, 20, 30, 50, 100]:\n",
    "    ax.plot(x, model(x, p), label=p)\n",
    "    ax.legend(title='Order')\n",
    "    ax.autoscale(tight=True)\n",
    "    ax.set(**pparam)"
   ]
  },
  {
   "cell_type": "code",
   "execution_count": null,
   "metadata": {},
   "outputs": [],
   "source": [
    "titanic = sns.load_dataset('titanic')\n",
    "sns.boxplot(data=titanic, x=\"age\", y=\"class\")"
   ]
  },
  {
   "cell_type": "code",
   "execution_count": null,
   "metadata": {},
   "outputs": [],
   "source": [
    "import colorlog, logging\n",
    "\n",
    "class Formatter(colorlog.ColoredFormatter):\n",
    "\n",
    "\tlast_log = 0\n",
    "\tlevels = {\n",
    "\t\t'DEBUG' : \"DBG\",\n",
    "\t\t\"INFO\" : \"INF\",\n",
    "\t\t\"WARNING\" : \"WRN\",\n",
    "\t\t\"ERROR\" : \"ERR\",\n",
    "\t\t\"CRITICAL\" : \"CRIT\"\n",
    "\t}\n",
    "\n",
    "\tdef format(self, record):\n",
    "\t\tdelta_milliseconds = record.relativeCreated - self.last_log\n",
    "\t\tself.last_log = int(record.relativeCreated)\n",
    "\t\trecord.relativeCreated = f\"+{int(delta_milliseconds)}ms\"\n",
    "\t\trecord.levelno = f\"[{self.levels[record.levelname]}]\"\n",
    "\t\treturn super().format(record)\n",
    "\n",
    "formatter = Formatter(\n",
    "    # \"%(log_color)s%(asctime)s - %(name)s - %(levelname)s - %(message)s (%(filename)s:%(lineno)d)\",\n",
    "    f'{{log_color}}{{asctime}} {{levelno}} {{name}}{{reset}} -- {{msg}} ({{bold_purple}}{{relativeCreated}}{{reset}})',\n",
    "    # \"%(log_color)s%(levelname)-8s%(reset)s %(blue)s%(message)s\"\n",
    "    datefmt='%H:%M:%S',\n",
    "\treset=True,\n",
    "\tlog_colors={\n",
    "\t\t'DEBUG':    'bold_cyan',\n",
    "\t\t'INFO':     'bold_white',\n",
    "\t\t'WARNING':  'bold_yellow',\n",
    "\t\t'ERROR':    'bold_red',\n",
    "\t},\n",
    "\tsecondary_log_colors={},\n",
    "\tstyle='{'\n",
    ")\n",
    "\n",
    "# create logger with 'spam_application'\n",
    "logger = logging.getLogger(\"My_app\")\n",
    "logger.setLevel(logging.DEBUG)\n",
    "\n",
    "# create console handler with a higher log level\n",
    "ch = logging.StreamHandler()\n",
    "ch.setLevel(0)\n",
    "\n",
    "ch.setFormatter(formatter)\n",
    "\n",
    "logger.addHandler(ch)"
   ]
  },
  {
   "cell_type": "code",
   "execution_count": null,
   "metadata": {},
   "outputs": [],
   "source": [
    "logger.debug('test 0')\n",
    "time.sleep(1)\n",
    "logger.info('test 1')\n",
    "logger.warning('test 2')\n",
    "logger.error('test 3')"
   ]
  },
  {
   "cell_type": "code",
   "execution_count": null,
   "metadata": {},
   "outputs": [],
   "source": [
    "from utils.plotting import *"
   ]
  },
  {
   "cell_type": "code",
   "execution_count": null,
   "metadata": {},
   "outputs": [],
   "source": [
    "plotting.profile_plot()"
   ]
  },
  {
   "cell_type": "code",
   "execution_count": null,
   "metadata": {},
   "outputs": [],
   "source": [
    "plotting.box_plot()"
   ]
  },
  {
   "cell_type": "code",
   "execution_count": null,
   "metadata": {},
   "outputs": [],
   "source": [
    "import numpy as np\n",
    "import matplotlib.pyplot as plt\n",
    "from typing import Union, Iterable\n",
    "import pandas as pd\n",
    "\n",
    "def box_series(x : Union[str, Iterable], y : Union[str, Iterable], data : Union[pd.DataFrame, Iterable] = None, **kwargs) -> None :\n",
    "    \"\"\"draw a series of box plots for a sequential dataset\n",
    "    \n",
    "    Parameters:\n",
    "        * *x* (``str``)                     : data or name of the column used for the x axis\n",
    "        * *y* (``str``)                     : data or name of the column used for the y axis\n",
    "        * *data* (``pd.Dataframe``)         : the dataset for which the box plot is created\n",
    "\n",
    "    Keywords:\n",
    "        * *bins* (``int | Iterable``) = 10  : number of bins, or bin edges for the boxplots\n",
    "        * *ax* (``plt.Axes``) = plt.gca()   : the axis onto which the objects are drawn\n",
    "\n",
    "    \"\"\"\n",
    "\n",
    "    # get the full dataset and construct valid bins\n",
    "    if data is None:\n",
    "        scatter_x, scatter_y = x, y\n",
    "    else:\n",
    "        scatter_x, scatter_y = data[x], data[y]\n",
    "\n",
    "    bins = kwargs.get('bins', 9)\n",
    "    if isinstance(bins, int):\n",
    "        bins = np.linspace(min(scatter_x), max(scatter_x), bins)\n",
    "    positions = 0.5 * (bins[1:] + bins[:-1])\n",
    "\n",
    "    # split the data into different boxes\n",
    "    binplace = np.digitize(scatter_x, bins)\n",
    "    boxes = [scatter_y[np.where(binplace == i+1)] for i in range(len(bins)-1)]\n",
    "\n",
    "    # visualize results\n",
    "    ax = kwargs.get('ax', plt.gca())\n",
    "    ax.boxplot(boxes, positions=positions, widths=np.diff(bins), showfliers=True, manage_ticks=False)\n",
    "    ax.scatter(scatter_x, scatter_y, facecolor='white', alpha=0.4, edgecolors=next(ax._get_lines.prop_cycler)['color'], s=20)"
   ]
  },
  {
   "cell_type": "code",
   "execution_count": null,
   "metadata": {},
   "outputs": [],
   "source": [
    "fig = plt.figure()\n",
    "fig.suptitle('Box series plot')\n",
    "x = range(400)\n",
    "y = np.random.normal(size=400)\n",
    "box_series(x, y)"
   ]
  },
  {
   "cell_type": "code",
   "execution_count": 1,
   "metadata": {},
   "outputs": [
    {
     "name": "stderr",
     "output_type": "stream",
     "text": [
      "\u001b[01;32m18:37:16 [INFO] utils.testing \u001b[0m -- import \u001b[1m\u001b[91mcolorlog\u001b[0m, \u001b[1m\u001b[91mlogging\u001b[0m                                                                             (\u001b[01;35m+18009ms\u001b[0m)\u001b[0m\n",
      "\u001b[01;32m18:37:16 [INFO] utils.testing \u001b[0m -- import \u001b[1m\u001b[91mre\u001b[0m                                                                                            (\u001b[01;35m+1ms\u001b[0m)\u001b[0m\n",
      "\u001b[01;32m18:37:16 [INFO] utils.testing \u001b[0m -- import \u001b[1m\u001b[91mre\u001b[0m                                                                                            (\u001b[01;35m+1ms\u001b[0m)\u001b[0m\n",
      "\u001b[01;32m18:37:16 [INFO] utils.plotting\u001b[0m -- import \u001b[1m\u001b[91mnumpy\u001b[0m as \u001b[1m\u001b[91mnp\u001b[0m                                                                                   (\u001b[01;35m+18120ms\u001b[0m)\u001b[0m\n",
      "\u001b[01;32m18:37:16 [INFO] utils.plotting\u001b[0m -- import \u001b[1m\u001b[91mpandas\u001b[0m as \u001b[1m\u001b[91mpd\u001b[0m                                                                                  (\u001b[01;35m+320ms\u001b[0m)\u001b[0m\n",
      "\u001b[01;32m18:37:16 [INFO] utils.plotting\u001b[0m -- import \u001b[1m\u001b[91mmatplotlib.pyplot\u001b[0m as \u001b[1m\u001b[91mplt\u001b[0m                                                                      (\u001b[01;35m+436ms\u001b[0m)\u001b[0m\n",
      "\u001b[01;32m18:37:17 [INFO] utils.plotting\u001b[0m -- import \u001b[1m\u001b[91mseaborn\u001b[0m as \u001b[1m\u001b[91msns\u001b[0m                                                                                (\u001b[01;35m+357ms\u001b[0m)\u001b[0m\n",
      "\u001b[01;36m18:37:17 [DBUG] utils.plotting\u001b[0m -- plotting style set to `notebook`.                                                                    (\u001b[01;35m+13ms\u001b[0m)\u001b[0m\n",
      "\u001b[01;36m18:37:17 [DBUG] utils.plotting\u001b[0m -- run set_plt_style() to change style                                                                  (\u001b[01;35m+1ms\u001b[0m)\u001b[0m\n",
      "\u001b[01;32m18:37:17 [INFO] utils.plotting\u001b[0m -- import \u001b[1m\u001b[91mplotting.tools\u001b[0m as \u001b[1m\u001b[91mplotting\u001b[0m                                                                    (\u001b[01;35m+2ms\u001b[0m)\u001b[0m\n"
     ]
    }
   ],
   "source": [
    "from utils.plotting import *"
   ]
  },
  {
   "cell_type": "code",
   "execution_count": null,
   "metadata": {},
   "outputs": [],
   "source": [
    "plotting.__test_box_series()"
   ]
  },
  {
   "cell_type": "code",
   "execution_count": null,
   "metadata": {},
   "outputs": [],
   "source": [
    "dir(plotting)"
   ]
  },
  {
   "cell_type": "code",
   "execution_count": null,
   "metadata": {},
   "outputs": [],
   "source": [
    "globals()"
   ]
  },
  {
   "cell_type": "code",
   "execution_count": null,
   "metadata": {},
   "outputs": [],
   "source": [
    "logger.debug('import colorlog, logging')\n",
    "logger.info('import re')"
   ]
  },
  {
   "cell_type": "code",
   "execution_count": null,
   "metadata": {},
   "outputs": [],
   "source": []
  }
 ],
 "metadata": {
  "kernelspec": {
   "display_name": "Python 3",
   "language": "python",
   "name": "python3"
  },
  "language_info": {
   "codemirror_mode": {
    "name": "ipython",
    "version": 3
   },
   "file_extension": ".py",
   "mimetype": "text/x-python",
   "name": "python",
   "nbconvert_exporter": "python",
   "pygments_lexer": "ipython3",
   "version": "3.9.12"
  }
 },
 "nbformat": 4,
 "nbformat_minor": 2
}
