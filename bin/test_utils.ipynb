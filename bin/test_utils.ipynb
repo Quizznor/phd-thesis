{
 "cells": [
  {
   "cell_type": "code",
   "execution_count": 8,
   "metadata": {},
   "outputs": [],
   "source": [
    "from utils import CONSTANTS\n",
    "import pickle\n",
    "\n",
    "\n",
    "class Grid():\n",
    "\n",
    "    data_path : str = f'{CONSTANTS.AUGER_FD_ROOT}/xy_measurements.pkl'\n",
    "    n_bays : dict = {t : 6 if t != 'HE' else 3 for t in['LL', 'LM', 'LA', 'CO', 'HE']}\n",
    "\n",
    "    def __init__(self, *args, compare='none') -> None :\n",
    "\n",
    "        telescopes = [eye.upper() for eye in args]\n",
    "        \n",
    "        with open(f'{CONSTANTS.AUGER_FD_ROOT}/xy_measurements.pkl', 'rb') as f:\n",
    "            measurements = pickle.load(f)\n",
    "\n",
    "        self.grid_data = {t: None for t in telescopes}\n",
    "        for site in telescopes:\n",
    "            n_cols = Grid.n_bays[site]\n",
    "            \n",
    "            for tel in [f'{site}{i}' for i in range(1, n_cols + 1)]:\n",
    "                print(tel)\n",
    "\n"
   ]
  },
  {
   "cell_type": "code",
   "execution_count": 10,
   "metadata": {},
   "outputs": [
    {
     "name": "stdout",
     "output_type": "stream",
     "text": [
      "LL1\n",
      "LL2\n",
      "LL3\n",
      "LL4\n",
      "LL5\n",
      "LL6\n",
      "HE1\n",
      "HE2\n",
      "HE3\n"
     ]
    }
   ],
   "source": [
    "_ = Grid('ll', 'he')"
   ]
  },
  {
   "cell_type": "code",
   "execution_count": 11,
   "metadata": {},
   "outputs": [],
   "source": [
    "with open(f'{CONSTANTS.AUGER_FD_ROOT}/xy_measurements.pkl', 'rb') as f:\n",
    "           measurements = pickle.load(f)\n"
   ]
  },
  {
   "cell_type": "code",
   "execution_count": 13,
   "metadata": {},
   "outputs": [
    {
     "name": "stdout",
     "output_type": "stream",
     "text": [
      "2\n"
     ]
    }
   ],
   "source": [
    "print(len(measurements['CO5']))"
   ]
  },
  {
   "cell_type": "code",
   "execution_count": null,
   "metadata": {},
   "outputs": [],
   "source": []
  }
 ],
 "metadata": {
  "kernelspec": {
   "display_name": ".venv",
   "language": "python",
   "name": "python3"
  },
  "language_info": {
   "codemirror_mode": {
    "name": "ipython",
    "version": 3
   },
   "file_extension": ".py",
   "mimetype": "text/x-python",
   "name": "python",
   "nbconvert_exporter": "python",
   "pygments_lexer": "ipython3",
   "version": "3.10.12"
  }
 },
 "nbformat": 4,
 "nbformat_minor": 2
}
