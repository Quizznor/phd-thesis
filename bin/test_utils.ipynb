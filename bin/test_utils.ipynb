{
 "cells": [
  {
   "cell_type": "code",
   "execution_count": 1,
   "metadata": {},
   "outputs": [
    {
     "name": "stderr",
     "output_type": "stream",
     "text": [
      "\u001b[01;32m08:18:01 [INFO] utils         \u001b[0m -- (\u001b[01;35m +2730ms\u001b[0m) -- import \u001b[1m\u001b[91mlogging\u001b[0m\n",
      "\u001b[01;32m08:18:01 [INFO] utils.binaries\u001b[0m -- (\u001b[01;35m  +155ms\u001b[0m) -- import \u001b[1m\u001b[91mnumpy\u001b[0m as \u001b[1m\u001b[91mnp\u001b[0m\n",
      "\u001b[01;32m08:18:01 [INFO] utils.binaries\u001b[0m -- (\u001b[01;35m  +366ms\u001b[0m) -- import \u001b[1m\u001b[91mpandas\u001b[0m as \u001b[1m\u001b[91mpd\u001b[0m\n",
      "\u001b[01;32m08:18:02 [INFO] utils.binaries\u001b[0m -- (\u001b[01;35m  +588ms\u001b[0m) -- import \u001b[1m\u001b[91msklearn.neighbors\u001b[0m as \u001b[1m\u001b[91msk_neighbors\u001b[0m\n",
      "\u001b[01;32m08:18:02 [INFO] utils.binaries\u001b[0m -- (\u001b[01;35m    +2ms\u001b[0m) -- import \u001b[1m\u001b[91mbinaries.tools\u001b[0m as \u001b[1m\u001b[91mbinaries\u001b[0m\n",
      "\u001b[01;32m08:18:02 [INFO] utils.plotting\u001b[0m -- (\u001b[01;35m  +390ms\u001b[0m) -- import \u001b[1m\u001b[91mmatplotlib.pyplot\u001b[0m as \u001b[1m\u001b[91mplt\u001b[0m\n",
      "\u001b[01;32m08:18:02 [INFO] utils.plotting\u001b[0m -- (\u001b[01;35m   +33ms\u001b[0m) -- import \u001b[1m\u001b[91mseaborn\u001b[0m as \u001b[1m\u001b[91msns\u001b[0m\n",
      "\u001b[01;36m08:18:02 [DBUG] utils.plotting\u001b[0m -- (\u001b[01;35m   +13ms\u001b[0m) -- font size set to 4\u001b[0m\n",
      "\u001b[01;36m08:18:02 [DBUG] utils.plotting\u001b[0m -- (\u001b[01;35m    +1ms\u001b[0m) -- figure size set to [2.4, 1.2]\u001b[0m\n",
      "\u001b[01;36m08:18:02 [DBUG] utils.plotting\u001b[0m -- (\u001b[01;35m    +1ms\u001b[0m) -- plotting style set to `notebook`.\u001b[0m\n",
      "\u001b[01;32m08:18:02 [INFO] utils.plotting\u001b[0m -- (\u001b[01;35m    +5ms\u001b[0m) -- import \u001b[1m\u001b[91mplotting.tools\u001b[0m as \u001b[1m\u001b[91mplot\u001b[0m\n"
     ]
    }
   ],
   "source": [
    "from utils.binaries import *\n",
    "from utils.plotting import *"
   ]
  },
  {
   "cell_type": "code",
   "execution_count": null,
   "metadata": {},
   "outputs": [],
   "source": [
    "samples = np.random.normal(3, 10, size=10000)\n",
    "kde = tools.kd1d_estimate(samples)\n",
    "X = np.linspace(-50, 50, 1000)\n",
    "\n",
    "plt.plot(X, kde(X))\n",
    "so.rugplot(samples, lw=0.1, alpha=0.05)"
   ]
  },
  {
   "cell_type": "code",
   "execution_count": 2,
   "metadata": {},
   "outputs": [
    {
     "data": {
      "text/plain": [
       "['__builtins__',\n",
       " '__cached__',\n",
       " '__dir__',\n",
       " '__doc__',\n",
       " '__file__',\n",
       " '__loader__',\n",
       " '__name__',\n",
       " '__package__',\n",
       " '__spec__',\n",
       " 'box_series',\n",
       " 'performance_plot']"
      ]
     },
     "execution_count": 2,
     "metadata": {},
     "output_type": "execute_result"
    }
   ],
   "source": [
    "dir(plot)"
   ]
  },
  {
   "cell_type": "code",
   "execution_count": null,
   "metadata": {},
   "outputs": [],
   "source": []
  }
 ],
 "metadata": {
  "kernelspec": {
   "display_name": "Python 3",
   "language": "python",
   "name": "python3"
  },
  "language_info": {
   "codemirror_mode": {
    "name": "ipython",
    "version": 3
   },
   "file_extension": ".py",
   "mimetype": "text/x-python",
   "name": "python",
   "nbconvert_exporter": "python",
   "pygments_lexer": "ipython3",
   "version": "3.9.12"
  }
 },
 "nbformat": 4,
 "nbformat_minor": 2
}
