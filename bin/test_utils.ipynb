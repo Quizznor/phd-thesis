{
 "cells": [
  {
   "cell_type": "code",
   "execution_count": null,
   "metadata": {},
   "outputs": [],
   "source": [
    "from utils.binaries import *\n",
    "from utils.plotting import *"
   ]
  },
  {
   "cell_type": "code",
   "execution_count": 1,
   "metadata": {},
   "outputs": [
    {
     "name": "stderr",
     "output_type": "stream",
     "text": [
      "\u001b[01;32m16:51:09 [INFO] utils         \u001b[0m -- (\u001b[01;35m +4254ms\u001b[0m) -- import \u001b[1m\u001b[91mlogging\u001b[0m\n",
      "\u001b[01;32m16:51:09 [INFO] utils.binaries\u001b[0m -- (\u001b[01;35m  +110ms\u001b[0m) -- import \u001b[1m\u001b[91mnumpy\u001b[0m as \u001b[1m\u001b[91mnp\u001b[0m\n",
      "\u001b[01;32m16:51:09 [INFO] utils.binaries\u001b[0m -- (\u001b[01;35m  +307ms\u001b[0m) -- import \u001b[1m\u001b[91mpandas\u001b[0m as \u001b[1m\u001b[91mpd\u001b[0m\n",
      "\u001b[01;32m16:51:09 [INFO] utils.binaries\u001b[0m -- (\u001b[01;35m    +3ms\u001b[0m) -- import \u001b[1m\u001b[91mbinaries.tools\u001b[0m as \u001b[1m\u001b[91mbinaries\u001b[0m\n",
      "\u001b[01;32m16:51:10 [INFO] Auger.SD.monit\u001b[0m -- (\u001b[01;35m  +344ms\u001b[0m) -- import \u001b[1m\u001b[91muproot\u001b[0m\n"
     ]
    }
   ],
   "source": [
    "from utils.Auger.SD import Monitoring"
   ]
  },
  {
   "cell_type": "code",
   "execution_count": 3,
   "metadata": {},
   "outputs": [],
   "source": [
    "Monit = Monitoring.Monit()"
   ]
  },
  {
   "cell_type": "code",
   "execution_count": 4,
   "metadata": {},
   "outputs": [],
   "source": [
    "t = Monit.fTime(11)\n",
    "fTotRate = Monit.fPeak(11)"
   ]
  }
 ],
 "metadata": {
  "kernelspec": {
   "display_name": "Python 3",
   "language": "python",
   "name": "python3"
  },
  "language_info": {
   "codemirror_mode": {
    "name": "ipython",
    "version": 3
   },
   "file_extension": ".py",
   "mimetype": "text/x-python",
   "name": "python",
   "nbconvert_exporter": "python",
   "pygments_lexer": "ipython3",
   "version": "3.9.12"
  }
 },
 "nbformat": 4,
 "nbformat_minor": 2
}
