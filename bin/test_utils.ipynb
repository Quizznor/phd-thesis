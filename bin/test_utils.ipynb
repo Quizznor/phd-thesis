{
 "cells": [
  {
   "cell_type": "code",
   "execution_count": null,
   "metadata": {},
   "outputs": [],
   "source": [
    "from utils.plotting import *"
   ]
  },
  {
   "cell_type": "code",
   "execution_count": null,
   "metadata": {},
   "outputs": [],
   "source": [
    "def model(x, p):\n",
    "    return x ** (2 * p + 1) / (1 + x ** (2 * p))\n",
    "\n",
    "pparam = dict(xlabel='Voltage (mV)', ylabel=r'Current ($\\mu$A)')\n",
    "\n",
    "x = np.linspace(0.75, 1.25, 201)\n",
    "\n",
    "fig, ax = plt.subplots()\n",
    "for p in [10, 15, 20, 30, 50, 100]:\n",
    "    ax.plot(x, model(x, p), label=p)\n",
    "    ax.legend(title='Order')\n",
    "    ax.autoscale(tight=True)\n",
    "    ax.set(**pparam)"
   ]
  },
  {
   "cell_type": "code",
   "execution_count": null,
   "metadata": {},
   "outputs": [],
   "source": [
    "titanic = sns.load_dataset('titanic')\n",
    "sns.boxplot(data=titanic, x=\"age\", y=\"class\")"
   ]
  },
  {
   "cell_type": "code",
   "execution_count": 1,
   "metadata": {},
   "outputs": [],
   "source": [
    "import colorlog, logging\n",
    "\n",
    "class Formatter(colorlog.ColoredFormatter):\n",
    "\n",
    "\tlast_log = 0\n",
    "\tlevels = {\n",
    "\t\t'DEBUG' : \"DBG\",\n",
    "\t\t\"INFO\" : \"INF\",\n",
    "\t\t\"WARNING\" : \"WRN\",\n",
    "\t\t\"ERROR\" : \"ERR\",\n",
    "\t\t\"CRITICAL\" : \"CRIT\"\n",
    "\t}\n",
    "\n",
    "\tdef format(self, record):\n",
    "\t\tdelta_milliseconds = record.relativeCreated - self.last_log\n",
    "\t\tself.last_log = int(record.relativeCreated)\n",
    "\t\trecord.relativeCreated = f\"+{int(delta_milliseconds)}ms\"\n",
    "\t\trecord.levelno = f\"[{self.levels[record.levelname]}]\"\n",
    "\t\treturn super().format(record)\n",
    "\n",
    "formatter = Formatter(\n",
    "    # \"%(log_color)s%(asctime)s - %(name)s - %(levelname)s - %(message)s (%(filename)s:%(lineno)d)\",\n",
    "    f'{{log_color}}{{asctime}} {{levelno}} {{name}}{{reset}} -- {{msg}} ({{bold_purple}}{{relativeCreated}}{{reset}})',\n",
    "    # \"%(log_color)s%(levelname)-8s%(reset)s %(blue)s%(message)s\"\n",
    "    datefmt='%H:%M:%S',\n",
    "\treset=True,\n",
    "\tlog_colors={\n",
    "\t\t'DEBUG':    'bold_cyan',\n",
    "\t\t'INFO':     'bold_white',\n",
    "\t\t'WARNING':  'bold_yellow',\n",
    "\t\t'ERROR':    'bold_red',\n",
    "\t},\n",
    "\tsecondary_log_colors={},\n",
    "\tstyle='{'\n",
    ")\n",
    "\n",
    "# create logger with 'spam_application'\n",
    "logger = logging.getLogger(\"My_app\")\n",
    "logger.setLevel(logging.DEBUG)\n",
    "\n",
    "# create console handler with a higher log level\n",
    "ch = logging.StreamHandler()\n",
    "ch.setLevel(0)\n",
    "\n",
    "ch.setFormatter(formatter)\n",
    "\n",
    "logger.addHandler(ch)"
   ]
  },
  {
   "cell_type": "code",
   "execution_count": 3,
   "metadata": {},
   "outputs": [
    {
     "name": "stderr",
     "output_type": "stream",
     "text": [
      "\u001b[01;36m18:13:25 [DBG] My_app\u001b[0m -- test 0 (\u001b[01;35m+8169ms\u001b[0m)\u001b[0m\n",
      "\u001b[01;37m18:13:26 [INF] My_app\u001b[0m -- test 1 (\u001b[01;35m+1002ms\u001b[0m)\u001b[0m\n",
      "\u001b[01;33m18:13:26 [WRN] My_app\u001b[0m -- test 2 (\u001b[01;35m+2ms\u001b[0m)\u001b[0m\n",
      "\u001b[01;31m18:13:26 [ERR] My_app\u001b[0m -- test 3 (\u001b[01;35m+1ms\u001b[0m)\u001b[0m\n"
     ]
    }
   ],
   "source": [
    "logger.debug('test 0')\n",
    "time.sleep(1)\n",
    "logger.info('test 1')\n",
    "logger.warning('test 2')\n",
    "logger.error('test 3')"
   ]
  },
  {
   "cell_type": "code",
   "execution_count": null,
   "metadata": {},
   "outputs": [],
   "source": [
    "logger.debug('test')\n",
    "logger.info('test 1')\n",
    "logger.warning('test 2')\n",
    "logger.error('test 3')"
   ]
  },
  {
   "cell_type": "code",
   "execution_count": null,
   "metadata": {},
   "outputs": [],
   "source": []
  },
  {
   "cell_type": "code",
   "execution_count": 2,
   "metadata": {},
   "outputs": [],
   "source": [
    "import time"
   ]
  },
  {
   "cell_type": "code",
   "execution_count": null,
   "metadata": {},
   "outputs": [],
   "source": []
  }
 ],
 "metadata": {
  "kernelspec": {
   "display_name": "Python 3",
   "language": "python",
   "name": "python3"
  },
  "language_info": {
   "codemirror_mode": {
    "name": "ipython",
    "version": 3
   },
   "file_extension": ".py",
   "mimetype": "text/x-python",
   "name": "python",
   "nbconvert_exporter": "python",
   "pygments_lexer": "ipython3",
   "version": "3.9.12"
  }
 },
 "nbformat": 4,
 "nbformat_minor": 2
}
