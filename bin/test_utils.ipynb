{
 "cells": [
  {
   "cell_type": "code",
   "execution_count": 1,
   "metadata": {},
   "outputs": [
    {
     "name": "stderr",
     "output_type": "stream",
     "text": [
      "\u001b[1m\u001b[32m13:06:19\u001b[0m (\u001b[1m\u001b[35m   +1.8s\u001b[0m) \u001b[1m\u001b[32m[INFO   ]\u001b[0m -- import \u001b[1m\u001b[31mlogging\u001b[0m\n",
      "\u001b[1m\u001b[32m13:06:19\u001b[0m (\u001b[1m\u001b[35m  +347ms\u001b[0m) \u001b[1m\u001b[32m[INFO   ]\u001b[0m -- import \u001b[1m\u001b[31mmatplotlib.pyplot\u001b[0m as \u001b[1m\u001b[31mplt\u001b[0m\n",
      "\u001b[1m\u001b[32m13:06:20\u001b[0m (\u001b[1m\u001b[35m  +478ms\u001b[0m) \u001b[1m\u001b[32m[INFO   ]\u001b[0m -- import \u001b[1m\u001b[31mseaborn\u001b[0m as \u001b[1m\u001b[31mso\u001b[0m\n",
      "\u001b[1m\u001b[32m13:06:20\u001b[0m (\u001b[1m\u001b[35m    +1ms\u001b[0m) \u001b[1m\u001b[32m[INFO   ]\u001b[0m -- import \u001b[1m\u001b[31mnumpy\u001b[0m as \u001b[1m\u001b[31mnp\u001b[0m\n",
      "\u001b[1m\u001b[32m13:06:20\u001b[0m (\u001b[1m\u001b[35m    +5ms\u001b[0m) \u001b[1m\u001b[32m[INFO   ]\u001b[0m -- import \u001b[1m\u001b[31muncertainties\u001b[0m\n",
      "\u001b[1m\u001b[32m13:06:20\u001b[0m (\u001b[1m\u001b[35m    +0ms\u001b[0m) \u001b[1m\u001b[32m[INFO   ]\u001b[0m -- import \u001b[1m\u001b[31mpandas\u001b[0m as \u001b[1m\u001b[31mpd\u001b[0m\n",
      "\u001b[1m\u001b[33m13:06:20\u001b[0m (\u001b[1m\u001b[35m    +0ms\u001b[0m) \u001b[1m\u001b[33m[WARNING]\u001b[0m -- pandas support to be dropped at some point!\n",
      "\u001b[1m\u001b[32m13:06:20\u001b[0m (\u001b[1m\u001b[35m    +1ms\u001b[0m) \u001b[1m\u001b[32m[INFO   ]\u001b[0m -- import \u001b[1m\u001b[31mbinaries.tools\u001b[0m as \u001b[1m\u001b[31mtools\u001b[0m\n",
      "\u001b[1m\u001b[32m13:06:20\u001b[0m (\u001b[1m\u001b[35m    +1ms\u001b[0m) \u001b[1m\u001b[32m[INFO   ]\u001b[0m -- set MONI_PATH = PosixPath('/home/filip/Data/monit_and_sd')\n",
      "\u001b[1m\u001b[32m13:06:20\u001b[0m (\u001b[1m\u001b[35m    +0ms\u001b[0m) \u001b[1m\u001b[32m[INFO   ]\u001b[0m -- set HIST_PATH = PosixPath('/home/filip/Data/monit_and_sd')\n",
      "\u001b[1m\u001b[32m13:06:20\u001b[0m (\u001b[1m\u001b[35m    +1ms\u001b[0m) \u001b[1m\u001b[32m[INFO   ]\u001b[0m -- set PLOT_PATH = PosixPath('/home/filip/Data/plots')\n",
      "\u001b[1m\u001b[32m13:06:20\u001b[0m (\u001b[1m\u001b[35m    +0ms\u001b[0m) \u001b[1m\u001b[32m[INFO   ]\u001b[0m -- set DATA_PATH = PosixPath('/home/filip/Data')\n",
      "\u001b[1m\u001b[32m13:06:20\u001b[0m (\u001b[1m\u001b[35m    +0ms\u001b[0m) \u001b[1m\u001b[32m[INFO   ]\u001b[0m -- set SCAN_PATH = PosixPath('/home/filip/Public/xy-calibration')\n",
      "\u001b[1m\u001b[32m13:06:20\u001b[0m (\u001b[1m\u001b[35m    +0ms\u001b[0m) \u001b[1m\u001b[32m[INFO   ]\u001b[0m -- set OFLN_PATH = PosixPath('/home/filip/Public/offline/install')\n",
      "\u001b[1m\u001b[32m13:06:20\u001b[0m (\u001b[1m\u001b[35m    +1ms\u001b[0m) \u001b[1m\u001b[32m[INFO   ]\u001b[0m -- import \u001b[1m\u001b[31mplotting.tools\u001b[0m as \u001b[1m\u001b[31mplot\u001b[0m\n",
      "\u001b[1m\u001b[34m13:06:20\u001b[0m (\u001b[1m\u001b[35m    +4ms\u001b[0m) \u001b[1m\u001b[34m[DEBUG  ]\u001b[0m -- font size set to 9.5\n",
      "\u001b[1m\u001b[34m13:06:20\u001b[0m (\u001b[1m\u001b[35m    +1ms\u001b[0m) \u001b[1m\u001b[34m[DEBUG  ]\u001b[0m -- label size set to 13.0\n",
      "\u001b[1m\u001b[34m13:06:20\u001b[0m (\u001b[1m\u001b[35m    +0ms\u001b[0m) \u001b[1m\u001b[34m[DEBUG  ]\u001b[0m -- figure size set to [6.6, 3.3]\n",
      "\u001b[1m\u001b[34m13:06:20\u001b[0m (\u001b[1m\u001b[35m    +1ms\u001b[0m) \u001b[1m\u001b[34m[DEBUG  ]\u001b[0m -- markersize set to 2.0\n",
      "\u001b[1m\u001b[34m13:06:20\u001b[0m (\u001b[1m\u001b[35m    +0ms\u001b[0m) \u001b[1m\u001b[34m[DEBUG  ]\u001b[0m -- usetex set to False\n",
      "\u001b[1m\u001b[31m13:06:20\u001b[0m (\u001b[1m\u001b[35m   +16ms\u001b[0m) \u001b[1m\u001b[31m[ERROR  ]\u001b[0m -- Run #16407  -- (some) files not found!\n",
      "\u001b[1m\u001b[31m13:06:20\u001b[0m (\u001b[1m\u001b[35m    +3ms\u001b[0m) \u001b[1m\u001b[31m[ERROR  ]\u001b[0m -- Run #16412  -- (some) files not found!\n",
      "\u001b[1m\u001b[31m13:06:20\u001b[0m (\u001b[1m\u001b[35m    +3ms\u001b[0m) \u001b[1m\u001b[31m[ERROR  ]\u001b[0m -- Run #16415  -- (some) files not found!\n",
      "\u001b[1m\u001b[31m13:06:20\u001b[0m (\u001b[1m\u001b[35m    +2ms\u001b[0m) \u001b[1m\u001b[31m[ERROR  ]\u001b[0m -- Run #16420  -- (some) files not found!\n",
      "\u001b[1m\u001b[31m13:06:20\u001b[0m (\u001b[1m\u001b[35m    +3ms\u001b[0m) \u001b[1m\u001b[31m[ERROR  ]\u001b[0m -- Run #16428  -- (some) files not found!\n",
      "\u001b[1m\u001b[31m13:06:20\u001b[0m (\u001b[1m\u001b[35m    +2ms\u001b[0m) \u001b[1m\u001b[31m[ERROR  ]\u001b[0m -- Run #16431  -- (some) files not found!\n",
      "\u001b[1m\u001b[31m13:06:20\u001b[0m (\u001b[1m\u001b[35m    +2ms\u001b[0m) \u001b[1m\u001b[31m[ERROR  ]\u001b[0m -- Run #6516   -- (some) files not found!\n",
      "\u001b[1m\u001b[31m13:06:20\u001b[0m (\u001b[1m\u001b[35m    +2ms\u001b[0m) \u001b[1m\u001b[31m[ERROR  ]\u001b[0m -- Run #6519   -- (some) files not found!\n",
      "\u001b[1m\u001b[31m13:06:20\u001b[0m (\u001b[1m\u001b[35m    +2ms\u001b[0m) \u001b[1m\u001b[31m[ERROR  ]\u001b[0m -- Run #6522   -- (some) files not found!\n",
      "\u001b[1m\u001b[31m13:06:20\u001b[0m (\u001b[1m\u001b[35m    +2ms\u001b[0m) \u001b[1m\u001b[31m[ERROR  ]\u001b[0m -- Run #16458  -- (some) files not found!\n",
      "\u001b[1m\u001b[31m13:06:20\u001b[0m (\u001b[1m\u001b[35m    +2ms\u001b[0m) \u001b[1m\u001b[31m[ERROR  ]\u001b[0m -- Run #16461  -- (some) files not found!\n",
      "\u001b[1m\u001b[31m13:06:20\u001b[0m (\u001b[1m\u001b[35m    +2ms\u001b[0m) \u001b[1m\u001b[31m[ERROR  ]\u001b[0m -- Run #16464  -- (some) files not found!\n",
      "\u001b[1m\u001b[31m13:06:20\u001b[0m (\u001b[1m\u001b[35m    +3ms\u001b[0m) \u001b[1m\u001b[31m[ERROR  ]\u001b[0m -- Run #16472  -- (some) files not found!\n",
      "\u001b[1m\u001b[31m13:06:20\u001b[0m (\u001b[1m\u001b[35m    +2ms\u001b[0m) \u001b[1m\u001b[31m[ERROR  ]\u001b[0m -- Run #16475  -- (some) files not found!\n",
      "\u001b[1m\u001b[31m13:06:20\u001b[0m (\u001b[1m\u001b[35m    +2ms\u001b[0m) \u001b[1m\u001b[31m[ERROR  ]\u001b[0m -- Run #16478  -- (some) files not found!\n",
      "\u001b[1m\u001b[31m13:06:20\u001b[0m (\u001b[1m\u001b[35m    +2ms\u001b[0m) \u001b[1m\u001b[31m[ERROR  ]\u001b[0m -- Run #12785  -- (some) files not found!\n",
      "\u001b[1m\u001b[31m13:06:20\u001b[0m (\u001b[1m\u001b[35m    +1ms\u001b[0m) \u001b[1m\u001b[31m[ERROR  ]\u001b[0m -- Run #12788  -- (some) files not found!\n",
      "\u001b[1m\u001b[31m13:06:20\u001b[0m (\u001b[1m\u001b[35m    +2ms\u001b[0m) \u001b[1m\u001b[31m[ERROR  ]\u001b[0m -- Run #12791  -- (some) files not found!\n",
      "\u001b[1m\u001b[31m13:06:20\u001b[0m (\u001b[1m\u001b[35m    +1ms\u001b[0m) \u001b[1m\u001b[31m[ERROR  ]\u001b[0m -- Run #12796  -- (some) files not found!\n",
      "\u001b[1m\u001b[31m13:06:20\u001b[0m (\u001b[1m\u001b[35m    +2ms\u001b[0m) \u001b[1m\u001b[31m[ERROR  ]\u001b[0m -- Run #12799  -- (some) files not found!\n",
      "\u001b[1m\u001b[31m13:06:20\u001b[0m (\u001b[1m\u001b[35m    +1ms\u001b[0m) \u001b[1m\u001b[31m[ERROR  ]\u001b[0m -- Run #12802  -- (some) files not found!\n",
      "\u001b[1m\u001b[31m13:06:20\u001b[0m (\u001b[1m\u001b[35m    +2ms\u001b[0m) \u001b[1m\u001b[31m[ERROR  ]\u001b[0m -- Run #13245  -- (some) files not found!\n",
      "\u001b[1m\u001b[31m13:06:20\u001b[0m (\u001b[1m\u001b[35m    +2ms\u001b[0m) \u001b[1m\u001b[31m[ERROR  ]\u001b[0m -- Run #13248  -- (some) files not found!\n",
      "\u001b[1m\u001b[31m13:06:20\u001b[0m (\u001b[1m\u001b[35m    +2ms\u001b[0m) \u001b[1m\u001b[31m[ERROR  ]\u001b[0m -- Run #13251  -- (some) files not found!\n",
      "\u001b[1m\u001b[31m13:06:20\u001b[0m (\u001b[1m\u001b[35m    +3ms\u001b[0m) \u001b[1m\u001b[31m[ERROR  ]\u001b[0m -- Run #13261  -- (some) files not found!\n",
      "\u001b[1m\u001b[31m13:06:20\u001b[0m (\u001b[1m\u001b[35m    +1ms\u001b[0m) \u001b[1m\u001b[31m[ERROR  ]\u001b[0m -- Run #13264x -- (some) files not found!\n",
      "\u001b[1m\u001b[31m13:06:20\u001b[0m (\u001b[1m\u001b[35m    +2ms\u001b[0m) \u001b[1m\u001b[31m[ERROR  ]\u001b[0m -- Run #13271  -- (some) files not found!\n"
     ]
    }
   ],
   "source": [
    "from utils.auger.fd import XYScanner\n",
    "\n",
    "test = XYScanner.Campaign(2024, 11)"
   ]
  },
  {
   "cell_type": "code",
   "execution_count": null,
   "metadata": {},
   "outputs": [],
   "source": [
    "from utils.Auger.FD import XYScanner\n",
    "\n",
    "test = XYScanner.Campaign(2024, 11)\n",
    "test.summary()"
   ]
  },
  {
   "cell_type": "code",
   "execution_count": null,
   "metadata": {},
   "outputs": [],
   "source": [
    "for run in test:\n",
    "    print(run)"
   ]
  },
  {
   "cell_type": "code",
   "execution_count": null,
   "metadata": {},
   "outputs": [],
   "source": [
    "print(test)"
   ]
  },
  {
   "cell_type": "code",
   "execution_count": null,
   "metadata": {},
   "outputs": [],
   "source": [
    "from collections import defaultdict\n",
    "import pandas as pd\n",
    "import matplotlib.pyplot as plt\n",
    "\n",
    "fIn = \"/cr/data01/filip/xy-calibration/campaign_summary/calib_runs_2024-11_OLO_results.csv\"\n",
    "\n",
    "df = pd.read_csv(fIn, comment='#', index_col=0,\n",
    "                     dtype=defaultdict(lambda: str, global_pixel=int, mirror=int, \n",
    "                                       local_pixel=int, col=int, row=int))\n",
    "df.columns = df.columns.str.strip()  # remove space in keys\n",
    "label = fIn\n",
    "label = label.replace(\"calib_runs_\", \"\").replace(\"_results\", \"\")\n",
    "\n",
    "# because there may be nans in the cal_xy col\n",
    "# pandas parses it as a default string, need to convert\n",
    "df[\"cal_xy\"] = df['cal_xy'].str.strip()\n",
    "df[\"cal_xy\"] = df[\"cal_xy\"].astype(float)\n",
    "df[\"mirror\"] = df[\"mirror\"].astype(float)\n",
    "\n",
    "dfTelMean = df.groupby([\"telescope\"]).mean(numeric_only=True).reset_index()\n",
    "plt.plot(dfTelMean[\"mirror\"], dfTelMean[\"cal_xy\"], '.', label=label)"
   ]
  },
  {
   "cell_type": "code",
   "execution_count": null,
   "metadata": {},
   "outputs": [],
   "source": [
    "df.dtypes"
   ]
  },
  {
   "cell_type": "code",
   "execution_count": null,
   "metadata": {},
   "outputs": [],
   "source": [
    "dfTelMean"
   ]
  },
  {
   "cell_type": "code",
   "execution_count": null,
   "metadata": {},
   "outputs": [],
   "source": [
    "import pandas as pd\n",
    "from collections import defaultdict\n",
    "\n",
    "def load_runlist(year_month: str) -> pd.DataFrame:\n",
    "    data = pd.read_csv(\n",
    "        f\"/cr/data01/filip/xy-calibration/config/calib_runlists/calib_runs_{year_month}.list\",\n",
    "        names=[\"id\",\"tel\",\"step\",\"date\",\"source\",\"mA\",\"forDB\",\"jobfile\",\"comment\"],\n",
    "        dtype=defaultdict(lambda: str, step=\"int\", mA=\"float\", forDB=\"bool\"),\n",
    "        index_col=0,\n",
    "        comment=\"#\",\n",
    "        sep=\";\",\n",
    "    )\n",
    "\n",
    "    for col in [\"source\", \"jobfile\", \"comment\"]:\n",
    "        data[col] = data[col].map(lambda x: x.strip().replace('\"',''))\n",
    "\n",
    "    return data\n",
    "\n",
    "def get_xy_runs(runlist: pd.DataFrame) -> pd.DataFrame:\n",
    "    return runlist[\n",
    "        runlist['forDB']\n",
    "        ]\n",
    "\n",
    "def get_good_xy_runs(runlist: pd.DataFrame) -> pd.DataFrame:\n",
    "    return runlist[\n",
    "        runlist['forDB']\n",
    "        & (runlist['step'] == 6)\n",
    "        & (runlist['source'] == \"OLO\")\n",
    "        & (runlist['mA'] == 15.9)\n",
    "        & (runlist['comment'] == \"\")\n",
    "        ]\n",
    "\n",
    "def get_cal_a_runs(runlist: pd.DataFrame) -> pd.DataFrame:\n",
    "    return runlist[\n",
    "        (runlist['step'] == 0)\n",
    "        & (runlist['source'] == \"\")\n",
    "        & (runlist['mA'] == 0)\n",
    "        ]\n",
    "\n",
    "def get_cal_a_open_shutter_runs(runlist: pd.DataFrame) -> pd.DataFrame:\n",
    "    return runlist[\n",
    "        (runlist['step'] == 0)\n",
    "        & (runlist['source'] == \"\")\n",
    "        & (runlist['mA'] == 0)\n",
    "        & (runlist['comment'].str.contains(\"open shutter\"))\n",
    "        ]\n",
    "\n",
    "runlist=load_runlist('2024-11')\n",
    "\n",
    "get_xy_runs(runlist)"
   ]
  },
  {
   "cell_type": "code",
   "execution_count": null,
   "metadata": {},
   "outputs": [],
   "source": [
    "print(runlist['source'] == \"OLO\")"
   ]
  },
  {
   "cell_type": "code",
   "execution_count": null,
   "metadata": {},
   "outputs": [],
   "source": [
    "runlist.iloc[0]['source']"
   ]
  },
  {
   "cell_type": "code",
   "execution_count": null,
   "metadata": {},
   "outputs": [],
   "source": [
    "from utils.Auger.SD.Simulation import Simulation"
   ]
  },
  {
   "cell_type": "code",
   "execution_count": null,
   "metadata": {},
   "outputs": [],
   "source": [
    "sim = Simulation(name='test_sim', offline='ds_forced_station_triggers', \n",
    "                 src='/cr/users/filip/Projects/SSDTriggerEfficiency/SdSimulationReconstructionUpgrade/',\n",
    "                 PRIMARY='photon')"
   ]
  },
  {
   "cell_type": "code",
   "execution_count": null,
   "metadata": {},
   "outputs": [],
   "source": [
    "# sim.run(191)"
   ]
  },
  {
   "cell_type": "code",
   "execution_count": null,
   "metadata": {},
   "outputs": [],
   "source": [
    "sim.status()"
   ]
  },
  {
   "cell_type": "code",
   "execution_count": null,
   "metadata": {},
   "outputs": [],
   "source": [
    "sim.process()"
   ]
  },
  {
   "cell_type": "code",
   "execution_count": null,
   "metadata": {},
   "outputs": [],
   "source": [
    "sim.status()"
   ]
  },
  {
   "cell_type": "code",
   "execution_count": null,
   "metadata": {},
   "outputs": [],
   "source": []
  }
 ],
 "metadata": {
  "kernelspec": {
   "display_name": ".phd-venv",
   "language": "python",
   "name": "python3"
  },
  "language_info": {
   "codemirror_mode": {
    "name": "ipython",
    "version": 3
   },
   "file_extension": ".py",
   "mimetype": "text/x-python",
   "name": "python",
   "nbconvert_exporter": "python",
   "pygments_lexer": "ipython3",
   "version": "3.11.2"
  }
 },
 "nbformat": 4,
 "nbformat_minor": 2
}
