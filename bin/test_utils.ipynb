{
 "cells": [
  {
   "cell_type": "code",
   "execution_count": 2,
   "metadata": {},
   "outputs": [
    {
     "name": "stderr",
     "output_type": "stream",
     "text": [
      "\u001b[1;32m15:55:43 [INFO] utils.plotting\u001b[0m -- (\u001b[1;35m +1989ms\u001b[0m) -- import \u001b[1m\u001b[91mmatplotlib.pyplot\u001b[0m as \u001b[1m\u001b[91mplt\u001b[0m\n",
      "\u001b[1;32m15:55:44 [INFO] utils.plotting\u001b[0m -- (\u001b[1;35m  +797ms\u001b[0m) -- import \u001b[1m\u001b[91mseaborn\u001b[0m as \u001b[1m\u001b[91mso\u001b[0m\n",
      "\u001b[1;36m15:55:44 [DBUG] utils.plotting\u001b[0m -- (\u001b[1;35m   +20ms\u001b[0m) -- font size set to 9.5\u001b[0m\n",
      "\u001b[1;36m15:55:44 [DBUG] utils.plotting\u001b[0m -- (\u001b[1;35m    +1ms\u001b[0m) -- label size set to 13.0\u001b[0m\n",
      "\u001b[1;36m15:55:44 [DBUG] utils.plotting\u001b[0m -- (\u001b[1;35m    +1ms\u001b[0m) -- figure size set to [6.6, 3.3]\u001b[0m\n",
      "\u001b[1;36m15:55:44 [DBUG] utils.plotting\u001b[0m -- (\u001b[1;35m    +0ms\u001b[0m) -- markersize set to 2.0\u001b[0m\n",
      "\u001b[1;36m15:55:44 [DBUG] utils.plotting\u001b[0m -- (\u001b[1;35m    +1ms\u001b[0m) -- usetex set to False\u001b[0m\n"
     ]
    },
    {
     "ename": "SyntaxError",
     "evalue": "invalid syntax (plotting_tools.py, line 148)",
     "output_type": "error",
     "traceback": [
      "Traceback \u001b[0;36m(most recent call last)\u001b[0m:\n",
      "\u001b[0m  File \u001b[1;32m~/.venv/lib/python3.10/site-packages/IPython/core/interactiveshell.py:3577\u001b[0m in \u001b[1;35mrun_code\u001b[0m\n    exec(code_obj, self.user_global_ns, self.user_ns)\u001b[0m\n",
      "\u001b[0m  Cell \u001b[1;32mIn[2], line 4\u001b[0m\n    from utils.plotting import *\u001b[0m\n",
      "\u001b[0;36m  File \u001b[0;32m~/bin/utils/plotting/__init__.py:51\u001b[0;36m\n\u001b[0;31m    from . import plotting_tools as plot\u001b[0;36m\n",
      "\u001b[0;36m  File \u001b[0;32m~/bin/utils/plotting/plotting_tools.py:148\u001b[0;36m\u001b[0m\n\u001b[0;31m    norm =\u001b[0m\n\u001b[0m           ^\u001b[0m\n\u001b[0;31mSyntaxError\u001b[0m\u001b[0;31m:\u001b[0m invalid syntax\n"
     ]
    }
   ],
   "source": [
    "import sys\n",
    "\n",
    "from utils.binaries import *\n",
    "from utils.plotting import *"
   ]
  },
  {
   "cell_type": "code",
   "execution_count": 6,
   "metadata": {},
   "outputs": [
    {
     "name": "stdout",
     "output_type": "stream",
     "text": [
      "running:  5/10[**********          ] || 00:00:00>00:00:00,    373775.88 it/s\n",
      "running: 10/10[********************] || 00:00:00>00:00:00,     57062.97 it/s\n",
      "\n"
     ]
    }
   ],
   "source": [
    "data = np.random.normal(size=1000)"
   ]
  },
  {
   "cell_type": "code",
   "execution_count": null,
   "metadata": {},
   "outputs": [],
   "source": []
  }
 ],
 "metadata": {
  "kernelspec": {
   "display_name": "Python 3",
   "language": "python",
   "name": "python3"
  },
  "language_info": {
   "codemirror_mode": {
    "name": "ipython",
    "version": 3
   },
   "file_extension": ".py",
   "mimetype": "text/x-python",
   "name": "python",
   "nbconvert_exporter": "python",
   "pygments_lexer": "ipython3",
   "version": "3.10.12"
  }
 },
 "nbformat": 4,
 "nbformat_minor": 2
}
