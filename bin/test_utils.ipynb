{
 "cells": [
  {
   "cell_type": "code",
   "execution_count": null,
   "metadata": {},
   "outputs": [],
   "source": [
    "import sys\n",
    "\n",
    "from utils.binaries import *\n",
    "from utils.plotting import *"
   ]
  },
  {
   "cell_type": "code",
   "execution_count": null,
   "metadata": {},
   "outputs": [],
   "source": [
    "data = np.random.normal(size=1000)"
   ]
  },
  {
   "cell_type": "code",
   "execution_count": null,
   "metadata": {},
   "outputs": [],
   "source": [
    "plot.shaded_hist(data, cmap='coolwarm', bins=100)"
   ]
  },
  {
   "cell_type": "code",
   "execution_count": null,
   "metadata": {},
   "outputs": [],
   "source": [
    "import logging"
   ]
  },
  {
   "cell_type": "code",
   "execution_count": 1,
   "metadata": {},
   "outputs": [
    {
     "name": "stderr",
     "output_type": "stream",
     "text": [
      "\u001b[5m\u001b[1m\u001b[32m20:33:15\u001b[0m (\u001b[1m\u001b[35m   +4.2s\u001b[0m) \u001b[5m\u001b[1m\u001b[32m[INFO   ]\u001b[0m -- import \u001b[5m\u001b[1m\u001b[31mlogging\u001b[0m\n",
      "\u001b[5m\u001b[1m\u001b[32m20:33:15\u001b[0m (\u001b[1m\u001b[35m  +190ms\u001b[0m) \u001b[5m\u001b[1m\u001b[32m[INFO   ]\u001b[0m -- import \u001b[5m\u001b[1m\u001b[31mnumpy\u001b[0m as \u001b[5m\u001b[1m\u001b[31mnp\u001b[0m\n",
      "\u001b[5m\u001b[1m\u001b[32m20:33:15\u001b[0m (\u001b[1m\u001b[35m   +19ms\u001b[0m) \u001b[5m\u001b[1m\u001b[32m[INFO   ]\u001b[0m -- import \u001b[5m\u001b[1m\u001b[31muncertainties\u001b[0m\n",
      "\u001b[5m\u001b[1m\u001b[32m20:33:16\u001b[0m (\u001b[1m\u001b[35m  +458ms\u001b[0m) \u001b[5m\u001b[1m\u001b[32m[INFO   ]\u001b[0m -- import \u001b[5m\u001b[1m\u001b[31mpandas\u001b[0m as \u001b[5m\u001b[1m\u001b[31mpd\u001b[0m\n",
      "\u001b[5m\u001b[1m\u001b[32m20:33:16\u001b[0m (\u001b[1m\u001b[35m    +2ms\u001b[0m) \u001b[5m\u001b[1m\u001b[32m[INFO   ]\u001b[0m -- import \u001b[5m\u001b[1m\u001b[31mbinaries.tools\u001b[0m as \u001b[5m\u001b[1m\u001b[31mtools\u001b[0m\n",
      "\u001b[5m\u001b[1m\u001b[32m20:33:17\u001b[0m (\u001b[1m\u001b[35m  +873ms\u001b[0m) \u001b[5m\u001b[1m\u001b[32m[INFO   ]\u001b[0m -- import \u001b[5m\u001b[1m\u001b[31mmatplotlib.pyplot\u001b[0m as \u001b[5m\u001b[1m\u001b[31mplt\u001b[0m\n",
      "\u001b[5m\u001b[1m\u001b[32m20:33:17\u001b[0m (\u001b[1m\u001b[35m  +735ms\u001b[0m) \u001b[5m\u001b[1m\u001b[32m[INFO   ]\u001b[0m -- import \u001b[5m\u001b[1m\u001b[31mseaborn\u001b[0m as \u001b[5m\u001b[1m\u001b[31mso\u001b[0m\n",
      "\u001b[5m\u001b[1m\u001b[34m20:33:17\u001b[0m (\u001b[1m\u001b[35m   +11ms\u001b[0m) \u001b[5m\u001b[1m\u001b[34m[DEBUG  ]\u001b[0m -- font size set to 9.5\n",
      "\u001b[5m\u001b[1m\u001b[34m20:33:17\u001b[0m (\u001b[1m\u001b[35m    +5ms\u001b[0m) \u001b[5m\u001b[1m\u001b[34m[DEBUG  ]\u001b[0m -- label size set to 13.0\n",
      "\u001b[5m\u001b[1m\u001b[34m20:33:17\u001b[0m (\u001b[1m\u001b[35m    +2ms\u001b[0m) \u001b[5m\u001b[1m\u001b[34m[DEBUG  ]\u001b[0m -- figure size set to [6.6, 3.3]\n",
      "\u001b[5m\u001b[1m\u001b[34m20:33:17\u001b[0m (\u001b[1m\u001b[35m    +3ms\u001b[0m) \u001b[5m\u001b[1m\u001b[34m[DEBUG  ]\u001b[0m -- markersize set to 2.0\n",
      "\u001b[5m\u001b[1m\u001b[34m20:33:17\u001b[0m (\u001b[1m\u001b[35m    +1ms\u001b[0m) \u001b[5m\u001b[1m\u001b[34m[DEBUG  ]\u001b[0m -- usetex set to False\n",
      "\u001b[5m\u001b[1m\u001b[32m20:33:17\u001b[0m (\u001b[1m\u001b[35m    +2ms\u001b[0m) \u001b[5m\u001b[1m\u001b[32m[INFO   ]\u001b[0m -- import \u001b[5m\u001b[1m\u001b[31mplotting.tools\u001b[0m as \u001b[5m\u001b[1m\u001b[31mplot\u001b[0m\n"
     ]
    }
   ],
   "source": [
    "from utils import *"
   ]
  },
  {
   "cell_type": "code",
   "execution_count": null,
   "metadata": {},
   "outputs": [],
   "source": [
    "test.info('hallo')"
   ]
  },
  {
   "cell_type": "code",
   "execution_count": 2,
   "metadata": {},
   "outputs": [
    {
     "ename": "AttributeError",
     "evalue": "module 'utils.Auger' has no attribute 'SD'",
     "output_type": "error",
     "traceback": [
      "\u001b[0;31m---------------------------------------------------------------------------\u001b[0m",
      "\u001b[0;31mAttributeError\u001b[0m                            Traceback (most recent call last)",
      "Cell \u001b[0;32mIn[2], line 1\u001b[0m\n\u001b[0;32m----> 1\u001b[0m \u001b[43mAuger\u001b[49m\u001b[38;5;241;43m.\u001b[39;49m\u001b[43mSD\u001b[49m\n",
      "\u001b[0;31mAttributeError\u001b[0m: module 'utils.Auger' has no attribute 'SD'"
     ]
    }
   ],
   "source": [
    "Auger.SD"
   ]
  },
  {
   "cell_type": "code",
   "execution_count": 3,
   "metadata": {},
   "outputs": [
    {
     "ename": "TypeError",
     "evalue": "'module' object is not iterable",
     "output_type": "error",
     "traceback": [
      "\u001b[0;31m---------------------------------------------------------------------------\u001b[0m",
      "\u001b[0;31mTypeError\u001b[0m                                 Traceback (most recent call last)",
      "Cell \u001b[0;32mIn[3], line 1\u001b[0m\n\u001b[0;32m----> 1\u001b[0m \u001b[38;5;28;43mdict\u001b[39;49m\u001b[43m(\u001b[49m\u001b[43mAuger\u001b[49m\u001b[43m)\u001b[49m\n",
      "\u001b[0;31mTypeError\u001b[0m: 'module' object is not iterable"
     ]
    }
   ],
   "source": [
    "Auger.__dict__"
   ]
  },
  {
   "cell_type": "code",
   "execution_count": null,
   "metadata": {},
   "outputs": [],
   "source": []
  }
 ],
 "metadata": {
  "kernelspec": {
   "display_name": "Python 3",
   "language": "python",
   "name": "python3"
  },
  "language_info": {
   "codemirror_mode": {
    "name": "ipython",
    "version": 3
   },
   "file_extension": ".py",
   "mimetype": "text/x-python",
   "name": "python",
   "nbconvert_exporter": "python",
   "pygments_lexer": "ipython3",
   "version": "3.10.12"
  }
 },
 "nbformat": 4,
 "nbformat_minor": 2
}
