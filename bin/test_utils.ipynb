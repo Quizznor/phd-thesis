{
 "cells": [
  {
   "cell_type": "code",
   "execution_count": 1,
   "metadata": {},
   "outputs": [
    {
     "name": "stderr",
     "output_type": "stream",
     "text": [
      "\u001b[1m\u001b[32m18:33:01\u001b[0m (\u001b[1m\u001b[35m   +3.1s\u001b[0m) \u001b[1m\u001b[32m[INFO   ]\u001b[0m -- import \u001b[1m\u001b[31mlogging\u001b[0m\n",
      "\u001b[1m\u001b[32m18:33:01\u001b[0m (\u001b[1m\u001b[35m  +183ms\u001b[0m) \u001b[1m\u001b[32m[INFO   ]\u001b[0m -- import \u001b[1m\u001b[31mnumpy\u001b[0m as \u001b[1m\u001b[31mnp\u001b[0m\n",
      "\u001b[1m\u001b[32m18:33:01\u001b[0m (\u001b[1m\u001b[35m   +12ms\u001b[0m) \u001b[1m\u001b[32m[INFO   ]\u001b[0m -- import \u001b[1m\u001b[31muncertainties\u001b[0m\n",
      "\u001b[1m\u001b[32m18:33:01\u001b[0m (\u001b[1m\u001b[35m  +451ms\u001b[0m) \u001b[1m\u001b[32m[INFO   ]\u001b[0m -- import \u001b[1m\u001b[31mpandas\u001b[0m as \u001b[1m\u001b[31mpd\u001b[0m\n",
      "\u001b[1m\u001b[33m18:33:01\u001b[0m (\u001b[1m\u001b[35m    +2ms\u001b[0m) \u001b[1m\u001b[33m[WARNING]\u001b[0m -- pandas support to be dropped at some point!\n",
      "\u001b[1m\u001b[32m18:33:01\u001b[0m (\u001b[1m\u001b[35m    +2ms\u001b[0m) \u001b[1m\u001b[32m[INFO   ]\u001b[0m -- import \u001b[1m\u001b[31mbinaries.tools\u001b[0m as \u001b[1m\u001b[31mtools\u001b[0m\n",
      "\u001b[1m\u001b[32m18:33:01\u001b[0m (\u001b[1m\u001b[35m    +2ms\u001b[0m) \u001b[1m\u001b[32m[INFO   ]\u001b[0m -- set MONI_PATH = '/cr/work/filip/monit_and_sd/'\n",
      "\u001b[1m\u001b[32m18:33:01\u001b[0m (\u001b[1m\u001b[35m    +1ms\u001b[0m) \u001b[1m\u001b[32m[INFO   ]\u001b[0m -- set HIST_PATH = '/cr/work/filip/monit_and_sd/'\n",
      "\u001b[1m\u001b[32m18:33:01\u001b[0m (\u001b[1m\u001b[35m    +1ms\u001b[0m) \u001b[1m\u001b[32m[INFO   ]\u001b[0m -- set PLOT_PATH = '/cr/data01/filip/plots/'\n",
      "\u001b[1m\u001b[32m18:33:01\u001b[0m (\u001b[1m\u001b[35m    +0ms\u001b[0m) \u001b[1m\u001b[32m[INFO   ]\u001b[0m -- set DATA_PATH = '/cr/data01/filip/Data/'\n"
     ]
    }
   ],
   "source": [
    "from utils.Auger.SD.Simulation import Simulation"
   ]
  },
  {
   "cell_type": "code",
   "execution_count": 7,
   "metadata": {},
   "outputs": [],
   "source": [
    "sim = Simulation(name='test_sim', offline='ds_forced_station_triggers', \n",
    "                 src='/cr/users/filip/Projects/SSDTriggerEfficiency/SdSimulationReconstructionUpgrade/',\n",
    "                 PRIMARY='photon')"
   ]
  },
  {
   "cell_type": "code",
   "execution_count": 8,
   "metadata": {},
   "outputs": [],
   "source": [
    "# sim.run(191)"
   ]
  },
  {
   "cell_type": "code",
   "execution_count": 9,
   "metadata": {},
   "outputs": [
    {
     "name": "stdout",
     "output_type": "stream",
     "text": [
      "*.root files present:\n",
      "  proton\n",
      "    16.5_17:     1 files\n",
      "  photon\n",
      "    16.5_17:     0 files\n",
      "\n",
      "*.csv files present:\n",
      "  proton\n",
      "    16.5_17:     1 files\n",
      "  photon\n",
      "    16.5_17:     0 files\n",
      "\n",
      "{\n",
      "  \"PRIMARY\": \"photon\",\n",
      "  \"ENERGY\": \"16.5_17\",\n",
      "  \"RETHROWS\": \"1\",\n",
      "  \"NPARTICLES\": \"30000\",\n",
      "  \"max_idle\": \"150\",\n",
      "  \"max_materialize\": \"150\",\n",
      "  \"request_memory\": \"1G\",\n",
      "  \"JobBatchName\": \"test_sim_photon_16.5_17\",\n",
      "  \"arguments\": \"\\\"test_sim photon 16.5_17 1 30000 $(Process)\\\"\",\n",
      "  \"executable\": \"./run.py\",\n",
      "  \"error\": \"/cr/work/filip/Simulations/test_sim/log/test_sim_photon_16.5_17-$(Process).err\",\n",
      "  \"output\": \"/cr/work/filip/Simulations/test_sim/log/test_sim_photon_16.5_17-$(Process).out\",\n",
      "  \"log\": \"/cr/work/filip/Simulations/test_sim/log/test_sim_photon_16.5_17-$(Process).log\"\n",
      "}\n"
     ]
    }
   ],
   "source": [
    "sim.status()"
   ]
  },
  {
   "cell_type": "code",
   "execution_count": 5,
   "metadata": {},
   "outputs": [],
   "source": [
    "# sim.process()"
   ]
  },
  {
   "cell_type": "code",
   "execution_count": 6,
   "metadata": {},
   "outputs": [],
   "source": [
    "# sim.status()"
   ]
  }
 ],
 "metadata": {
  "kernelspec": {
   "display_name": ".venv",
   "language": "python",
   "name": "python3"
  },
  "language_info": {
   "codemirror_mode": {
    "name": "ipython",
    "version": 3
   },
   "file_extension": ".py",
   "mimetype": "text/x-python",
   "name": "python",
   "nbconvert_exporter": "python",
   "pygments_lexer": "ipython3",
   "version": "3.10.12"
  }
 },
 "nbformat": 4,
 "nbformat_minor": 2
}
