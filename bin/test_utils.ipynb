{
 "cells": [
  {
   "cell_type": "code",
   "execution_count": 5,
   "metadata": {},
   "outputs": [],
   "source": [
    "import os\n",
    "import utils.CONSTANTS as CONST\n",
    "from collections import defaultdict\n",
    "from tabulate import tabulate, SEPARATING_LINE\n",
    "import pandas as pd\n",
    "\n",
    "\n",
    "class XYRun():\n",
    "\n",
    "    def __init__(self, runs: pd.DataFrame) -> None:\n",
    "\n",
    "        self.runs = self.scan_runs(runs)\n",
    "\n",
    "\n",
    "    @staticmethod\n",
    "    def scan_runs(runs: pd.DataFrame) -> dict:\n",
    "        run_dict, postXY = {}, False\n",
    "        for _id, info in runs.iterrows():\n",
    "\n",
    "            if info['forDB']: \n",
    "                postXY = True\n",
    "                key = \"XY\"\n",
    "            else:\n",
    "                try:\n",
    "                    key = \"post\" if postXY else \"pre\"\n",
    "                    if \"open shutter\" in info[\"comment\"]:\n",
    "                        key += \"XY\"\n",
    "                    else: \n",
    "                        key += \"DAQ\"\n",
    "                except TypeError: continue\n",
    "\n",
    "            if run_dict.get(key, None) is None or not postXY:\n",
    "                run_dict[key] = _id\n",
    "\n",
    "        return run_dict\n",
    "    \n",
    "\n",
    "    def __repr__(self):\n",
    "        return str(self.runs)\n",
    "\n",
    "    \n",
    "    def __getitem__(self, key):\n",
    "        return self.runs.get(key, \"\")\n",
    "\n",
    "class Campaign():\n",
    "    \n",
    "    def __init__(self, year: int, month: int) -> None:\n",
    "\n",
    "        runlist = CONST.SCAN_PATH / f\"config/calib_runlists/calib_runs_{year}-{month:02}.list\"\n",
    "        \n",
    "        if not os.path.isfile(runlist):\n",
    "            raise FileNotFoundError(f\"{runlist} not found!\\nAvailable campaigns are:\\n\" + \n",
    "                                    \"\\n\".join(os.listdir(CONST.SCAN_PATH / \"config/calib_runlists\")))\n",
    "\n",
    "        self.data = pd.read_csv(runlist,\n",
    "                                names=[\"id\",\"tel\",\"step\",\"date\",\"source\",\"mA\",\"forDB\",\"jobfile\",\"comment\"],\n",
    "                                dtype=defaultdict(lambda: \"str\", step=\"int\", mA=\"float\", forDB=\"bool\"),\n",
    "                                skipinitialspace=True,\n",
    "                                parse_dates=[\"date\"],\n",
    "                                index_col=0,\n",
    "                                comment=\"#\",\n",
    "                                sep=\";\")\n",
    "        \n",
    "        self.runs = self.split_runlist(self.data)\n",
    "\n",
    "\n",
    "    def __getitem__(self, tel) -> XYRun:\n",
    "        return self.runs[tel.upper()]\n",
    "\n",
    "\n",
    "    @staticmethod\n",
    "    def split_runlist(runlist: pd.DataFrame) -> dict:\n",
    "\n",
    "        run_dict = {}\n",
    "        for _, info in runlist[runlist['forDB']].iterrows():\n",
    "            \n",
    "            run_dict[info['tel'].upper()] = XYRun(runlist[\n",
    "                (runlist['date'] == info['date'])\n",
    "                & (runlist['tel'] == info['tel'])\n",
    "                ])\n",
    "        \n",
    "        return run_dict\n",
    "\n",
    "\n",
    "    def __repr__(self) -> True:\n",
    "        \n",
    "        data = dict(sorted(self.runs.items()))\n",
    "        table_data = []\n",
    "\n",
    "        last = \"LLLMLACOHE\"\n",
    "        for tel, runs in data.items():\n",
    "            if tel[:-1] not in last:\n",
    "                table_data.append(SEPARATING_LINE)\n",
    "            \n",
    "            table_data.append(\n",
    "                [tel,\n",
    "                 runs['preDAQ'],\n",
    "                 runs['preXY'],\n",
    "                 runs['XY'],\n",
    "                 runs['postXY'],\n",
    "                 runs['postDAQ']\n",
    "                 ]\n",
    "            )\n",
    "            \n",
    "            last = tel[:-1]\n",
    "\n",
    "        return tabulate(table_data, disable_numparse=True,\n",
    "                        headers=['tel', 'preDAQ', 'preXY', 'XY', 'postXY', 'postDAQ'])\n",
    "\n",
    "    "
   ]
  },
  {
   "cell_type": "code",
   "execution_count": 6,
   "metadata": {},
   "outputs": [
    {
     "name": "stdout",
     "output_type": "stream",
     "text": [
      "tel    preDAQ    preXY    XY      postXY    postDAQ\n",
      "-----  --------  -------  ------  --------  ---------\n",
      "CO1    16426m19  16430    16431   16432     16433m19\n",
      "CO2    16426m20  16427    16428   16429     16433m20\n",
      "CO3    16418m21  16419    16420   16421     16425m21\n",
      "CO4    16405m22  16414    16415   16416     16417m22\n",
      "CO5    16405m23  16406    16407   16408     16417m23\n",
      "CO6    16405m24  16411    16412   16413     16417m24\n",
      "-----  --------  -------  ------  --------  ---------\n",
      "HE1    6511m25   6521     6522    6523      6524m25\n",
      "HE2    6511m26   6515     6516    6517\n",
      "HE3    6511m27   6518     6519    6520      6524m27\n",
      "-----  --------  -------  ------  --------  ---------\n",
      "LA1    12783m13  12790    12791   12792     12793m13\n",
      "LA2    12783m14  12787    12788   12789     12793m14\n",
      "LA3    12783m15  12784    12785   12786     12793m15\n",
      "LA4    12794m16  12795    12796   12797     12804m16\n",
      "LA5    12794m17  12798    12799   12800     12804m17\n",
      "LA6    12794m18  12801    12802   12803     12804m18\n",
      "-----  --------  -------  ------  --------  ---------\n",
      "LL1    16470m01  16477    16478   16479     16480m01\n",
      "LL2    16470m02  16474    16475   16476     16480m02\n",
      "LL3    16456m03  16460    16461   16462     16466m03\n",
      "LL4    16456m04  16457    16458   16459     16466m04\n",
      "LL5    16456m05  16463    16464   16465     16466m05\n",
      "LL6    16470m06  16471    16472   16473     16480m06\n",
      "-----  --------  -------  ------  --------  ---------\n",
      "LM1    13242m07  13243    13245   13246     13253m07\n",
      "LM2    13242m08  13247    13248   13249     13253m08\n",
      "LM3    13242m09  13250    13251   13252     13253m09\n",
      "LM4    13259m10  13260    13261   13262     13273m10\n",
      "LM5    13259m11  13270    13271   13272     13273m11\n",
      "LM6    13259m12  13263    13264x  13266     13273m12\n"
     ]
    }
   ],
   "source": [
    "test = Campaign(2024,11)\n",
    "print(test)"
   ]
  },
  {
   "cell_type": "code",
   "execution_count": null,
   "metadata": {},
   "outputs": [],
   "source": [
    "from collections import defaultdict\n",
    "import pandas as pd\n",
    "import matplotlib.pyplot as plt\n",
    "\n",
    "fIn = \"/cr/data01/filip/xy-calibration/campaign_summary/calib_runs_2024-11_OLO_results.csv\"\n",
    "\n",
    "df = pd.read_csv(fIn, comment='#', index_col=0,\n",
    "                     dtype=defaultdict(lambda: str, global_pixel=int, mirror=int, \n",
    "                                       local_pixel=int, col=int, row=int))\n",
    "df.columns = df.columns.str.strip()  # remove space in keys\n",
    "label = fIn\n",
    "label = label.replace(\"calib_runs_\", \"\").replace(\"_results\", \"\")\n",
    "\n",
    "# because there may be nans in the cal_xy col\n",
    "# pandas parses it as a default string, need to convert\n",
    "df[\"cal_xy\"] = df['cal_xy'].str.strip()\n",
    "df[\"cal_xy\"] = df[\"cal_xy\"].astype(float)\n",
    "df[\"mirror\"] = df[\"mirror\"].astype(float)\n",
    "\n",
    "dfTelMean = df.groupby([\"telescope\"]).mean(numeric_only=True).reset_index()\n",
    "plt.plot(dfTelMean[\"mirror\"], dfTelMean[\"cal_xy\"], '.', label=label)"
   ]
  },
  {
   "cell_type": "code",
   "execution_count": null,
   "metadata": {},
   "outputs": [],
   "source": [
    "df.dtypes"
   ]
  },
  {
   "cell_type": "code",
   "execution_count": null,
   "metadata": {},
   "outputs": [],
   "source": [
    "dfTelMean"
   ]
  },
  {
   "cell_type": "code",
   "execution_count": null,
   "metadata": {},
   "outputs": [],
   "source": [
    "import pandas as pd\n",
    "from collections import defaultdict\n",
    "\n",
    "def load_runlist(year_month: str) -> pd.DataFrame:\n",
    "    data = pd.read_csv(\n",
    "        f\"/cr/data01/filip/xy-calibration/config/calib_runlists/calib_runs_{year_month}.list\",\n",
    "        names=[\"id\",\"tel\",\"step\",\"date\",\"source\",\"mA\",\"forDB\",\"jobfile\",\"comment\"],\n",
    "        dtype=defaultdict(lambda: str, step=\"int\", mA=\"float\", forDB=\"bool\"),\n",
    "        index_col=0,\n",
    "        comment=\"#\",\n",
    "        sep=\";\",\n",
    "    )\n",
    "\n",
    "    for col in [\"source\", \"jobfile\", \"comment\"]:\n",
    "        data[col] = data[col].map(lambda x: x.strip().replace('\"',''))\n",
    "\n",
    "    return data\n",
    "\n",
    "def get_xy_runs(runlist: pd.DataFrame) -> pd.DataFrame:\n",
    "    return runlist[\n",
    "        runlist['forDB']\n",
    "        ]\n",
    "\n",
    "def get_good_xy_runs(runlist: pd.DataFrame) -> pd.DataFrame:\n",
    "    return runlist[\n",
    "        runlist['forDB']\n",
    "        & (runlist['step'] == 6)\n",
    "        & (runlist['source'] == \"OLO\")\n",
    "        & (runlist['mA'] == 15.9)\n",
    "        & (runlist['comment'] == \"\")\n",
    "        ]\n",
    "\n",
    "def get_cal_a_runs(runlist: pd.DataFrame) -> pd.DataFrame:\n",
    "    return runlist[\n",
    "        (runlist['step'] == 0)\n",
    "        & (runlist['source'] == \"\")\n",
    "        & (runlist['mA'] == 0)\n",
    "        ]\n",
    "\n",
    "def get_cal_a_open_shutter_runs(runlist: pd.DataFrame) -> pd.DataFrame:\n",
    "    return runlist[\n",
    "        (runlist['step'] == 0)\n",
    "        & (runlist['source'] == \"\")\n",
    "        & (runlist['mA'] == 0)\n",
    "        & (runlist['comment'].str.contains(\"open shutter\"))\n",
    "        ]\n",
    "\n",
    "runlist=load_runlist('2024-11')\n",
    "\n",
    "get_xy_runs(runlist)"
   ]
  },
  {
   "cell_type": "code",
   "execution_count": null,
   "metadata": {},
   "outputs": [],
   "source": [
    "print(runlist['source'] == \"OLO\")"
   ]
  },
  {
   "cell_type": "code",
   "execution_count": null,
   "metadata": {},
   "outputs": [],
   "source": [
    "runlist.iloc[0]['source']"
   ]
  },
  {
   "cell_type": "code",
   "execution_count": null,
   "metadata": {},
   "outputs": [],
   "source": [
    "from utils.Auger.SD.Simulation import Simulation"
   ]
  },
  {
   "cell_type": "code",
   "execution_count": null,
   "metadata": {},
   "outputs": [],
   "source": [
    "sim = Simulation(name='test_sim', offline='ds_forced_station_triggers', \n",
    "                 src='/cr/users/filip/Projects/SSDTriggerEfficiency/SdSimulationReconstructionUpgrade/',\n",
    "                 PRIMARY='photon')"
   ]
  },
  {
   "cell_type": "code",
   "execution_count": null,
   "metadata": {},
   "outputs": [],
   "source": [
    "# sim.run(191)"
   ]
  },
  {
   "cell_type": "code",
   "execution_count": null,
   "metadata": {},
   "outputs": [],
   "source": [
    "sim.status()"
   ]
  },
  {
   "cell_type": "code",
   "execution_count": null,
   "metadata": {},
   "outputs": [],
   "source": [
    "sim.process()"
   ]
  },
  {
   "cell_type": "code",
   "execution_count": null,
   "metadata": {},
   "outputs": [],
   "source": [
    "sim.status()"
   ]
  },
  {
   "cell_type": "code",
   "execution_count": null,
   "metadata": {},
   "outputs": [],
   "source": []
  }
 ],
 "metadata": {
  "kernelspec": {
   "display_name": ".venv",
   "language": "python",
   "name": "python3"
  },
  "language_info": {
   "codemirror_mode": {
    "name": "ipython",
    "version": 3
   },
   "file_extension": ".py",
   "mimetype": "text/x-python",
   "name": "python",
   "nbconvert_exporter": "python",
   "pygments_lexer": "ipython3",
   "version": "3.10.12"
  }
 },
 "nbformat": 4,
 "nbformat_minor": 2
}
