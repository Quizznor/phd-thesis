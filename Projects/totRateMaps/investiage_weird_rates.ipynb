{
 "cells": [
  {
   "cell_type": "code",
   "execution_count": 1,
   "metadata": {},
   "outputs": [
    {
     "name": "stderr",
     "output_type": "stream",
     "text": [
      "\u001b[1;32m09:48:00 [INFO] utils         \u001b[0m -- (\u001b[1;35m +2855ms\u001b[0m) -- import \u001b[1m\u001b[91mlogging\u001b[0m\n",
      "\u001b[1;32m09:48:00 [INFO] utils.binaries\u001b[0m -- (\u001b[1;35m   +98ms\u001b[0m) -- import \u001b[1m\u001b[91mnumpy\u001b[0m as \u001b[1m\u001b[91mnp\u001b[0m\n",
      "\u001b[1;32m09:48:00 [INFO] utils.binaries\u001b[0m -- (\u001b[1;35m    +9ms\u001b[0m) -- import \u001b[1m\u001b[91muncertainties\u001b[0m\n",
      "\u001b[1;32m09:48:00 [INFO] utils.binaries\u001b[0m -- (\u001b[1;35m  +170ms\u001b[0m) -- import \u001b[1m\u001b[91mpandas\u001b[0m as \u001b[1m\u001b[91mpd\u001b[0m\n",
      "\u001b[1;32m09:48:00 [INFO] utils.binaries\u001b[0m -- (\u001b[1;35m    +2ms\u001b[0m) -- import \u001b[1m\u001b[91mbinaries.tools\u001b[0m as \u001b[1m\u001b[91mtools\u001b[0m\n",
      "\u001b[1;32m09:48:01 [INFO] utils.plotting\u001b[0m -- (\u001b[1;35m  +280ms\u001b[0m) -- import \u001b[1m\u001b[91mmatplotlib.pyplot\u001b[0m as \u001b[1m\u001b[91mplt\u001b[0m\n",
      "\u001b[1;32m09:48:01 [INFO] utils.plotting\u001b[0m -- (\u001b[1;35m  +331ms\u001b[0m) -- import \u001b[1m\u001b[91mseaborn\u001b[0m as \u001b[1m\u001b[91mso\u001b[0m\n",
      "\u001b[1;36m09:48:01 [DBUG] utils.plotting\u001b[0m -- (\u001b[1;35m    +6ms\u001b[0m) -- font size set to 9.5\u001b[0m\n",
      "\u001b[1;36m09:48:01 [DBUG] utils.plotting\u001b[0m -- (\u001b[1;35m    +1ms\u001b[0m) -- label size set to 13.0\u001b[0m\n",
      "\u001b[1;36m09:48:01 [DBUG] utils.plotting\u001b[0m -- (\u001b[1;35m    +1ms\u001b[0m) -- figure size set to [6.6, 3.3]\u001b[0m\n",
      "\u001b[1;36m09:48:01 [DBUG] utils.plotting\u001b[0m -- (\u001b[1;35m    +1ms\u001b[0m) -- markersize set to 2.0\u001b[0m\n",
      "\u001b[1;36m09:48:01 [DBUG] utils.plotting\u001b[0m -- (\u001b[1;35m    +1ms\u001b[0m) -- usetex set to False\u001b[0m\n",
      "\u001b[1;32m09:48:01 [INFO] utils.plotting\u001b[0m -- (\u001b[1;35m    +2ms\u001b[0m) -- import \u001b[1m\u001b[91mplotting.tools\u001b[0m as \u001b[1m\u001b[91mplot\u001b[0m\n"
     ]
    }
   ],
   "source": [
    "from utils.binaries import *\n",
    "from utils.plotting import *\n",
    "from utils.Auger.SD.UubRandoms import UubRandom, filter_and_downsample"
   ]
  },
  {
   "cell_type": "code",
   "execution_count": 2,
   "metadata": {},
   "outputs": [],
   "source": [
    "def time_over_threshold(\n",
    "    traces: np.ndarray, threshold: float = 0.2, multiplicity: int = 12\n",
    ") -> bool:\n",
    "\n",
    "    pmt_multiplicity_check = lambda sums: sum(sums > multiplicity) > 1\n",
    "\n",
    "    first_120_bins = traces[:, :120]\n",
    "    pmt_running_sum = (first_120_bins >= threshold).sum(axis=1)\n",
    "\n",
    "    for i in range(120, traces.shape[1] + 1):\n",
    "        if pmt_multiplicity_check(pmt_running_sum):\n",
    "            return True  # check multiplicity for each window\n",
    "        if i == traces.shape[1]:\n",
    "            return False  # we've reached the end of the trace\n",
    "\n",
    "        new_over_threshold = np.array(traces[:, i] > threshold, dtype=int)\n",
    "        old_over_threshold = np.array(traces[:, i - 120] > threshold, dtype=int)\n",
    "        pmt_running_sum += new_over_threshold - old_over_threshold\n",
    "\n",
    "\n",
    "# def time_over_threshold(traces : np.ndarray, threshold : float = 0.2, multiplicity : int = 12) -> bool :\n",
    "\n",
    "#     windows = np.lib.stride_tricks.sliding_window_view(traces, (3, 120))[0]\n",
    "#     for pmt1, pmt2, pmt3 in windows:\n",
    "\n",
    "#         pmt1_active = (pmt1 > threshold).sum() >= multiplicity\n",
    "#         pmt2_active = (pmt2 > threshold).sum() >= multiplicity\n",
    "#         pmt3_active = (pmt3 > threshold).sum() >= multiplicity\n",
    "\n",
    "#         if sum([pmt1_active, pmt2_active, pmt3_active]) > 1:\n",
    "#             return True\n",
    "#     else: return False\n",
    "\n",
    "\n",
    "def time_over_threshold_deconvoluted(\n",
    "    traces: np.ndarray, threshold: float = 0.2, multiplicity: int = 12\n",
    ") -> bool:\n",
    "\n",
    "    # for information on this see GAP note 2018-01\n",
    "    dt = 25  # UB bin width\n",
    "    tau = 67  # decay constant\n",
    "    decay = np.exp(-dt / tau)  # decay term\n",
    "    deconvoluted_trace = []\n",
    "\n",
    "    for pmt in traces:\n",
    "        deconvoluted_pmt = [\n",
    "            (pmt[i] - pmt[i - 1] * decay) / (1 - decay) for i in range(1, len(pmt))\n",
    "        ]\n",
    "        deconvoluted_trace.append(deconvoluted_pmt)\n",
    "\n",
    "    return time_over_threshold(np.array(deconvoluted_trace), threshold, multiplicity)"
   ]
  },
  {
   "cell_type": "code",
   "execution_count": null,
   "metadata": {},
   "outputs": [],
   "source": [
    "from itertools import product\n",
    "\n",
    "# 300 scanning points\n",
    "multiplicities = range(2, 14)\n",
    "threshold = np.linspace(0.01, 0.25, 25)\n",
    "params = list(product(multiplicities, threshold))\n",
    "\n",
    "m, t = params[int(sys.argv[2])]\n",
    "tot_sum, totd_sum = 0, 0\n",
    "total_time = 0\n",
    "\n",
    "for File in tools.ProgressBar(UubRandom(\"NuriaJr\", \"wcd\"), newline=False):\n",
    "    traces = File[\"traces\"]\n",
    "    vem_peak = File[\"vem_peak\"]\n",
    "\n",
    "    for trace, vem in zip(traces, vem_peak):\n",
    "        filter_and_downsampled = filter_and_downsample(*trace)\n",
    "        calibrated = filter_and_downsampled / vem[:, np.newaxis]\n",
    "\n",
    "        tot_sum += time_over_threshold(calibrated, t, m)\n",
    "        totd_sum += time_over_threshold_deconvoluted(calibrated, t, m)\n",
    "        total_time += 2048 * 8.33e-9\n",
    "\n",
    "with open(f\"/cr/users/filip/Data/totRateMap/{STATION}.txt\", \"a+\") as file:\n",
    "    file.write(f\"{m} {t} {tot_sum} {totd_sum} {total_time}\\n\")"
   ]
  }
 ],
 "metadata": {
  "kernelspec": {
   "display_name": ".venv",
   "language": "python",
   "name": "python3"
  },
  "language_info": {
   "codemirror_mode": {
    "name": "ipython",
    "version": 3
   },
   "file_extension": ".py",
   "mimetype": "text/x-python",
   "name": "python",
   "nbconvert_exporter": "python",
   "pygments_lexer": "ipython3",
   "version": "3.10.12"
  }
 },
 "nbformat": 4,
 "nbformat_minor": 2
}
