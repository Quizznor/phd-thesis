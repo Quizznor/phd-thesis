{
 "cells": [
  {
   "cell_type": "code",
   "execution_count": 1,
   "metadata": {},
   "outputs": [
    {
     "name": "stderr",
     "output_type": "stream",
     "text": [
      "\u001b[1;32m13:33:03 [INFO] utils         \u001b[0m -- (\u001b[1;35m  +410ms\u001b[0m) -- import \u001b[1m\u001b[91mlogging\u001b[0m\n",
      "\u001b[1;32m13:33:03 [INFO] utils.binaries\u001b[0m -- (\u001b[1;35m   +78ms\u001b[0m) -- import \u001b[1m\u001b[91mnumpy\u001b[0m as \u001b[1m\u001b[91mnp\u001b[0m\n",
      "\u001b[1;32m13:33:03 [INFO] utils.binaries\u001b[0m -- (\u001b[1;35m    +8ms\u001b[0m) -- import \u001b[1m\u001b[91muncertainties\u001b[0m\n",
      "\u001b[1;32m13:33:03 [INFO] utils.binaries\u001b[0m -- (\u001b[1;35m  +170ms\u001b[0m) -- import \u001b[1m\u001b[91mpandas\u001b[0m as \u001b[1m\u001b[91mpd\u001b[0m\n",
      "\u001b[1;32m13:33:03 [INFO] utils.binaries\u001b[0m -- (\u001b[1;35m    +2ms\u001b[0m) -- import \u001b[1m\u001b[91mbinaries.tools\u001b[0m as \u001b[1m\u001b[91mtools\u001b[0m\n",
      "\u001b[1;32m13:33:04 [INFO] utils.plotting\u001b[0m -- (\u001b[1;35m  +284ms\u001b[0m) -- import \u001b[1m\u001b[91mmatplotlib.pyplot\u001b[0m as \u001b[1m\u001b[91mplt\u001b[0m\n",
      "\u001b[1;32m13:33:04 [INFO] utils.plotting\u001b[0m -- (\u001b[1;35m  +368ms\u001b[0m) -- import \u001b[1m\u001b[91mseaborn\u001b[0m as \u001b[1m\u001b[91mso\u001b[0m\n",
      "\u001b[1;36m13:33:04 [DBUG] utils.plotting\u001b[0m -- (\u001b[1;35m    +6ms\u001b[0m) -- font size set to 9.5\u001b[0m\n",
      "\u001b[1;36m13:33:04 [DBUG] utils.plotting\u001b[0m -- (\u001b[1;35m    +1ms\u001b[0m) -- label size set to 13.0\u001b[0m\n",
      "\u001b[1;36m13:33:04 [DBUG] utils.plotting\u001b[0m -- (\u001b[1;35m    +1ms\u001b[0m) -- figure size set to [6.6, 3.3]\u001b[0m\n",
      "\u001b[1;36m13:33:04 [DBUG] utils.plotting\u001b[0m -- (\u001b[1;35m    +1ms\u001b[0m) -- markersize set to 2.0\u001b[0m\n",
      "\u001b[1;36m13:33:04 [DBUG] utils.plotting\u001b[0m -- (\u001b[1;35m    +1ms\u001b[0m) -- usetex set to False\u001b[0m\n",
      "\u001b[1;32m13:33:04 [INFO] utils.plotting\u001b[0m -- (\u001b[1;35m    +2ms\u001b[0m) -- import \u001b[1m\u001b[91mplotting.tools\u001b[0m as \u001b[1m\u001b[91mplot\u001b[0m\n"
     ]
    }
   ],
   "source": [
    "from utils.binaries import *\n",
    "from utils.plotting import *\n",
    "\n",
    "from utils.Auger.SD.UubRandoms import *"
   ]
  },
  {
   "cell_type": "code",
   "execution_count": 26,
   "metadata": {},
   "outputs": [
    {
     "name": "stdout",
     "output_type": "stream",
     "text": [
      "reading traces in file: 2062/5000 [********            ] || 00:00:36>00:00:51,        57.00 it/s\r"
     ]
    },
    {
     "ename": "KeyboardInterrupt",
     "evalue": "",
     "output_type": "error",
     "traceback": [
      "\u001b[0;31m---------------------------------------------------------------------------\u001b[0m",
      "\u001b[0;31mKeyboardInterrupt\u001b[0m                         Traceback (most recent call last)",
      "Cell \u001b[0;32mIn[26], line 15\u001b[0m\n\u001b[1;32m      9\u001b[0m calibrated_traces \u001b[38;5;241m=\u001b[39m traces \u001b[38;5;241m/\u001b[39m vem_peak[:, :, np\u001b[38;5;241m.\u001b[39mnewaxis]\n\u001b[1;32m     10\u001b[0m \u001b[38;5;28;01mfor\u001b[39;00m trace \u001b[38;5;129;01min\u001b[39;00m tools\u001b[38;5;241m.\u001b[39mProgressBar(calibrated_traces, desc\u001b[38;5;241m=\u001b[39m\u001b[38;5;124m'\u001b[39m\u001b[38;5;124mreading traces in file\u001b[39m\u001b[38;5;124m'\u001b[39m, newline\u001b[38;5;241m=\u001b[39m\u001b[38;5;28;01mFalse\u001b[39;00m):\n\u001b[1;32m     11\u001b[0m \n\u001b[1;32m     12\u001b[0m     \u001b[38;5;66;03m# time_over_threshold(trace, multiplicity=12, threshold=0.001)\u001b[39;00m\n\u001b[1;32m     13\u001b[0m     \u001b[38;5;66;03m# raise StopIteration\u001b[39;00m\n\u001b[0;32m---> 15\u001b[0m     sum_tot \u001b[38;5;241m+\u001b[39m\u001b[38;5;241m=\u001b[39m \u001b[43mtime_over_threshold\u001b[49m\u001b[43m(\u001b[49m\u001b[43mtrace\u001b[49m\u001b[43m,\u001b[49m\u001b[43m \u001b[49m\u001b[43mmultiplicity\u001b[49m\u001b[38;5;241;43m=\u001b[39;49m\u001b[38;5;241;43m12\u001b[39;49m\u001b[43m,\u001b[49m\u001b[43m \u001b[49m\u001b[43mthreshold\u001b[49m\u001b[38;5;241;43m=\u001b[39;49m\u001b[38;5;241;43m0.2\u001b[39;49m\u001b[43m)\u001b[49m\n",
      "Cell \u001b[0;32mIn[25], line 12\u001b[0m, in \u001b[0;36mtime_over_threshold\u001b[0;34m(traces, threshold, multiplicity)\u001b[0m\n\u001b[1;32m      9\u001b[0m \u001b[38;5;28;01mif\u001b[39;00m pmt_multiplicity_check(pmt_running_sum) : \u001b[38;5;28;01mreturn\u001b[39;00m \u001b[38;5;28;01mTrue\u001b[39;00m            \u001b[38;5;66;03m# check multiplicity for each window\u001b[39;00m\n\u001b[1;32m     10\u001b[0m \u001b[38;5;28;01mif\u001b[39;00m i \u001b[38;5;241m==\u001b[39m traces\u001b[38;5;241m.\u001b[39mshape[\u001b[38;5;241m1\u001b[39m]: \u001b[38;5;28;01mreturn\u001b[39;00m \u001b[38;5;28;01mFalse\u001b[39;00m                               \u001b[38;5;66;03m# we've reached the end of the trace\u001b[39;00m\n\u001b[0;32m---> 12\u001b[0m new_over_threshold \u001b[38;5;241m=\u001b[39m \u001b[43mnp\u001b[49m\u001b[38;5;241;43m.\u001b[39;49m\u001b[43marray\u001b[49m\u001b[43m(\u001b[49m\u001b[43mtraces\u001b[49m\u001b[43m[\u001b[49m\u001b[43m:\u001b[49m\u001b[43m,\u001b[49m\u001b[43m \u001b[49m\u001b[43mi\u001b[49m\u001b[43m]\u001b[49m\u001b[43m \u001b[49m\u001b[38;5;241;43m>\u001b[39;49m\u001b[43m \u001b[49m\u001b[43mthreshold\u001b[49m\u001b[43m,\u001b[49m\u001b[43m \u001b[49m\u001b[43mdtype\u001b[49m\u001b[38;5;241;43m=\u001b[39;49m\u001b[38;5;28;43mint\u001b[39;49m\u001b[43m)\u001b[49m\n\u001b[1;32m     13\u001b[0m old_over_threshold \u001b[38;5;241m=\u001b[39m np\u001b[38;5;241m.\u001b[39marray(traces[:, i \u001b[38;5;241m-\u001b[39m \u001b[38;5;241m120\u001b[39m] \u001b[38;5;241m>\u001b[39m threshold, dtype\u001b[38;5;241m=\u001b[39m\u001b[38;5;28mint\u001b[39m)\n\u001b[1;32m     14\u001b[0m pmt_running_sum \u001b[38;5;241m+\u001b[39m\u001b[38;5;241m=\u001b[39m new_over_threshold \u001b[38;5;241m-\u001b[39m old_over_threshold\n",
      "\u001b[0;31mKeyboardInterrupt\u001b[0m: "
     ]
    }
   ],
   "source": [
    "Traces = UubRandom('NuriaJr', 'wcd')\n",
    "\n",
    "sum_tot = 0\n",
    "\n",
    "for file in Traces:\n",
    "    traces = file['traces']\n",
    "    vem_peak = file['vem_peak']\n",
    "\n",
    "    calibrated_traces = traces / vem_peak[:, :, np.newaxis]\n",
    "    for trace in tools.ProgressBar(calibrated_traces, desc='reading traces in file', newline=False):\n",
    "\n",
    "        # time_over_threshold(trace, multiplicity=12, threshold=0.001)\n",
    "        # raise StopIteration\n",
    "\n",
    "        sum_tot += time_over_threshold(trace, multiplicity=12, threshold=0.2)\n",
    "        "
   ]
  },
  {
   "cell_type": "code",
   "execution_count": 28,
   "metadata": {},
   "outputs": [
    {
     "name": "stdout",
     "output_type": "stream",
     "text": [
      "44\n"
     ]
    }
   ],
   "source": [
    "print(sum_tot)"
   ]
  },
  {
   "cell_type": "code",
   "execution_count": 25,
   "metadata": {},
   "outputs": [],
   "source": [
    "def time_over_threshold(traces : np.ndarray, threshold : float = 0.2, multiplicity : int = 12) -> bool :\n",
    "    \n",
    "    pmt_multiplicity_check = lambda sums : sum(sums > multiplicity) > 1\n",
    "\n",
    "    first_120_bins = traces[:, :120]\n",
    "    pmt_running_sum = (first_120_bins >= threshold).sum(axis=1)\n",
    "\n",
    "    for i in range(120, traces.shape[1] + 1):\n",
    "        if pmt_multiplicity_check(pmt_running_sum) : return True            # check multiplicity for each window\n",
    "        if i == traces.shape[1]: return False                               # we've reached the end of the trace\n",
    "\n",
    "        new_over_threshold = np.array(traces[:, i] > threshold, dtype=int)\n",
    "        old_over_threshold = np.array(traces[:, i - 120] > threshold, dtype=int)\n",
    "        pmt_running_sum += new_over_threshold - old_over_threshold\n",
    "\n",
    "\n",
    "    # windows = np.lib.stride_tricks.sliding_window_view(traces, (3, 120))[0]\n",
    "    # for pmt1, pmt2, pmt3 in windows:\n",
    "\n",
    "    #     pmt1_active = (pmt1 > threshold).sum() >= multiplicity\n",
    "    #     pmt2_active = (pmt2 > threshold).sum() >= multiplicity\n",
    "    #     pmt3_active = (pmt3 > threshold).sum() >= multiplicity\n",
    "\n",
    "    #     if sum([pmt1_active, pmt2_active, pmt3_active]) > 1:\n",
    "    #         return True\n",
    "    # else: return False"
   ]
  },
  {
   "cell_type": "code",
   "execution_count": 5,
   "metadata": {},
   "outputs": [],
   "source": [
    "windows = np.lib.stride_tricks.sliding_window_view(trace, (3, 120))[0]"
   ]
  },
  {
   "cell_type": "code",
   "execution_count": 23,
   "metadata": {},
   "outputs": [
    {
     "name": "stdout",
     "output_type": "stream",
     "text": [
      "False\n"
     ]
    }
   ],
   "source": [
    "pmt1, pmt2, pmt3 = windows[0]\n",
    "threshold, multiplicity = 0.2, 12\n",
    "\n",
    "pmt1_active = (pmt1 > threshold).sum() >= multiplicity\n",
    "pmt2_active = (pmt2 > threshold).sum() >= multiplicity\n",
    "pmt3_active = (pmt3 > threshold).sum() >= multiplicity\n",
    "if sum([pmt1_active, pmt2_active, pmt3_active]) > 1:\n",
    "    print(True)\n",
    "else:\n",
    "    print(False)"
   ]
  },
  {
   "cell_type": "code",
   "execution_count": 68,
   "metadata": {},
   "outputs": [
    {
     "name": "stdout",
     "output_type": "stream",
     "text": [
      "375\n"
     ]
    }
   ],
   "source": [
    "from itertools import product\n",
    "\n",
    "multiplicities = range(5, 20)\n",
    "threshold = np.linspace(0.01, .25, 25)\n",
    "params = list(product(multiplicities, threshold))\n",
    "print(len(params))"
   ]
  },
  {
   "cell_type": "code",
   "execution_count": 69,
   "metadata": {},
   "outputs": [
    {
     "data": {
      "text/plain": [
       "(5, 0.01)"
      ]
     },
     "execution_count": 69,
     "metadata": {},
     "output_type": "execute_result"
    }
   ],
   "source": [
    "params[0]"
   ]
  },
  {
   "cell_type": "code",
   "execution_count": 58,
   "metadata": {},
   "outputs": [
    {
     "data": {
      "text/plain": [
       "0.24"
      ]
     },
     "execution_count": 58,
     "metadata": {},
     "output_type": "execute_result"
    }
   ],
   "source": [
    "1.2 * 0.2"
   ]
  },
  {
   "cell_type": "code",
   "execution_count": 70,
   "metadata": {},
   "outputs": [
    {
     "name": "stdout",
     "output_type": "stream",
     "text": [
      "[0.01 0.02 0.03 0.04 0.05 0.06 0.07 0.08 0.09 0.1  0.11 0.12 0.13 0.14\n",
      " 0.15 0.16 0.17 0.18 0.19 0.2  0.21 0.22 0.23 0.24 0.25]\n"
     ]
    }
   ],
   "source": [
    "print(threshold)"
   ]
  },
  {
   "cell_type": "code",
   "execution_count": null,
   "metadata": {},
   "outputs": [],
   "source": []
  }
 ],
 "metadata": {
  "kernelspec": {
   "display_name": ".venv",
   "language": "python",
   "name": "python3"
  },
  "language_info": {
   "codemirror_mode": {
    "name": "ipython",
    "version": 3
   },
   "file_extension": ".py",
   "mimetype": "text/x-python",
   "name": "python",
   "nbconvert_exporter": "python",
   "pygments_lexer": "ipython3",
   "version": "3.10.12"
  }
 },
 "nbformat": 4,
 "nbformat_minor": 2
}
