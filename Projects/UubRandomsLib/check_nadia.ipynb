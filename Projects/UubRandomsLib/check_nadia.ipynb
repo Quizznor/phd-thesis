{
 "cells": [
  {
   "cell_type": "code",
   "execution_count": 2,
   "metadata": {},
   "outputs": [
    {
     "name": "stderr",
     "output_type": "stream",
     "text": [
      "\u001b[1;32m08:17:27 [INFO] utils.binaries\u001b[0m -- (\u001b[1;35m<99999ms\u001b[0m) -- import \u001b[1m\u001b[91mnumpy\u001b[0m as \u001b[1m\u001b[91mnp\u001b[0m\n",
      "\u001b[1;32m08:17:27 [INFO] utils.binaries\u001b[0m -- (\u001b[1;35m    +7ms\u001b[0m) -- import \u001b[1m\u001b[91muncertainties\u001b[0m\n",
      "\u001b[1;32m08:17:27 [INFO] utils.binaries\u001b[0m -- (\u001b[1;35m    +7ms\u001b[0m) -- import \u001b[1m\u001b[91muncertainties\u001b[0m\n",
      "\u001b[1;32m08:17:27 [INFO] utils.binaries\u001b[0m -- (\u001b[1;35m  +131ms\u001b[0m) -- import \u001b[1m\u001b[91mpandas\u001b[0m as \u001b[1m\u001b[91mpd\u001b[0m\n",
      "\u001b[1;32m08:17:27 [INFO] utils.binaries\u001b[0m -- (\u001b[1;35m    +2ms\u001b[0m) -- import \u001b[1m\u001b[91mbinaries.tools\u001b[0m as \u001b[1m\u001b[91mtools\u001b[0m\n"
     ]
    }
   ],
   "source": [
    "from utils.binaries import *"
   ]
  },
  {
   "cell_type": "code",
   "execution_count": 7,
   "metadata": {},
   "outputs": [
    {
     "name": "stdout",
     "output_type": "stream",
     "text": [
      "[1678833453 1678833453 1678833453 ... 1678833503 1678833503 1678833503]84.83 it/s\n"
     ]
    }
   ],
   "source": [
    "fmt = {\n",
    "    'wcd' : np.dtype([('timestamp', 'I'), \n",
    "                    #('t1_latch_bin', 'h'), \n",
    "                    ('baseline', ('H', 3)), \n",
    "                    ('traces', ('h', (3, 2048)))]),\n",
    "    'ssd' : np.dtype([('timestamp', 'I'), \n",
    "                    #('t1_latch_bin', 'h'),\n",
    "                    ('baseline', 'H'), \n",
    "                    ('trace', ('h', 2048))])\n",
    "}\n",
    "\n",
    "def read(file_path, f) -> np.ndarray :\n",
    "\n",
    "    # buffer = bz2.BZ2File(file_path).read()        \n",
    "    return np.fromfile(file_path, fmt[f])\n",
    "\n",
    "\n",
    "with open('/cr/tempdata01/filip/UubRandoms/2023_03/converted/timestamps/Nadia.dat', 'w') as timestamps:\n",
    "    for i in tools.ProgressBar(range(1434), newline=False):\n",
    "        path_to_file = f'/cr/data02/AugerPrime/UUB/UubRandoms/2023_03/Nadia/randoms{i:04}.wcd'\n",
    "        data = read(path_to_file, 'wcd')['timestamp']\n",
    "        if len(data) == 0: continue\n",
    "\n",
    "        timestamps.write(f\"{path_to_file.split('/')[-1]} {int(data.min())} {int(data.max())}\\n\")\n",
    "\n"
   ]
  },
  {
   "cell_type": "code",
   "execution_count": null,
   "metadata": {},
   "outputs": [],
   "source": []
  }
 ],
 "metadata": {
  "kernelspec": {
   "display_name": ".venv",
   "language": "python",
   "name": "python3"
  },
  "language_info": {
   "codemirror_mode": {
    "name": "ipython",
    "version": 3
   },
   "file_extension": ".py",
   "mimetype": "text/x-python",
   "name": "python",
   "nbconvert_exporter": "python",
   "pygments_lexer": "ipython3",
   "version": "3.10.12"
  }
 },
 "nbformat": 4,
 "nbformat_minor": 2
}
