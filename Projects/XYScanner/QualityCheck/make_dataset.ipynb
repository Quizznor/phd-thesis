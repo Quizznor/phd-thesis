{
 "cells": [
  {
   "cell_type": "code",
   "execution_count": 42,
   "metadata": {},
   "outputs": [],
   "source": [
    "from utils.binaries import *\n",
    "from utils.plotting import *"
   ]
  },
  {
   "cell_type": "code",
   "execution_count": 46,
   "metadata": {},
   "outputs": [
    {
     "name": "stdout",
     "output_type": "stream",
     "text": [
      "15920x                                                     \"\"\n",
      "15925x                                                     \"\"\n",
      "15934x                                                     \"\"\n",
      "15941x                                                     \"\"\n",
      "15952x                                                     \"\"\n",
      "15959                                                     \"\"\n",
      "6066                \"\"\n",
      "6070                \"\"\n",
      "6075                    \"\"\n",
      "15967            \"\"\n",
      "12806              \"\"\n",
      "12809          \"\"\n",
      "12819              \"\"\n",
      "12822          \"\"\n",
      "12825          \"\"\n",
      "12830          \"\"\n",
      "15984x            \"\"\n",
      "6101                \"incomplete run, 1319 events\"\n",
      "16407           \"\"\n",
      "16412           \"\"\n",
      "16415           \"\"\n",
      "16420           \"\"\n",
      "16428           \"\"\n",
      "16431           \"\"\n",
      "6516               \"\"\n",
      "6519               \"\"\n",
      "6522               \"\"\n",
      "16458          \"\"\n",
      "16461          \"\"\n",
      "16464          \"\"\n",
      "16472          \"\"\n",
      "16475          \"\"\n",
      "16478          \"\"\n",
      "12785       \"\"\n",
      "12788       \"\"\n",
      "12791       \"\"\n",
      "12796       \"\"\n",
      "12799       \"\"\n",
      "12802       \"\"\n",
      "13245         \"\"\n",
      "13248         \"\"\n",
      "13251         \"\"\n",
      "15443x        \"\"\n",
      "15448        \"\"\n",
      "15451        \"\"\n",
      "11863    \"\"\n",
      "11875    \"\"\n",
      "05616x            \"\"\n",
      "05621x            \"\"\n",
      "05626x            \"\"\n",
      "15672       \"\"\n",
      "15675       \"\"\n",
      "6020x             \"\"\n",
      "6025             \"\"\n",
      "6031x             \"\"\n",
      "12275x        \"\"\n",
      "12292x                     \"d=10cm, same GPStime for all events?\"\n",
      "12301x        \"\"\n",
      "12307x        \"\"\n",
      "12320x        \"\"\n",
      "12328x        \"\"\n"
     ]
    }
   ],
   "source": [
    "import os\n",
    "\n",
    "home_dir = '/home/filip/'\n",
    "\n",
    "os.chdir(f'{home_dir}/xy-calibration')\n",
    "for file in os.listdir('config/calib_runlists'):\n",
    "    df = pd.read_csv(f'{home_dir}/xy-calibration/config/calib_runlists/{file}', delimiter=';', comment='#', \n",
    "                     names=('runid', 'tel', 'step', 'date', 'src', 'mA', 'DB', 'jobfile', 'comment'))\n",
    "    \n",
    "    for _, run in df.iterrows():\n",
    "        if not run['DB']: continue\n",
    "        if \"OLO\" not in run['src']: continue\n",
    "        if \"reversed positions\" in run['comment']: continue\n",
    "        if run['runid'] in [\"14453\", ]: continue                  # reject missing Cal A's\n",
    "        \n",
    "        os.system(f\"./run_Check {run['runid']} -s -d /home/filip/xy-quality-files\")\n",
    "\n",
    "        break\n",
    "    break"
   ]
  },
  {
   "cell_type": "code",
   "execution_count": 21,
   "metadata": {},
   "outputs": [
    {
     "name": "stdout",
     "output_type": "stream",
     "text": [
      "runid                                                  15436\n",
      "tel                                                      co3\n",
      "step                                                       0\n",
      "date                                              2022-10-14\n",
      "src                                                       \"\"\n",
      "mA                                                       0.0\n",
      "DB                                                        \"\"\n",
      "jobfile                                                  ...\n",
      "comment                                                  NaN\n",
      "Name: 0, dtype: object\n"
     ]
    }
   ],
   "source": [
    "print(df.iloc[0])"
   ]
  },
  {
   "cell_type": "code",
   "execution_count": null,
   "metadata": {},
   "outputs": [],
   "source": []
  }
 ],
 "metadata": {
  "kernelspec": {
   "display_name": ".phd-venv",
   "language": "python",
   "name": "python3"
  },
  "language_info": {
   "codemirror_mode": {
    "name": "ipython",
    "version": 3
   },
   "file_extension": ".py",
   "mimetype": "text/x-python",
   "name": "python",
   "nbconvert_exporter": "python",
   "pygments_lexer": "ipython3",
   "version": "3.11.2"
  }
 },
 "nbformat": 4,
 "nbformat_minor": 2
}
