{
 "cells": [
  {
   "cell_type": "code",
   "execution_count": 1,
   "metadata": {},
   "outputs": [
    {
     "name": "stderr",
     "output_type": "stream",
     "text": [
      "\u001b[1m\u001b[32m12:16:04\u001b[0m (\u001b[1m\u001b[35m   +4.5s\u001b[0m) \u001b[1m\u001b[32m[INFO   ]\u001b[0m -- import \u001b[1m\u001b[31mlogging\u001b[0m\n",
      "\u001b[1m\u001b[32m12:16:04\u001b[0m (\u001b[1m\u001b[35m  +173ms\u001b[0m) \u001b[1m\u001b[32m[INFO   ]\u001b[0m -- import \u001b[1m\u001b[31mnumpy\u001b[0m as \u001b[1m\u001b[31mnp\u001b[0m\n",
      "\u001b[1m\u001b[32m12:16:04\u001b[0m (\u001b[1m\u001b[35m   +11ms\u001b[0m) \u001b[1m\u001b[32m[INFO   ]\u001b[0m -- import \u001b[1m\u001b[31muncertainties\u001b[0m\n",
      "\u001b[1m\u001b[32m12:16:04\u001b[0m (\u001b[1m\u001b[35m  +385ms\u001b[0m) \u001b[1m\u001b[32m[INFO   ]\u001b[0m -- import \u001b[1m\u001b[31mpandas\u001b[0m as \u001b[1m\u001b[31mpd\u001b[0m\n",
      "\u001b[1m\u001b[33m12:16:04\u001b[0m (\u001b[1m\u001b[35m    +2ms\u001b[0m) \u001b[1m\u001b[33m[WARNING]\u001b[0m -- pandas support to be dropped at some point!\n",
      "\u001b[1m\u001b[32m12:16:04\u001b[0m (\u001b[1m\u001b[35m    +2ms\u001b[0m) \u001b[1m\u001b[32m[INFO   ]\u001b[0m -- import \u001b[1m\u001b[31mbinaries.tools\u001b[0m as \u001b[1m\u001b[31mtools\u001b[0m\n",
      "\u001b[1m\u001b[32m12:16:05\u001b[0m (\u001b[1m\u001b[35m  +544ms\u001b[0m) \u001b[1m\u001b[32m[INFO   ]\u001b[0m -- import \u001b[1m\u001b[31mmatplotlib.pyplot\u001b[0m as \u001b[1m\u001b[31mplt\u001b[0m\n",
      "\u001b[1m\u001b[32m12:16:06\u001b[0m (\u001b[1m\u001b[35m  +550ms\u001b[0m) \u001b[1m\u001b[32m[INFO   ]\u001b[0m -- import \u001b[1m\u001b[31mseaborn\u001b[0m as \u001b[1m\u001b[31mso\u001b[0m\n",
      "\u001b[1m\u001b[32m12:16:06\u001b[0m (\u001b[1m\u001b[35m    +7ms\u001b[0m) \u001b[1m\u001b[32m[INFO   ]\u001b[0m -- set MONI_PATH = PosixPath('/cr/work/filip/monit_and_sd')\n",
      "\u001b[1m\u001b[32m12:16:06\u001b[0m (\u001b[1m\u001b[35m    +1ms\u001b[0m) \u001b[1m\u001b[32m[INFO   ]\u001b[0m -- set HIST_PATH = PosixPath('/cr/work/filip/monit_and_sd')\n",
      "\u001b[1m\u001b[32m12:16:06\u001b[0m (\u001b[1m\u001b[35m    +1ms\u001b[0m) \u001b[1m\u001b[32m[INFO   ]\u001b[0m -- set PLOT_PATH = PosixPath('/cr/data01/filip/plots')\n",
      "\u001b[1m\u001b[32m12:16:06\u001b[0m (\u001b[1m\u001b[35m    +1ms\u001b[0m) \u001b[1m\u001b[32m[INFO   ]\u001b[0m -- set DATA_PATH = PosixPath('/cr/data01/filip/Data')\n",
      "\u001b[1m\u001b[32m12:16:06\u001b[0m (\u001b[1m\u001b[35m    +2ms\u001b[0m) \u001b[1m\u001b[32m[INFO   ]\u001b[0m -- import \u001b[1m\u001b[31mplotting.tools\u001b[0m as \u001b[1m\u001b[31mplot\u001b[0m\n",
      "\u001b[1m\u001b[34m12:16:06\u001b[0m (\u001b[1m\u001b[35m   +14ms\u001b[0m) \u001b[1m\u001b[34m[DEBUG  ]\u001b[0m -- font size set to 9.5\n",
      "\u001b[1m\u001b[34m12:16:06\u001b[0m (\u001b[1m\u001b[35m    +1ms\u001b[0m) \u001b[1m\u001b[34m[DEBUG  ]\u001b[0m -- label size set to 13.0\n",
      "\u001b[1m\u001b[34m12:16:06\u001b[0m (\u001b[1m\u001b[35m    +1ms\u001b[0m) \u001b[1m\u001b[34m[DEBUG  ]\u001b[0m -- figure size set to [6.6, 3.3]\n",
      "\u001b[1m\u001b[34m12:16:06\u001b[0m (\u001b[1m\u001b[35m    +1ms\u001b[0m) \u001b[1m\u001b[34m[DEBUG  ]\u001b[0m -- markersize set to 2.0\n",
      "\u001b[1m\u001b[34m12:16:06\u001b[0m (\u001b[1m\u001b[35m    +2ms\u001b[0m) \u001b[1m\u001b[34m[DEBUG  ]\u001b[0m -- usetex set to False\n"
     ]
    }
   ],
   "source": [
    "from utils.binaries import *\n",
    "from utils.plotting import *\n",
    "from utils.Auger.FD import PixelPlot, XYScanner"
   ]
  },
  {
   "cell_type": "code",
   "execution_count": 2,
   "metadata": {},
   "outputs": [],
   "source": [
    "import os\n",
    "from collections import defaultdict\n",
    "\n",
    "SCANNER_RUNLISTS = \"/cr/data01/filip/xy-calibration/config/calib_runlists/\"\n",
    "\n",
    "def reject(run):\n",
    "    if not run: return True\n",
    "    # elif run == '16407': return False      # test\n",
    "    \n",
    "    else:\n",
    "        return False\n",
    "\n",
    "run_data = defaultdict(list)\n",
    "for LIST in os.listdir(SCANNER_RUNLISTS):\n",
    "    if 'va' in LIST or 'testing' in LIST: continue\n",
    "\n",
    "    runlist = XYScanner.load_runlist(LIST[11:18])\n",
    "    runlist = XYScanner.get_good_runs(runlist)\n",
    "\n",
    "    for run, info in runlist.iterrows():\n",
    "        if reject(run): continue\n",
    "\n",
    "        run_data[info['tel'].upper()].append([run, info['date']])"
   ]
  },
  {
   "cell_type": "code",
   "execution_count": 4,
   "metadata": {},
   "outputs": [
    {
     "name": "stderr",
     "output_type": "stream",
     "text": [
      "/tmp/ipykernel_1928562/417004239.py:24: RuntimeWarning: divide by zero encountered in divide\n",
      "  PixelPlot(ratio := xy / std, ax=ax, cmap='Reds', vmin=1, vmax=2)\n"
     ]
    }
   ],
   "source": [
    "from matplotlib.cm import ScalarMappable\n",
    "from matplotlib.colors import Normalize\n",
    "\n",
    "for tel, runs in run_data.items():\n",
    "\n",
    "    # if \"LL\" not in tel: continue\n",
    "    n_measurements = len(runs)\n",
    "\n",
    "    fig, axes = plt.subplots(1, n_measurements + 1, figsize=[n_measurements * 3.3, 3.3], width_ratios=[1] * n_measurements + [0.05])\n",
    "    for ax, (_id, _date) in zip(axes, runs): \n",
    "        ax.set_title(f\"Run #{_id} on {_date}\")\n",
    "\n",
    "        std, xy = np.loadtxt(f'/cr/data01/filip/xy-calibration/results/outCorr_{_id}.txt', usecols=[3, 4], unpack=True)\n",
    "\n",
    "        if tel == \"LL1\":\n",
    "            pixel_mask = np.loadtxt('/cr/data01/filip/xy-calibration/config/pixel_masks/ll1.txt', usecols=[1], dtype=bool)\n",
    "            xy[~pixel_mask] = np.nan\n",
    "            std[~pixel_mask] = np.nan\n",
    "        elif tel == \"LL6\":\n",
    "            pixel_mask = np.loadtxt('/cr/data01/filip/xy-calibration/config/pixel_masks/ll6-xp3062.txt', usecols=[1], dtype=bool)\n",
    "            xy[~pixel_mask] = np.nan\n",
    "            std[~pixel_mask] = np.nan\n",
    "\n",
    "        PixelPlot(ratio := xy / std, ax=ax, cmap='Reds', vmin=1, vmax=2)\n",
    "\n",
    "        ax.text(0.5, 0.96, fr\"$\\tilde{{r}}$ = {np.nanmedian(ratio):.2f}, $\\breve{{r}} = {np.nanmin(ratio):.2f}$, $\\hat{{r}} = {np.nanmax(ratio):.2f}$\",\n",
    "                 ha='center',\n",
    "                 va='top',\n",
    "                 transform=ax.transAxes,\n",
    "                 bbox=dict(boxstyle=\"round\",ec='none',fc='white',alpha=0.7))\n",
    "\n",
    "    plt.subplots_adjust(wspace=0.04)\n",
    "    axes[0].text(-0.07, 0.5, tel,\n",
    "                 ha='center',\n",
    "                 va='center',\n",
    "                 rotation=90,\n",
    "                 transform=axes[0].transAxes,\n",
    "                 fontsize='xx-large')\n",
    "    plt.subplots_adjust(wspace=0.04)\n",
    "    plt.colorbar(ScalarMappable(cmap='Reds', norm=Normalize(1, 2)), cax=axes[-1], shrink=0.7, label=\"XY calib. corr. / std. calib.\")\n",
    "\n",
    "    plot.save(fig, f'calXY_vs_calA_pixel_plots/{tel}')\n",
    "    plt.close(fig)\n",
    "    # break\n"
   ]
  },
  {
   "cell_type": "code",
   "execution_count": null,
   "metadata": {},
   "outputs": [],
   "source": []
  }
 ],
 "metadata": {
  "kernelspec": {
   "display_name": ".venv",
   "language": "python",
   "name": "python3"
  },
  "language_info": {
   "codemirror_mode": {
    "name": "ipython",
    "version": 3
   },
   "file_extension": ".py",
   "mimetype": "text/x-python",
   "name": "python",
   "nbconvert_exporter": "python",
   "pygments_lexer": "ipython3",
   "version": "3.10.12"
  }
 },
 "nbformat": 4,
 "nbformat_minor": 2
}
