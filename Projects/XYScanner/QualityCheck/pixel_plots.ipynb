{
 "cells": [
  {
   "cell_type": "code",
   "execution_count": null,
   "metadata": {},
   "outputs": [],
   "source": [
    "from utils.binaries import *\n",
    "from utils.plotting import *\n",
    "from utils.Auger.FD import PixelPlot, XYScanner"
   ]
  },
  {
   "cell_type": "code",
   "execution_count": null,
   "metadata": {},
   "outputs": [],
   "source": [
    "import os\n",
    "from collections import defaultdict\n",
    "\n",
    "SCANNER_RUNLISTS = \"/cr/data01/filip/xy-calibration/config/calib_runlists/\"\n",
    "\n",
    "\n",
    "def reject(run):\n",
    "    if not run: return True\n",
    "    # elif run == '16407': return False      # test\n",
    "    \n",
    "    else:\n",
    "        return False\n",
    "\n",
    "run_data = defaultdict(list)\n",
    "for LIST in os.listdir(SCANNER_RUNLISTS):\n",
    "    if 'va' in LIST or 'testing' in LIST: continue\n",
    "\n",
    "    runlist = XYScanner.load_runlist(LIST[11:18])\n",
    "    runlist = XYScanner.get_good_runs(runlist)\n",
    "\n",
    "    for run, info in runlist.iterrows():\n",
    "        if reject(run): continue\n",
    "\n",
    "        run_data[info['tel'].upper()].append([run, info['date']])"
   ]
  },
  {
   "cell_type": "code",
   "execution_count": null,
   "metadata": {},
   "outputs": [],
   "source": [
    "from matplotlib.cm import ScalarMappable\n",
    "from matplotlib.colors import Normalize\n",
    "\n",
    "for tel, runs in run_data.items():\n",
    "    if not \"CO\" in tel: continue\n",
    "\n",
    "    n_measurements = len(runs)\n",
    "\n",
    "    fig, axes = plt.subplots(1, n_measurements + 1, figsize=[n_measurements * 3.3, 3.3], width_ratios=[1] * n_measurements + [0.05])\n",
    "    for ax, (_id, _date) in zip(axes, runs): \n",
    "        ax.set_title(_date)\n",
    "\n",
    "        std, xy = np.loadtxt(f'/cr/data01/filip/xy-calibration/results/outCorr_{_id}.txt', usecols=[3, 4], unpack=True)\n",
    "        PixelPlot(ratio := xy / std, ax=ax, cmap='coolwarm', vmin=0, vmax=2)\n",
    "\n",
    "        ax.text(0.03, 0.97, fr\"$\\tilde{{r}}$ = {np.median(ratio):.3f}\",\n",
    "                 ha='left',\n",
    "                 va='top',\n",
    "                 fontsize='x-large',\n",
    "                 transform=ax.transAxes,\n",
    "                 bbox=dict(boxstyle=\"round\",ec='none',fc='white',alpha=0.7))\n",
    "\n",
    "    plt.subplots_adjust(wspace=0.04)\n",
    "    axes[0].text(-0.07, 0.5, tel,\n",
    "                 ha='center',\n",
    "                 va='center',\n",
    "                 rotation=90,\n",
    "                 transform=axes[0].transAxes,\n",
    "                 fontsize='xx-large')\n",
    "    plt.subplots_adjust(wspace=0.04)\n",
    "    plt.colorbar(ScalarMappable(cmap='coolwarm', norm=Normalize(0, 2)), cax=axes[-1], shrink=0.7, label=\"XY calib. corr. / std. calib.\")\n",
    "\n",
    "\n",
    "    # break\n"
   ]
  },
  {
   "cell_type": "code",
   "execution_count": null,
   "metadata": {},
   "outputs": [],
   "source": []
  }
 ],
 "metadata": {
  "kernelspec": {
   "display_name": ".venv",
   "language": "python",
   "name": "python3"
  },
  "language_info": {
   "codemirror_mode": {
    "name": "ipython",
    "version": 3
   },
   "file_extension": ".py",
   "mimetype": "text/x-python",
   "name": "python",
   "nbconvert_exporter": "python",
   "pygments_lexer": "ipython3",
   "version": "3.10.12"
  }
 },
 "nbformat": 4,
 "nbformat_minor": 2
}
