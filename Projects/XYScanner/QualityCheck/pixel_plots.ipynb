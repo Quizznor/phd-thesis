{
 "cells": [
  {
   "cell_type": "code",
   "execution_count": 2,
   "metadata": {},
   "outputs": [
    {
     "name": "stderr",
     "output_type": "stream",
     "text": [
      "\u001b[1m\u001b[32m15:17:59\u001b[0m (\u001b[1m\u001b[35m  +66.0s\u001b[0m) \u001b[1m\u001b[32m[INFO   ]\u001b[0m -- set MONI_PATH = '/cr/work/filip/monit_and_sd/'\n",
      "\u001b[1m\u001b[32m15:17:59\u001b[0m (\u001b[1m\u001b[35m    +1ms\u001b[0m) \u001b[1m\u001b[32m[INFO   ]\u001b[0m -- set HIST_PATH = '/cr/work/filip/monit_and_sd/'\n",
      "\u001b[1m\u001b[32m15:17:59\u001b[0m (\u001b[1m\u001b[35m    +1ms\u001b[0m) \u001b[1m\u001b[32m[INFO   ]\u001b[0m -- set PLOT_PATH = '/cr/data01/filip/plots/'\n",
      "\u001b[1m\u001b[32m15:17:59\u001b[0m (\u001b[1m\u001b[35m    +2ms\u001b[0m) \u001b[1m\u001b[32m[INFO   ]\u001b[0m -- set DATA_PATH = '/cr/data01/filip/Data/'\n",
      "\u001b[1m\u001b[32m15:17:59\u001b[0m (\u001b[1m\u001b[35m    +1ms\u001b[0m) \u001b[1m\u001b[32m[INFO   ]\u001b[0m -- set HIST_PATH = '/cr/work/filip/monit_and_sd/'\n",
      "\u001b[1m\u001b[32m15:17:59\u001b[0m (\u001b[1m\u001b[35m    +1ms\u001b[0m) \u001b[1m\u001b[32m[INFO   ]\u001b[0m -- set PLOT_PATH = '/cr/data01/filip/plots/'\n",
      "\u001b[1m\u001b[32m15:17:59\u001b[0m (\u001b[1m\u001b[35m    +2ms\u001b[0m) \u001b[1m\u001b[32m[INFO   ]\u001b[0m -- set DATA_PATH = '/cr/data01/filip/Data/'\n"
     ]
    }
   ],
   "source": [
    "from utils.binaries import *\n",
    "from utils.plotting import *\n",
    "from utils.Auger.FD import PixelPlot, XYScanner"
   ]
  },
  {
   "cell_type": "code",
   "execution_count": 5,
   "metadata": {},
   "outputs": [],
   "source": [
    "import os\n",
    "\n",
    "SCANNER_RUNLISTS = \"/cr/data01/filip/xy-calibration/config/calib_runlists/\"\n",
    "\n",
    "for LIST in os.listdir(SCANNER_RUNLISTS):\n",
    "    if 'va' in LIST or 'testing' in LIST: continue\n",
    "\n",
    "    runlist = XYScanner.load_runlist(LIST[11:18])"
   ]
  },
  {
   "cell_type": "code",
   "execution_count": null,
   "metadata": {},
   "outputs": [],
   "source": [
    "print(runlist)"
   ]
  }
 ],
 "metadata": {
  "kernelspec": {
   "display_name": ".venv",
   "language": "python",
   "name": "python3"
  },
  "language_info": {
   "codemirror_mode": {
    "name": "ipython",
    "version": 3
   },
   "file_extension": ".py",
   "mimetype": "text/x-python",
   "name": "python",
   "nbconvert_exporter": "python",
   "pygments_lexer": "ipython3",
   "version": "3.10.12"
  }
 },
 "nbformat": 4,
 "nbformat_minor": 2
}
