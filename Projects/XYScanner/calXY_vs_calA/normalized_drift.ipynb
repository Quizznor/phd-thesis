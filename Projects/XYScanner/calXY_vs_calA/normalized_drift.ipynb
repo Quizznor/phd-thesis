{
 "cells": [
  {
   "cell_type": "code",
   "execution_count": 1,
   "metadata": {},
   "outputs": [
    {
     "name": "stderr",
     "output_type": "stream",
     "text": [
      "\u001b[1m\u001b[32m02:25:57\u001b[0m (\u001b[1m\u001b[35m  +878ms\u001b[0m) \u001b[1m\u001b[32m[INFO   ]\u001b[0m -- import \u001b[1m\u001b[31mlogging\u001b[0m\n",
      "\u001b[1m\u001b[32m02:25:57\u001b[0m (\u001b[1m\u001b[35m   +58ms\u001b[0m) \u001b[1m\u001b[32m[INFO   ]\u001b[0m -- import \u001b[1m\u001b[31mnumpy\u001b[0m as \u001b[1m\u001b[31mnp\u001b[0m\n",
      "\u001b[1m\u001b[32m02:25:57\u001b[0m (\u001b[1m\u001b[35m    +6ms\u001b[0m) \u001b[1m\u001b[32m[INFO   ]\u001b[0m -- import \u001b[1m\u001b[31muncertainties\u001b[0m\n",
      "\u001b[1m\u001b[32m02:25:57\u001b[0m (\u001b[1m\u001b[35m  +163ms\u001b[0m) \u001b[1m\u001b[32m[INFO   ]\u001b[0m -- import \u001b[1m\u001b[31mpandas\u001b[0m as \u001b[1m\u001b[31mpd\u001b[0m\n",
      "\u001b[1m\u001b[33m02:25:57\u001b[0m (\u001b[1m\u001b[35m    +1ms\u001b[0m) \u001b[1m\u001b[33m[WARNING]\u001b[0m -- pandas support to be dropped at some point!\n",
      "\u001b[1m\u001b[32m02:25:57\u001b[0m (\u001b[1m\u001b[35m    +1ms\u001b[0m) \u001b[1m\u001b[32m[INFO   ]\u001b[0m -- import \u001b[1m\u001b[31mbinaries.tools\u001b[0m as \u001b[1m\u001b[31mtools\u001b[0m\n",
      "\u001b[1m\u001b[32m02:25:57\u001b[0m (\u001b[1m\u001b[35m  +238ms\u001b[0m) \u001b[1m\u001b[32m[INFO   ]\u001b[0m -- import \u001b[1m\u001b[31mmatplotlib.pyplot\u001b[0m as \u001b[1m\u001b[31mplt\u001b[0m\n",
      "\u001b[1m\u001b[32m02:25:58\u001b[0m (\u001b[1m\u001b[35m  +291ms\u001b[0m) \u001b[1m\u001b[32m[INFO   ]\u001b[0m -- import \u001b[1m\u001b[31mseaborn\u001b[0m as \u001b[1m\u001b[31mso\u001b[0m\n",
      "\u001b[1m\u001b[32m02:25:58\u001b[0m (\u001b[1m\u001b[35m    +1ms\u001b[0m) \u001b[1m\u001b[32m[INFO   ]\u001b[0m -- set MONI_PATH = PosixPath('/home/filip/Data/monit_and_sd')\n",
      "\u001b[1m\u001b[32m02:25:58\u001b[0m (\u001b[1m\u001b[35m    +0ms\u001b[0m) \u001b[1m\u001b[32m[INFO   ]\u001b[0m -- set HIST_PATH = PosixPath('/home/filip/Data/monit_and_sd')\n",
      "\u001b[1m\u001b[32m02:25:58\u001b[0m (\u001b[1m\u001b[35m    +1ms\u001b[0m) \u001b[1m\u001b[32m[INFO   ]\u001b[0m -- set PLOT_PATH = PosixPath('/home/filip/Data/plots')\n",
      "\u001b[1m\u001b[32m02:25:58\u001b[0m (\u001b[1m\u001b[35m    +0ms\u001b[0m) \u001b[1m\u001b[32m[INFO   ]\u001b[0m -- set DATA_PATH = PosixPath('/home/filip/Data')\n",
      "\u001b[1m\u001b[32m02:25:58\u001b[0m (\u001b[1m\u001b[35m    +0ms\u001b[0m) \u001b[1m\u001b[32m[INFO   ]\u001b[0m -- set SCAN_PATH = PosixPath('/home/filip/Public/xy-calibration')\n",
      "\u001b[1m\u001b[32m02:25:58\u001b[0m (\u001b[1m\u001b[35m    +0ms\u001b[0m) \u001b[1m\u001b[32m[INFO   ]\u001b[0m -- set OFLN_PATH = PosixPath('/home/filip/Public/offline/install')\n",
      "\u001b[1m\u001b[32m02:25:58\u001b[0m (\u001b[1m\u001b[35m    +1ms\u001b[0m) \u001b[1m\u001b[32m[INFO   ]\u001b[0m -- import \u001b[1m\u001b[31mplotting.tools\u001b[0m as \u001b[1m\u001b[31mplot\u001b[0m\n",
      "\u001b[1m\u001b[34m02:25:58\u001b[0m (\u001b[1m\u001b[35m    +4ms\u001b[0m) \u001b[1m\u001b[34m[DEBUG  ]\u001b[0m -- font size set to 9.5\n",
      "\u001b[1m\u001b[34m02:25:58\u001b[0m (\u001b[1m\u001b[35m    +1ms\u001b[0m) \u001b[1m\u001b[34m[DEBUG  ]\u001b[0m -- label size set to 13.0\n",
      "\u001b[1m\u001b[34m02:25:58\u001b[0m (\u001b[1m\u001b[35m    +0ms\u001b[0m) \u001b[1m\u001b[34m[DEBUG  ]\u001b[0m -- figure size set to [6.6, 3.3]\n",
      "\u001b[1m\u001b[34m02:25:58\u001b[0m (\u001b[1m\u001b[35m    +1ms\u001b[0m) \u001b[1m\u001b[34m[DEBUG  ]\u001b[0m -- markersize set to 2.0\n",
      "\u001b[1m\u001b[34m02:25:58\u001b[0m (\u001b[1m\u001b[35m    +0ms\u001b[0m) \u001b[1m\u001b[34m[DEBUG  ]\u001b[0m -- usetex set to False\n"
     ]
    }
   ],
   "source": [
    "from utils.binaries import *\n",
    "from utils.plotting import *\n",
    "from utils.auger.fd import XYScanner"
   ]
  },
  {
   "cell_type": "code",
   "execution_count": 2,
   "metadata": {},
   "outputs": [],
   "source": [
    "nov2024 = XYScanner.Campaign(2024, 11)"
   ]
  },
  {
   "cell_type": "code",
   "execution_count": 3,
   "metadata": {},
   "outputs": [
    {
     "name": "stdout",
     "output_type": "stream",
     "text": [
      "LL1, 2024-11: {'preDAQ': '16470m01', 'preXY': '16477', 'XY': '16478', 'postXY': '16479', 'postDAQ': '16480m01'}\n"
     ]
    }
   ],
   "source": [
    "for run in nov2024:\n",
    "    print(run)\n",
    "    break"
   ]
  },
  {
   "cell_type": "code",
   "execution_count": null,
   "metadata": {},
   "outputs": [],
   "source": []
  }
 ],
 "metadata": {
  "kernelspec": {
   "display_name": ".phd-venv",
   "language": "python",
   "name": "python3"
  },
  "language_info": {
   "codemirror_mode": {
    "name": "ipython",
    "version": 3
   },
   "file_extension": ".py",
   "mimetype": "text/x-python",
   "name": "python",
   "nbconvert_exporter": "python",
   "pygments_lexer": "ipython3",
   "version": "3.11.2"
  }
 },
 "nbformat": 4,
 "nbformat_minor": 2
}
