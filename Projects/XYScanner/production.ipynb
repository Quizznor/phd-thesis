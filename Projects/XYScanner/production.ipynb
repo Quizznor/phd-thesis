{
 "cells": [
  {
   "cell_type": "code",
   "execution_count": 1,
   "id": "ac384a62",
   "metadata": {},
   "outputs": [
    {
     "name": "stderr",
     "output_type": "stream",
     "text": [
      "\u001b[1m\u001b[32m15:43:55\u001b[0m (\u001b[1m\u001b[35m   +2.2s\u001b[0m) \u001b[1m\u001b[32m[INFO   ]\u001b[0m -- import \u001b[1m\u001b[31mlogging\u001b[0m\n",
      "\u001b[1m\u001b[32m15:43:55\u001b[0m (\u001b[1m\u001b[35m   +93ms\u001b[0m) \u001b[1m\u001b[32m[INFO   ]\u001b[0m -- import \u001b[1m\u001b[31mnumpy\u001b[0m as \u001b[1m\u001b[31mnp\u001b[0m\n",
      "\u001b[1m\u001b[32m15:43:55\u001b[0m (\u001b[1m\u001b[35m    +7ms\u001b[0m) \u001b[1m\u001b[32m[INFO   ]\u001b[0m -- import \u001b[1m\u001b[31muncertainties\u001b[0m\n",
      "\u001b[1m\u001b[32m15:43:55\u001b[0m (\u001b[1m\u001b[35m  +177ms\u001b[0m) \u001b[1m\u001b[32m[INFO   ]\u001b[0m -- import \u001b[1m\u001b[31mpandas\u001b[0m as \u001b[1m\u001b[31mpd\u001b[0m\n",
      "\u001b[1m\u001b[33m15:43:55\u001b[0m (\u001b[1m\u001b[35m    +1ms\u001b[0m) \u001b[1m\u001b[33m[WARNING]\u001b[0m -- pandas support to be dropped at some point!\n",
      "\u001b[1m\u001b[32m15:43:55\u001b[0m (\u001b[1m\u001b[35m    +1ms\u001b[0m) \u001b[1m\u001b[32m[INFO   ]\u001b[0m -- import \u001b[1m\u001b[31mbinaries.tools\u001b[0m as \u001b[1m\u001b[31mtools\u001b[0m\n",
      "\u001b[1m\u001b[32m15:43:56\u001b[0m (\u001b[1m\u001b[35m  +247ms\u001b[0m) \u001b[1m\u001b[32m[INFO   ]\u001b[0m -- import \u001b[1m\u001b[31mmatplotlib.pyplot\u001b[0m as \u001b[1m\u001b[31mplt\u001b[0m\n",
      "\u001b[1m\u001b[32m15:43:56\u001b[0m (\u001b[1m\u001b[35m  +295ms\u001b[0m) \u001b[1m\u001b[32m[INFO   ]\u001b[0m -- import \u001b[1m\u001b[31mseaborn\u001b[0m as \u001b[1m\u001b[31mso\u001b[0m\n",
      "\u001b[1m\u001b[32m15:43:56\u001b[0m (\u001b[1m\u001b[35m    +2ms\u001b[0m) \u001b[1m\u001b[32m[INFO   ]\u001b[0m -- set MONI_PATH = PosixPath('/home/filip/Data/monit_and_sd')\n",
      "\u001b[1m\u001b[32m15:43:56\u001b[0m (\u001b[1m\u001b[35m    +0ms\u001b[0m) \u001b[1m\u001b[32m[INFO   ]\u001b[0m -- set HIST_PATH = PosixPath('/home/filip/Data/monit_and_sd')\n",
      "\u001b[1m\u001b[32m15:43:56\u001b[0m (\u001b[1m\u001b[35m    +0ms\u001b[0m) \u001b[1m\u001b[32m[INFO   ]\u001b[0m -- set PLOT_PATH = PosixPath('/home/filip/Data/plots')\n",
      "\u001b[1m\u001b[32m15:43:56\u001b[0m (\u001b[1m\u001b[35m    +1ms\u001b[0m) \u001b[1m\u001b[32m[INFO   ]\u001b[0m -- set DATA_PATH = PosixPath('/home/filip/Data')\n",
      "\u001b[1m\u001b[32m15:43:56\u001b[0m (\u001b[1m\u001b[35m    +0ms\u001b[0m) \u001b[1m\u001b[32m[INFO   ]\u001b[0m -- set SCAN_PATH = PosixPath('/home/filip/Public/xy-calibration')\n",
      "\u001b[1m\u001b[32m15:43:56\u001b[0m (\u001b[1m\u001b[35m    +0ms\u001b[0m) \u001b[1m\u001b[32m[INFO   ]\u001b[0m -- set OFLN_PATH = PosixPath('/home/filip/Public/offline/install')\n",
      "\u001b[1m\u001b[32m15:43:56\u001b[0m (\u001b[1m\u001b[35m    +1ms\u001b[0m) \u001b[1m\u001b[32m[INFO   ]\u001b[0m -- import \u001b[1m\u001b[31mplotting.tools\u001b[0m as \u001b[1m\u001b[31mplot\u001b[0m\n",
      "\u001b[1m\u001b[34m15:43:56\u001b[0m (\u001b[1m\u001b[35m    +5ms\u001b[0m) \u001b[1m\u001b[34m[DEBUG  ]\u001b[0m -- font size set to 9.5\n",
      "\u001b[1m\u001b[34m15:43:56\u001b[0m (\u001b[1m\u001b[35m    +0ms\u001b[0m) \u001b[1m\u001b[34m[DEBUG  ]\u001b[0m -- label size set to 13.0\n",
      "\u001b[1m\u001b[34m15:43:56\u001b[0m (\u001b[1m\u001b[35m    +1ms\u001b[0m) \u001b[1m\u001b[34m[DEBUG  ]\u001b[0m -- figure size set to [6.6, 3.3]\n",
      "\u001b[1m\u001b[34m15:43:56\u001b[0m (\u001b[1m\u001b[35m    +0ms\u001b[0m) \u001b[1m\u001b[34m[DEBUG  ]\u001b[0m -- markersize set to 2.0\n",
      "\u001b[1m\u001b[34m15:43:56\u001b[0m (\u001b[1m\u001b[35m    +1ms\u001b[0m) \u001b[1m\u001b[34m[DEBUG  ]\u001b[0m -- usetex set to False\n"
     ]
    }
   ],
   "source": [
    "from utils.binaries import *\n",
    "from utils.plotting import *\n",
    "from utils.auger.fd.XYScanner import *"
   ]
  },
  {
   "cell_type": "code",
   "execution_count": 2,
   "id": "1451d77f",
   "metadata": {},
   "outputs": [
    {
     "name": "stdout",
     "output_type": "stream",
     "text": [
      "{'outCorr_14228.txt', 'outCorr_14270.txt', 'outCorr_04516x.txt', 'outCorr_14438.txt', 'outCorr_14236.txt', 'outCorr_04547x.txt', 'outCorr_10705.txt', 'outCorr_10702.txt', 'outCorr_14453.txt', 'outCorr_04538x.txt', 'outCorr_10708.txt', 'outCorr_4520.txt', 'outCorr_14254x.txt', 'outCorr_14266x.txt', 'outCorr_04530x.txt', 'outCorr_14443.txt', 'outCorr_14224x.txt', 'outCorr_14433.txt', 'outCorr_14233.txt', 'outCorr_04523x.txt', 'outCorr_14445x.txt'}\n",
      "{'outCorr_15470.txt', 'outCorr_15483.txt', 'outCorr_15448.txt', 'outCorr_15485.txt', 'outCorr_15473.txt', 'outCorr_15679.txt', 'outCorr_15457.txt', 'outCorr_15472.txt', 'outCorr_05616x.txt', 'outCorr_15437.txt', 'outCorr_11872.txt', 'outCorr_15675.txt', 'outCorr_15487.txt', 'outCorr_15468.txt', 'outCorr_15432.txt', 'outCorr_15434.txt', 'outCorr_11868.txt', 'outCorr_11867.txt', 'outCorr_15456.txt', 'outCorr_15443x.txt', 'outCorr_15451.txt', 'outCorr_15454.txt', 'outCorr_11863.txt', 'outCorr_11871.txt', 'outCorr_15672.txt', 'outCorr_05621x.txt', 'outCorr_11875.txt', 'outCorr_15670.txt', 'outCorr_15490x.txt', 'outCorr_15453.txt', 'outCorr_15427.txt', 'outCorr_05626x.txt'}\n",
      "{'outCorr_6031x.txt', 'outCorr_6025.txt', 'outCorr_12282x.txt', 'outCorr_12292x.txt', 'outCorr_12320x.txt', 'outCorr_12275x.txt', 'outCorr_12307x.txt', 'outCorr_12301x.txt', 'outCorr_12279x.txt', 'outCorr_6020x.txt', 'outCorr_12328x.txt'}\n"
     ]
    },
    {
     "name": "stderr",
     "output_type": "stream",
     "text": [
      "/home/filip/Public/phd-thesis/.phd-venv/lib/python3.11/site-packages/utils/auger/fd/XYScanner.py:93: UserWarning: CO2 @ 2023-11-11: preXY (15966) not found\n",
      "  warn(f\"{self.telescope} @ {self.year_month_day}: {run} ({run_id}) not found\")\n",
      "/home/filip/Public/phd-thesis/.phd-venv/lib/python3.11/site-packages/utils/auger/fd/XYScanner.py:93: UserWarning: CO2 @ 2023-11-11: postXY (15968) not found\n",
      "  warn(f\"{self.telescope} @ {self.year_month_day}: {run} ({run_id}) not found\")\n",
      "/home/filip/Public/phd-thesis/.phd-venv/lib/python3.11/site-packages/utils/auger/fd/XYScanner.py:93: UserWarning: LM3 @ 2023-11-13: postDAQ (12813m9) not found\n",
      "  warn(f\"{self.telescope} @ {self.year_month_day}: {run} ({run_id}) not found\")\n",
      "/home/filip/Public/phd-thesis/.phd-venv/lib/python3.11/site-packages/utils/auger/fd/XYScanner.py:93: UserWarning: CO5 @ 2023-11-16: preDAQ (15982m23) not found\n",
      "  warn(f\"{self.telescope} @ {self.year_month_day}: {run} ({run_id}) not found\")\n"
     ]
    },
    {
     "name": "stdout",
     "output_type": "stream",
     "text": [
      "{'outCorr_12822.txt', 'outCorr_15925x.txt', 'outCorr_15959.txt', 'outCorr_12806.txt', 'outCorr_15967.txt', 'outCorr_12819x.txt', 'outCorr_12825.txt', 'outCorr_15952x.txt', 'outCorr_12830.txt', 'outCorr_6066.txt', 'outCorr_15941x.txt', 'outCorr_15934x.txt', 'outCorr_6075.txt', 'outCorr_15984x.txt', 'outCorr_12809.txt', 'outCorr_15920x.txt', 'outCorr_6070.txt'}\n",
      "{'outCorr_16415.txt', 'outCorr_12788.txt', 'outCorr_16464.txt', 'outCorr_16461.txt', 'outCorr_13268.txt', 'outCorr_16431.txt', 'outCorr_12802.txt', 'outCorr_16475.txt', 'outCorr_16472.txt', 'outCorr_6519.txt', 'outCorr_13248.txt', 'outCorr_6522.txt', 'outCorr_12796.txt', 'outCorr_13251.txt', 'outCorr_16420.txt', 'outCorr_16423.txt', 'outCorr_16478.txt', 'outCorr_16407.txt', 'outCorr_12791.txt', 'outCorr_13261.txt', 'outCorr_12799.txt', 'outCorr_16428.txt', 'outCorr_16458.txt', 'outCorr_13245.txt', 'outCorr_13264x.txt', 'outCorr_16412.txt', 'outCorr_13271.txt', 'outCorr_6516.txt', 'outCorr_12785.txt'}\n"
     ]
    }
   ],
   "source": [
    "for year, month in [[2019,11], [2022,10], [2023,10], [2023,11], [2024,11]]:\n",
    "# for year, month in [[2023,11]]:\n",
    "\n",
    "    campaign = Campaign(year, month)\n",
    "    # campaign.plot_summary(ymin=0, ymax=10)\n",
    "    campaign.pack_files(f\"outCorr_{year}-{month}.tar.gz\", \"outCorr\")\n",
    "\n",
    "    # break"
   ]
  },
  {
   "cell_type": "code",
   "execution_count": null,
   "id": "c83d422b",
   "metadata": {},
   "outputs": [],
   "source": [
    "print(campaign['LM3'].get_id(\"XY\"))\n",
    "print(campaign['LM4'].get_id(\"XY\"))\n",
    "print(campaign['CO2'].get_id(\"XY\"))"
   ]
  },
  {
   "cell_type": "code",
   "execution_count": null,
   "id": "235b8620",
   "metadata": {},
   "outputs": [],
   "source": []
  }
 ],
 "metadata": {
  "kernelspec": {
   "display_name": ".phd-venv",
   "language": "python",
   "name": "python3"
  },
  "language_info": {
   "codemirror_mode": {
    "name": "ipython",
    "version": 3
   },
   "file_extension": ".py",
   "mimetype": "text/x-python",
   "name": "python",
   "nbconvert_exporter": "python",
   "pygments_lexer": "ipython3",
   "version": "3.11.2"
  }
 },
 "nbformat": 4,
 "nbformat_minor": 5
}
