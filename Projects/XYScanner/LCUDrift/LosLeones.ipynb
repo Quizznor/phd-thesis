{
 "cells": [
  {
   "cell_type": "code",
   "execution_count": 1,
   "id": "d379ad7e",
   "metadata": {},
   "outputs": [
    {
     "name": "stderr",
     "output_type": "stream",
     "text": [
      "\u001b[1m\u001b[32m21:12:18\u001b[0m (\u001b[1m\u001b[35m  +13.7s\u001b[0m) \u001b[1m\u001b[32m[INFO   ]\u001b[0m -- import \u001b[1m\u001b[31mlogging\u001b[0m\n",
      "\u001b[1m\u001b[32m21:12:19\u001b[0m (\u001b[1m\u001b[35m  +644ms\u001b[0m) \u001b[1m\u001b[32m[INFO   ]\u001b[0m -- import \u001b[1m\u001b[31mmatplotlib.pyplot\u001b[0m as \u001b[1m\u001b[31mplt\u001b[0m\n",
      "\u001b[1m\u001b[32m21:12:20\u001b[0m (\u001b[1m\u001b[35m  +868ms\u001b[0m) \u001b[1m\u001b[32m[INFO   ]\u001b[0m -- import \u001b[1m\u001b[31mseaborn\u001b[0m as \u001b[1m\u001b[31mso\u001b[0m\n",
      "\u001b[1m\u001b[32m21:12:20\u001b[0m (\u001b[1m\u001b[35m    +3ms\u001b[0m) \u001b[1m\u001b[32m[INFO   ]\u001b[0m -- import \u001b[1m\u001b[31mnumpy\u001b[0m as \u001b[1m\u001b[31mnp\u001b[0m\n",
      "\u001b[1m\u001b[32m21:12:20\u001b[0m (\u001b[1m\u001b[35m   +73ms\u001b[0m) \u001b[1m\u001b[32m[INFO   ]\u001b[0m -- import \u001b[1m\u001b[31muncertainties\u001b[0m\n",
      "\u001b[1m\u001b[32m21:12:20\u001b[0m (\u001b[1m\u001b[35m    +1ms\u001b[0m) \u001b[1m\u001b[32m[INFO   ]\u001b[0m -- import \u001b[1m\u001b[31mpandas\u001b[0m as \u001b[1m\u001b[31mpd\u001b[0m\n",
      "\u001b[1m\u001b[33m21:12:20\u001b[0m (\u001b[1m\u001b[35m    +1ms\u001b[0m) \u001b[1m\u001b[33m[WARNING]\u001b[0m -- pandas support to be dropped at some point!\n",
      "\u001b[1m\u001b[32m21:12:20\u001b[0m (\u001b[1m\u001b[35m    +1ms\u001b[0m) \u001b[1m\u001b[32m[INFO   ]\u001b[0m -- import \u001b[1m\u001b[31mbinaries.tools\u001b[0m as \u001b[1m\u001b[31mtools\u001b[0m\n",
      "\u001b[1m\u001b[32m21:12:20\u001b[0m (\u001b[1m\u001b[35m    +2ms\u001b[0m) \u001b[1m\u001b[32m[INFO   ]\u001b[0m -- set MONI_PATH = PosixPath('/cr/work/filip/monit_and_sd')\n",
      "\u001b[1m\u001b[32m21:12:20\u001b[0m (\u001b[1m\u001b[35m    +0ms\u001b[0m) \u001b[1m\u001b[32m[INFO   ]\u001b[0m -- set HIST_PATH = PosixPath('/cr/work/filip/monit_and_sd')\n",
      "\u001b[1m\u001b[32m21:12:20\u001b[0m (\u001b[1m\u001b[35m    +1ms\u001b[0m) \u001b[1m\u001b[32m[INFO   ]\u001b[0m -- set PLOT_PATH = PosixPath('/cr/data01/filip/plots')\n",
      "\u001b[1m\u001b[32m21:12:20\u001b[0m (\u001b[1m\u001b[35m    +0ms\u001b[0m) \u001b[1m\u001b[32m[INFO   ]\u001b[0m -- set DATA_PATH = PosixPath('/cr/data01/filip/Data')\n",
      "\u001b[1m\u001b[32m21:12:20\u001b[0m (\u001b[1m\u001b[35m    +1ms\u001b[0m) \u001b[1m\u001b[32m[INFO   ]\u001b[0m -- set SCAN_PATH = PosixPath('/cr/data01/filip/xy-calibration')\n",
      "\u001b[1m\u001b[32m21:12:20\u001b[0m (\u001b[1m\u001b[35m    +0ms\u001b[0m) \u001b[1m\u001b[32m[INFO   ]\u001b[0m -- set OFLN_PATH = PosixPath('/cr/data01/filip/offline/install')\n",
      "\u001b[1m\u001b[32m21:12:20\u001b[0m (\u001b[1m\u001b[35m    +2ms\u001b[0m) \u001b[1m\u001b[32m[INFO   ]\u001b[0m -- import \u001b[1m\u001b[31mplotting.tools\u001b[0m as \u001b[1m\u001b[31mplot\u001b[0m\n",
      "\u001b[1m\u001b[34m21:12:20\u001b[0m (\u001b[1m\u001b[35m   +12ms\u001b[0m) \u001b[1m\u001b[34m[DEBUG  ]\u001b[0m -- font size set to 9.5\n",
      "\u001b[1m\u001b[34m21:12:20\u001b[0m (\u001b[1m\u001b[35m    +0ms\u001b[0m) \u001b[1m\u001b[34m[DEBUG  ]\u001b[0m -- label size set to 13.0\n",
      "\u001b[1m\u001b[34m21:12:20\u001b[0m (\u001b[1m\u001b[35m    +1ms\u001b[0m) \u001b[1m\u001b[34m[DEBUG  ]\u001b[0m -- figure size set to [6.6, 3.3]\n",
      "\u001b[1m\u001b[34m21:12:20\u001b[0m (\u001b[1m\u001b[35m    +0ms\u001b[0m) \u001b[1m\u001b[34m[DEBUG  ]\u001b[0m -- markersize set to 2.0\n",
      "\u001b[1m\u001b[34m21:12:20\u001b[0m (\u001b[1m\u001b[35m    +1ms\u001b[0m) \u001b[1m\u001b[34m[DEBUG  ]\u001b[0m -- usetex set to False\n"
     ]
    }
   ],
   "source": [
    "from utils.auger.fd import XYScanner"
   ]
  },
  {
   "cell_type": "code",
   "execution_count": 2,
   "id": "f080d029",
   "metadata": {},
   "outputs": [
    {
     "name": "stdout",
     "output_type": "stream",
     "text": [
      "LL1 @ 2024-11-26\n",
      "LL2 @ 2024-11-26\n",
      "LL3 @ 2024-11-25\n",
      "LL4 @ 2024-11-25\n",
      "LL5 @ 2024-11-25\n",
      "LL6 @ 2024-11-26\n",
      "LM1 @ 2024-11-29\n",
      "LM2 @ 2024-11-29\n",
      "LM3 @ 2024-11-29\n",
      "LM4 @ 2024-12-03\n",
      "LM5 @ 2024-12-03\n",
      "LM6 @ 2024-12-03\n",
      "LA1 @ 2024-11-27\n",
      "LA2 @ 2024-11-27\n",
      "LA3 @ 2024-11-27\n",
      "LA4 @ 2024-11-28\n",
      "LA5 @ 2024-11-28\n",
      "LA6 @ 2024-11-28\n",
      "CO1 @ 2024-11-20\n",
      "CO2 @ 2024-11-20\n",
      "CO3 @ 2024-11-20\n",
      "CO4 @ 2024-11-19\n",
      "CO5 @ 2024-11-19\n",
      "CO6 @ 2024-11-19\n",
      "HE1 @ 2024-11-21\n",
      "HE2 @ 2024-11-21\n",
      "HE3 @ 2024-11-21\n"
     ]
    }
   ],
   "source": [
    "test = XYScanner.Campaign(2024, 11)\n",
    "for key, val in test.get_data(\"XY\").items():\n",
    "    print(key)"
   ]
  },
  {
   "cell_type": "code",
   "execution_count": 4,
   "id": "eb0b6e66",
   "metadata": {},
   "outputs": [
    {
     "name": "stdout",
     "output_type": "stream",
     "text": [
      "HE1 @ 2019-11-26\n",
      "HE1 @ 2022-10-21\n",
      "HE1 @ 2023-10-13\n",
      "HE1 @ 2023-11-09\n",
      "HE1 @ 2024-11-21\n"
     ]
    }
   ],
   "source": [
    "test = XYScanner.Telescope(\"HE1\")\n",
    "for key, val in test.get_data(\"XY\").items():\n",
    "    print(key)"
   ]
  },
  {
   "cell_type": "code",
   "execution_count": null,
   "id": "a72281cd",
   "metadata": {},
   "outputs": [],
   "source": [
    "print(asd)"
   ]
  },
  {
   "cell_type": "code",
   "execution_count": null,
   "id": "c04e6de9",
   "metadata": {},
   "outputs": [],
   "source": []
  }
 ],
 "metadata": {
  "kernelspec": {
   "display_name": ".venv",
   "language": "python",
   "name": "python3"
  },
  "language_info": {
   "codemirror_mode": {
    "name": "ipython",
    "version": 3
   },
   "file_extension": ".py",
   "mimetype": "text/x-python",
   "name": "python",
   "nbconvert_exporter": "python",
   "pygments_lexer": "ipython3",
   "version": "3.10.12"
  }
 },
 "nbformat": 4,
 "nbformat_minor": 5
}
