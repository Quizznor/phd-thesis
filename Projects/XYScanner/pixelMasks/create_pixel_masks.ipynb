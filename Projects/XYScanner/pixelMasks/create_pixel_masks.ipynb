{
 "cells": [
  {
   "cell_type": "code",
   "execution_count": 1,
   "metadata": {},
   "outputs": [
    {
     "name": "stderr",
     "output_type": "stream",
     "text": [
      "\u001b[1m\u001b[32m19:32:33\u001b[0m (\u001b[1m\u001b[35m   +3.8s\u001b[0m) \u001b[1m\u001b[32m[INFO   ]\u001b[0m -- import \u001b[1m\u001b[31mlogging\u001b[0m\n",
      "\u001b[1m\u001b[32m19:32:33\u001b[0m (\u001b[1m\u001b[35m    +2ms\u001b[0m) \u001b[1m\u001b[32m[INFO   ]\u001b[0m -- import \u001b[1m\u001b[31mnumpy\u001b[0m as \u001b[1m\u001b[31mnp\u001b[0m\n",
      "\u001b[1m\u001b[32m19:32:33\u001b[0m (\u001b[1m\u001b[35m    +7ms\u001b[0m) \u001b[1m\u001b[32m[INFO   ]\u001b[0m -- import \u001b[1m\u001b[31muncertainties\u001b[0m\n",
      "\u001b[1m\u001b[32m19:32:33\u001b[0m (\u001b[1m\u001b[35m    +2ms\u001b[0m) \u001b[1m\u001b[32m[INFO   ]\u001b[0m -- import \u001b[1m\u001b[31mnumpy\u001b[0m as \u001b[1m\u001b[31mnp\u001b[0m\n",
      "\u001b[1m\u001b[32m19:32:33\u001b[0m (\u001b[1m\u001b[35m    +7ms\u001b[0m) \u001b[1m\u001b[32m[INFO   ]\u001b[0m -- import \u001b[1m\u001b[31muncertainties\u001b[0m\n",
      "\u001b[1m\u001b[32m19:32:33\u001b[0m (\u001b[1m\u001b[35m  +171ms\u001b[0m) \u001b[1m\u001b[32m[INFO   ]\u001b[0m -- import \u001b[1m\u001b[31mpandas\u001b[0m as \u001b[1m\u001b[31mpd\u001b[0m\n",
      "\u001b[1m\u001b[33m19:32:33\u001b[0m (\u001b[1m\u001b[35m    +1ms\u001b[0m) \u001b[1m\u001b[33m[WARNING]\u001b[0m -- pandas support to be dropped at some point!\n",
      "\u001b[1m\u001b[32m19:32:33\u001b[0m (\u001b[1m\u001b[35m    +3ms\u001b[0m) \u001b[1m\u001b[32m[INFO   ]\u001b[0m -- import \u001b[1m\u001b[31mbinaries.tools\u001b[0m as \u001b[1m\u001b[31mtools\u001b[0m\n"
     ]
    }
   ],
   "source": [
    "from utils.binaries import *"
   ]
  },
  {
   "cell_type": "code",
   "execution_count": null,
   "metadata": {},
   "outputs": [],
   "source": [
    "ll1 = \"FFFFFF\t\t\tColumn 1 \\\n",
    "FFFFFF\t\t\tColumn 2 \\\n",
    "FFFFFF\t\t\tColumn 3 \\\n",
    "FFFFFF\t\t\tColumn 4 \\\n",
    "FFFFFF\t\t\tColumn 5 \\\n",
    "FFFFFF\t\t\tColumn 6 \\\n",
    "FFFFFF\t\t\tColumn 7 \\\n",
    "FFFFFF\t\t\tColumn 8 \\\n",
    "FFFFFF\t\t\tColumn 9 \\\n",
    "FFFFFF\t\t\tColumn 10 \\\n",
    "FFFFFF\t\t\tColumn 11 \\\n",
    "FFFFFF\t\t\tColumn 12 \\\n",
    "FFFFFF\t\t\tColumn 13 \\\n",
    "FFFFFF\t\t\tColumn 14 \\\n",
    "FFFFFF\t\t\tColumn 15 \\\n",
    "FFFFFF\t\t\tColumn 16 \\\n",
    "000000\t\t\tColumn 17 \\\n",
    "000000\t\t\tColumn 18 \\\n",
    "000000\t\t\tColumn 19 \\\n",
    "000000\t\t\tColumn 20\"\n",
    "\n",
    "ll6 = \"000000\t\t\tColumn 1 \\\n",
    "007F80\t\t\tColumn 2 \\\n",
    "007F80\t\t\tColumn 3 \\\n",
    "007F80\t\t\tColumn 4 \\\n",
    "1E7F80\t\t\tColumn 5 \\\n",
    "3F7F80\t\t\tColumn 6 \\\n",
    "3F7F80\t\t\tColumn 7 \\\n",
    "3F8000\t\t\tColumn 8 \\\n",
    "FFFFFF\t\t\tColumn 9 \\\n",
    "FFFFFF\t\t\tColumn 10 \\\n",
    "FFFFFF\t\t\tColumn 11 \\\n",
    "FFFFFF\t\t\tColumn 12 \\\n",
    "FFFFFF\t\t\tColumn 13 \\\n",
    "FFFFFF\t\t\tColumn 14 \\\n",
    "FFFFFF\t\t\tColumn 15 \\\n",
    "FFFFFF\t\t\tColumn 16 \\\n",
    "FFFFFF\t\t\tColumn 17 \\\n",
    "FFFFFF\t\t\tColumn 18 \\\n",
    "FFFFFF\t\t\tColumn 19 \\\n",
    "FFFFFF\t\t\tColumn 20\""
   ]
  },
  {
   "cell_type": "code",
   "execution_count": 30,
   "metadata": {},
   "outputs": [],
   "source": [
    "def parse(str):\n",
    "    data = str.split()\n",
    "    return [bin(int(x, 16))[4:].zfill(22) for x in data[::3]]\n",
    "\n",
    "\n",
    "def create_map(str):\n",
    "    masks = parse(str)\n",
    "\n",
    "    c, m = [], []\n",
    "    pixel = 0\n",
    "\n",
    "    for mask in masks:\n",
    "        for char in mask:\n",
    "            c.append(pixel)\n",
    "            m.append(int(char))\n",
    "            pixel += 1\n",
    "\n",
    "    return np.column_stack([c, m])"
   ]
  },
  {
   "cell_type": "code",
   "execution_count": 31,
   "metadata": {},
   "outputs": [
    {
     "data": {
      "text/plain": [
       "['1111111111111111111111',\n",
       " '1111111111111111111111',\n",
       " '1111111111111111111111',\n",
       " '1111111111111111111111',\n",
       " '1111111111111111111111',\n",
       " '1111111111111111111111',\n",
       " '1111111111111111111111',\n",
       " '1111111111111111111111',\n",
       " '1111111111111111111111',\n",
       " '1111111111111111111111',\n",
       " '1111111111111111111111',\n",
       " '1111111111111111111111',\n",
       " '1111111111111111111111',\n",
       " '1111111111111111111111',\n",
       " '1111111111111111111111',\n",
       " '1111111111111111111111',\n",
       " '0000000000000000000000',\n",
       " '0000000000000000000000',\n",
       " '0000000000000000000000',\n",
       " '0000000000000000000000']"
      ]
     },
     "execution_count": 31,
     "metadata": {},
     "output_type": "execute_result"
    }
   ],
   "source": [
    "parse(ll1)"
   ]
  },
  {
   "cell_type": "code",
   "execution_count": 44,
   "metadata": {},
   "outputs": [],
   "source": [
    "np.savetxt(\n",
    "    \"/home/filip/xy-calibration/config/pixel_masks/ll6.txt\",\n",
    "    create_map(ll6),\n",
    "    fmt=\"%i %i\",\n",
    ")"
   ]
  },
  {
   "cell_type": "code",
   "execution_count": null,
   "metadata": {},
   "outputs": [],
   "source": []
  }
 ],
 "metadata": {
  "kernelspec": {
   "display_name": "Python 3",
   "language": "python",
   "name": "python3"
  },
  "language_info": {
   "codemirror_mode": {
    "name": "ipython",
    "version": 3
   },
   "file_extension": ".py",
   "mimetype": "text/x-python",
   "name": "python",
   "nbconvert_exporter": "python",
   "pygments_lexer": "ipython3",
   "version": "3.9.2"
  }
 },
 "nbformat": 4,
 "nbformat_minor": 2
}
