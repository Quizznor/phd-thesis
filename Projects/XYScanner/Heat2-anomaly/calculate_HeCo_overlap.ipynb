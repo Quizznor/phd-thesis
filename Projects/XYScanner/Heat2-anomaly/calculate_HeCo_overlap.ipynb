{
 "cells": [
  {
   "cell_type": "code",
   "execution_count": 1,
   "metadata": {},
   "outputs": [
    {
     "name": "stderr",
     "output_type": "stream",
     "text": [
      "\u001b[5m\u001b[1m\u001b[32m07:07:14\u001b[0m (\u001b[1m\u001b[35m  +57.1s\u001b[0m) \u001b[5m\u001b[1m\u001b[32m[INFO   ]\u001b[0m -- import \u001b[5m\u001b[1m\u001b[31mlogging\u001b[0m\n",
      "\u001b[5m\u001b[1m\u001b[32m07:07:14\u001b[0m (\u001b[1m\u001b[35m  +157ms\u001b[0m) \u001b[5m\u001b[1m\u001b[32m[INFO   ]\u001b[0m -- import \u001b[5m\u001b[1m\u001b[31mnumpy\u001b[0m as \u001b[5m\u001b[1m\u001b[31mnp\u001b[0m\n",
      "\u001b[5m\u001b[1m\u001b[32m07:07:14\u001b[0m (\u001b[1m\u001b[35m   +11ms\u001b[0m) \u001b[5m\u001b[1m\u001b[32m[INFO   ]\u001b[0m -- import \u001b[5m\u001b[1m\u001b[31muncertainties\u001b[0m\n",
      "\u001b[5m\u001b[1m\u001b[32m07:07:14\u001b[0m (\u001b[1m\u001b[35m  +355ms\u001b[0m) \u001b[5m\u001b[1m\u001b[32m[INFO   ]\u001b[0m -- import \u001b[5m\u001b[1m\u001b[31mpandas\u001b[0m as \u001b[5m\u001b[1m\u001b[31mpd\u001b[0m\n",
      "\u001b[5m\u001b[1m\u001b[32m07:07:14\u001b[0m (\u001b[1m\u001b[35m    +2ms\u001b[0m) \u001b[5m\u001b[1m\u001b[32m[INFO   ]\u001b[0m -- import \u001b[5m\u001b[1m\u001b[31mbinaries.tools\u001b[0m as \u001b[5m\u001b[1m\u001b[31mtools\u001b[0m\n",
      "\u001b[5m\u001b[1m\u001b[32m07:07:15\u001b[0m (\u001b[1m\u001b[35m  +711ms\u001b[0m) \u001b[5m\u001b[1m\u001b[32m[INFO   ]\u001b[0m -- import \u001b[5m\u001b[1m\u001b[31mmatplotlib.pyplot\u001b[0m as \u001b[5m\u001b[1m\u001b[31mplt\u001b[0m\n",
      "\u001b[5m\u001b[1m\u001b[32m07:07:15\u001b[0m (\u001b[1m\u001b[35m  +468ms\u001b[0m) \u001b[5m\u001b[1m\u001b[32m[INFO   ]\u001b[0m -- import \u001b[5m\u001b[1m\u001b[31mseaborn\u001b[0m as \u001b[5m\u001b[1m\u001b[31mso\u001b[0m\n",
      "\u001b[5m\u001b[1m\u001b[34m07:07:15\u001b[0m (\u001b[1m\u001b[35m    +7ms\u001b[0m) \u001b[5m\u001b[1m\u001b[34m[DEBUG  ]\u001b[0m -- font size set to 9.5\n",
      "\u001b[5m\u001b[1m\u001b[34m07:07:15\u001b[0m (\u001b[1m\u001b[35m    +1ms\u001b[0m) \u001b[5m\u001b[1m\u001b[34m[DEBUG  ]\u001b[0m -- label size set to 13.0\n",
      "\u001b[5m\u001b[1m\u001b[34m07:07:15\u001b[0m (\u001b[1m\u001b[35m    +1ms\u001b[0m) \u001b[5m\u001b[1m\u001b[34m[DEBUG  ]\u001b[0m -- figure size set to [6.6, 3.3]\n",
      "\u001b[5m\u001b[1m\u001b[34m07:07:15\u001b[0m (\u001b[1m\u001b[35m    +1ms\u001b[0m) \u001b[5m\u001b[1m\u001b[34m[DEBUG  ]\u001b[0m -- markersize set to 2.0\n",
      "\u001b[5m\u001b[1m\u001b[34m07:07:15\u001b[0m (\u001b[1m\u001b[35m    +0ms\u001b[0m) \u001b[5m\u001b[1m\u001b[34m[DEBUG  ]\u001b[0m -- usetex set to False\n",
      "\u001b[5m\u001b[1m\u001b[32m07:07:15\u001b[0m (\u001b[1m\u001b[35m    +2ms\u001b[0m) \u001b[5m\u001b[1m\u001b[32m[INFO   ]\u001b[0m -- import \u001b[5m\u001b[1m\u001b[31mplotting.tools\u001b[0m as \u001b[5m\u001b[1m\u001b[31mplot\u001b[0m\n"
     ]
    }
   ],
   "source": [
    "from utils.binaries import *\n",
    "from utils.plotting import *"
   ]
  },
  {
   "cell_type": "code",
   "execution_count": 2,
   "metadata": {},
   "outputs": [],
   "source": [
    "import sys\n",
    "\n",
    "sys.path.append(\"/cr/data01/filip/fd-pyutils/\")"
   ]
  },
  {
   "cell_type": "code",
   "execution_count": 3,
   "metadata": {},
   "outputs": [],
   "source": [
    "from fdpyutils.fdEye.fdTools import getPixelVector\n",
    "\n",
    "\n",
    "def get_col_row(pixel_number):\n",
    "\n",
    "    col = int(np.ceil(pixel_number / 22.0))\n",
    "    row = int(pixel_number - 22 * (col - 1))\n",
    "\n",
    "    return row, col\n",
    "\n",
    "\n",
    "def get_pixel_vector(site, telescope, pixel_number):\n",
    "    return np.array(getPixelVector(site, telescope, *get_col_row(pixel_number)))\n",
    "\n",
    "\n",
    "def calculate_pixel_distance(pixel1: tuple, pixel2: tuple):\n",
    "    t1, p1, t2, p2 = *pixel1, *pixel2\n",
    "    d1 = get_pixel_vector(\"Heat\", t1, p1)\n",
    "    d2 = get_pixel_vector(\"Coihueco\", t2, p2)\n",
    "\n",
    "    return np.linalg.norm(d1 - d2)\n",
    "\n",
    "\n",
    "def get_closest_pixel(eye, pixel_number):\n",
    "    minimal_distance, min_tel, min_pix = np.inf, np.nan, np.nan\n",
    "\n",
    "    for telescope in range(1, 7):\n",
    "        for pixel in range(1, 441):\n",
    "            this_distance = calculate_pixel_distance(\n",
    "                (eye, pixel_number), (telescope, pixel)\n",
    "            )\n",
    "            if this_distance < minimal_distance:\n",
    "                min_tel, min_pix = telescope, pixel\n",
    "                minimal_distance = this_distance\n",
    "\n",
    "    return min_tel, min_pix"
   ]
  },
  {
   "cell_type": "code",
   "execution_count": 4,
   "metadata": {},
   "outputs": [],
   "source": [
    "from utils.Auger.FD import PixelPlot\n",
    "from matplotlib.gridspec import GridSpec\n",
    "import pickle\n",
    "\n",
    "highlights = [[] for _ in range(6)]\n",
    "heat_highlights = [[] for _ in range(3)]\n",
    "\n",
    "for cotel in range(1, 4):\n",
    "    for pix in range(1, 441):\n",
    "        itel, ipix = get_closest_pixel(cotel, pix)\n",
    "        highlights[itel - 1].append(ipix)\n",
    "        heat_highlights[cotel - 1].append((itel, ipix))\n",
    "\n",
    "    with open(f\"heat{cotel}_CoOverlap.pkl\", \"wb\") as heat_pkl:\n",
    "        pickle.dump(heat_highlights, heat_pkl)"
   ]
  },
  {
   "cell_type": "code",
   "execution_count": null,
   "metadata": {},
   "outputs": [],
   "source": [
    "fig = plt.figure()\n",
    "gs = GridSpec(\n",
    "    1,\n",
    "    6,\n",
    "    figure=fig,\n",
    ")\n",
    "gs.update(left=0.05, right=0.95, wspace=0.05, hspace=0.02)\n",
    "\n",
    "for cotel in range(1, 7):\n",
    "    ax = fig.add_subplot(gs[-cotel])\n",
    "    PixelPlot([np.nan for _ in range(440)], ax=ax, markpixels=highlights[cotel - 1])\n",
    "    ax.set_title(cotel)"
   ]
  },
  {
   "cell_type": "code",
   "execution_count": null,
   "metadata": {},
   "outputs": [],
   "source": [
    "plot.save(fig, f\"XY-heat/HeCoOverlap/heat{cotel}.png\")"
   ]
  },
  {
   "cell_type": "code",
   "execution_count": null,
   "metadata": {},
   "outputs": [],
   "source": [
    "PixelPlot([np.nan for _ in range(440)], markpixels=range(1, 440, 22))"
   ]
  },
  {
   "cell_type": "code",
   "execution_count": null,
   "metadata": {},
   "outputs": [],
   "source": [
    "with open(\"heat1_CoOverlap.pkl\", \"rb\") as heat_pkl:\n",
    "    l = pickle.load(heat_pkl)"
   ]
  },
  {
   "cell_type": "code",
   "execution_count": null,
   "metadata": {},
   "outputs": [],
   "source": [
    "print(l)"
   ]
  },
  {
   "cell_type": "code",
   "execution_count": null,
   "metadata": {},
   "outputs": [],
   "source": []
  }
 ],
 "metadata": {
  "kernelspec": {
   "display_name": ".venv",
   "language": "python",
   "name": "python3"
  },
  "language_info": {
   "codemirror_mode": {
    "name": "ipython",
    "version": 3
   },
   "file_extension": ".py",
   "mimetype": "text/x-python",
   "name": "python",
   "nbconvert_exporter": "python",
   "pygments_lexer": "ipython3",
   "version": "3.10.12"
  }
 },
 "nbformat": 4,
 "nbformat_minor": 2
}
