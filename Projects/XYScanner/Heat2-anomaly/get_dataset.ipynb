{
 "cells": [
  {
   "cell_type": "code",
   "execution_count": 1,
   "metadata": {
    "metadata": {}
   },
   "outputs": [
    {
     "name": "stderr",
     "output_type": "stream",
     "text": [
      "\u001b[5m\u001b[1m\u001b[32m14:37:04\u001b[0m (\u001b[1m\u001b[35m   +2.0s\u001b[0m) \u001b[5m\u001b[1m\u001b[32m[INFO   ]\u001b[0m -- import \u001b[5m\u001b[1m\u001b[31mlogging\u001b[0m\n",
      "\u001b[5m\u001b[1m\u001b[32m14:37:04\u001b[0m (\u001b[1m\u001b[35m  +155ms\u001b[0m) \u001b[5m\u001b[1m\u001b[32m[INFO   ]\u001b[0m -- import \u001b[5m\u001b[1m\u001b[31mnumpy\u001b[0m as \u001b[5m\u001b[1m\u001b[31mnp\u001b[0m\n",
      "\u001b[5m\u001b[1m\u001b[32m14:37:04\u001b[0m (\u001b[1m\u001b[35m    +8ms\u001b[0m) \u001b[5m\u001b[1m\u001b[32m[INFO   ]\u001b[0m -- import \u001b[5m\u001b[1m\u001b[31muncertainties\u001b[0m\n",
      "\u001b[5m\u001b[1m\u001b[32m14:37:05\u001b[0m (\u001b[1m\u001b[35m  +352ms\u001b[0m) \u001b[5m\u001b[1m\u001b[32m[INFO   ]\u001b[0m -- import \u001b[5m\u001b[1m\u001b[31mpandas\u001b[0m as \u001b[5m\u001b[1m\u001b[31mpd\u001b[0m\n",
      "\u001b[5m\u001b[1m\u001b[33m14:37:05\u001b[0m (\u001b[1m\u001b[35m    +1ms\u001b[0m) \u001b[5m\u001b[1m\u001b[33m[WARNING]\u001b[0m -- pandas support to be dropped at some point!\n",
      "\u001b[5m\u001b[1m\u001b[32m14:37:05\u001b[0m (\u001b[1m\u001b[35m    +2ms\u001b[0m) \u001b[5m\u001b[1m\u001b[32m[INFO   ]\u001b[0m -- import \u001b[5m\u001b[1m\u001b[31mbinaries.tools\u001b[0m as \u001b[5m\u001b[1m\u001b[31mtools\u001b[0m\n",
      "\u001b[5m\u001b[1m\u001b[32m14:37:05\u001b[0m (\u001b[1m\u001b[35m  +318ms\u001b[0m) \u001b[5m\u001b[1m\u001b[32m[INFO   ]\u001b[0m -- import \u001b[5m\u001b[1m\u001b[31mmatplotlib.pyplot\u001b[0m as \u001b[5m\u001b[1m\u001b[31mplt\u001b[0m\n",
      "\u001b[5m\u001b[1m\u001b[32m14:37:05\u001b[0m (\u001b[1m\u001b[35m  +409ms\u001b[0m) \u001b[5m\u001b[1m\u001b[32m[INFO   ]\u001b[0m -- import \u001b[5m\u001b[1m\u001b[31mseaborn\u001b[0m as \u001b[5m\u001b[1m\u001b[31mso\u001b[0m\n",
      "\u001b[5m\u001b[1m\u001b[34m14:37:05\u001b[0m (\u001b[1m\u001b[35m    +7ms\u001b[0m) \u001b[5m\u001b[1m\u001b[34m[DEBUG  ]\u001b[0m -- font size set to 9.5\n",
      "\u001b[5m\u001b[1m\u001b[34m14:37:05\u001b[0m (\u001b[1m\u001b[35m    +1ms\u001b[0m) \u001b[5m\u001b[1m\u001b[34m[DEBUG  ]\u001b[0m -- label size set to 13.0\n",
      "\u001b[5m\u001b[1m\u001b[34m14:37:05\u001b[0m (\u001b[1m\u001b[35m    +1ms\u001b[0m) \u001b[5m\u001b[1m\u001b[34m[DEBUG  ]\u001b[0m -- figure size set to [6.6, 3.3]\n",
      "\u001b[5m\u001b[1m\u001b[34m14:37:05\u001b[0m (\u001b[1m\u001b[35m    +1ms\u001b[0m) \u001b[5m\u001b[1m\u001b[34m[DEBUG  ]\u001b[0m -- markersize set to 2.0\n",
      "\u001b[5m\u001b[1m\u001b[34m14:37:05\u001b[0m (\u001b[1m\u001b[35m    +0ms\u001b[0m) \u001b[5m\u001b[1m\u001b[34m[DEBUG  ]\u001b[0m -- usetex set to False\n",
      "\u001b[5m\u001b[1m\u001b[32m14:37:05\u001b[0m (\u001b[1m\u001b[35m    +3ms\u001b[0m) \u001b[5m\u001b[1m\u001b[32m[INFO   ]\u001b[0m -- import \u001b[5m\u001b[1m\u001b[31mplotting.tools\u001b[0m as \u001b[5m\u001b[1m\u001b[31mplot\u001b[0m\n"
     ]
    }
   ],
   "source": [
    "import sys\n",
    "\n",
    "sys.path.append(\"/home/quizznor/projects/phd-thesis/bin\")\n",
    "\n",
    "from utils.binaries import *\n",
    "from utils.plotting import *"
   ]
  },
  {
   "cell_type": "code",
   "execution_count": null,
   "metadata": {},
   "outputs": [],
   "source": [
    "col_names = [\n",
    "    \"runid\",\n",
    "    \"telescope\",\n",
    "    \"stepsize_cm\",\n",
    "    \"date\",\n",
    "    \"source\",\n",
    "    \"ledCurrent_mA\",\n",
    "    \"forDB\",\n",
    "    \"jobfile\",\n",
    "    \"comment\",\n",
    "]\n",
    "\n",
    "runlist_oct = pd.read_csv(\n",
    "    \"/home/quizznor/projects/xy-calibration/config/calib_runlists/calib_runs_2023-10.list\",\n",
    "    sep=\";\",\n",
    "    names=col_names,\n",
    "    skipinitialspace=True,\n",
    "    comment=\"#\",\n",
    ")\n",
    "\n",
    "runlist_nov = pd.read_csv(\n",
    "    \"/home/quizznor/projects/xy-calibration/config/calib_runlists/calib_runs_2023-11.list\",\n",
    "    sep=\";\",\n",
    "    names=col_names,\n",
    "    skipinitialspace=True,\n",
    "    comment=\"#\",\n",
    ")"
   ]
  },
  {
   "cell_type": "code",
   "execution_count": null,
   "metadata": {},
   "outputs": [],
   "source": [
    "for _id, row in runlist_nov.iterrows():\n",
    "    if row.comment == \"Cal A\":\n",
    "        runlist_nov.drop(_id, inplace=True)\n",
    "\n",
    "for _id, row in runlist_oct.iterrows():\n",
    "    if row.comment == \"Cal A\":\n",
    "        runlist_oct.drop(_id, inplace=True)"
   ]
  },
  {
   "cell_type": "code",
   "execution_count": null,
   "metadata": {},
   "outputs": [],
   "source": [
    "runlist_oct"
   ]
  },
  {
   "cell_type": "code",
   "execution_count": 2,
   "metadata": {
    "metadata": {}
   },
   "outputs": [
    {
     "ename": "NameError",
     "evalue": "name 'runlist_oct' is not defined",
     "output_type": "error",
     "traceback": [
      "\u001b[0;31m---------------------------------------------------------------------------\u001b[0m",
      "\u001b[0;31mNameError\u001b[0m                                 Traceback (most recent call last)",
      "Cell \u001b[0;32mIn[2], line 4\u001b[0m\n\u001b[1;32m      1\u001b[0m \u001b[38;5;28;01mimport\u001b[39;00m \u001b[38;5;21;01mglob\u001b[39;00m\n\u001b[1;32m      2\u001b[0m \u001b[38;5;28;01mimport\u001b[39;00m \u001b[38;5;21;01mos\u001b[39;00m\n\u001b[0;32m----> 4\u001b[0m \u001b[38;5;28;01mfor\u001b[39;00m month, runlist \u001b[38;5;129;01min\u001b[39;00m \u001b[38;5;28mzip\u001b[39m([\u001b[38;5;124m'\u001b[39m\u001b[38;5;124moct\u001b[39m\u001b[38;5;124m'\u001b[39m, \u001b[38;5;124m'\u001b[39m\u001b[38;5;124mnov\u001b[39m\u001b[38;5;124m'\u001b[39m], [\u001b[43mrunlist_oct\u001b[49m, runlist_nov]):\n\u001b[1;32m      5\u001b[0m     \u001b[38;5;28;01mfor\u001b[39;00m _id \u001b[38;5;129;01min\u001b[39;00m runlist[\u001b[38;5;124m'\u001b[39m\u001b[38;5;124mrunid\u001b[39m\u001b[38;5;124m'\u001b[39m]:\n\u001b[1;32m      6\u001b[0m         \u001b[38;5;28mprint\u001b[39m(_id, end\u001b[38;5;241m=\u001b[39m\u001b[38;5;124m'\u001b[39m\u001b[38;5;124m \u001b[39m\u001b[38;5;124m'\u001b[39m)\n",
      "\u001b[0;31mNameError\u001b[0m: name 'runlist_oct' is not defined"
     ]
    }
   ],
   "source": [
    "import glob\n",
    "import os\n",
    "\n",
    "for month, runlist in zip([\"oct\", \"nov\"], [runlist_oct, runlist_nov]):\n",
    "    for _id in runlist[\"runid\"]:\n",
    "        print(_id, end=\" \")\n",
    "        files = glob.glob(f\"/home/quizznor/xy-data/2023{month}_calA/*{_id}*\")\n",
    "        if files == []:\n",
    "            continue\n",
    "        os.system(f\"mv {files[0]} /home/quizznor/xy-data/backup/{month}\")"
   ]
  },
  {
   "cell_type": "markdown",
   "metadata": {},
   "source": [
    "# copy Cal A from runlist"
   ]
  },
  {
   "cell_type": "code",
   "execution_count": null,
   "metadata": {},
   "outputs": [],
   "source": [
    "col_names = [\n",
    "    \"runid\",\n",
    "    \"telescope\",\n",
    "    \"stepsize_cm\",\n",
    "    \"date\",\n",
    "    \"source\",\n",
    "    \"ledCurrent_mA\",\n",
    "    \"forDB\",\n",
    "    \"jobfile\",\n",
    "    \"comment\",\n",
    "]\n",
    "\n",
    "runlist_oct = pd.read_csv(\n",
    "    \"/home/quizznor/projects/xy-calibration/config/calib_runlists/calib_runs_2023-10.list\",\n",
    "    sep=\";\",\n",
    "    names=col_names,\n",
    "    skipinitialspace=True,\n",
    "    comment=\"#\",\n",
    ")\n",
    "\n",
    "runlist_nov = pd.read_csv(\n",
    "    \"/home/quizznor/projects/xy-calibration/config/calib_runlists/calib_runs_2023-11.list\",\n",
    "    sep=\";\",\n",
    "    names=col_names,\n",
    "    skipinitialspace=True,\n",
    "    comment=\"#\",\n",
    ")"
   ]
  },
  {
   "cell_type": "code",
   "execution_count": null,
   "metadata": {},
   "outputs": [],
   "source": [
    "for _id, row in runlist_nov.iterrows():\n",
    "    if row.comment != \"Cal A\":\n",
    "        runlist_nov.drop(_id, inplace=True)\n",
    "\n",
    "for _id, row in runlist_oct.iterrows():\n",
    "    if row.comment != \"Cal A\":\n",
    "        runlist_oct.drop(_id, inplace=True)"
   ]
  },
  {
   "cell_type": "code",
   "execution_count": null,
   "metadata": {},
   "outputs": [],
   "source": [
    "runlist_oct"
   ]
  },
  {
   "cell_type": "code",
   "execution_count": null,
   "metadata": {},
   "outputs": [],
   "source": [
    "runlist_nov"
   ]
  },
  {
   "cell_type": "code",
   "execution_count": null,
   "metadata": {},
   "outputs": [],
   "source": [
    "import glob\n",
    "\n",
    "for month, runlist in zip([\"nov, oct\"], [runlist_nov, runlist_oct]):\n",
    "    for _id in runlist_nov[\"runid\"]:\n",
    "        files = glob.glob(f\"/home/quizznor/xy-data/2023{month}/*{_id}*\")\n",
    "        if files == []:\n",
    "            continue\n",
    "        os.move(f\"cp {files[0]} /home/quizznor/xy-data/2023{month}_calA/\")"
   ]
  },
  {
   "cell_type": "markdown",
   "metadata": {},
   "source": [
    "# form runlist"
   ]
  },
  {
   "cell_type": "code",
   "execution_count": 4,
   "metadata": {
    "metadata": {}
   },
   "outputs": [
    {
     "name": "stdout",
     "output_type": "stream",
     "text": [
      "59 files in /cr/data02/AugerPrime/XY/2023oct_calA/\n",
      "101 files in /cr/data02/AugerPrime/XY//2023nov_calA/\n"
     ]
    }
   ],
   "source": [
    "import os\n",
    "\n",
    "src = \"/cr/data02/AugerPrime/XY/2023oct_calA/\"\n",
    "\n",
    "with open(\n",
    "    \"/cr/data01/filip/xy-calibration/config//calib_runlists/calA_runs_2023-10.list\", \"w\"\n",
    ") as runlist:\n",
    "    files = os.listdir(src)\n",
    "    print(f\"{len(files)} files in {src}\")\n",
    "    files.sort()\n",
    "    for cal in files:\n",
    "        if cal.endswith(\".ini\") or cal.endswith(\".csv\"):\n",
    "            continue\n",
    "\n",
    "        fields = cal.split(\"_\")\n",
    "        runlist.write(\n",
    "            f'{fields[2][2:]}{fields[1]};  he{int(fields[1][1:]) - 24}; 0; {fields[3][:10]}; \"\";     0.0;   0;  \"{fields[3][11:16]}\";                                               \"Cal A\"\\n'\n",
    "        )\n",
    "\n",
    "\n",
    "src = \"/cr/data02/AugerPrime/XY//2023nov_calA/\"\n",
    "\n",
    "with open(\n",
    "    \"/cr/data01/filip/xy-calibration/config/calib_runlists/calA_runs_2023-11.list\", \"w\"\n",
    ") as runlist:\n",
    "    files = os.listdir(src)\n",
    "    print(f\"{len(files)} files in {src}\")\n",
    "    files.sort()\n",
    "    for cal in files:\n",
    "        if cal.endswith(\".ini\") or cal.endswith(\".csv\"):\n",
    "            continue\n",
    "\n",
    "        fields = cal.split(\"_\")\n",
    "        runlist.write(\n",
    "            f'{fields[2][2:]}{fields[1]};  he{int(fields[1][1:]) - 24}; 0; {fields[3][:10]}; \"\";     0.0;   0;  \"{fields[3][11:16]}\";                                               \"Cal A\"\\n'\n",
    "        )"
   ]
  },
  {
   "cell_type": "code",
   "execution_count": null,
   "metadata": {},
   "outputs": [],
   "source": []
  }
 ],
 "metadata": {
  "kernelspec": {
   "display_name": "base",
   "language": "python",
   "name": "python3"
  },
  "language_info": {
   "codemirror_mode": {
    "name": "ipython",
    "version": 3
   },
   "file_extension": ".py",
   "mimetype": "text/x-python",
   "name": "python",
   "nbconvert_exporter": "python",
   "pygments_lexer": "ipython3",
   "version": "3.10.12"
  }
 },
 "nbformat": 4,
 "nbformat_minor": 2
}
