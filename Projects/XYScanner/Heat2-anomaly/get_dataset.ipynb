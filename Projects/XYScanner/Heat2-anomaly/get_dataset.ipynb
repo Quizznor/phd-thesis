{
 "cells": [
  {
   "cell_type": "code",
   "execution_count": null,
   "metadata": {},
   "outputs": [],
   "source": [
    "import sys\n",
    "sys.path.append('/home/quizznor/projects/phd-thesis/bin')\n",
    "\n",
    "from utils.binaries import *\n",
    "from utils.plotting import *"
   ]
  },
  {
   "cell_type": "code",
   "execution_count": null,
   "metadata": {},
   "outputs": [],
   "source": [
    "col_names = [\n",
    "    \"runid\",\n",
    "    \"telescope\",\n",
    "    \"stepsize_cm\",\n",
    "    \"date\",\n",
    "    \"source\",\n",
    "    \"ledCurrent_mA\",\n",
    "    \"forDB\",\n",
    "    \"jobfile\",\n",
    "    \"comment\",\n",
    "]\n",
    "\n",
    "runlist_oct = pd.read_csv(\n",
    "        '/home/quizznor/projects/xy-calibration/config/calib_runlists/calib_runs_2023-10.list', sep=\";\", names=col_names, skipinitialspace=True, comment=\"#\"\n",
    "    )\n",
    "\n",
    "runlist_nov = pd.read_csv(\n",
    "        '/home/quizznor/projects/xy-calibration/config/calib_runlists/calib_runs_2023-11.list', sep=\";\", names=col_names, skipinitialspace=True, comment=\"#\"\n",
    "    )"
   ]
  },
  {
   "cell_type": "code",
   "execution_count": null,
   "metadata": {},
   "outputs": [],
   "source": [
    "for _id, row in runlist_nov.iterrows():\n",
    "    if row.comment == \"Cal A\":\n",
    "        runlist_nov.drop(_id, inplace=True)\n",
    "\n",
    "for _id, row in runlist_oct.iterrows():\n",
    "    if row.comment == \"Cal A\":\n",
    "        runlist_oct.drop(_id, inplace=True)\n",
    "\n"
   ]
  },
  {
   "cell_type": "code",
   "execution_count": null,
   "metadata": {},
   "outputs": [],
   "source": [
    "runlist_oct"
   ]
  },
  {
   "cell_type": "code",
   "execution_count": null,
   "metadata": {},
   "outputs": [],
   "source": [
    "import glob\n",
    "import os\n",
    "\n",
    "for month, runlist in zip(['oct', 'nov'], [runlist_oct, runlist_nov]):\n",
    "    for _id in runlist['runid']:\n",
    "        print(_id, end=' ')\n",
    "        files = glob.glob(f'/home/quizznor/xy-data/2023{month}_calA/*{_id}*')\n",
    "        if files == []: continue\n",
    "        os.system(f'mv {files[0]} /home/quizznor/xy-data/backup/{month}')"
   ]
  },
  {
   "cell_type": "markdown",
   "metadata": {},
   "source": [
    "# copy Cal A from runlist"
   ]
  },
  {
   "cell_type": "code",
   "execution_count": null,
   "metadata": {},
   "outputs": [],
   "source": [
    "col_names = [\n",
    "    \"runid\",\n",
    "    \"telescope\",\n",
    "    \"stepsize_cm\",\n",
    "    \"date\",\n",
    "    \"source\",\n",
    "    \"ledCurrent_mA\",\n",
    "    \"forDB\",\n",
    "    \"jobfile\",\n",
    "    \"comment\",\n",
    "]\n",
    "\n",
    "runlist_oct = pd.read_csv(\n",
    "        '/home/quizznor/projects/xy-calibration/config/calib_runlists/calib_runs_2023-10.list', sep=\";\", names=col_names, skipinitialspace=True, comment=\"#\"\n",
    "    )\n",
    "\n",
    "runlist_nov = pd.read_csv(\n",
    "        '/home/quizznor/projects/xy-calibration/config/calib_runlists/calib_runs_2023-11.list', sep=\";\", names=col_names, skipinitialspace=True, comment=\"#\"\n",
    "    )"
   ]
  },
  {
   "cell_type": "code",
   "execution_count": null,
   "metadata": {},
   "outputs": [],
   "source": [
    "for _id, row in runlist_nov.iterrows():\n",
    "    if row.comment != \"Cal A\":\n",
    "        runlist_nov.drop(_id, inplace=True)\n",
    "\n",
    "for _id, row in runlist_oct.iterrows():\n",
    "    if row.comment != \"Cal A\":\n",
    "        runlist_oct.drop(_id, inplace=True)"
   ]
  },
  {
   "cell_type": "code",
   "execution_count": null,
   "metadata": {},
   "outputs": [],
   "source": [
    "runlist_oct"
   ]
  },
  {
   "cell_type": "code",
   "execution_count": null,
   "metadata": {},
   "outputs": [],
   "source": [
    "runlist_nov"
   ]
  },
  {
   "cell_type": "code",
   "execution_count": null,
   "metadata": {},
   "outputs": [],
   "source": [
    "import glob\n",
    "\n",
    "for month, runlist in zip(['nov, oct'], [runlist_nov, runlist_oct]):\n",
    "    for _id in runlist_nov['runid']:\n",
    "        files = glob.glob(f'/home/quizznor/xy-data/2023{month}/*{_id}*')\n",
    "        if files == []: continue\n",
    "        os.move(f\"cp {files[0]} /home/quizznor/xy-data/2023{month}_calA/\")"
   ]
  },
  {
   "cell_type": "markdown",
   "metadata": {},
   "source": [
    "# form runlist"
   ]
  },
  {
   "cell_type": "code",
   "execution_count": null,
   "metadata": {},
   "outputs": [],
   "source": [
    "import os\n",
    "src = '/cr/data02/AugerPrime/XY/2023oct_calA/'\n",
    "\n",
    "with open('/cr/data01/filip/xy-calibration/config//calib_runlists/calA_runs_2023-10.list', 'w') as runlist:\n",
    "    files = os.listdir(src)\n",
    "    files.sort()\n",
    "    for cal in files:\n",
    "        if cal.endswith('.ini') or cal.endswith('.csv'): continue\n",
    "        \n",
    "\n",
    "        fields = cal.split('_')\n",
    "        runlist.write(f'{fields[2][2:]}{fields[1]};  he{int(fields[1][1:]) - 24}; 0; {fields[3][:10]}; \"\";     0.0;   0;  \"{fields[3][11:16]}\";                                               \"Cal A\"\\n')\n",
    "\n",
    "\n",
    "src = '/cr/data02/AugerPrime/XY//2023nov_calA/'\n",
    "\n",
    "with open('/cr/data01/filip/xy-calibration/config/calib_runlists/calA_runs_2023-11.list', 'w') as runlist:\n",
    "    files = os.listdir(src) \n",
    "    files.sort()\n",
    "    for cal in files:\n",
    "        if cal.endswith('.ini') or cal.endswith('.csv'): continue\n",
    "        \n",
    "\n",
    "        fields = cal.split('_')\n",
    "        runlist.write(f'{fields[2][2:]}{fields[1]};  he{int(fields[1][1:]) - 24}; 0; {fields[3][:10]}; \"\";     0.0;   0;  \"{fields[3][11:16]}\";                                               \"Cal A\"\\n')\n"
   ]
  },
  {
   "cell_type": "code",
   "execution_count": null,
   "metadata": {},
   "outputs": [],
   "source": []
  }
 ],
 "metadata": {
  "kernelspec": {
   "display_name": "base",
   "language": "python",
   "name": "python3"
  },
  "language_info": {
   "codemirror_mode": {
    "name": "ipython",
    "version": 3
   },
   "file_extension": ".py",
   "mimetype": "text/x-python",
   "name": "python",
   "nbconvert_exporter": "python",
   "pygments_lexer": "ipython3",
   "version": "3.10.12"
  }
 },
 "nbformat": 4,
 "nbformat_minor": 2
}
