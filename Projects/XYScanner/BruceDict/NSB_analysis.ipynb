{
 "cells": [
  {
   "cell_type": "code",
   "execution_count": 9,
   "metadata": {},
   "outputs": [],
   "source": [
    "from utils.binaries import *\n",
    "\n",
    "import pickle\n",
    "import pprint"
   ]
  },
  {
   "cell_type": "code",
   "execution_count": 10,
   "metadata": {},
   "outputs": [],
   "source": [
    "def load_python_dictionary_from_str(python_dict_file_str):\n",
    "\n",
    "    with open(python_dict_file_str, 'rb') as handle:\n",
    "        python_dict = pickle.load(handle)\n",
    "\n",
    "    return python_dict"
   ]
  },
  {
   "cell_type": "code",
   "execution_count": 11,
   "metadata": {},
   "outputs": [],
   "source": [
    "test = load_python_dictionary_from_str('photon-flux-dict_2023-10-04_2023-11-03.pickle')"
   ]
  },
  {
   "cell_type": "code",
   "execution_count": 18,
   "metadata": {},
   "outputs": [
    {
     "name": "stdout",
     "output_type": "stream",
     "text": [
      "array([[ 3361447.29248237,  3432609.71349614,  4958310.19364126, ...,\n",
      "        13995093.96889371,  6707591.36266617, 39809605.56987213],\n",
      "       [ 3517351.52211108,  3444395.49792017,  5390992.92280335, ...,\n",
      "        11916360.57375852,  9293789.57926562, 26818528.529601  ],\n",
      "       [ 3597204.90801847,  3450288.39013218,  5773001.09809961, ...,\n",
      "        12036122.99158524,  6428989.02878288, 37291391.19607569],\n",
      "       ...,\n",
      "       [ 3757862.31537976,  3519041.83998035,  4833327.49892644, ...,\n",
      "        11996006.59634106,  6686057.79653469, 54930980.24297542],\n",
      "       [ 3466207.32970849,  3597309.66533492,  5170358.25954889, ...,\n",
      "        16194794.20018858,  8338338.38077422, 29306340.66582335],\n",
      "       [ 3279249.00556025,  3476897.6263279 ,  5089930.46440035, ...,\n",
      "        10713764.30955268,  7440758.01904765, 40949178.93211557]])\n"
     ]
    }
   ],
   "source": [
    "pprint.PrettyPrinter().pprint("
   ]
  },
  {
   "cell_type": "code",
   "execution_count": 22,
   "metadata": {},
   "outputs": [
    {
     "name": "stdout",
     "output_type": "stream",
     "text": [
      "(440,)\n"
     ]
    }
   ],
   "source": [
    "flux = test['Heat']['TelID: 1']['photon-flux']\n",
    "\n",
    "print(flux[0].shape)"
   ]
  },
  {
   "cell_type": "code",
   "execution_count": null,
   "metadata": {},
   "outputs": [],
   "source": []
  }
 ],
 "metadata": {
  "kernelspec": {
   "display_name": ".venv",
   "language": "python",
   "name": "python3"
  },
  "language_info": {
   "codemirror_mode": {
    "name": "ipython",
    "version": 3
   },
   "file_extension": ".py",
   "mimetype": "text/x-python",
   "name": "python",
   "nbconvert_exporter": "python",
   "pygments_lexer": "ipython3",
   "version": "3.10.12"
  }
 },
 "nbformat": 4,
 "nbformat_minor": 2
}
