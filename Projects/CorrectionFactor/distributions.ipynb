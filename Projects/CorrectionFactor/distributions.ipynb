{
 "cells": [
  {
   "cell_type": "markdown",
   "metadata": {
    "vscode": {
     "languageId": "plaintext"
    }
   },
   "source": [
    "# see Danieles Mail from 28.01.25"
   ]
  },
  {
   "cell_type": "code",
   "execution_count": 1,
   "metadata": {},
   "outputs": [
    {
     "name": "stderr",
     "output_type": "stream",
     "text": [
      "\u001b[1m\u001b[32m17:34:58\u001b[0m (\u001b[1m\u001b[35m   +2.1s\u001b[0m) \u001b[1m\u001b[32m[INFO   ]\u001b[0m -- import \u001b[1m\u001b[31mlogging\u001b[0m\n",
      "\u001b[1m\u001b[32m17:34:58\u001b[0m (\u001b[1m\u001b[35m  +168ms\u001b[0m) \u001b[1m\u001b[32m[INFO   ]\u001b[0m -- import \u001b[1m\u001b[31mnumpy\u001b[0m as \u001b[1m\u001b[31mnp\u001b[0m\n",
      "\u001b[1m\u001b[32m17:34:58\u001b[0m (\u001b[1m\u001b[35m   +13ms\u001b[0m) \u001b[1m\u001b[32m[INFO   ]\u001b[0m -- import \u001b[1m\u001b[31muncertainties\u001b[0m\n",
      "\u001b[1m\u001b[32m17:34:58\u001b[0m (\u001b[1m\u001b[35m  +421ms\u001b[0m) \u001b[1m\u001b[32m[INFO   ]\u001b[0m -- import \u001b[1m\u001b[31mpandas\u001b[0m as \u001b[1m\u001b[31mpd\u001b[0m\n",
      "\u001b[1m\u001b[33m17:34:58\u001b[0m (\u001b[1m\u001b[35m    +2ms\u001b[0m) \u001b[1m\u001b[33m[WARNING]\u001b[0m -- pandas support to be dropped at some point!\n",
      "\u001b[1m\u001b[32m17:34:58\u001b[0m (\u001b[1m\u001b[35m    +2ms\u001b[0m) \u001b[1m\u001b[32m[INFO   ]\u001b[0m -- import \u001b[1m\u001b[31mbinaries.tools\u001b[0m as \u001b[1m\u001b[31mtools\u001b[0m\n",
      "\u001b[1m\u001b[32m17:34:59\u001b[0m (\u001b[1m\u001b[35m  +412ms\u001b[0m) \u001b[1m\u001b[32m[INFO   ]\u001b[0m -- import \u001b[1m\u001b[31mmatplotlib.pyplot\u001b[0m as \u001b[1m\u001b[31mplt\u001b[0m\n",
      "\u001b[1m\u001b[32m17:34:59\u001b[0m (\u001b[1m\u001b[35m  +589ms\u001b[0m) \u001b[1m\u001b[32m[INFO   ]\u001b[0m -- import \u001b[1m\u001b[31mseaborn\u001b[0m as \u001b[1m\u001b[31mso\u001b[0m\n",
      "\u001b[1m\u001b[32m17:34:59\u001b[0m (\u001b[1m\u001b[35m    +3ms\u001b[0m) \u001b[1m\u001b[32m[INFO   ]\u001b[0m -- set MONI_PATH = PosixPath('/cr/work/filip/monit_and_sd')\n",
      "\u001b[1m\u001b[32m17:34:59\u001b[0m (\u001b[1m\u001b[35m    +1ms\u001b[0m) \u001b[1m\u001b[32m[INFO   ]\u001b[0m -- set HIST_PATH = PosixPath('/cr/work/filip/monit_and_sd')\n",
      "\u001b[1m\u001b[32m17:34:59\u001b[0m (\u001b[1m\u001b[35m    +1ms\u001b[0m) \u001b[1m\u001b[32m[INFO   ]\u001b[0m -- set PLOT_PATH = PosixPath('/cr/data01/filip/plots')\n",
      "\u001b[1m\u001b[32m17:34:59\u001b[0m (\u001b[1m\u001b[35m    +0ms\u001b[0m) \u001b[1m\u001b[32m[INFO   ]\u001b[0m -- set DATA_PATH = PosixPath('/cr/data01/filip/Data')\n",
      "\u001b[1m\u001b[32m17:34:59\u001b[0m (\u001b[1m\u001b[35m    +1ms\u001b[0m) \u001b[1m\u001b[32m[INFO   ]\u001b[0m -- set SCAN_PATH = PosixPath('/cr/data01/filip/xy-calibration')\n",
      "\u001b[1m\u001b[32m17:34:59\u001b[0m (\u001b[1m\u001b[35m    +1ms\u001b[0m) \u001b[1m\u001b[32m[INFO   ]\u001b[0m -- set OFLN_PATH = PosixPath('/cr/data01/filip/offline/install')\n",
      "\u001b[1m\u001b[32m17:34:59\u001b[0m (\u001b[1m\u001b[35m    +2ms\u001b[0m) \u001b[1m\u001b[32m[INFO   ]\u001b[0m -- import \u001b[1m\u001b[31mplotting.tools\u001b[0m as \u001b[1m\u001b[31mplot\u001b[0m\n",
      "\u001b[1m\u001b[34m17:34:59\u001b[0m (\u001b[1m\u001b[35m   +15ms\u001b[0m) \u001b[1m\u001b[34m[DEBUG  ]\u001b[0m -- font size set to 9.5\n",
      "\u001b[1m\u001b[34m17:34:59\u001b[0m (\u001b[1m\u001b[35m    +1ms\u001b[0m) \u001b[1m\u001b[34m[DEBUG  ]\u001b[0m -- label size set to 13.0\n",
      "\u001b[1m\u001b[34m17:34:59\u001b[0m (\u001b[1m\u001b[35m    +1ms\u001b[0m) \u001b[1m\u001b[34m[DEBUG  ]\u001b[0m -- figure size set to [6.6, 3.3]\n",
      "\u001b[1m\u001b[34m17:34:59\u001b[0m (\u001b[1m\u001b[35m    +1ms\u001b[0m) \u001b[1m\u001b[34m[DEBUG  ]\u001b[0m -- markersize set to 2.0\n",
      "\u001b[1m\u001b[34m17:34:59\u001b[0m (\u001b[1m\u001b[35m    +1ms\u001b[0m) \u001b[1m\u001b[34m[DEBUG  ]\u001b[0m -- usetex set to False\n"
     ]
    }
   ],
   "source": [
    "from utils.binaries import *\n",
    "from utils.plotting import *\n",
    "from utils.auger.sd import randoms"
   ]
  },
  {
   "cell_type": "code",
   "execution_count": 3,
   "metadata": {},
   "outputs": [
    {
     "name": "stdout",
     "output_type": "stream",
     "text": [
      "  1/800 [                    ] || 00:00:00>00:00:00,     87412.59 it/s\r"
     ]
    },
    {
     "name": "stdout",
     "output_type": "stream",
     "text": [
      "800/800 [********************] || 00:11:38>00:00:00,         1.15 it/s\n"
     ]
    }
   ],
   "source": [
    "RandomFiles = randoms.UubRandom(station = \"Svenja\", detectors = \"ssd\")\n",
    "\n",
    "total_time = 0\n",
    "px = np.zeros(10000)\n",
    "pulse_heights = []\n",
    "\n",
    "for File in tools.ProgressBar(RandomFiles):\n",
    "    for trace in File:\n",
    "\n",
    "        total_time += 8.33e-9 * len(trace['trace'])\n",
    "        _max = np.max(trace['trace'])\n",
    "        px[_max] += 1\n",
    "\n",
    "        # if _max >= 70:\n",
    "        #     pulse_heights.append(_max)\n",
    "\n",
    "tools.pickle_save('pulse_height_distribution.pkl', np.dstack([np.arange(len(px)) / trace['mip_peak'], px / total_time]))\n",
    "# print(f\"{np.mean(pulse_heights) = :.4f}\")\n",
    "# print(f\"{np.std(pulse_heights) = :.4f}\")"
   ]
  },
  {
   "cell_type": "code",
   "execution_count": null,
   "metadata": {},
   "outputs": [],
   "source": [
    "px = tools.pickle_load('pulse_height_distribution.pkl')"
   ]
  },
  {
   "cell_type": "code",
   "execution_count": null,
   "metadata": {},
   "outputs": [],
   "source": [
    "fig, (ax1, ax2) = plt.subplots(2, 1, sharex=True)\n",
    "\n",
    "px[:70] = 0\n",
    "cumsum = np.cumsum(px[::-1])[::-1]\n",
    "\n",
    "ax1.plot(range(10000) / trace['mip_peak'], px/cumsum[0], label='pdf')\n",
    "ax1.set_yscale('log')\n",
    "ax1.set_xscale('log')\n",
    "ax1.legend()\n",
    "\n",
    "ax2.plot(range(10000) / trace['mip_peak'], cumsum / (cumsum[0] * 2048 * 8.33e-9), label='int. rate')\n",
    "ax2.set_yscale('log')\n",
    "ax2.legend()"
   ]
  },
  {
   "cell_type": "code",
   "execution_count": null,
   "metadata": {},
   "outputs": [],
   "source": [
    "# fitting rate-threshold relationship\n",
    "\n",
    "from scipy.optimize import curve_fit\n",
    "\n",
    "def exponential(x, A, mu):\n",
    "    return A * np.exp(x * mu)\n",
    "\n",
    "def exponential_corrected(x, A, mu, c, d, e, f, g):\n",
    "    return A * np.exp(x * mu) + np.poly1d([c, d, e, f, g])(x)\n",
    "\n",
    "x, y = np.loadtxt('mean_rates_t3_mip.txt', unpack=True)\n",
    "ERROR = np.sqrt(y / 60)\n",
    "NDOF = len(x) - 7\n",
    "bounds_low = [0, -np.inf] + [-np.inf] * 5\n",
    "bounds_high = [np.inf, 0] + [np.inf] * 5\n",
    "\n",
    "fig, (ax1, ax2) = plt.subplots(2, 1, sharex=True)\n",
    "ax1.plot(x, y, marker='none')\n",
    "popt, pcov = curve_fit(exponential, x, y,\n",
    "                       sigma=ERROR,\n",
    "                       bounds=(bounds_low[:2], bounds_high[:2]))\n",
    "ax1.plot(x, exponential(x, *popt), marker='none')\n",
    "\n",
    "popt, pcov = curve_fit(exponential_corrected, x, y,\n",
    "                       sigma=ERROR,\n",
    "                       bounds=(bounds_low, bounds_high))\n",
    "\n",
    "\n",
    "ax1.plot(x, exponential_corrected(x, *popt), marker='none')\n",
    "ax1.set_ylim(0.01, 240)\n",
    "ax1.set_yscale('log')\n",
    "\n",
    "ax2.plot(x, (y - exponential_corrected(x, *popt)) / ERROR)\n",
    "ax2.legend(title=fr\"$\\chi_\\nu^2$ = {np.sum((y - exponential_corrected(x, *popt))**2 / ERROR**2 / NDOF):.2f}\")\n",
    "# ax2.set_yscale('log')"
   ]
  },
  {
   "cell_type": "code",
   "execution_count": null,
   "metadata": {},
   "outputs": [],
   "source": [
    "X_TARGET = 5\n",
    "Y_TARGET = 10\n",
    "\n",
    "print(X_TARGET, y[np.argmin(np.abs(x-X_TARGET))])\n",
    "print(x[np.argmin(np.abs(y-Y_TARGET))], Y_TARGET)"
   ]
  },
  {
   "cell_type": "code",
   "execution_count": null,
   "metadata": {},
   "outputs": [],
   "source": [
    "def pdf(x, a, mu):\n",
    "    return a * np.exp(x*mu)\n",
    "\n",
    "popt_pdf, pcov = curve_fit(pdf, np.arange(70,1000)/48.94, px[70:1000]/cumsum[0],\n",
    "                       bounds=([0, -np.inf],[np.inf, 0]))\n",
    "\n",
    "fig, (ax1, ax2) = plt.subplots(2, 1, sharex=True)\n",
    "\n",
    "X = np.arange(70, 1000) / trace['mip_peak']\n",
    "ax1.plot(X, pdf(X, *popt_pdf))\n",
    "ax1.plot(range(1000) / trace['mip_peak'], px[:1000]/cumsum[0], marker='none')\n",
    "\n",
    "ax2.plot(range(70,1000) / trace['mip_peak'], px[70:1000]/cumsum[0] - pdf(X, *popt_pdf), marker='none')"
   ]
  },
  {
   "cell_type": "code",
   "execution_count": null,
   "metadata": {},
   "outputs": [],
   "source": [
    "x  = range(10000) / trace['mip_peak']\n",
    "px = popt_pdf #px/cumsum[0]\n",
    "fx = popt #lambda x: exponential_corrected(x, *popt)\n",
    "\n",
    "tools.pickle_save('x_px_fx.pkl', [x, px, fx])"
   ]
  },
  {
   "cell_type": "code",
   "execution_count": null,
   "metadata": {},
   "outputs": [],
   "source": [
    "trace['mip_peak']"
   ]
  },
  {
   "cell_type": "code",
   "execution_count": null,
   "metadata": {},
   "outputs": [],
   "source": [
    "plt.plot(range(len(px)), px / (cumsum[0] * 2048 * 8.33e-9))\n",
    "plt.yscale('log')\n",
    "plt.xlim(0, 1000)"
   ]
  },
  {
   "cell_type": "code",
   "execution_count": null,
   "metadata": {},
   "outputs": [],
   "source": [
    "trace['mip_peak']"
   ]
  },
  {
   "cell_type": "code",
   "execution_count": null,
   "metadata": {},
   "outputs": [],
   "source": []
  }
 ],
 "metadata": {
  "kernelspec": {
   "display_name": ".phd-venv",
   "language": "python",
   "name": "python3"
  },
  "language_info": {
   "codemirror_mode": {
    "name": "ipython",
    "version": 3
   },
   "file_extension": ".py",
   "mimetype": "text/x-python",
   "name": "python",
   "nbconvert_exporter": "python",
   "pygments_lexer": "ipython3",
   "version": "3.11.2"
  }
 },
 "nbformat": 4,
 "nbformat_minor": 2
}
