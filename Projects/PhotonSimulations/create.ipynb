{
 "cells": [
  {
   "cell_type": "code",
   "execution_count": 1,
   "metadata": {},
   "outputs": [
    {
     "name": "stderr",
     "output_type": "stream",
     "text": [
      "\u001b[1m\u001b[32m20:45:11\u001b[0m (\u001b[1m\u001b[35m   +2.4s\u001b[0m) \u001b[1m\u001b[32m[INFO   ]\u001b[0m -- import \u001b[1m\u001b[31mlogging\u001b[0m\n",
      "\u001b[1m\u001b[32m20:45:11\u001b[0m (\u001b[1m\u001b[35m  +171ms\u001b[0m) \u001b[1m\u001b[32m[INFO   ]\u001b[0m -- import \u001b[1m\u001b[31mnumpy\u001b[0m as \u001b[1m\u001b[31mnp\u001b[0m\n",
      "\u001b[1m\u001b[32m20:45:11\u001b[0m (\u001b[1m\u001b[35m   +10ms\u001b[0m) \u001b[1m\u001b[32m[INFO   ]\u001b[0m -- import \u001b[1m\u001b[31muncertainties\u001b[0m\n",
      "\u001b[1m\u001b[32m20:45:11\u001b[0m (\u001b[1m\u001b[35m  +363ms\u001b[0m) \u001b[1m\u001b[32m[INFO   ]\u001b[0m -- import \u001b[1m\u001b[31mpandas\u001b[0m as \u001b[1m\u001b[31mpd\u001b[0m\n",
      "\u001b[1m\u001b[33m20:45:11\u001b[0m (\u001b[1m\u001b[35m    +2ms\u001b[0m) \u001b[1m\u001b[33m[WARNING]\u001b[0m -- pandas support to be dropped at some point!\n",
      "\u001b[1m\u001b[32m20:45:11\u001b[0m (\u001b[1m\u001b[35m    +2ms\u001b[0m) \u001b[1m\u001b[32m[INFO   ]\u001b[0m -- import \u001b[1m\u001b[31mbinaries.tools\u001b[0m as \u001b[1m\u001b[31mtools\u001b[0m\n",
      "\u001b[1m\u001b[32m20:45:11\u001b[0m (\u001b[1m\u001b[35m    +2ms\u001b[0m) \u001b[1m\u001b[32m[INFO   ]\u001b[0m -- set MONI_PATH = PosixPath('/cr/work/filip/monit_and_sd')\n",
      "\u001b[1m\u001b[32m20:45:11\u001b[0m (\u001b[1m\u001b[35m    +1ms\u001b[0m) \u001b[1m\u001b[32m[INFO   ]\u001b[0m -- set HIST_PATH = PosixPath('/cr/work/filip/monit_and_sd')\n",
      "\u001b[1m\u001b[32m20:45:11\u001b[0m (\u001b[1m\u001b[35m    +1ms\u001b[0m) \u001b[1m\u001b[32m[INFO   ]\u001b[0m -- set PLOT_PATH = PosixPath('/cr/data01/filip/plots')\n",
      "\u001b[1m\u001b[32m20:45:11\u001b[0m (\u001b[1m\u001b[35m    +1ms\u001b[0m) \u001b[1m\u001b[32m[INFO   ]\u001b[0m -- set DATA_PATH = PosixPath('/cr/data01/filip/Data')\n",
      "\u001b[1m\u001b[32m20:45:11\u001b[0m (\u001b[1m\u001b[35m    +0ms\u001b[0m) \u001b[1m\u001b[32m[INFO   ]\u001b[0m -- set SCAN_PATH = PosixPath('/cr/data01/filip/xy-calibration')\n",
      "\u001b[1m\u001b[32m20:45:11\u001b[0m (\u001b[1m\u001b[35m    +1ms\u001b[0m) \u001b[1m\u001b[32m[INFO   ]\u001b[0m -- set OFLN_PATH = PosixPath('/cr/data01/filip/offline/install')\n"
     ]
    }
   ],
   "source": [
    "from utils.auger.sd import sim"
   ]
  },
  {
   "cell_type": "code",
   "execution_count": null,
   "metadata": {},
   "outputs": [],
   "source": [
    "test_sim = sim.Simulation('icrc2025-test5',\n",
    "                          offline='icrc2025-test5-forced-station-triggers',\n",
    "                          src='/cr/users/filip/Projects/PhotonSimulations/icrc2025-test5',\n",
    "                          primary='proton',\n",
    "                          energy='18_18.5',\n",
    "                          model='epos_lhc',\n",
    "                          rethrows=2)"
   ]
  },
  {
   "cell_type": "code",
   "execution_count": 2,
   "metadata": {},
   "outputs": [
    {
     "name": "stderr",
     "output_type": "stream",
     "text": [
      "\u001b[1m\u001b[32m20:45:13\u001b[0m (\u001b[1m\u001b[35m   +1.9s\u001b[0m) \u001b[1m\u001b[32m[INFO   ]\u001b[0m -- dummy initialization!\n"
     ]
    },
    {
     "name": "stdout",
     "output_type": "stream",
     "text": [
      "\n",
      "*****************************\n",
      "* OFFLINE SIMULATION STATUS *\n",
      "*****************************\n",
      "** epos_lhc (root / other)**\n",
      "        15_15.5    15.5_16    16_16.5    16.5_17    17_17.5    17.5_18    18_18.5    18.5_19    19_19.5    19.5_20    20_20.2\n",
      "------  ---------  ---------  ---------  ---------  ---------  ---------  ---------  ---------  ---------  ---------  ---------\n",
      "photon                        5000 / 0   4998 / 0   4988 / 0   4990 / 0   4999 / 0\n",
      "proton                                                                    1715 / 0\n"
     ]
    }
   ],
   "source": [
    "test_sim = sim.Simulation('icrc2025-test5')\n",
    "test_sim.status()"
   ]
  },
  {
   "cell_type": "code",
   "execution_count": null,
   "metadata": {},
   "outputs": [],
   "source": []
  }
 ],
 "metadata": {
  "kernelspec": {
   "display_name": ".venv",
   "language": "python",
   "name": "python3"
  },
  "language_info": {
   "codemirror_mode": {
    "name": "ipython",
    "version": 3
   },
   "file_extension": ".py",
   "mimetype": "text/x-python",
   "name": "python",
   "nbconvert_exporter": "python",
   "pygments_lexer": "ipython3",
   "version": "3.10.12"
  }
 },
 "nbformat": 4,
 "nbformat_minor": 2
}
