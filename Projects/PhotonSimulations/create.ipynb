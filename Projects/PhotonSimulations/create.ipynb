{
 "cells": [
  {
   "cell_type": "code",
   "execution_count": 1,
   "metadata": {},
   "outputs": [
    {
     "name": "stderr",
     "output_type": "stream",
     "text": [
      "\u001b[1m\u001b[32m20:54:10\u001b[0m (\u001b[1m\u001b[35m   +1.1s\u001b[0m) \u001b[1m\u001b[32m[INFO   ]\u001b[0m -- import \u001b[1m\u001b[31mlogging\u001b[0m\n",
      "\u001b[1m\u001b[32m20:54:10\u001b[0m (\u001b[1m\u001b[35m  +183ms\u001b[0m) \u001b[1m\u001b[32m[INFO   ]\u001b[0m -- import \u001b[1m\u001b[31mnumpy\u001b[0m as \u001b[1m\u001b[31mnp\u001b[0m\n",
      "\u001b[1m\u001b[32m20:54:10\u001b[0m (\u001b[1m\u001b[35m   +12ms\u001b[0m) \u001b[1m\u001b[32m[INFO   ]\u001b[0m -- import \u001b[1m\u001b[31muncertainties\u001b[0m\n",
      "\u001b[1m\u001b[32m20:54:10\u001b[0m (\u001b[1m\u001b[35m  +405ms\u001b[0m) \u001b[1m\u001b[32m[INFO   ]\u001b[0m -- import \u001b[1m\u001b[31mpandas\u001b[0m as \u001b[1m\u001b[31mpd\u001b[0m\n",
      "\u001b[1m\u001b[33m20:54:10\u001b[0m (\u001b[1m\u001b[35m    +1ms\u001b[0m) \u001b[1m\u001b[33m[WARNING]\u001b[0m -- pandas support to be dropped at some point!\n",
      "\u001b[1m\u001b[32m20:54:10\u001b[0m (\u001b[1m\u001b[35m    +2ms\u001b[0m) \u001b[1m\u001b[32m[INFO   ]\u001b[0m -- import \u001b[1m\u001b[31mbinaries.tools\u001b[0m as \u001b[1m\u001b[31mtools\u001b[0m\n",
      "\u001b[1m\u001b[32m20:54:10\u001b[0m (\u001b[1m\u001b[35m    +2ms\u001b[0m) \u001b[1m\u001b[32m[INFO   ]\u001b[0m -- set MONI_PATH = PosixPath('/cr/work/filip/monit_and_sd')\n",
      "\u001b[1m\u001b[32m20:54:10\u001b[0m (\u001b[1m\u001b[35m    +1ms\u001b[0m) \u001b[1m\u001b[32m[INFO   ]\u001b[0m -- set HIST_PATH = PosixPath('/cr/work/filip/monit_and_sd')\n",
      "\u001b[1m\u001b[32m20:54:10\u001b[0m (\u001b[1m\u001b[35m    +1ms\u001b[0m) \u001b[1m\u001b[32m[INFO   ]\u001b[0m -- set PLOT_PATH = PosixPath('/cr/data01/filip/plots')\n",
      "\u001b[1m\u001b[32m20:54:10\u001b[0m (\u001b[1m\u001b[35m    +0ms\u001b[0m) \u001b[1m\u001b[32m[INFO   ]\u001b[0m -- set DATA_PATH = PosixPath('/cr/data01/filip/Data')\n",
      "\u001b[1m\u001b[32m20:54:10\u001b[0m (\u001b[1m\u001b[35m    +1ms\u001b[0m) \u001b[1m\u001b[32m[INFO   ]\u001b[0m -- set SCAN_PATH = PosixPath('/cr/data01/filip/xy-calibration')\n",
      "\u001b[1m\u001b[32m20:54:10\u001b[0m (\u001b[1m\u001b[35m    +1ms\u001b[0m) \u001b[1m\u001b[32m[INFO   ]\u001b[0m -- set OFLN_PATH = PosixPath('/cr/data01/filip/offline/install')\n"
     ]
    }
   ],
   "source": [
    "from utils.auger.sd import sim"
   ]
  },
  {
   "cell_type": "code",
   "execution_count": 3,
   "metadata": {},
   "outputs": [
    {
     "name": "stderr",
     "output_type": "stream",
     "text": [
      "\u001b[1m\u001b[32m20:54:30\u001b[0m (\u001b[1m\u001b[35m  +12.7s\u001b[0m) \u001b[1m\u001b[32m[INFO   ]\u001b[0m -- filesystem established successfully\n",
      "\u001b[1m\u001b[32m20:54:30\u001b[0m (\u001b[1m\u001b[35m   +12ms\u001b[0m) \u001b[1m\u001b[32m[INFO   ]\u001b[0m -- Corsika dir found, 1250 files available\n",
      "\u001b[1m\u001b[32m20:54:30\u001b[0m (\u001b[1m\u001b[35m    +4ms\u001b[0m) \u001b[1m\u001b[32m[INFO   ]\u001b[0m -- scripts have been written\n",
      "\u001b[1m\u001b[32m20:54:32\u001b[0m (\u001b[1m\u001b[35m   +1.9s\u001b[0m) \u001b[1m\u001b[32m[INFO   ]\u001b[0m -- source compiled, we're done!\n"
     ]
    },
    {
     "name": "stdout",
     "output_type": "stream",
     "text": [
      "\n",
      "*****************************\n",
      "* OFFLINE SIMULATION STATUS *\n",
      "*****************************\n",
      "python: rethrows = 4\n",
      "python: n_particles = 30000\n",
      "python: name = /cr/work/filip/Simulations/icrc2025-test5\n",
      "python: src = /lsdf/auger/corsika/prague/EPOS_LHC/photon/16_16.5\n",
      "python: out = dat/epos_lhc/photon/16_16.5\n",
      "\n",
      "condor: executable = ./run.py\n",
      "condor: arguments = $(Process)\n",
      "condor: max_idle = 150\n",
      "condor: request_memory = 1G\n",
      "condor: max_materialize = 150\n",
      "condor: should_transfer_files = YES\n",
      "condor: JobBatchName = icrc2025-test5_epos_lhc_photon_16_16.5\n",
      "condor: error = /cr/work/filip/Simulations/icrc2025-test5/log/epos_lhc/photon/16_16.5/icrc2025-test5-$(Process).err\n",
      "condor: output = /cr/work/filip/Simulations/icrc2025-test5/log/epos_lhc/photon/16_16.5/icrc2025-test5-$(Process).out\n",
      "condor: log = /cr/work/filip/Simulations/icrc2025-test5/log/epos_lhc/photon/16_16.5/icrc2025-test5-$(Process).log\n",
      "\n",
      "** epos_lhc (root / other)**\n",
      "        15_15.5    15.5_16    16_16.5    16.5_17    17_17.5    17.5_18    18_18.5    18.5_19    19_19.5    19.5_20    20_20.2\n",
      "------  ---------  ---------  ---------  ---------  ---------  ---------  ---------  ---------  ---------  ---------  ---------\n",
      "photon                        0 / 0      4998 / 0\n"
     ]
    }
   ],
   "source": [
    "test_sim = sim.Simulation('icrc2025-test5',\n",
    "                          offline='icrc2025-test5-forced-station-triggers',\n",
    "                          src='/cr/users/filip/Projects/PhotonSimulations/icrc2025-test5',\n",
    "                          primary='photon',\n",
    "                          energy='16_16.5',\n",
    "                          model='epos_lhc',\n",
    "                          rethrows=4)"
   ]
  },
  {
   "cell_type": "code",
   "execution_count": 4,
   "metadata": {},
   "outputs": [
    {
     "name": "stdout",
     "output_type": "stream",
     "text": [
      "\n",
      "*****************************\n",
      "* OFFLINE SIMULATION STATUS *\n",
      "*****************************\n",
      "** epos_lhc (root / other)**\n",
      "        15_15.5    15.5_16    16_16.5    16.5_17    17_17.5    17.5_18    18_18.5    18.5_19    19_19.5    19.5_20    20_20.2\n",
      "------  ---------  ---------  ---------  ---------  ---------  ---------  ---------  ---------  ---------  ---------  ---------\n",
      "photon                        90 / 0     4998 / 0\n"
     ]
    }
   ],
   "source": [
    "test_sim.status()"
   ]
  },
  {
   "cell_type": "code",
   "execution_count": null,
   "metadata": {},
   "outputs": [],
   "source": [
    "test_sim.run(0)"
   ]
  },
  {
   "cell_type": "code",
   "execution_count": null,
   "metadata": {},
   "outputs": [],
   "source": []
  }
 ],
 "metadata": {
  "kernelspec": {
   "display_name": ".venv",
   "language": "python",
   "name": "python3"
  },
  "language_info": {
   "codemirror_mode": {
    "name": "ipython",
    "version": 3
   },
   "file_extension": ".py",
   "mimetype": "text/x-python",
   "name": "python",
   "nbconvert_exporter": "python",
   "pygments_lexer": "ipython3",
   "version": "3.10.12"
  }
 },
 "nbformat": 4,
 "nbformat_minor": 2
}
