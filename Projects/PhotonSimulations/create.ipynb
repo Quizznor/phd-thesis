{
 "cells": [
  {
   "cell_type": "code",
   "execution_count": 2,
   "metadata": {},
   "outputs": [
    {
     "name": "stderr",
     "output_type": "stream",
     "text": [
      "\u001b[1m\u001b[32m20:05:39\u001b[0m (\u001b[1m\u001b[35m+1131.0s\u001b[0m) \u001b[1m\u001b[32m[INFO   ]\u001b[0m -- import \u001b[1m\u001b[31mlogging\u001b[0m\n",
      "\u001b[1m\u001b[32m20:05:39\u001b[0m (\u001b[1m\u001b[35m  +231ms\u001b[0m) \u001b[1m\u001b[32m[INFO   ]\u001b[0m -- import \u001b[1m\u001b[31mnumpy\u001b[0m as \u001b[1m\u001b[31mnp\u001b[0m\n",
      "\u001b[1m\u001b[32m20:05:39\u001b[0m (\u001b[1m\u001b[35m   +10ms\u001b[0m) \u001b[1m\u001b[32m[INFO   ]\u001b[0m -- import \u001b[1m\u001b[31muncertainties\u001b[0m\n",
      "\u001b[1m\u001b[32m20:05:40\u001b[0m (\u001b[1m\u001b[35m  +408ms\u001b[0m) \u001b[1m\u001b[32m[INFO   ]\u001b[0m -- import \u001b[1m\u001b[31mpandas\u001b[0m as \u001b[1m\u001b[31mpd\u001b[0m\n",
      "\u001b[1m\u001b[33m20:05:40\u001b[0m (\u001b[1m\u001b[35m    +1ms\u001b[0m) \u001b[1m\u001b[33m[WARNING]\u001b[0m -- pandas support to be dropped at some point!\n",
      "\u001b[1m\u001b[32m20:05:40\u001b[0m (\u001b[1m\u001b[35m    +2ms\u001b[0m) \u001b[1m\u001b[32m[INFO   ]\u001b[0m -- import \u001b[1m\u001b[31mbinaries.tools\u001b[0m as \u001b[1m\u001b[31mtools\u001b[0m\n",
      "\u001b[1m\u001b[32m20:05:40\u001b[0m (\u001b[1m\u001b[35m    +2ms\u001b[0m) \u001b[1m\u001b[32m[INFO   ]\u001b[0m -- set MONI_PATH = PosixPath('/cr/work/filip/monit_and_sd')\n",
      "\u001b[1m\u001b[32m20:05:40\u001b[0m (\u001b[1m\u001b[35m    +1ms\u001b[0m) \u001b[1m\u001b[32m[INFO   ]\u001b[0m -- set HIST_PATH = PosixPath('/cr/work/filip/monit_and_sd')\n",
      "\u001b[1m\u001b[32m20:05:40\u001b[0m (\u001b[1m\u001b[35m    +1ms\u001b[0m) \u001b[1m\u001b[32m[INFO   ]\u001b[0m -- set PLOT_PATH = PosixPath('/cr/data01/filip/plots')\n",
      "\u001b[1m\u001b[32m20:05:40\u001b[0m (\u001b[1m\u001b[35m    +0ms\u001b[0m) \u001b[1m\u001b[32m[INFO   ]\u001b[0m -- set DATA_PATH = PosixPath('/cr/data01/filip/Data')\n",
      "\u001b[1m\u001b[32m20:05:40\u001b[0m (\u001b[1m\u001b[35m    +1ms\u001b[0m) \u001b[1m\u001b[32m[INFO   ]\u001b[0m -- set SCAN_PATH = PosixPath('/cr/data01/filip/xy-calibration')\n",
      "\u001b[1m\u001b[32m20:05:40\u001b[0m (\u001b[1m\u001b[35m    +1ms\u001b[0m) \u001b[1m\u001b[32m[INFO   ]\u001b[0m -- set OFLN_PATH = PosixPath('/cr/data01/filip/offline/install')\n"
     ]
    }
   ],
   "source": [
    "from utils.auger.sd import sim"
   ]
  },
  {
   "cell_type": "code",
   "execution_count": null,
   "metadata": {},
   "outputs": [],
   "source": [
    "sim.Simulation('icrc2025-test5-forced-station-triggers').status()"
   ]
  },
  {
   "cell_type": "code",
   "execution_count": null,
   "metadata": {},
   "outputs": [],
   "source": [
    "test_sim = sim.Simulation('icrc2025-test5-SdMdInfillSimRec',\n",
    "                          offline='icrc2025-test5',\n",
    "                          src='/cr/users/filip/Projects/PhotonSimulations/icrc2025-test5-SdMdInfillSimRec',\n",
    "                          request_memory = \"2G\",\n",
    "                          primary='proton',\n",
    "                          energy='18_18.5',\n",
    "                          model='epos_lhc',\n",
    "                          rethrows=1)"
   ]
  },
  {
   "cell_type": "code",
   "execution_count": 5,
   "metadata": {},
   "outputs": [
    {
     "name": "stderr",
     "output_type": "stream",
     "text": [
      "\u001b[1m\u001b[32m20:06:04\u001b[0m (\u001b[1m\u001b[35m  +23.7s\u001b[0m) \u001b[1m\u001b[32m[INFO   ]\u001b[0m -- dummy initialization!\n"
     ]
    },
    {
     "name": "stdout",
     "output_type": "stream",
     "text": [
      "\n",
      "*****************************\n",
      "* OFFLINE SIMULATION STATUS *\n",
      "*****************************\n",
      "** epos_lhc (root / other) **\n",
      "        15_15.5    15.5_16    16_16.5    16.5_17    17_17.5    17.5_18    18_18.5    18.5_19    19_19.5    19.5_20    20_20.2\n",
      "------  ---------  ---------  ---------  ---------  ---------  ---------  ---------  ---------  ---------  ---------  ---------\n",
      "proton                        11 / 11    976 / 0    2613 / 0   1751 / 0   332 / 0\n"
     ]
    }
   ],
   "source": [
    "sim.Simulation('icrc2025-test5-SdMdInfillSimRec').status()"
   ]
  },
  {
   "cell_type": "code",
   "execution_count": 3,
   "metadata": {},
   "outputs": [],
   "source": [
    "test = sim.SimData('icrc2025-test5-SdMdInfillSimRec', 'epos_lhc', 'proton')"
   ]
  },
  {
   "cell_type": "code",
   "execution_count": 4,
   "metadata": {},
   "outputs": [
    {
     "name": "stdout",
     "output_type": "stream",
     "text": [
      "([4028, 4049, 4048], [True, True, True])\n",
      "([4053, 4054, 4213], [True, True, True])\n",
      "([4019, 4007, 4002], [True, True, True])\n",
      "([4054, 4213, 4053], [True, True, True])\n",
      "([4049, 4048, 4028], [True, True, True])\n",
      "([4049, 4028, 4048], [True, True, True])\n",
      "([4036, 4060, 4059], [True, True, True])\n",
      "([4009, 4003, 4010], [True, True, True])\n",
      "([4054, 4053, 4213], [True, True, True])\n",
      "([4049, 4028, 4048], [True, True, True])\n",
      "([4036, 4019, 4018], [True, True, True])\n"
     ]
    }
   ],
   "source": [
    "dummy_trigger = lambda x, y: True\n",
    "\n",
    "for shower in test:\n",
    "    print(shower.trigger(dummy_trigger))"
   ]
  },
  {
   "cell_type": "code",
   "execution_count": null,
   "metadata": {},
   "outputs": [],
   "source": [
    "for station in shower:\n",
    "    print(station)"
   ]
  },
  {
   "cell_type": "code",
   "execution_count": null,
   "metadata": {},
   "outputs": [],
   "source": [
    "for _ in array:\n",
    "    print(_)"
   ]
  },
  {
   "cell_type": "code",
   "execution_count": null,
   "metadata": {},
   "outputs": [],
   "source": [
    "print(len(test))"
   ]
  },
  {
   "cell_type": "code",
   "execution_count": null,
   "metadata": {},
   "outputs": [],
   "source": []
  }
 ],
 "metadata": {
  "kernelspec": {
   "display_name": ".venv",
   "language": "python",
   "name": "python3"
  },
  "language_info": {
   "codemirror_mode": {
    "name": "ipython",
    "version": 3
   },
   "file_extension": ".py",
   "mimetype": "text/x-python",
   "name": "python",
   "nbconvert_exporter": "python",
   "pygments_lexer": "ipython3",
   "version": "3.10.12"
  }
 },
 "nbformat": 4,
 "nbformat_minor": 2
}
