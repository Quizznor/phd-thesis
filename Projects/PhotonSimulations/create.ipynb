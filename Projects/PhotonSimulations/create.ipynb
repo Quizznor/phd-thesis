{
 "cells": [
  {
   "cell_type": "code",
   "execution_count": 1,
   "metadata": {},
   "outputs": [
    {
     "name": "stderr",
     "output_type": "stream",
     "text": [
      "\u001b[1m\u001b[32m18:30:27\u001b[0m (\u001b[1m\u001b[35m   +2.1s\u001b[0m) \u001b[1m\u001b[32m[INFO   ]\u001b[0m -- import \u001b[1m\u001b[31mlogging\u001b[0m\n",
      "\u001b[1m\u001b[32m18:30:27\u001b[0m (\u001b[1m\u001b[35m  +137ms\u001b[0m) \u001b[1m\u001b[32m[INFO   ]\u001b[0m -- import \u001b[1m\u001b[31mnumpy\u001b[0m as \u001b[1m\u001b[31mnp\u001b[0m\n",
      "\u001b[1m\u001b[32m18:30:27\u001b[0m (\u001b[1m\u001b[35m   +14ms\u001b[0m) \u001b[1m\u001b[32m[INFO   ]\u001b[0m -- import \u001b[1m\u001b[31muncertainties\u001b[0m\n",
      "\u001b[1m\u001b[32m18:30:28\u001b[0m (\u001b[1m\u001b[35m  +395ms\u001b[0m) \u001b[1m\u001b[32m[INFO   ]\u001b[0m -- import \u001b[1m\u001b[31mpandas\u001b[0m as \u001b[1m\u001b[31mpd\u001b[0m\n",
      "\u001b[1m\u001b[33m18:30:28\u001b[0m (\u001b[1m\u001b[35m    +1ms\u001b[0m) \u001b[1m\u001b[33m[WARNING]\u001b[0m -- pandas support to be dropped at some point!\n",
      "\u001b[1m\u001b[32m18:30:28\u001b[0m (\u001b[1m\u001b[35m    +2ms\u001b[0m) \u001b[1m\u001b[32m[INFO   ]\u001b[0m -- import \u001b[1m\u001b[31mbinaries.tools\u001b[0m as \u001b[1m\u001b[31mtools\u001b[0m\n",
      "\u001b[1m\u001b[32m18:30:28\u001b[0m (\u001b[1m\u001b[35m    +1ms\u001b[0m) \u001b[1m\u001b[32m[INFO   ]\u001b[0m -- set MONI_PATH = PosixPath('/cr/work/filip/monit_and_sd')\n",
      "\u001b[1m\u001b[32m18:30:28\u001b[0m (\u001b[1m\u001b[35m    +1ms\u001b[0m) \u001b[1m\u001b[32m[INFO   ]\u001b[0m -- set HIST_PATH = PosixPath('/cr/work/filip/monit_and_sd')\n",
      "\u001b[1m\u001b[32m18:30:28\u001b[0m (\u001b[1m\u001b[35m    +1ms\u001b[0m) \u001b[1m\u001b[32m[INFO   ]\u001b[0m -- set PLOT_PATH = PosixPath('/cr/data01/filip/plots')\n",
      "\u001b[1m\u001b[32m18:30:28\u001b[0m (\u001b[1m\u001b[35m    +1ms\u001b[0m) \u001b[1m\u001b[32m[INFO   ]\u001b[0m -- set DATA_PATH = PosixPath('/cr/data01/filip/Data')\n",
      "\u001b[1m\u001b[32m18:30:28\u001b[0m (\u001b[1m\u001b[35m    +0ms\u001b[0m) \u001b[1m\u001b[32m[INFO   ]\u001b[0m -- set SCAN_PATH = PosixPath('/cr/data01/filip/xy-calibration')\n",
      "\u001b[1m\u001b[32m18:30:28\u001b[0m (\u001b[1m\u001b[35m    +1ms\u001b[0m) \u001b[1m\u001b[32m[INFO   ]\u001b[0m -- set OFLN_PATH = PosixPath('/cr/data01/filip/offline/install')\n"
     ]
    }
   ],
   "source": [
    "from utils.auger.sd import sim"
   ]
  },
  {
   "cell_type": "code",
   "execution_count": null,
   "metadata": {},
   "outputs": [],
   "source": [
    "sim.Simulation('icrc2025-test5-forced-station-triggers').status()"
   ]
  },
  {
   "cell_type": "code",
   "execution_count": 2,
   "metadata": {},
   "outputs": [
    {
     "name": "stderr",
     "output_type": "stream",
     "text": [
      "\u001b[1m\u001b[32m18:30:29\u001b[0m (\u001b[1m\u001b[35m   +1.7s\u001b[0m) \u001b[1m\u001b[32m[INFO   ]\u001b[0m -- filesystem established successfully\n",
      "\u001b[1m\u001b[32m18:30:29\u001b[0m (\u001b[1m\u001b[35m    +8ms\u001b[0m) \u001b[1m\u001b[32m[INFO   ]\u001b[0m -- Corsika dir found, 3035 files available\n",
      "\u001b[1m\u001b[32m18:30:29\u001b[0m (\u001b[1m\u001b[35m    +5ms\u001b[0m) \u001b[1m\u001b[32m[INFO   ]\u001b[0m -- scripts have been written\n",
      "\u001b[1m\u001b[32m18:30:31\u001b[0m (\u001b[1m\u001b[35m   +1.8s\u001b[0m) \u001b[1m\u001b[32m[INFO   ]\u001b[0m -- source compiled, we're done!\n"
     ]
    },
    {
     "name": "stdout",
     "output_type": "stream",
     "text": [
      "\n",
      "*****************************\n",
      "* OFFLINE SIMULATION STATUS *\n",
      "*****************************\n",
      "python: rethrows = 1\n",
      "python: n_particles = 30000\n",
      "python: name = /cr/work/filip/Simulations/icrc2025-test5-SdMdInfillSimRec\n",
      "python: src = /lsdf/auger/corsika/prague/EPOS_LHC/proton/18_18.5\n",
      "python: out = dat/epos_lhc/proton/18_18.5\n",
      "\n",
      "condor: executable = ./run.py\n",
      "condor: arguments = $(Process)\n",
      "condor: max_idle = 150\n",
      "condor: request_memory = 2G\n",
      "condor: max_materialize = 150\n",
      "condor: should_transfer_files = YES\n",
      "condor: JobBatchName = icrc2025-test5-SdMdInfillSimRec_epos_lhc_proton_18_18.5\n",
      "condor: error = /cr/work/filip/Simulations/icrc2025-test5-SdMdInfillSimRec/log/epos_lhc/proton/18_18.5/icrc2025-test5-SdMdInfillSimRec-$(Process).err\n",
      "condor: output = /cr/work/filip/Simulations/icrc2025-test5-SdMdInfillSimRec/log/epos_lhc/proton/18_18.5/icrc2025-test5-SdMdInfillSimRec-$(Process).out\n",
      "condor: log = /cr/work/filip/Simulations/icrc2025-test5-SdMdInfillSimRec/log/epos_lhc/proton/18_18.5/icrc2025-test5-SdMdInfillSimRec-$(Process).log\n",
      "\n",
      "** epos_lhc (root / other) **\n",
      "        15_15.5    15.5_16    16_16.5    16.5_17    17_17.5    17.5_18    18_18.5    18.5_19    19_19.5    19.5_20    20_20.2\n",
      "------  ---------  ---------  ---------  ---------  ---------  ---------  ---------  ---------  ---------  ---------  ---------\n",
      "proton                        11 / 11    975 / 0    2013 / 0   668 / 0    0 / 0\n"
     ]
    }
   ],
   "source": [
    "test_sim = sim.Simulation('icrc2025-test5-SdMdInfillSimRec',\n",
    "                          offline='icrc2025-test5',\n",
    "                          src='/cr/users/filip/Projects/PhotonSimulations/icrc2025-test5-SdMdInfillSimRec',\n",
    "                          request_memory = \"2G\",\n",
    "                          primary='proton',\n",
    "                          energy='18_18.5',\n",
    "                          model='epos_lhc',\n",
    "                          rethrows=1)"
   ]
  },
  {
   "cell_type": "code",
   "execution_count": 6,
   "metadata": {},
   "outputs": [
    {
     "name": "stderr",
     "output_type": "stream",
     "text": [
      "\u001b[1m\u001b[32m18:33:07\u001b[0m (\u001b[1m\u001b[35m +155.6s\u001b[0m) \u001b[1m\u001b[32m[INFO   ]\u001b[0m -- dummy initialization!\n"
     ]
    },
    {
     "name": "stdout",
     "output_type": "stream",
     "text": [
      "\n",
      "*****************************\n",
      "* OFFLINE SIMULATION STATUS *\n",
      "*****************************\n",
      "** epos_lhc (root / other) **\n",
      "        15_15.5    15.5_16    16_16.5    16.5_17    17_17.5    17.5_18    18_18.5    18.5_19    19_19.5    19.5_20    20_20.2\n",
      "------  ---------  ---------  ---------  ---------  ---------  ---------  ---------  ---------  ---------  ---------  ---------\n",
      "proton                        11 / 11    975 / 0    2081 / 0   700 / 0    0 / 0\n"
     ]
    }
   ],
   "source": [
    "sim.Simulation('icrc2025-test5-SdMdInfillSimRec').status()"
   ]
  },
  {
   "cell_type": "code",
   "execution_count": null,
   "metadata": {},
   "outputs": [],
   "source": [
    "test_sim.run(0)"
   ]
  },
  {
   "cell_type": "code",
   "execution_count": 3,
   "metadata": {},
   "outputs": [],
   "source": [
    "test = sim.SimData('icrc2025-test5-SdMdInfillSimRec', 'epos_lhc', 'proton')"
   ]
  },
  {
   "cell_type": "code",
   "execution_count": 4,
   "metadata": {},
   "outputs": [
    {
     "name": "stdout",
     "output_type": "stream",
     "text": [
      "Shower w/ log10(E/eV) = 16.484230061841185 and 3 stations\n"
     ]
    }
   ],
   "source": [
    "for shower in test:\n",
    "    print(shower)\n",
    "    break"
   ]
  },
  {
   "cell_type": "code",
   "execution_count": 5,
   "metadata": {},
   "outputs": [
    {
     "name": "stdout",
     "output_type": "stream",
     "text": [
      "Station 4028.0 @ 358.376m from core\n",
      "Station 4049.0 @ 342.276m from core\n",
      "Station 4048.0 @ 524.393m from core\n"
     ]
    }
   ],
   "source": [
    "for station in shower:\n",
    "    print(station)"
   ]
  },
  {
   "cell_type": "code",
   "execution_count": null,
   "metadata": {},
   "outputs": [],
   "source": [
    "for _ in array:\n",
    "    print(_)"
   ]
  },
  {
   "cell_type": "code",
   "execution_count": null,
   "metadata": {},
   "outputs": [],
   "source": []
  }
 ],
 "metadata": {
  "kernelspec": {
   "display_name": ".venv",
   "language": "python",
   "name": "python3"
  },
  "language_info": {
   "codemirror_mode": {
    "name": "ipython",
    "version": 3
   },
   "file_extension": ".py",
   "mimetype": "text/x-python",
   "name": "python",
   "nbconvert_exporter": "python",
   "pygments_lexer": "ipython3",
   "version": "3.10.12"
  }
 },
 "nbformat": 4,
 "nbformat_minor": 2
}
