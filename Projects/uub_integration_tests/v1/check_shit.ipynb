{
 "cells": [
  {
   "cell_type": "code",
   "execution_count": 1,
   "metadata": {},
   "outputs": [
    {
     "name": "stderr",
     "output_type": "stream",
     "text": [
      "\u001b[5m\u001b[1m\u001b[32m15:16:42\u001b[0m (\u001b[1m\u001b[35m   +1.6s\u001b[0m) \u001b[5m\u001b[1m\u001b[32m[INFO   ]\u001b[0m -- import \u001b[5m\u001b[1m\u001b[31mlogging\u001b[0m\n",
      "\u001b[5m\u001b[1m\u001b[32m15:16:42\u001b[0m (\u001b[1m\u001b[35m  +102ms\u001b[0m) \u001b[5m\u001b[1m\u001b[32m[INFO   ]\u001b[0m -- import \u001b[5m\u001b[1m\u001b[31mnumpy\u001b[0m as \u001b[5m\u001b[1m\u001b[31mnp\u001b[0m\n",
      "\u001b[5m\u001b[1m\u001b[32m15:16:42\u001b[0m (\u001b[1m\u001b[35m    +9ms\u001b[0m) \u001b[5m\u001b[1m\u001b[32m[INFO   ]\u001b[0m -- import \u001b[5m\u001b[1m\u001b[31muncertainties\u001b[0m\n",
      "\u001b[5m\u001b[1m\u001b[32m15:16:43\u001b[0m (\u001b[1m\u001b[35m  +244ms\u001b[0m) \u001b[5m\u001b[1m\u001b[32m[INFO   ]\u001b[0m -- import \u001b[5m\u001b[1m\u001b[31mpandas\u001b[0m as \u001b[5m\u001b[1m\u001b[31mpd\u001b[0m\n",
      "\u001b[5m\u001b[1m\u001b[33m15:16:43\u001b[0m (\u001b[1m\u001b[35m    +1ms\u001b[0m) \u001b[5m\u001b[1m\u001b[33m[WARNING]\u001b[0m -- pandas support to be dropped at some point!\n",
      "\u001b[5m\u001b[1m\u001b[32m15:16:43\u001b[0m (\u001b[1m\u001b[35m    +1ms\u001b[0m) \u001b[5m\u001b[1m\u001b[32m[INFO   ]\u001b[0m -- import \u001b[5m\u001b[1m\u001b[31mbinaries.tools\u001b[0m as \u001b[5m\u001b[1m\u001b[31mtools\u001b[0m\n",
      "\u001b[5m\u001b[1m\u001b[32m15:16:43\u001b[0m (\u001b[1m\u001b[35m  +282ms\u001b[0m) \u001b[5m\u001b[1m\u001b[32m[INFO   ]\u001b[0m -- import \u001b[5m\u001b[1m\u001b[31mmatplotlib.pyplot\u001b[0m as \u001b[5m\u001b[1m\u001b[31mplt\u001b[0m\n",
      "\u001b[5m\u001b[1m\u001b[32m15:16:43\u001b[0m (\u001b[1m\u001b[35m  +344ms\u001b[0m) \u001b[5m\u001b[1m\u001b[32m[INFO   ]\u001b[0m -- import \u001b[5m\u001b[1m\u001b[31mseaborn\u001b[0m as \u001b[5m\u001b[1m\u001b[31mso\u001b[0m\n",
      "\u001b[5m\u001b[1m\u001b[32m15:16:43\u001b[0m (\u001b[1m\u001b[35m    +3ms\u001b[0m) \u001b[5m\u001b[1m\u001b[32m[INFO   ]\u001b[0m -- import \u001b[5m\u001b[1m\u001b[31mplotting.tools\u001b[0m as \u001b[5m\u001b[1m\u001b[31mplot\u001b[0m\n",
      "\u001b[5m\u001b[1m\u001b[34m15:16:43\u001b[0m (\u001b[1m\u001b[35m    +6ms\u001b[0m) \u001b[5m\u001b[1m\u001b[34m[DEBUG  ]\u001b[0m -- font size set to 9.5\n",
      "\u001b[5m\u001b[1m\u001b[34m15:16:43\u001b[0m (\u001b[1m\u001b[35m    +1ms\u001b[0m) \u001b[5m\u001b[1m\u001b[34m[DEBUG  ]\u001b[0m -- label size set to 13.0\n",
      "\u001b[5m\u001b[1m\u001b[34m15:16:43\u001b[0m (\u001b[1m\u001b[35m    +0ms\u001b[0m) \u001b[5m\u001b[1m\u001b[34m[DEBUG  ]\u001b[0m -- figure size set to [6.6, 3.3]\n",
      "\u001b[5m\u001b[1m\u001b[34m15:16:43\u001b[0m (\u001b[1m\u001b[35m    +1ms\u001b[0m) \u001b[5m\u001b[1m\u001b[34m[DEBUG  ]\u001b[0m -- markersize set to 2.0\n",
      "\u001b[5m\u001b[1m\u001b[34m15:16:43\u001b[0m (\u001b[1m\u001b[35m    +1ms\u001b[0m) \u001b[5m\u001b[1m\u001b[34m[DEBUG  ]\u001b[0m -- usetex set to False\n"
     ]
    }
   ],
   "source": [
    "from utils.binaries import *\n",
    "from utils.plotting import *\n",
    "from utils.Auger.SD import Monitoring"
   ]
  },
  {
   "cell_type": "code",
   "execution_count": 2,
   "metadata": {},
   "outputs": [
    {
     "ename": "KeyInFileError",
     "evalue": "not found: 'None' (with any cycle number)\n\n    Available keys: (none!)\n\nin file mc_2024_08_14_00h00.root",
     "output_type": "error",
     "traceback": [
      "\u001b[0;31m---------------------------------------------------------------------------\u001b[0m",
      "\u001b[0;31mKeyInFileError\u001b[0m                            Traceback (most recent call last)",
      "Cell \u001b[0;32mIn[2], line 1\u001b[0m\n\u001b[0;32m----> 1\u001b[0m test \u001b[38;5;241m=\u001b[39m \u001b[43mMonitoring\u001b[49m\u001b[38;5;241;43m.\u001b[39;49m\u001b[43mMonit\u001b[49m\u001b[43m(\u001b[49m\u001b[38;5;124;43m'\u001b[39;49m\u001b[38;5;124;43mmc_2024_08_14_00h00.root\u001b[39;49m\u001b[38;5;124;43m'\u001b[39;49m\u001b[43m)\u001b[49m\n",
      "File \u001b[0;32m~/.venv/lib/python3.10/site-packages/utils/Auger/SD/Monitoring.py:41\u001b[0m, in \u001b[0;36mMonit.__init__\u001b[0;34m(self, years, months, days, starting_branch, verbosity)\u001b[0m\n\u001b[1;32m     35\u001b[0m             \u001b[38;5;28;01mraise\u001b[39;00m \u001b[38;5;167;01mFileNotFoundError\u001b[39;00m\n\u001b[1;32m     37\u001b[0m \u001b[38;5;250m\u001b[39m\u001b[38;5;124;03m\"\"\"\u001b[39;00m\n\u001b[1;32m     38\u001b[0m \u001b[38;5;124;03mopening individual files is faster than concatenate, iterate etc.,\u001b[39;00m\n\u001b[1;32m     39\u001b[0m \u001b[38;5;124;03mbecause we dont immediately load everything into memory at once\u001b[39;00m\n\u001b[1;32m     40\u001b[0m \u001b[38;5;124;03m\"\"\"\u001b[39;00m\n\u001b[0;32m---> 41\u001b[0m \u001b[38;5;28mself\u001b[39m\u001b[38;5;241m.\u001b[39m__streams \u001b[38;5;241m=\u001b[39m [uproot\u001b[38;5;241m.\u001b[39mopen(\u001b[38;5;124mf\u001b[39m\u001b[38;5;124m\"\u001b[39m\u001b[38;5;132;01m{\u001b[39;00mfile\u001b[38;5;132;01m}\u001b[39;00m\u001b[38;5;124m:\u001b[39m\u001b[38;5;132;01m{\u001b[39;00mstarting_branch\u001b[38;5;132;01m}\u001b[39;00m\u001b[38;5;124m\"\u001b[39m) \u001b[38;5;28;01mfor\u001b[39;00m file \u001b[38;5;129;01min\u001b[39;00m full_file_paths]\n\u001b[1;32m     43\u001b[0m \u001b[38;5;250m\u001b[39m\u001b[38;5;124;03m\"\"\"these keys surely generalize to the entire dataset...\"\"\"\u001b[39;00m\n\u001b[1;32m     44\u001b[0m temp, \u001b[38;5;28mself\u001b[39m\u001b[38;5;241m.\u001b[39m_keys \u001b[38;5;241m=\u001b[39m \u001b[38;5;28mself\u001b[39m\u001b[38;5;241m.\u001b[39m__streams[\u001b[38;5;241m0\u001b[39m]\u001b[38;5;241m.\u001b[39mkeys(), {}\n",
      "File \u001b[0;32m~/.venv/lib/python3.10/site-packages/utils/Auger/SD/Monitoring.py:41\u001b[0m, in \u001b[0;36m<listcomp>\u001b[0;34m(.0)\u001b[0m\n\u001b[1;32m     35\u001b[0m             \u001b[38;5;28;01mraise\u001b[39;00m \u001b[38;5;167;01mFileNotFoundError\u001b[39;00m\n\u001b[1;32m     37\u001b[0m \u001b[38;5;250m\u001b[39m\u001b[38;5;124;03m\"\"\"\u001b[39;00m\n\u001b[1;32m     38\u001b[0m \u001b[38;5;124;03mopening individual files is faster than concatenate, iterate etc.,\u001b[39;00m\n\u001b[1;32m     39\u001b[0m \u001b[38;5;124;03mbecause we dont immediately load everything into memory at once\u001b[39;00m\n\u001b[1;32m     40\u001b[0m \u001b[38;5;124;03m\"\"\"\u001b[39;00m\n\u001b[0;32m---> 41\u001b[0m \u001b[38;5;28mself\u001b[39m\u001b[38;5;241m.\u001b[39m__streams \u001b[38;5;241m=\u001b[39m [\u001b[43muproot\u001b[49m\u001b[38;5;241;43m.\u001b[39;49m\u001b[43mopen\u001b[49m\u001b[43m(\u001b[49m\u001b[38;5;124;43mf\u001b[39;49m\u001b[38;5;124;43m\"\u001b[39;49m\u001b[38;5;132;43;01m{\u001b[39;49;00m\u001b[43mfile\u001b[49m\u001b[38;5;132;43;01m}\u001b[39;49;00m\u001b[38;5;124;43m:\u001b[39;49m\u001b[38;5;132;43;01m{\u001b[39;49;00m\u001b[43mstarting_branch\u001b[49m\u001b[38;5;132;43;01m}\u001b[39;49;00m\u001b[38;5;124;43m\"\u001b[39;49m\u001b[43m)\u001b[49m \u001b[38;5;28;01mfor\u001b[39;00m file \u001b[38;5;129;01min\u001b[39;00m full_file_paths]\n\u001b[1;32m     43\u001b[0m \u001b[38;5;250m\u001b[39m\u001b[38;5;124;03m\"\"\"these keys surely generalize to the entire dataset...\"\"\"\u001b[39;00m\n\u001b[1;32m     44\u001b[0m temp, \u001b[38;5;28mself\u001b[39m\u001b[38;5;241m.\u001b[39m_keys \u001b[38;5;241m=\u001b[39m \u001b[38;5;28mself\u001b[39m\u001b[38;5;241m.\u001b[39m__streams[\u001b[38;5;241m0\u001b[39m]\u001b[38;5;241m.\u001b[39mkeys(), {}\n",
      "File \u001b[0;32m~/.venv/lib/python3.10/site-packages/uproot/reading.py:154\u001b[0m, in \u001b[0;36mopen\u001b[0;34m(path, object_cache, array_cache, custom_classes, decompression_executor, interpretation_executor, **options)\u001b[0m\n\u001b[1;32m    152\u001b[0m     \u001b[38;5;28;01mreturn\u001b[39;00m file\u001b[38;5;241m.\u001b[39mroot_directory\n\u001b[1;32m    153\u001b[0m \u001b[38;5;28;01melse\u001b[39;00m:\n\u001b[0;32m--> 154\u001b[0m     \u001b[38;5;28;01mreturn\u001b[39;00m \u001b[43mfile\u001b[49m\u001b[38;5;241;43m.\u001b[39;49m\u001b[43mroot_directory\u001b[49m\u001b[43m[\u001b[49m\u001b[43mobject_path\u001b[49m\u001b[43m]\u001b[49m\n",
      "File \u001b[0;32m~/.venv/lib/python3.10/site-packages/uproot/reading.py:2084\u001b[0m, in \u001b[0;36mReadOnlyDirectory.__getitem__\u001b[0;34m(self, where)\u001b[0m\n\u001b[1;32m   2081\u001b[0m     \u001b[38;5;28;01mreturn\u001b[39;00m step\n\u001b[1;32m   2083\u001b[0m \u001b[38;5;28;01melse\u001b[39;00m:\n\u001b[0;32m-> 2084\u001b[0m     \u001b[38;5;28;01mreturn\u001b[39;00m \u001b[38;5;28;43mself\u001b[39;49m\u001b[38;5;241;43m.\u001b[39;49m\u001b[43mkey\u001b[49m\u001b[43m(\u001b[49m\u001b[43mwhere\u001b[49m\u001b[43m)\u001b[49m\u001b[38;5;241m.\u001b[39mget()\n",
      "File \u001b[0;32m~/.venv/lib/python3.10/site-packages/uproot/reading.py:2032\u001b[0m, in \u001b[0;36mReadOnlyDirectory.key\u001b[0;34m(self, where)\u001b[0m\n\u001b[1;32m   2030\u001b[0m     \u001b[38;5;28;01mreturn\u001b[39;00m last\n\u001b[1;32m   2031\u001b[0m \u001b[38;5;28;01melif\u001b[39;00m cycle \u001b[38;5;129;01mis\u001b[39;00m \u001b[38;5;28;01mNone\u001b[39;00m:\n\u001b[0;32m-> 2032\u001b[0m     \u001b[38;5;28;01mraise\u001b[39;00m uproot\u001b[38;5;241m.\u001b[39mKeyInFileError(\n\u001b[1;32m   2033\u001b[0m         item, cycle\u001b[38;5;241m=\u001b[39m\u001b[38;5;124m\"\u001b[39m\u001b[38;5;124many\u001b[39m\u001b[38;5;124m\"\u001b[39m, keys\u001b[38;5;241m=\u001b[39m\u001b[38;5;28mself\u001b[39m\u001b[38;5;241m.\u001b[39mkeys(), file_path\u001b[38;5;241m=\u001b[39m\u001b[38;5;28mself\u001b[39m\u001b[38;5;241m.\u001b[39m_file\u001b[38;5;241m.\u001b[39mfile_path\n\u001b[1;32m   2034\u001b[0m     )\n\u001b[1;32m   2035\u001b[0m \u001b[38;5;28;01melse\u001b[39;00m:\n\u001b[1;32m   2036\u001b[0m     \u001b[38;5;28;01mraise\u001b[39;00m uproot\u001b[38;5;241m.\u001b[39mKeyInFileError(\n\u001b[1;32m   2037\u001b[0m         item, cycle\u001b[38;5;241m=\u001b[39mcycle, keys\u001b[38;5;241m=\u001b[39m\u001b[38;5;28mself\u001b[39m\u001b[38;5;241m.\u001b[39mkeys(), file_path\u001b[38;5;241m=\u001b[39m\u001b[38;5;28mself\u001b[39m\u001b[38;5;241m.\u001b[39m_file\u001b[38;5;241m.\u001b[39mfile_path\n\u001b[1;32m   2038\u001b[0m     )\n",
      "\u001b[0;31mKeyInFileError\u001b[0m: not found: 'None' (with any cycle number)\n\n    Available keys: (none!)\n\nin file mc_2024_08_14_00h00.root"
     ]
    }
   ],
   "source": [
    "test = Monitoring.Monit('mc_2024_08_14_00h00.root')"
   ]
  },
  {
   "cell_type": "code",
   "execution_count": null,
   "metadata": {},
   "outputs": [],
   "source": []
  }
 ],
 "metadata": {
  "kernelspec": {
   "display_name": ".venv",
   "language": "python",
   "name": "python3"
  },
  "language_info": {
   "codemirror_mode": {
    "name": "ipython",
    "version": 3
   },
   "file_extension": ".py",
   "mimetype": "text/x-python",
   "name": "python",
   "nbconvert_exporter": "python",
   "pygments_lexer": "ipython3",
   "version": "3.10.12"
  }
 },
 "nbformat": 4,
 "nbformat_minor": 2
}
