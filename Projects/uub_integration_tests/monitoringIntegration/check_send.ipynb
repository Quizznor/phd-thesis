{
 "cells": [
  {
   "cell_type": "code",
   "execution_count": 3,
   "metadata": {},
   "outputs": [],
   "source": [
    "import struct\n",
    "\n",
    "# see CDAS git /Raid/src/Utils/CL/cl_msg_unknown_pack.h\n",
    "def read_package(f) -> dict:\n",
    "\n",
    "    convert = lambda d: [struct.unpack('d', d[i:i+8])[0] for i in range(0, len(d), 8)]\n",
    "    # package = {}\n",
    "\n",
    "    # pack Header\n",
    "    LsId = int.from_bytes(f.read(2), byteorder='little')\n",
    "    n_packs = int.from_bytes(f.read(2), byteorder='little')\n",
    "    timestamp_sec = int.from_bytes(f.read(4), byteorder='little')\n",
    "    timestamp_nsec = int.from_bytes(f.read(4), byteorder='little')\n",
    "    total_size = int.from_bytes(f.read(4), byteorder='little')\n",
    "    rv = LsId, None\n",
    "\n",
    "    for i in range(n_packs):\n",
    "\n",
    "        # header i\n",
    "        type = int.from_bytes(f.read(4), byteorder='little')\n",
    "        version = int.from_bytes(f.read(4), byteorder='little')\n",
    "        size = int.from_bytes(f.read(4), byteorder='little')\n",
    "        data = f.read(size)\n",
    "\n",
    "\n",
    "        # package[str(i)] = {'type': type,\n",
    "        #                 'version': version,\n",
    "        #                 'size': size,\n",
    "        #                 'data': data}\n",
    "\n",
    "        # only return the data we're interested in\n",
    "        if type == 8 and version == 2:\n",
    "            rv = LsId, convert(data)\n",
    "    \n",
    "    return rv"
   ]
  },
  {
   "cell_type": "code",
   "execution_count": 4,
   "metadata": {},
   "outputs": [
    {
     "name": "stdout",
     "output_type": "stream",
     "text": [
      "1457\n"
     ]
    }
   ],
   "source": [
    "data = []\n",
    "\n",
    "with open('/home/filip/Desktop/unread_packages/monit_2024_12_10.packs.nobackup', 'rb') as f:\n",
    "    while f.read(8) == b'!monit!!':\n",
    "        data.append(read_package(f))\n",
    "\n",
    "print(len(data))"
   ]
  },
  {
   "cell_type": "code",
   "execution_count": null,
   "metadata": {},
   "outputs": [],
   "source": [
    "print()"
   ]
  }
 ],
 "metadata": {
  "kernelspec": {
   "display_name": ".phd-venv",
   "language": "python",
   "name": "python3"
  },
  "language_info": {
   "codemirror_mode": {
    "name": "ipython",
    "version": 3
   },
   "file_extension": ".py",
   "mimetype": "text/x-python",
   "name": "python",
   "nbconvert_exporter": "python",
   "pygments_lexer": "ipython3",
   "version": "3.11.2"
  }
 },
 "nbformat": 4,
 "nbformat_minor": 2
}
