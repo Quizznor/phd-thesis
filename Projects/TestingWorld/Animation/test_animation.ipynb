{
 "cells": [
  {
   "cell_type": "code",
   "execution_count": null,
   "metadata": {},
   "outputs": [],
   "source": [
    "from utils.binaries import *\n",
    "from utils.plotting import *\n",
    "\n",
    "from matplotlib.animation import FuncAnimation"
   ]
  },
  {
   "cell_type": "code",
   "execution_count": null,
   "metadata": {},
   "outputs": [],
   "source": [
    "\n",
    "%matplotlib inline\n",
    "\n",
    "import numpy as np\n",
    "import matplotlib.pyplot as plt\n",
    "import seaborn as sns\n",
    "\n",
    "# create a figure and axes\n",
    "fig = plt.figure(figsize=(12,5))\n",
    "ax1 = plt.subplot(1,2,1)   \n",
    "ax2 = plt.subplot(1,2,2)\n",
    "\n",
    "# set up the subplots as needed\n",
    "ax1.set_xlim(( 0, 2))            \n",
    "ax1.set_ylim((-2, 2))\n",
    "ax1.set_xlabel('Time')\n",
    "ax1.set_ylabel('Magnitude')\n",
    "\n",
    "ax2.set_xlim((-2,2))\n",
    "ax2.set_ylim((-2,2))\n",
    "ax2.set_xlabel('X')\n",
    "ax2.set_ylabel('Y')\n",
    "ax2.set_title('Phase Plane')\n",
    "\n",
    "# create objects that will change in the animation. These are\n",
    "# initially empty, and will be given new values for each frame\n",
    "# in the animation.\n",
    "txt_title = ax1.set_title('')\n",
    "line1, = ax1.plot([], [], 'b', lw=2)     # ax.plot returns a list of 2D line objects\n",
    "line2, = ax1.plot([], [], 'r', lw=2)\n",
    "pt1, = ax2.plot([], [], 'g.', ms=20)\n",
    "line3, = ax2.plot([], [], 'y', lw=2)\n",
    "\n",
    "ax1.legend(['sin','cos'])\n"
   ]
  },
  {
   "cell_type": "code",
   "execution_count": null,
   "metadata": {},
   "outputs": [],
   "source": [
    "# animation function. This is called sequentially\n",
    "def drawframe(n):\n",
    "    x = np.linspace(0, 2, 1000)\n",
    "    y1 = np.sin(2 * np.pi * (x - 0.01 * n))\n",
    "    y2 = np.cos(2 * np.pi * (x - 0.01 * n))\n",
    "    line1.set_data(x, y1)\n",
    "    line2.set_data(x, y2)\n",
    "    line3.set_data(y1[0:50], y2[0:50])\n",
    "    pt1.set_data(y1[0], y2[0])\n",
    "    txt_title.set_text(\"Frame = {0:4d}\".format(n))\n",
    "    return (line1, line2)\n",
    "\n",
    "\n",
    "anim = FuncAnimation(fig, drawframe, frames=100, interval=20, blit=True)"
   ]
  },
  {
   "cell_type": "code",
   "execution_count": null,
   "metadata": {},
   "outputs": [],
   "source": [
    "plt.rcParams[\"animation.html\"] = \"html5\"\n",
    "\n",
    "anim"
   ]
  },
  {
   "cell_type": "code",
   "execution_count": null,
   "metadata": {},
   "outputs": [],
   "source": [
    "from IPython.display import HTML\n",
    "\n",
    "HTML(anim.to_html5_video())\n",
    "\n",
    "\n",
    "anim"
   ]
  },
  {
   "cell_type": "code",
   "execution_count": null,
   "metadata": {},
   "outputs": [],
   "source": [
    "import matplotlib.animation as manimation\n",
    "\n",
    "manimation.writers.list()"
   ]
  },
  {
   "cell_type": "code",
   "execution_count": null,
   "metadata": {},
   "outputs": [],
   "source": [
    "anim"
   ]
  },
  {
   "cell_type": "code",
   "execution_count": null,
   "metadata": {},
   "outputs": [],
   "source": [
    "import matplotlib.animation\n",
    "import matplotlib.pyplot as plt\n",
    "import numpy as np\n",
    "\n",
    "plt.rcParams[\"animation.html\"] = \"jshtml\"\n",
    "# plt.rcParams['figure.dpi'] = 150\n",
    "# plt.ioff()\n",
    "fig, ax = plt.subplots()\n",
    "\n",
    "x = np.linspace(0, 10, 100)\n",
    "\n",
    "\n",
    "def animate(t):\n",
    "    plt.cla()\n",
    "    plt.plot(x - t, x)\n",
    "    plt.xlim(0, 10)\n",
    "\n",
    "\n",
    "matplotlib.animation.FuncAnimation(fig, animate, frames=10)"
   ]
  },
  {
   "cell_type": "code",
   "execution_count": null,
   "metadata": {},
   "outputs": [],
   "source": []
  },
  {
   "cell_type": "code",
   "execution_count": null,
   "metadata": {},
   "outputs": [],
   "source": [
    "%matplotlib inline\n",
    "\n",
    "ani"
   ]
  },
  {
   "cell_type": "code",
   "execution_count": null,
   "metadata": {},
   "outputs": [],
   "source": [
    "from utils.binaries import *\n",
    "from utils.plotting import *\n",
    "from matplotlib import artist\n",
    "from matplotlib.animation import FuncAnimation\n",
    "\n",
    "\n",
    "class BlitAnimator(FuncAnimation):\n",
    "\n",
    "    def __init__(self, anim: callable, setup: callable = None, **kwargs):\n",
    "        plt.rcParams[\"animation.html\"] = \"jshtml\"\n",
    "\n",
    "        kwargs[\"interval\"] = kwargs.get(\"interval\", 20)\n",
    "        kwargs[\"blit\"] = True\n",
    "\n",
    "        if setup is None:\n",
    "            self.fig, _ = plt.figure()\n",
    "        else:\n",
    "            self.fig, arts = setup()\n",
    "\n",
    "        self.animate = anim\n",
    "        self.artists = arts\n",
    "\n",
    "        super().__init__(self.fig, self.__animate__, **kwargs)\n",
    "\n",
    "    def __animate__(self, frame, *args) -> tuple[artist.Artist]:\n",
    "        changed = self.animate(frame, self.artists, args)\n",
    "\n",
    "        rescale = True\n",
    "        for artist in changed:\n",
    "\n",
    "            self.artists[artist.name] = artist\n",
    "\n",
    "            try:\n",
    "                last_x, last_y = artist.get_data()[-1]\n",
    "            except ValueError:\n",
    "                continue\n",
    "\n",
    "            artist_axis = artist.axes\n",
    "            min_x, max_x = new_min_x, new_max_x = artist_axis.get_xlim()\n",
    "            min_y, max_y = new_min_y, new_max_y = artist_axis.get_ylim()\n",
    "\n",
    "            print(last_x, min_x)\n",
    "\n",
    "            # possibly rescale x-axis\n",
    "            if last_x < min_x:\n",
    "                new_min_x = min_x - 0.1 * (max_x - min_x)\n",
    "            elif max_x < last_x:\n",
    "                new_max_x = max_x + 0.1 * (max_x - min_x)\n",
    "            else:\n",
    "                rescale = False\n",
    "\n",
    "            # possibly rescale y-axis\n",
    "            if last_y < min_y:\n",
    "                new_min_y = min_y - 0.1 * (max_y - min_y)\n",
    "            elif max_y < last_y:\n",
    "                new_max_y = max_y + 0.1 * (max_y - min_y)\n",
    "            else:\n",
    "                rescale = False\n",
    "\n",
    "            if rescale:\n",
    "                artist_axis.set_xlim(new_min_x, new_max_x)\n",
    "                artist_axis.set_ylim(new_min_y, new_max_y)\n",
    "                self.fig.canvas.draw()\n",
    "\n",
    "        if rescale:\n",
    "            self.fig.canvas.draw()\n",
    "\n",
    "        return changed\n",
    "\n",
    "    # def save(self, path_to_file : str, **kwargs):\n",
    "\n",
    "    #     kwargs['fps'] = kwargs.get('fps', 50)\n",
    "\n",
    "    #     if not path_to_file.endswith('.gif'):\n",
    "    #         raise ValueError(\"only saving to .gif supported\")\n",
    "    #     super().save(path_to_file, 'pillow', **kwargs)"
   ]
  },
  {
   "cell_type": "code",
   "execution_count": null,
   "metadata": {},
   "outputs": [],
   "source": [
    "t = np.linspace(0, 2 * np.pi, 100)\n",
    "x = np.sin(t)\n",
    "\n",
    "\n",
    "def setup():\n",
    "    fig, ax = plt.subplots()\n",
    "    (l,) = ax.plot([], [])\n",
    "    l.name = \"line_test\"\n",
    "\n",
    "    return fig, {l.name: l}\n",
    "\n",
    "\n",
    "def animate(i, artists, *args):\n",
    "\n",
    "    line = artists[\"line_test\"]\n",
    "    line.set_data(t[:i], x[:i])\n",
    "\n",
    "    return (line,)\n",
    "\n",
    "\n",
    "ani = BlitAnimator(animate, setup, frames=len(t), interval=1)"
   ]
  },
  {
   "cell_type": "code",
   "execution_count": null,
   "metadata": {},
   "outputs": [],
   "source": [
    "ani"
   ]
  },
  {
   "cell_type": "code",
   "execution_count": null,
   "metadata": {},
   "outputs": [],
   "source": [
    "ani.save(\"test.gif\")"
   ]
  },
  {
   "cell_type": "code",
   "execution_count": null,
   "metadata": {},
   "outputs": [],
   "source": [
    "(l,) = plt.plot([0, 0], [1, 1])"
   ]
  },
  {
   "cell_type": "code",
   "execution_count": null,
   "metadata": {},
   "outputs": [],
   "source": [
    "l.__dir__()"
   ]
  },
  {
   "cell_type": "code",
   "execution_count": null,
   "metadata": {},
   "outputs": [],
   "source": [
    "ax = l.axes"
   ]
  },
  {
   "cell_type": "code",
   "execution_count": null,
   "metadata": {},
   "outputs": [],
   "source": [
    "print(ax.get_ylim())"
   ]
  },
  {
   "cell_type": "code",
   "execution_count": null,
   "metadata": {},
   "outputs": [],
   "source": [
    "print(super(type((l))))"
   ]
  },
  {
   "cell_type": "code",
   "execution_count": null,
   "metadata": {},
   "outputs": [],
   "source": [
    "print(l.__class__.__base__)"
   ]
  },
  {
   "cell_type": "code",
   "execution_count": null,
   "metadata": {},
   "outputs": [],
   "source": [
    "l.test = \"asd\""
   ]
  },
  {
   "cell_type": "code",
   "execution_count": null,
   "metadata": {},
   "outputs": [],
   "source": []
  }
 ],
 "metadata": {
  "kernelspec": {
   "display_name": ".venv",
   "language": "python",
   "name": "python3"
  },
  "language_info": {
   "codemirror_mode": {
    "name": "ipython",
    "version": 3
   },
   "file_extension": ".py",
   "mimetype": "text/x-python",
   "name": "python",
   "nbconvert_exporter": "python",
   "pygments_lexer": "ipython3",
   "version": "3.10.12"
  }
 },
 "nbformat": 4,
 "nbformat_minor": 2
}
