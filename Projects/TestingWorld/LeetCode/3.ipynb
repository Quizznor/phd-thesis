{
 "cells": [
  {
   "cell_type": "markdown",
   "metadata": {},
   "source": [
    "# Longest Substring Without Repeating Characters"
   ]
  },
  {
   "cell_type": "code",
   "execution_count": 8,
   "metadata": {},
   "outputs": [],
   "source": [
    "def lengthOfLongestSubstringMatch(s: str) -> int:\n",
    "\n",
    "    match len(s):\n",
    "        case 0:\n",
    "            return 0\n",
    "        case 1:\n",
    "            return 1\n",
    "        case 2:\n",
    "            return 1 + (s[0] != s[1])\n",
    "        case _:\n",
    "            maxLength = 1\n",
    "            for start in range(len(s)):\n",
    "                for stop in range(start, len(s)):\n",
    "                    if stop - start <= maxLength:\n",
    "                        continue\n",
    "\n",
    "                    substring = s[start:stop]\n",
    "                    charList = []\n",
    "                    for char in substring:\n",
    "                        if char in charList:\n",
    "                            break\n",
    "                        else:\n",
    "                            charList.append(char)\n",
    "                    else:\n",
    "                        maxLength = stop - start\n",
    "\n",
    "            return maxLength"
   ]
  },
  {
   "cell_type": "code",
   "execution_count": 9,
   "metadata": {},
   "outputs": [],
   "source": [
    "def lengthOfLongestSubstringElseIf(s: str) -> int:\n",
    "\n",
    "    if len(s) == 0:\n",
    "        return 0\n",
    "    elif len(s) == 2:\n",
    "        return 1 + (s[0] != s[1])\n",
    "    else:\n",
    "        maxLength = 1\n",
    "        for start in range(len(s)):\n",
    "            for stop in range(start, len(s)):\n",
    "                if stop - start <= maxLength:\n",
    "                    continue\n",
    "\n",
    "                substring = s[start:stop]\n",
    "                charList = []\n",
    "                for char in substring:\n",
    "                    if char in charList:\n",
    "                        break\n",
    "                    else:\n",
    "                        charList.append(char)\n",
    "                else:\n",
    "                    maxLength = stop - start\n",
    "\n",
    "        return maxLength"
   ]
  },
  {
   "cell_type": "code",
   "execution_count": 10,
   "metadata": {},
   "outputs": [
    {
     "name": "stdout",
     "output_type": "stream",
     "text": [
      "9.4 µs ± 2.39 µs per loop (mean ± std. dev. of 15 runs, 10,000 loops each)\n"
     ]
    }
   ],
   "source": [
    "%%timeit -n10000 -r15\n",
    "\n",
    "assert lengthOfLongestSubstringMatch(\"abcabcbb\") == 3"
   ]
  },
  {
   "cell_type": "code",
   "execution_count": 11,
   "metadata": {},
   "outputs": [
    {
     "name": "stdout",
     "output_type": "stream",
     "text": [
      "7.99 µs ± 335 ns per loop (mean ± std. dev. of 15 runs, 10,000 loops each)\n"
     ]
    }
   ],
   "source": [
    "%%timeit -n10000 -r15\n",
    "\n",
    "assert lengthOfLongestSubstringElseIf(\"abcabcbb\") == 3"
   ]
  },
  {
   "cell_type": "code",
   "execution_count": 13,
   "metadata": {},
   "outputs": [
    {
     "name": "stdout",
     "output_type": "stream",
     "text": [
      "a\n"
     ]
    }
   ],
   "source": [
    "test = \"asddadad\"\n",
    "\n",
    "print(test[0:1])"
   ]
  },
  {
   "cell_type": "code",
   "execution_count": 16,
   "metadata": {},
   "outputs": [
    {
     "name": "stdout",
     "output_type": "stream",
     "text": [
      "97\n"
     ]
    }
   ],
   "source": [
    "s = r\"abcdefghijklmnopqrstuvwxyzABCDEFGHIJKLMNOPQRSTUVWXYZ0123456789!\\\"#$%&'()*+,-./:;<=>?@[\\\\]^_`{|}~ \"\n",
    "print(len(s))"
   ]
  },
  {
   "cell_type": "code",
   "execution_count": 17,
   "metadata": {},
   "outputs": [
    {
     "name": "stdout",
     "output_type": "stream",
     "text": [
      "100\n"
     ]
    }
   ],
   "source": [
    "import string\n",
    "\n",
    "print(len(string.printable))"
   ]
  },
  {
   "cell_type": "code",
   "execution_count": null,
   "metadata": {},
   "outputs": [],
   "source": []
  }
 ],
 "metadata": {
  "kernelspec": {
   "display_name": ".venv",
   "language": "python",
   "name": "python3"
  },
  "language_info": {
   "codemirror_mode": {
    "name": "ipython",
    "version": 3
   },
   "file_extension": ".py",
   "mimetype": "text/x-python",
   "name": "python",
   "nbconvert_exporter": "python",
   "pygments_lexer": "ipython3",
   "version": "3.10.12"
  }
 },
 "nbformat": 4,
 "nbformat_minor": 2
}
