{
 "cells": [
  {
   "cell_type": "code",
   "execution_count": 2,
   "metadata": {},
   "outputs": [
    {
     "name": "stderr",
     "output_type": "stream",
     "text": [
      "\u001b[1m\u001b[32m14:26:19\u001b[0m (\u001b[1m\u001b[35m+1855.6s\u001b[0m) \u001b[1m\u001b[32m[INFO   ]\u001b[0m -- import \u001b[1m\u001b[31mlogging\u001b[0m\n",
      "\u001b[1m\u001b[32m14:26:19\u001b[0m (\u001b[1m\u001b[35m  +183ms\u001b[0m) \u001b[1m\u001b[32m[INFO   ]\u001b[0m -- import \u001b[1m\u001b[31mnumpy\u001b[0m as \u001b[1m\u001b[31mnp\u001b[0m\n",
      "\u001b[1m\u001b[32m14:26:19\u001b[0m (\u001b[1m\u001b[35m   +10ms\u001b[0m) \u001b[1m\u001b[32m[INFO   ]\u001b[0m -- import \u001b[1m\u001b[31muncertainties\u001b[0m\n",
      "\u001b[1m\u001b[32m14:26:19\u001b[0m (\u001b[1m\u001b[35m  +492ms\u001b[0m) \u001b[1m\u001b[32m[INFO   ]\u001b[0m -- import \u001b[1m\u001b[31mpandas\u001b[0m as \u001b[1m\u001b[31mpd\u001b[0m\n",
      "\u001b[1m\u001b[33m14:26:19\u001b[0m (\u001b[1m\u001b[35m    +1ms\u001b[0m) \u001b[1m\u001b[33m[WARNING]\u001b[0m -- pandas support to be dropped at some point!\n",
      "\u001b[1m\u001b[32m14:26:19\u001b[0m (\u001b[1m\u001b[35m    +1ms\u001b[0m) \u001b[1m\u001b[32m[INFO   ]\u001b[0m -- import \u001b[1m\u001b[31mbinaries.tools\u001b[0m as \u001b[1m\u001b[31mtools\u001b[0m\n"
     ]
    }
   ],
   "source": [
    "from utils.binaries import *\n",
    "from utils.Auger.SD import UubRandoms"
   ]
  },
  {
   "cell_type": "code",
   "execution_count": null,
   "metadata": {},
   "outputs": [],
   "source": [
    "from numba import jit\n",
    "\n",
    "@jit\n",
    "def trigger(trace):\n",
    "    for _bin in trace:\n",
    "        if _bin > 2.64: return True\n",
    "    else: False\n",
    "\n",
    "test = UubRandoms.BackgroundStudy(trigger)\n",
    "print(test)\n",
    "\n",
    "# *********************************  \n",
    "# *** UUB RANDOMS TRIGGER STUDY ***\n",
    "# *********************************\n",
    "\n",
    "#   time passed:        68.1541 s\n",
    "#   triggers:                3104\n",
    "\n",
    "#   rate:           45.5+/-0.8 Hz"
   ]
  },
  {
   "cell_type": "code",
   "execution_count": null,
   "metadata": {},
   "outputs": [
    {
     "name": "stdout",
     "output_type": "stream",
     "text": [
      "  1/800 [                    ] || 00:00:00>00:00:00,    159744.41 it/s\r"
     ]
    },
    {
     "name": "stdout",
     "output_type": "stream",
     "text": [
      "800/800 [********************] || 00:20:27>00:00:00,         0.65 it/s\n",
      "*********************************  \n",
      "*** UUB RANDOMS TRIGGER STUDY ***\n",
      "*********************************\n",
      "\n",
      "  time passed:  68.1541 s\n",
      "  triggers:     5575\n",
      "\n",
      "  rate:         81.8+/-1.1 Hz\n"
     ]
    }
   ],
   "source": [
    "from numba import jit\n",
    "\n",
    "@jit\n",
    "def trigger2(trace):\n",
    "    for _bin in trace:\n",
    "        if _bin > 2.64 * 0.8236: return True\n",
    "    else: False\n",
    "\n",
    "test = UubRandoms.BackgroundStudy(trigger2)\n",
    "print(test)\n",
    "\n",
    "# *********************************  \n",
    "# *** UUB RANDOMS TRIGGER STUDY ***\n",
    "# *********************************\n",
    "\n",
    "#   time passed:  68.1541 s\n",
    "#   triggers:     5575\n",
    "\n",
    "#   rate:         81.8+/-1.1 Hz"
   ]
  },
  {
   "cell_type": "code",
   "execution_count": null,
   "metadata": {},
   "outputs": [
    {
     "name": "stdout",
     "output_type": "stream",
     "text": [
      "  1/800 [                    ] || 00:00:00>00:00:00,    105485.23 it/s\r"
     ]
    },
    {
     "name": "stdout",
     "output_type": "stream",
     "text": [
      "800/800 [********************] || 00:12:34>00:00:00,         1.06 it/s\n"
     ]
    },
    {
     "ename": "TypeError",
     "evalue": "unhashable type: 'slice'",
     "output_type": "error",
     "traceback": [
      "\u001b[0;31m---------------------------------------------------------------------------\u001b[0m",
      "\u001b[0;31mTypeError\u001b[0m                                 Traceback (most recent call last)",
      "Cell \u001b[0;32mIn[8], line 14\u001b[0m\n\u001b[1;32m     11\u001b[0m     \u001b[38;5;28;01melse\u001b[39;00m: \u001b[38;5;28;01mFalse\u001b[39;00m\n\u001b[1;32m     13\u001b[0m test \u001b[38;5;241m=\u001b[39m UubRandoms\u001b[38;5;241m.\u001b[39mBackgroundStudy(trigger)\n\u001b[0;32m---> 14\u001b[0m \u001b[43mrates\u001b[49m\u001b[43m[\u001b[49m\u001b[43mnp\u001b[49m\u001b[38;5;241;43m.\u001b[39;49m\u001b[43mround\u001b[49m\u001b[43m(\u001b[49m\u001b[43mthreshold\u001b[49m\u001b[43m,\u001b[49m\u001b[43m \u001b[49m\u001b[38;5;241;43m2\u001b[39;49m\u001b[43m)\u001b[49m\u001b[43m:\u001b[49m\u001b[43m \u001b[49m\u001b[43mtest\u001b[49m\u001b[38;5;241;43m.\u001b[39;49m\u001b[43mtriggers\u001b[49m\u001b[43m \u001b[49m\u001b[38;5;241;43m/\u001b[39;49m\u001b[43m \u001b[49m\u001b[43mtest\u001b[49m\u001b[38;5;241;43m.\u001b[39;49m\u001b[43mtime_passed\u001b[49m\u001b[43m]\u001b[49m\n",
      "\u001b[0;31mTypeError\u001b[0m: unhashable type: 'slice'"
     ]
    }
   ],
   "source": [
    "from numba import jit\n",
    "\n",
    "rates = {}\n",
    "\n",
    "for threshold in np.arange(2.04, 3.04, 0.1):\n",
    "    \n",
    "    @jit\n",
    "    def trigger(trace):\n",
    "        for _bin in trace:\n",
    "            if _bin > threshold: return True\n",
    "        else: False\n",
    "\n",
    "    test = UubRandoms.BackgroundStudy(trigger)\n",
    "    rates[f\"{threshold:.2f}\"] =  test.triggers / test.time_passed"
   ]
  },
  {
   "cell_type": "code",
   "execution_count": 7,
   "metadata": {},
   "outputs": [
    {
     "name": "stdout",
     "output_type": "stream",
     "text": [
      "2.04\n"
     ]
    }
   ],
   "source": [
    "print(np.round(threshold,2))"
   ]
  },
  {
   "cell_type": "code",
   "execution_count": null,
   "metadata": {},
   "outputs": [],
   "source": []
  }
 ],
 "metadata": {
  "kernelspec": {
   "display_name": ".venv",
   "language": "python",
   "name": "python3"
  },
  "language_info": {
   "codemirror_mode": {
    "name": "ipython",
    "version": 3
   },
   "file_extension": ".py",
   "mimetype": "text/x-python",
   "name": "python",
   "nbconvert_exporter": "python",
   "pygments_lexer": "ipython3",
   "version": "3.10.12"
  }
 },
 "nbformat": 4,
 "nbformat_minor": 2
}
