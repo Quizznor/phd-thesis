{
 "cells": [
  {
   "cell_type": "code",
   "execution_count": 2,
   "metadata": {},
   "outputs": [
    {
     "name": "stderr",
     "output_type": "stream",
     "text": [
      "\u001b[1m\u001b[32m17:08:26\u001b[0m (\u001b[1m\u001b[35m  +14.6s\u001b[0m) \u001b[1m\u001b[32m[INFO   ]\u001b[0m -- import \u001b[1m\u001b[31mlogging\u001b[0m\n",
      "\u001b[1m\u001b[32m17:08:26\u001b[0m (\u001b[1m\u001b[35m    +3ms\u001b[0m) \u001b[1m\u001b[32m[INFO   ]\u001b[0m -- import \u001b[1m\u001b[31mnumpy\u001b[0m as \u001b[1m\u001b[31mnp\u001b[0m\n",
      "\u001b[1m\u001b[32m17:08:26\u001b[0m (\u001b[1m\u001b[35m    +3ms\u001b[0m) \u001b[1m\u001b[32m[INFO   ]\u001b[0m -- import \u001b[1m\u001b[31mnumpy\u001b[0m as \u001b[1m\u001b[31mnp\u001b[0m\n",
      "\u001b[1m\u001b[32m17:08:26\u001b[0m (\u001b[1m\u001b[35m   +14ms\u001b[0m) \u001b[1m\u001b[32m[INFO   ]\u001b[0m -- import \u001b[1m\u001b[31muncertainties\u001b[0m\n",
      "\u001b[1m\u001b[32m17:08:27\u001b[0m (\u001b[1m\u001b[35m   +1.0s\u001b[0m) \u001b[1m\u001b[32m[INFO   ]\u001b[0m -- import \u001b[1m\u001b[31mpandas\u001b[0m as \u001b[1m\u001b[31mpd\u001b[0m\n",
      "\u001b[1m\u001b[33m17:08:27\u001b[0m (\u001b[1m\u001b[35m    +2ms\u001b[0m) \u001b[1m\u001b[33m[WARNING]\u001b[0m -- pandas support to be dropped at some point!\n",
      "\u001b[1m\u001b[32m17:08:27\u001b[0m (\u001b[1m\u001b[35m    +3ms\u001b[0m) \u001b[1m\u001b[32m[INFO   ]\u001b[0m -- import \u001b[1m\u001b[31mbinaries.tools\u001b[0m as \u001b[1m\u001b[31mtools\u001b[0m\n"
     ]
    }
   ],
   "source": [
    "from utils.binaries import *\n",
    "from utils.Auger.SD import UubRandoms"
   ]
  },
  {
   "cell_type": "code",
   "execution_count": null,
   "metadata": {},
   "outputs": [],
   "source": [
    "from numba import jit\n",
    "\n",
    "@jit\n",
    "def trigger(trace):\n",
    "    for _bin in trace:\n",
    "        if _bin > 2.64: return True\n",
    "    else: False\n",
    "\n",
    "test = UubRandoms.BackgroundStudy(trigger)\n",
    "print(test)\n",
    "\n",
    "# *********************************  \n",
    "# *** UUB RANDOMS TRIGGER STUDY ***\n",
    "# *********************************\n",
    "\n",
    "#   time passed:        68.1541 s\n",
    "#   triggers:                3104\n",
    "\n",
    "#   rate:           45.5+/-0.8 Hz"
   ]
  },
  {
   "cell_type": "code",
   "execution_count": null,
   "metadata": {},
   "outputs": [
    {
     "name": "stdout",
     "output_type": "stream",
     "text": [
      "  1/800 [                    ] || 00:00:00>00:00:00,    159744.41 it/s\r"
     ]
    },
    {
     "name": "stdout",
     "output_type": "stream",
     "text": [
      "800/800 [********************] || 00:20:27>00:00:00,         0.65 it/s\n",
      "*********************************  \n",
      "*** UUB RANDOMS TRIGGER STUDY ***\n",
      "*********************************\n",
      "\n",
      "  time passed:  68.1541 s\n",
      "  triggers:     5575\n",
      "\n",
      "  rate:         81.8+/-1.1 Hz\n"
     ]
    }
   ],
   "source": [
    "from numba import jit\n",
    "\n",
    "@jit\n",
    "def trigger2(trace):\n",
    "    for _bin in trace:\n",
    "        if _bin > 2.64 * 0.8236: return True\n",
    "    else: False\n",
    "\n",
    "test = UubRandoms.BackgroundStudy(trigger2)\n",
    "print(test)\n",
    "\n",
    "# *********************************  \n",
    "# *** UUB RANDOMS TRIGGER STUDY ***\n",
    "# *********************************\n",
    "\n",
    "#   time passed:  68.1541 s\n",
    "#   triggers:     5575\n",
    "\n",
    "#   rate:         81.8+/-1.1 Hz"
   ]
  },
  {
   "cell_type": "code",
   "execution_count": null,
   "metadata": {},
   "outputs": [],
   "source": []
  }
 ],
 "metadata": {
  "kernelspec": {
   "display_name": ".venv",
   "language": "python",
   "name": "python3"
  },
  "language_info": {
   "codemirror_mode": {
    "name": "ipython",
    "version": 3
   },
   "file_extension": ".py",
   "mimetype": "text/x-python",
   "name": "python",
   "nbconvert_exporter": "python",
   "pygments_lexer": "ipython3",
   "version": "3.10.12"
  }
 },
 "nbformat": 4,
 "nbformat_minor": 2
}
