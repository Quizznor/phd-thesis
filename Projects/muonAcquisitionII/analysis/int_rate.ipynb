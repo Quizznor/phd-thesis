{
 "cells": [
  {
   "cell_type": "code",
   "execution_count": 1,
   "metadata": {},
   "outputs": [
    {
     "name": "stderr",
     "output_type": "stream",
     "text": [
      "\u001b[1m\u001b[32m16:36:43\u001b[0m (\u001b[1m\u001b[35m   +1.6s\u001b[0m) \u001b[1m\u001b[32m[INFO   ]\u001b[0m -- import \u001b[1m\u001b[31mlogging\u001b[0m\n",
      "\u001b[1m\u001b[32m16:36:43\u001b[0m (\u001b[1m\u001b[35m  +195ms\u001b[0m) \u001b[1m\u001b[32m[INFO   ]\u001b[0m -- import \u001b[1m\u001b[31mnumpy\u001b[0m as \u001b[1m\u001b[31mnp\u001b[0m\n",
      "\u001b[1m\u001b[32m16:36:43\u001b[0m (\u001b[1m\u001b[35m   +13ms\u001b[0m) \u001b[1m\u001b[32m[INFO   ]\u001b[0m -- import \u001b[1m\u001b[31muncertainties\u001b[0m\n",
      "\u001b[1m\u001b[32m16:36:44\u001b[0m (\u001b[1m\u001b[35m  +423ms\u001b[0m) \u001b[1m\u001b[32m[INFO   ]\u001b[0m -- import \u001b[1m\u001b[31mpandas\u001b[0m as \u001b[1m\u001b[31mpd\u001b[0m\n",
      "\u001b[1m\u001b[33m16:36:44\u001b[0m (\u001b[1m\u001b[35m    +2ms\u001b[0m) \u001b[1m\u001b[33m[WARNING]\u001b[0m -- pandas support to be dropped at some point!\n",
      "\u001b[1m\u001b[32m16:36:44\u001b[0m (\u001b[1m\u001b[35m    +5ms\u001b[0m) \u001b[1m\u001b[32m[INFO   ]\u001b[0m -- import \u001b[1m\u001b[31mbinaries.tools\u001b[0m as \u001b[1m\u001b[31mtools\u001b[0m\n",
      "\u001b[1m\u001b[32m16:36:44\u001b[0m (\u001b[1m\u001b[35m  +414ms\u001b[0m) \u001b[1m\u001b[32m[INFO   ]\u001b[0m -- import \u001b[1m\u001b[31mmatplotlib.pyplot\u001b[0m as \u001b[1m\u001b[31mplt\u001b[0m\n",
      "\u001b[1m\u001b[32m16:36:45\u001b[0m (\u001b[1m\u001b[35m  +579ms\u001b[0m) \u001b[1m\u001b[32m[INFO   ]\u001b[0m -- import \u001b[1m\u001b[31mseaborn\u001b[0m as \u001b[1m\u001b[31mso\u001b[0m\n",
      "\u001b[1m\u001b[32m16:36:45\u001b[0m (\u001b[1m\u001b[35m    +3ms\u001b[0m) \u001b[1m\u001b[32m[INFO   ]\u001b[0m -- import \u001b[1m\u001b[31mplotting.tools\u001b[0m as \u001b[1m\u001b[31mplot\u001b[0m\n",
      "\u001b[1m\u001b[34m16:36:45\u001b[0m (\u001b[1m\u001b[35m   +13ms\u001b[0m) \u001b[1m\u001b[34m[DEBUG  ]\u001b[0m -- font size set to 9.5\n",
      "\u001b[1m\u001b[34m16:36:45\u001b[0m (\u001b[1m\u001b[35m    +1ms\u001b[0m) \u001b[1m\u001b[34m[DEBUG  ]\u001b[0m -- label size set to 13.0\n",
      "\u001b[1m\u001b[34m16:36:45\u001b[0m (\u001b[1m\u001b[35m    +0ms\u001b[0m) \u001b[1m\u001b[34m[DEBUG  ]\u001b[0m -- figure size set to [6.6, 3.3]\n",
      "\u001b[1m\u001b[34m16:36:45\u001b[0m (\u001b[1m\u001b[35m    +1ms\u001b[0m) \u001b[1m\u001b[34m[DEBUG  ]\u001b[0m -- markersize set to 2.0\n",
      "\u001b[1m\u001b[34m16:36:45\u001b[0m (\u001b[1m\u001b[35m    +1ms\u001b[0m) \u001b[1m\u001b[34m[DEBUG  ]\u001b[0m -- usetex set to False\n"
     ]
    }
   ],
   "source": [
    "from utils.binaries import *\n",
    "from utils.plotting import *"
   ]
  },
  {
   "cell_type": "code",
   "execution_count": 2,
   "metadata": {},
   "outputs": [],
   "source": [
    "def read_file(run, station):\n",
    "\n",
    "    path = f\"/cr/data01/filip/Data/muonAcquisitionII/data/{run}/muonAcqStore.out_{station}.out\"\n",
    "    all_hist = lambda x: [int(e.split(\" \")[-1]) for e in x]\n",
    "    coinc_hist = lambda x: [int(e.split(\" \")[-4]) for e in x]  # ...\n",
    "    peak_histo, rates = [], []\n",
    "\n",
    "    with open(path, \"r\") as source:\n",
    "\n",
    "        baseline = 0\n",
    "\n",
    "        is_peak_histogram = False\n",
    "        is_all_histogram = False\n",
    "        for i, line in enumerate(source.readlines()):\n",
    "            line = line.strip()\n",
    "\n",
    "            if line.startswith(\"Offset\"):\n",
    "                baseline = int(line.split(\" \")[-1])\n",
    "\n",
    "            if line == \"Peak\":\n",
    "                is_peak_histogram = True\n",
    "                continue\n",
    "            elif line == \"Charge\":\n",
    "                is_peak_histogram = False\n",
    "\n",
    "            if is_peak_histogram:\n",
    "                peak_histo.append(line)\n",
    "            if line == \"======ssd:\":\n",
    "                is_all_histogram = True\n",
    "                continue\n",
    "\n",
    "            if is_all_histogram:\n",
    "                rates.append(line)\n",
    "\n",
    "        bin0 = int(rates[0].split(\" \")[3])\n",
    "\n",
    "    return bin0 - baseline, np.cumsum(all_hist(rates[1:])[::-1])[::-1] / 61"
   ]
  },
  {
   "cell_type": "code",
   "execution_count": 3,
   "metadata": {},
   "outputs": [],
   "source": [
    "import os\n",
    "\n",
    "data = '/cr/data01/filip/Data/muonAcquisitionII/data'\n",
    "offsets = {}\n",
    "int_rates = {}\n",
    "timestamps = []\n",
    "\n",
    "for run in os.listdir(data):\n",
    "    files = os.listdir(f\"{data}/{run}\")\n",
    "    if int(run) > 90: continue\n",
    "\n",
    "    for file in files:\n",
    "        if file.endswith('.out'):\n",
    "            if file.startswith('muonAcqStore'):\n",
    "                station = int(file.split('.')[1][-3:])\n",
    "                \n",
    "                offset, rate = read_file(run, station)\n",
    "\n",
    "                try:\n",
    "                    offsets[station].append(offset)\n",
    "                    int_rates[station].append(rate)\n",
    "\n",
    "                except KeyError:\n",
    "                    offsets[station] = [offset]\n",
    "                    int_rates[station] = [rate]\n",
    "            else: \n",
    "                timestamps.append(int(file.split('.')[0]))\n",
    "\n",
    "tools.pickle_save('/cr/data01/filip/Data/muonAcquisitionII/time_offset_rates.pkl', [timestamps, offsets, int_rates])"
   ]
  }
 ],
 "metadata": {
  "kernelspec": {
   "display_name": ".venv",
   "language": "python",
   "name": "python3"
  },
  "language_info": {
   "codemirror_mode": {
    "name": "ipython",
    "version": 3
   },
   "file_extension": ".py",
   "mimetype": "text/x-python",
   "name": "python",
   "nbconvert_exporter": "python",
   "pygments_lexer": "ipython3",
   "version": "3.10.12"
  }
 },
 "nbformat": 4,
 "nbformat_minor": 2
}
