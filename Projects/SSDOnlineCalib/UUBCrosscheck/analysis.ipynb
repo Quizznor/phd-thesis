{
 "cells": [
  {
   "cell_type": "code",
   "execution_count": null,
   "metadata": {},
   "outputs": [],
   "source": [
    "import sys, os\n",
    "sys.path.append('/cr/users/filip/bin/')\n",
    "\n",
    "from utils.binaries import *\n",
    "from utils.plotting import *"
   ]
  },
  {
   "cell_type": "code",
   "execution_count": null,
   "metadata": {},
   "outputs": [],
   "source": [
    "root = '/cr/tempdata01/filip/SSDCalib/UUBCrosscheck/Mar2023/'\n",
    "data_combined = []\n",
    "\n",
    "for directory in ['NadiaEarlyFilteredDownsampled', 'NadiaLateFilteredDownsampled']:\n",
    "    t1_info = []\n",
    "    directory = root + directory\n",
    "\n",
    "    for file in os.listdir(directory):\n",
    "        t1_info.append(sum(np.loadtxt(directory + '/' + file)))\n",
    "\n",
    "    t1_info = np.array(t1_info) / (8.33e-9 * 2048 * 5000)\n",
    "    data_combined += list(t1_info)\n",
    "\n",
    "plt.suptitle(\"Nadia\")\n",
    "plot.box_series(range(len(data_combined)), data_combined)\n",
    "\n",
    "plt.legend()\n",
    "plt.xlabel('File ID')\n",
    "plt.ylabel(r'Trigger rate / Hz')"
   ]
  },
  {
   "cell_type": "code",
   "execution_count": null,
   "metadata": {},
   "outputs": [],
   "source": [
    "directory = '/cr/tempdata01/filip/SSDCalib/UUBCrosscheck/Nov2022/NuriaJrDownsampled/'\n",
    "t1_info = []\n",
    "\n",
    "for file in os.listdir(directory):\n",
    "    t1_info.append(sum(np.loadtxt(directory + '/' + file)))\n",
    "\n",
    "t1_info = np.array(t1_info) / (8.33e-9 * 2048 * 5000)\n",
    "\n",
    "plt.suptitle(\"NuriaJr\")\n",
    "plot.box_series(range(len(t1_info)), t1_info)\n",
    "\n",
    "plt.legend()\n",
    "plt.xlabel('File ID')\n",
    "plt.ylabel(r'Trigger rate / Hz')"
   ]
  },
  {
   "cell_type": "markdown",
   "metadata": {},
   "source": [
    "# Results presented at Trigger session"
   ]
  },
  {
   "cell_type": "code",
   "execution_count": null,
   "metadata": {},
   "outputs": [],
   "source": [
    "root = '/cr/tempdata01/filip/SSDCalib/WCDT1Calib/'\n",
    "\n",
    "for _dir in ['Nov2022/NuriaJrFilteredOnline']:\n",
    "    # if 'Peru' in _dir: continue\n",
    "    t1_info = []\n",
    "    for file in os.listdir(root+_dir):\n",
    "        t1_info.append(sum(np.loadtxt(root + _dir + '/' + file)))\n",
    "\n",
    "    t1_info = np.array(t1_info) / (5000 * 2048 * 8.33e-9)\n",
    "\n",
    "    plotting.box_series(range(len(t1_info)), t1_info, label=_dir, analyze_drift=True)\n",
    "\n",
    "plt.legend()"
   ]
  },
  {
   "cell_type": "markdown",
   "metadata": {},
   "source": [
    "# Compare old and new T1 algorithm"
   ]
  },
  {
   "cell_type": "code",
   "execution_count": null,
   "metadata": {},
   "outputs": [],
   "source": [
    "for root in ['/cr/tempdata01/filip/SSDCalib/UUBCrosscheck/Mar2023/NadiaEarlyFilteredDownsampled', \n",
    "             '/cr/tempdata01/filip/SSDCalib/WCDT1Calib/Mar2023/NadiaEarlyFilteredDownsampled']:\n",
    "\n",
    "    t1_info = []\n",
    "\n",
    "    for file in os.listdir(root):\n",
    "        t1_info.append(sum(np.loadtxt(root + '/' + file)))\n",
    "\n",
    "    t1_info = np.array(t1_info) / (8.33e-9 * 2048 * 5000)\n",
    "    plotting.box_series(range(len(t1_info)), t1_info)\n",
    "\n",
    "plt.legend()\n",
    "plt.xlabel('File ID')\n",
    "plt.ylabel('Trigger rate / Hz')"
   ]
  },
  {
   "cell_type": "code",
   "execution_count": null,
   "metadata": {},
   "outputs": [],
   "source": []
  }
 ],
 "metadata": {
  "kernelspec": {
   "display_name": "base",
   "language": "python",
   "name": "python3"
  },
  "language_info": {
   "codemirror_mode": {
    "name": "ipython",
    "version": 3
   },
   "file_extension": ".py",
   "mimetype": "text/x-python",
   "name": "python",
   "nbconvert_exporter": "python",
   "pygments_lexer": "ipython3",
   "version": "3.9.12"
  }
 },
 "nbformat": 4,
 "nbformat_minor": 2
}
