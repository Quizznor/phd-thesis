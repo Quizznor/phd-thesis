{
 "cells": [
  {
   "cell_type": "code",
   "execution_count": null,
   "metadata": {},
   "outputs": [],
   "source": [
    "import sys, os\n",
    "import numpy as np\n",
    "\n",
    "station = 'NadiaEarlyFilteredDownsampled'\n",
    "date = 'Mar2023'\n",
    "\n",
    "q_peak = {\n",
    "    # 'Jaco' :                            np.array([189.4, 164.3, 158.6]),\n",
    "    # 'Granada' :                         np.array([153.5, 160.6, 170.0]),\n",
    "    # 'NuriaJrFiltered' :                 np.array([132.5, 135.2, 133.6]),\n",
    "    # 'NuriaJrFilteredOnline' :           np.array([156.5, 163.7, 162.7]),\n",
    "    # 'NuriaJrFilteredT1' :               np.array([172.0, 184.5, 171.3]),\n",
    "    # 'PeruFilteredT1' :                  np.array([172.4, 139.9, 171.1]),\n",
    "    # 'SvenjaFiltered':                   np.array([134.3, 144.1, 134.5]),\n",
    "    # 'NadiaEarlyFilteredDownsampled' :   np.array([114.9, 124.4, 116.8]),\n",
    "    # 'NadiaLateFilteredDownsampled' :    np.array([114.0, 125.3, 113.6]),\n",
    "    # 'NadiaLateFilteredDownsampledT1' :  np.array([148.9, 162.2, 151.8]),\n",
    "    # 'NadiaEarlyFilteredDownsampledT1' : np.array([148.9, 162.2, 151.8]),\n",
    "    # 'NadiaLateOnline' :                 np.array([144.0, 149.7, 149.2]),\n",
    "    # 'NadiaEarlyOnline' :                np.array([144.0, 149.7, 149.2]),\n",
    "\n",
    "    'NuriaJrFilteredDownsampled' :      np.array([156.50, 163.65, 162.70]),\n",
    "    'PeruFilteredDownsampled' :         np.array([150.30, 117.50, 153.35]),\n",
    "    'NadiaEarlyFilteredDownsampled' :   np.array([148.90, 162.20, 151.75]),\n",
    "    'NadiaLateFilteredDownsampled' :    np.array([148.90, 162.20, 151.75]),\n",
    "}\n",
    "\n",
    "def check_T1(trace : np.ndarray) -> int :\n",
    "\n",
    "    # Maybe adjust thresholds instead of calibrating trace\n",
    "    # likely faster and more reflective of actual algorithm \n",
    "\n",
    "    for i in range(trace.shape[1]):\n",
    "        if trace[0][i] > threshold[0]:\n",
    "            if trace[1][i] > threshold[1]:\n",
    "                if trace[2][i] > threshold[2]:\n",
    "                    return 1\n",
    "                else: continue\n",
    "            else: continue\n",
    "        else:continue\n",
    "    else: return 0 \n",
    "\n",
    "os.system(f\"mkdir -p /cr/tempdata01/filip/SSDCalib/UUBCrosscheck/{date}/{station}\")\n",
    "wcd_file=f\"/cr/tempdata01/filip/UubRandoms/{date}/converted/{station}/randoms0001_WCD.dat\"\n",
    "\n",
    "traces = np.loadtxt(wcd_file)\n",
    "traces = np.split(traces, len(traces) // 3)\n",
    "\n",
    "threshold = q_peak[station]\n",
    "t1_info = []"
   ]
  },
  {
   "cell_type": "code",
   "execution_count": null,
   "metadata": {},
   "outputs": [],
   "source": [
    "for i, trace in enumerate(traces):\n",
    "    t1_info.append(check_T1(trace))"
   ]
  },
  {
   "cell_type": "code",
   "execution_count": null,
   "metadata": {},
   "outputs": [],
   "source": [
    "print(sum(t1_info))\n",
    "print(np.argmax(t1_info))\n",
    "print(traces[0].shape)\n",
    "print()"
   ]
  },
  {
   "cell_type": "code",
   "execution_count": null,
   "metadata": {},
   "outputs": [],
   "source": [
    "tracesT1 = np.array(traces)[np.array(t1_info).astype(bool)]\n",
    "print(len(tracesT1))"
   ]
  },
  {
   "cell_type": "code",
   "execution_count": null,
   "metadata": {},
   "outputs": [],
   "source": [
    "import matplotlib.pyplot as plt\n",
    "\n",
    "i = 16\n",
    "plt.plot(range(682), tracesT1[i][0])\n",
    "plt.plot(range(682), tracesT1[i][1])\n",
    "plt.plot(range(682), tracesT1[i][2])\n",
    "\n",
    "peak = np.argmax(tracesT1[i][0])\n",
    "\n",
    "plt.ylim(-10, 162.20)\n",
    "plt.xlim(peak - 20, peak + 49)"
   ]
  }
 ],
 "metadata": {
  "kernelspec": {
   "display_name": "base",
   "language": "python",
   "name": "python3"
  },
  "language_info": {
   "codemirror_mode": {
    "name": "ipython",
    "version": 3
   },
   "file_extension": ".py",
   "mimetype": "text/x-python",
   "name": "python",
   "nbconvert_exporter": "python",
   "pygments_lexer": "ipython3",
   "version": "3.9.12"
  }
 },
 "nbformat": 4,
 "nbformat_minor": 2
}
