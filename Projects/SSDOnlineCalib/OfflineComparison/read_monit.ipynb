{
 "cells": [
  {
   "cell_type": "code",
   "execution_count": 7,
   "metadata": {},
   "outputs": [
    {
     "name": "stdout",
     "output_type": "stream",
     "text": [
      "[]\n"
     ]
    }
   ],
   "source": [
    "import uproot\n",
    "\n",
    "#monitoring = uproot.concatenate(\"/cr/tempdata01/filip/SSDCalib/Monit/*.root\")\n",
    "monitoring = uproot.open(\"/cr/tempdata01/filip/SSDCalib/Monit/SD_2022_11_16_adst.root\")\n",
    "\n",
    "print(monitoring['recData;1']['event./event.TObject/event.TObject.fUniqueID'].keys())"
   ]
  },
  {
   "cell_type": "code",
   "execution_count": null,
   "metadata": {},
   "outputs": [],
   "source": []
  }
 ],
 "metadata": {
  "kernelspec": {
   "display_name": "base",
   "language": "python",
   "name": "python3"
  },
  "language_info": {
   "codemirror_mode": {
    "name": "ipython",
    "version": 3
   },
   "file_extension": ".py",
   "mimetype": "text/x-python",
   "name": "python",
   "nbconvert_exporter": "python",
   "pygments_lexer": "ipython3",
   "version": "3.9.12"
  },
  "orig_nbformat": 4
 },
 "nbformat": 4,
 "nbformat_minor": 2
}
