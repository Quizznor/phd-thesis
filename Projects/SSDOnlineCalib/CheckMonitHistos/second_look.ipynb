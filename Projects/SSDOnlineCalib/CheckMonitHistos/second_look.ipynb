{
 "cells": [
  {
   "cell_type": "code",
   "execution_count": 3,
   "metadata": {},
   "outputs": [],
   "source": [
    "import sys, os\n",
    "sys.path.append('/cr/users/filip/bin/')\n",
    "\n",
    "from utils.Auger.SD import Monitoring\n",
    "\n",
    "from utils.binaries import *\n",
    "from utils.plotting import *"
   ]
  },
  {
   "cell_type": "code",
   "execution_count": null,
   "metadata": {},
   "outputs": [],
   "source": [
    "thresholds = np.round(np.arange(1.0, 5.01, 0.05), 2)\n",
    "data = pd.read_csv('/cr/tempdata01/filip/SSDCalib/BootstrapHistos/rates.txt', sep=' ', index_col=False)\n",
    "\n",
    "data = data.dropna()\n",
    "# data = data.drop(data[data['#id'] == 734].index)\n",
    "# data = data.drop(data[data['#id'] == 1732].index)\n",
    "\n",
    "# in UUB RANDOMS STATIONS FROM {Dec, Mar, Jun, Sep} 2021-2023\n",
    "# 29681 events in dataset before fitting algorithm rework\n",
    "# 44958 events in dataset AFTER fitting algoritm reworked\n",
    "\n",
    "# in ALL STATIONS in {Jun, Dec} 2023\n",
    "# 869_609 showers"
   ]
  },
  {
   "cell_type": "code",
   "execution_count": null,
   "metadata": {},
   "outputs": [],
   "source": [
    "data"
   ]
  },
  {
   "cell_type": "code",
   "execution_count": null,
   "metadata": {},
   "outputs": [],
   "source": [
    "from scipy.stats import zscore\n",
    "\n",
    "# remove station specific outliers (3 sigma)\n",
    "data_wo_outliers = pd.DataFrame([], columns=data.columns)\n",
    "for station in np.unique(data['#id']):\n",
    "    mask = data['#id'] == station\n",
    "    df = data[mask]\n",
    "    n_orig = len(df)\n",
    "\n",
    "    for col in df.columns:\n",
    "        if not col.endswith('xmip'): continue\n",
    "        df = df.drop(df[np.abs(zscore(df[col])) > 3].index)\n",
    "    \n",
    "    n_wo_outlier = len(df)\n",
    "    data_wo_outliers = pd.concat([data_wo_outliers, df])\n",
    "\n",
    "    print(f\"{n_orig - n_wo_outlier} outliers removed for station {station}...\")"
   ]
  },
  {
   "cell_type": "code",
   "execution_count": null,
   "metadata": {},
   "outputs": [],
   "source": [
    "so.jointplot(data_wo_outliers, x='mip', y='5.0xmip', palette='tab10')\n",
    "plt.xlim(10, 60)\n",
    "plt.ylim(0, 7)\n",
    "plt.legend(title='Station ID')\n",
    "plt.xlabel('$\\mathrm{MIP}_\\mathrm{Peak}$ / ADC')\n",
    "plt.ylabel('Rate above $1.75\\,I^\\mathrm{SSD}_\\mathrm{histo}$ / Hz')"
   ]
  },
  {
   "cell_type": "code",
   "execution_count": null,
   "metadata": {},
   "outputs": [],
   "source": [
    "thresholds = np.round(np.arange(1.0, 5.01, 0.05), 2)\n",
    "ax = plt.gca()\n",
    "\n",
    "_ = plt.violinplot([data_wo_outliers[f\"{t}xmip\"].values for t in thresholds], \n",
    "                   positions=thresholds, \n",
    "                   widths=0.05,\n",
    "                   showmeans=True)\n",
    "\n",
    "rates = np.array([data_wo_outliers[f\"{t}xmip\"].mean() for t in thresholds])\n",
    "sigma_sys = np.array([data_wo_outliers[f\"{t}xmip\"].std() for t in thresholds]) / rates\n",
    "sigma_stat = 1/np.sqrt(rates * 61)\n",
    "sigma = np.sqrt(sigma_sys ** 2 + sigma_stat ** 2)\n",
    "\n",
    "error = ax.twinx()\n",
    "error.plot(thresholds, sigma_stat, label=r\"$\\sigma_\\mathrm{stat.}$\", c='r', ls='--')\n",
    "error.plot(thresholds, sigma_sys, label=r\"$\\sigma_{\\mathrm{sys.}}$\", c='b', ls=':')\n",
    "error.plot(thresholds, sigma, label=r\"$\\sqrt{\\Sigma_i\\,\\sigma_i^2}$\", c='g', ls='-.')\n",
    "\n",
    "ax.plot([], [], label=r\"$\\sigma_\\mathrm{stat.}$\")\n",
    "ax.plot([], [],label=r\"$\\sigma_{\\mathrm{sys.}}$\")\n",
    "ax.plot([], [], label=r\"$\\sqrt{\\Sigma_i\\,\\sigma_i^2}$\")\n",
    "ax.errorbar([],[], [], label='Events', fmt='ko', ls=None, capsize=2)\n",
    "ax.set_xlabel(\"Threshold / $I^\\mathrm{SSD}_\\mathrm{histo}$\")\n",
    "ax.set_ylabel(\"Rate above threshold $r^+$ / Hz\")\n",
    "ax.legend(loc='upper right', ncol=2)\n",
    "error.set_ylabel(r'$\\sigma_{r^+}\\,/\\,r^+$')\n",
    "error.set_ylim(0, 0.5)"
   ]
  },
  {
   "cell_type": "code",
   "execution_count": null,
   "metadata": {},
   "outputs": [],
   "source": [
    "# calc mean rate\n",
    "mean_rates = np.zeros_like(thresholds)\n",
    "stations = np.unique(data['#id'])\n",
    "for i,t in enumerate(thresholds):\n",
    "    for station in stations:\n",
    "        df = data[data['#id'] == station]\n",
    "        mean_rates[i] += df[f\"{t}xmip\"].mean() / len(stations)\n",
    "\n",
    "with open('/cr/users/filip/Data/SDMonitHistos/mean_rates.txt', 'w') as f:\n",
    "    for t, r in zip(thresholds, mean_rates):\n",
    "        # print(t, np.round(r, 3))\n",
    "        f.write(f\"{t} {r:.3f}\\n\")"
   ]
  },
  {
   "cell_type": "code",
   "execution_count": null,
   "metadata": {},
   "outputs": [],
   "source": []
  },
  {
   "cell_type": "code",
   "execution_count": null,
   "metadata": {},
   "outputs": [],
   "source": []
  }
 ],
 "metadata": {
  "kernelspec": {
   "display_name": "Python 3",
   "language": "python",
   "name": "python3"
  },
  "language_info": {
   "codemirror_mode": {
    "name": "ipython",
    "version": 3
   },
   "file_extension": ".py",
   "mimetype": "text/x-python",
   "name": "python",
   "nbconvert_exporter": "python",
   "pygments_lexer": "ipython3",
   "version": "3.10.12"
  }
 },
 "nbformat": 4,
 "nbformat_minor": 2
}
