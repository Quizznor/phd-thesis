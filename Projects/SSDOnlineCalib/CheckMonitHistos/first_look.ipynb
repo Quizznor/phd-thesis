{
 "cells": [
  {
   "cell_type": "code",
   "execution_count": 1,
   "metadata": {},
   "outputs": [
    {
     "name": "stderr",
     "output_type": "stream",
     "text": [
      "\u001b[01;32m12:36:20 [INFO] utils         \u001b[0m -- (\u001b[01;35m +3141ms\u001b[0m) -- import \u001b[1m\u001b[91mlogging\u001b[0m\n",
      "\u001b[01;32m12:36:20 [INFO] utils.binaries\u001b[0m -- (\u001b[01;35m  +183ms\u001b[0m) -- import \u001b[1m\u001b[91mnumpy\u001b[0m as \u001b[1m\u001b[91mnp\u001b[0m\n",
      "\u001b[01;32m12:36:21 [INFO] utils.binaries\u001b[0m -- (\u001b[01;35m  +393ms\u001b[0m) -- import \u001b[1m\u001b[91mpandas\u001b[0m as \u001b[1m\u001b[91mpd\u001b[0m\n",
      "\u001b[01;32m12:36:21 [INFO] utils.binaries\u001b[0m -- (\u001b[01;35m    +4ms\u001b[0m) -- import \u001b[1m\u001b[91mbinaries.tools\u001b[0m as \u001b[1m\u001b[91mbinaries\u001b[0m\n",
      "\u001b[01;32m12:36:22 [INFO] utils.plotting\u001b[0m -- (\u001b[01;35m  +887ms\u001b[0m) -- import \u001b[1m\u001b[91mmatplotlib.pyplot\u001b[0m as \u001b[1m\u001b[91mplt\u001b[0m\n",
      "\u001b[01;32m12:36:22 [INFO] utils.plotting\u001b[0m -- (\u001b[01;35m  +496ms\u001b[0m) -- import \u001b[1m\u001b[91mseaborn\u001b[0m as \u001b[1m\u001b[91msns\u001b[0m\n",
      "\u001b[01;36m12:36:22 [DBUG] utils.plotting\u001b[0m -- (\u001b[01;35m   +15ms\u001b[0m) -- font size set to 4\u001b[0m\n",
      "\u001b[01;36m12:36:22 [DBUG] utils.plotting\u001b[0m -- (\u001b[01;35m    +1ms\u001b[0m) -- figure size set to [2.4, 1.2]\u001b[0m\n",
      "\u001b[01;36m12:36:22 [DBUG] utils.plotting\u001b[0m -- (\u001b[01;35m    +1ms\u001b[0m) -- plotting style set to `notebook`.\u001b[0m\n",
      "\u001b[01;32m12:36:22 [INFO] utils.plotting\u001b[0m -- (\u001b[01;35m    +3ms\u001b[0m) -- import \u001b[1m\u001b[91mplotting.tools\u001b[0m as \u001b[1m\u001b[91mplot\u001b[0m\n"
     ]
    }
   ],
   "source": [
    "import sys, os\n",
    "sys.path.append('/cr/users/filip/bin/')\n",
    "\n",
    "from utils.Auger.SD import Monitoring\n",
    "\n",
    "from utils.binaries import *\n",
    "from utils.plotting import *"
   ]
  },
  {
   "cell_type": "markdown",
   "metadata": {},
   "source": [
    "# Where calibration histogram?"
   ]
  },
  {
   "cell_type": "code",
   "execution_count": 6,
   "metadata": {},
   "outputs": [
    {
     "name": "stdout",
     "output_type": "stream",
     "text": [
      "File: /cr/auger02/Prod/monit/Sd//2023/12/mc_2023_12_11_00h00.root\n",
      "on branch: SDMonCal/SDMonCalBranch\n",
      "  -: TObject\n",
      "    -: fUniqueID\n",
      "    -: fBits\n",
      "  -: fLsId\n",
      "  -: fTime\n",
      "  -: fCDASTime\n",
      "  -: fMonitoring\n",
      "    -: fIsMonitoring\n",
      "    -: fIsUUB\n",
      "    -: fPMV[3]\n",
      "    -: fPMI[3]\n",
      "    -: fPMT[3]\n",
      "    -: fElectT\n",
      "    -: fBatteryT[2]\n",
      "    -: fBatteryV[2]\n",
      "    -: fCurrentLoad\n",
      "    -: fSolarPanelV\n",
      "    -: fSolarPanelI\n",
      "    -: fWaterLevel\n",
      "    -: fWaterT\n",
      "    -: f12VRadio\n",
      "    -: f3V\n",
      "    -: f_3V\n",
      "    -: f5V\n",
      "    -: f12V\n",
      "    -: f24V\n",
      "    -: fADCBaseline\n",
      "    -: fDAC4Voltage\n",
      "    -: f3VAnalogPower\n",
      "    -: f12VMultiplexer\n",
      "    -: fUPMV[3]\n",
      "    -: fUPMI[3]\n",
      "    -: fUPMT[3]\n",
      "    -: fExtT\n",
      "    -: fElectP\n",
      "    -: fElectH\n",
      "    -: fADC[9]\n",
      "    -: f12V_WT\n",
      "    -: f12VPMT[3]\n",
      "    -: f12VPM\n",
      "    -: f24VExt[2]\n",
      "    -: f3V3\n",
      "    -: f5VGPS\n",
      "    -: f3V3Analog\n",
      "    -: f_3V3Analog\n",
      "    -: f5VUSB\n",
      "    -: f1V0\n",
      "    -: f1V2\n",
      "    -: f1V8\n",
      "    -: f10V\n",
      "    -: f12VRadioI\n",
      "    -: f12VPMI\n",
      "    -: f3V3AnalogI\n",
      "    -: f_3V3AnalogI\n",
      "    -: f5VGPSI\n",
      "    -: f1V0I\n",
      "    -: f1V2I\n",
      "    -: f1V8I\n",
      "    -: f3V3I\n",
      "    -: fVInI\n",
      "    -: f3V3SCI\n",
      "    -: fILED\n",
      "  -: fRawMonitoring\n",
      "    -: fListOfMembers\n",
      "    -: fIsRawMonitoring\n",
      "    -: fSecond\n",
      "    -: fItemNb\n",
      "    -: fSummary\n",
      "    -: fIsUUB\n",
      "    -: fPMV[3]\n",
      "    -: fPMI[3]\n",
      "    -: fPMT[3]\n",
      "    -: fElectT\n",
      "    -: fBatteryT[2]\n",
      "    -: fBatteryV[2]\n",
      "    -: fCurrentLoad\n",
      "    -: fSolarPanelV\n",
      "    -: fSolarPanelI\n",
      "    -: fWaterLevel\n",
      "    -: fWaterT\n",
      "    -: f12VRadio\n",
      "    -: f3V\n",
      "    -: f_3V\n",
      "    -: f5V\n",
      "    -: f12V\n",
      "    -: f24V\n",
      "    -: fADCBaseline\n",
      "    -: fDAC4Voltage\n",
      "    -: f3VAnalogPower\n",
      "    -: f12VMultiplexer\n",
      "    -: fDACPM[3]\n",
      "    -: fDACLedVoltage\n",
      "    -: fUPMV[3]\n",
      "    -: fUPMI[3]\n",
      "    -: fUPMT[3]\n",
      "    -: fExtT\n",
      "    -: fElectP\n",
      "    -: fElectH\n",
      "    -: fUADC[9]\n",
      "    -: fExtra[8]\n",
      "    -: f12V_WT\n",
      "    -: f12V_BATTEMP[2]\n",
      "    -: f12V_WL\n",
      "    -: f12VPM\n",
      "    -: f24VExt[2]\n",
      "    -: f3V3\n",
      "    -: f5VGPS\n",
      "    -: f3V3Analog\n",
      "    -: f_3V3Analog\n",
      "    -: f1V0\n",
      "    -: f1V2\n",
      "    -: f1V8\n",
      "    -: f10V\n",
      "    -: f12VRadioI\n",
      "    -: f12VPMI\n",
      "    -: f3V3AnalogI\n",
      "    -: f_3V3AnalogI\n",
      "    -: f5VGPSI\n",
      "    -: f1V0I\n",
      "    -: f1V2I\n",
      "    -: f1V8I\n",
      "    -: f3V3I\n",
      "    -: fVInI\n",
      "    -: f3V3SCI\n",
      "    -: fILED\n",
      "  -: fCalibration\n",
      "    -: fVersion\n",
      "    -: fIsCalibration\n",
      "    -: fVersion2\n",
      "    -: fTubeMask\n",
      "    -: fStartSecond\n",
      "    -: fEndSecond\n",
      "    -: fT1\n",
      "    -: fT2\n",
      "    -: fTotRate\n",
      "    -: fTotD\n",
      "    -: fMops\n",
      "    -: fPast[3]\n",
      "    -: fAnode[3]\n",
      "    -: fVarianceDynode[3]\n",
      "    -: fDynode[3]\n",
      "    -: fVarianceAnode[3]\n",
      "    -: fUBase[4]\n",
      "    -: fVarianceUBase[4]\n",
      "    -: f70HzRate[3]\n",
      "    -: fTriggerDA[3]\n",
      "    -: fDynodeAnode[3]\n",
      "    -: fVarianceDynodeAnode[3]\n",
      "    -: fDynodeAnodeDt[3]\n",
      "    -: fVarianceDynodeAnodeDt[3]\n",
      "    -: fDynodeAnodeChi2[3]\n",
      "    -: fArea[3]\n",
      "    -: fPeak[3]\n",
      "    -: fListOfMembers\n",
      "  -: fSystem\n",
      "    -: fIsSystem\n",
      "    -: fCal100\n",
      "    -: fCal40\n",
      "    -: fDeadTime\n",
      "    -: fFreeDisk\n",
      "    -: fFreeRam\n"
     ]
    }
   ],
   "source": [
    "MonitTest = Monitoring.Monit(2023, 12, 11)\n",
    "\n",
    "print(MonitTest)"
   ]
  },
  {
   "cell_type": "code",
   "execution_count": 7,
   "metadata": {},
   "outputs": [],
   "source": [
    "import uproot\n",
    "\n",
    "file = uproot.open('/cr/auger02/Prod/SDdata/2023/11/sd_2023_11_01_10h58.root')"
   ]
  },
  {
   "cell_type": "code",
   "execution_count": 9,
   "metadata": {},
   "outputs": [
    {
     "ename": "NotImplementedError",
     "evalue": "memberwise serialization of AsVector(IoSdStation)\n    in file /cr/auger02/Prod/SDdata/2023/11/sd_2023_11_01_10h58.root",
     "output_type": "error",
     "traceback": [
      "\u001b[0;31m---------------------------------------------------------------------------\u001b[0m",
      "\u001b[0;31mNotImplementedError\u001b[0m                       Traceback (most recent call last)",
      "Cell \u001b[0;32mIn[9], line 1\u001b[0m\n\u001b[0;32m----> 1\u001b[0m \u001b[38;5;28mprint\u001b[39m(\u001b[43mfile\u001b[49m\u001b[43m[\u001b[49m\u001b[43mfile\u001b[49m\u001b[38;5;241;43m.\u001b[39;49m\u001b[43mkeys\u001b[49m\u001b[43m(\u001b[49m\u001b[43m)\u001b[49m\u001b[43m[\u001b[49m\u001b[38;5;241;43m0\u001b[39;49m\u001b[43m]\u001b[49m\u001b[43m]\u001b[49m)\n",
      "File \u001b[0;32m~/anaconda3/lib/python3.9/site-packages/uproot/reading.py:2106\u001b[0m, in \u001b[0;36mReadOnlyDirectory.__getitem__\u001b[0;34m(self, where)\u001b[0m\n\u001b[1;32m   2103\u001b[0m     \u001b[38;5;28;01mreturn\u001b[39;00m step\n\u001b[1;32m   2105\u001b[0m \u001b[38;5;28;01melse\u001b[39;00m:\n\u001b[0;32m-> 2106\u001b[0m     \u001b[38;5;28;01mreturn\u001b[39;00m \u001b[38;5;28;43mself\u001b[39;49m\u001b[38;5;241;43m.\u001b[39;49m\u001b[43mkey\u001b[49m\u001b[43m(\u001b[49m\u001b[43mwhere\u001b[49m\u001b[43m)\u001b[49m\u001b[38;5;241;43m.\u001b[39;49m\u001b[43mget\u001b[49m\u001b[43m(\u001b[49m\u001b[43m)\u001b[49m\n",
      "File \u001b[0;32m~/anaconda3/lib/python3.9/site-packages/uproot/reading.py:2509\u001b[0m, in \u001b[0;36mReadOnlyKey.get\u001b[0;34m(self)\u001b[0m\n\u001b[1;32m   2506\u001b[0m context \u001b[38;5;241m=\u001b[39m {\u001b[38;5;124m\"\u001b[39m\u001b[38;5;124mbreadcrumbs\u001b[39m\u001b[38;5;124m\"\u001b[39m: (), \u001b[38;5;124m\"\u001b[39m\u001b[38;5;124mTKey\u001b[39m\u001b[38;5;124m\"\u001b[39m: \u001b[38;5;28mself\u001b[39m}\n\u001b[1;32m   2508\u001b[0m \u001b[38;5;28;01mtry\u001b[39;00m:\n\u001b[0;32m-> 2509\u001b[0m     out \u001b[38;5;241m=\u001b[39m \u001b[38;5;28;43mcls\u001b[39;49m\u001b[38;5;241;43m.\u001b[39;49m\u001b[43mread\u001b[49m\u001b[43m(\u001b[49m\u001b[43mchunk\u001b[49m\u001b[43m,\u001b[49m\u001b[43m \u001b[49m\u001b[43mcursor\u001b[49m\u001b[43m,\u001b[49m\u001b[43m \u001b[49m\u001b[43mcontext\u001b[49m\u001b[43m,\u001b[49m\u001b[43m \u001b[49m\u001b[38;5;28;43mself\u001b[39;49m\u001b[38;5;241;43m.\u001b[39;49m\u001b[43m_file\u001b[49m\u001b[43m,\u001b[49m\u001b[43m \u001b[49m\u001b[43mselffile\u001b[49m\u001b[43m,\u001b[49m\u001b[43m \u001b[49m\u001b[43mparent\u001b[49m\u001b[43m)\u001b[49m\n\u001b[1;32m   2511\u001b[0m \u001b[38;5;28;01mexcept\u001b[39;00m uproot\u001b[38;5;241m.\u001b[39mdeserialization\u001b[38;5;241m.\u001b[39mDeserializationError:\n\u001b[1;32m   2512\u001b[0m     breadcrumbs \u001b[38;5;241m=\u001b[39m context\u001b[38;5;241m.\u001b[39mget(\u001b[38;5;124m\"\u001b[39m\u001b[38;5;124mbreadcrumbs\u001b[39m\u001b[38;5;124m\"\u001b[39m)\n",
      "File \u001b[0;32m~/anaconda3/lib/python3.9/site-packages/uproot/model.py:1296\u001b[0m, in \u001b[0;36mDispatchByVersion.read\u001b[0;34m(cls, chunk, cursor, context, file, selffile, parent, concrete)\u001b[0m\n\u001b[1;32m   1285\u001b[0m     \u001b[38;5;28;01mraise\u001b[39;00m \u001b[38;5;167;01mValueError\u001b[39;00m(\n\u001b[1;32m   1286\u001b[0m \u001b[38;5;250m        \u001b[39m\u001b[38;5;124;03m\"\"\"Unknown version {} for class {} that cannot be skipped \"\"\"\u001b[39;00m\n\u001b[1;32m   1287\u001b[0m \u001b[38;5;250m        \u001b[39m\u001b[38;5;124;03m\"\"\"because its number of bytes is unknown.\u001b[39;00m\n\u001b[0;32m   (...)\u001b[0m\n\u001b[1;32m   1291\u001b[0m         )\n\u001b[1;32m   1292\u001b[0m     )\n\u001b[1;32m   1294\u001b[0m \u001b[38;5;66;03m# versioned_cls.read starts with numbytes_version again because move=False (above)\u001b[39;00m\n\u001b[1;32m   1295\u001b[0m \u001b[38;5;28;01mreturn\u001b[39;00m \u001b[38;5;28mcls\u001b[39m\u001b[38;5;241m.\u001b[39mpostprocess(\n\u001b[0;32m-> 1296\u001b[0m     \u001b[43mversioned_cls\u001b[49m\u001b[38;5;241;43m.\u001b[39;49m\u001b[43mread\u001b[49m\u001b[43m(\u001b[49m\n\u001b[1;32m   1297\u001b[0m \u001b[43m        \u001b[49m\u001b[43mchunk\u001b[49m\u001b[43m,\u001b[49m\u001b[43m \u001b[49m\u001b[43mcursor\u001b[49m\u001b[43m,\u001b[49m\u001b[43m \u001b[49m\u001b[43mcontext\u001b[49m\u001b[43m,\u001b[49m\u001b[43m \u001b[49m\u001b[43mfile\u001b[49m\u001b[43m,\u001b[49m\u001b[43m \u001b[49m\u001b[43mselffile\u001b[49m\u001b[43m,\u001b[49m\u001b[43m \u001b[49m\u001b[43mparent\u001b[49m\u001b[43m,\u001b[49m\u001b[43m \u001b[49m\u001b[43mconcrete\u001b[49m\u001b[38;5;241;43m=\u001b[39;49m\u001b[43mconcrete\u001b[49m\n\u001b[1;32m   1298\u001b[0m \u001b[43m    \u001b[49m\u001b[43m)\u001b[49m,\n\u001b[1;32m   1299\u001b[0m     chunk,\n\u001b[1;32m   1300\u001b[0m     cursor,\n\u001b[1;32m   1301\u001b[0m     context,\n\u001b[1;32m   1302\u001b[0m     file,\n\u001b[1;32m   1303\u001b[0m )\n",
      "File \u001b[0;32m~/anaconda3/lib/python3.9/site-packages/uproot/model.py:806\u001b[0m, in \u001b[0;36mModel.read\u001b[0;34m(cls, chunk, cursor, context, file, selffile, parent, concrete)\u001b[0m\n\u001b[1;32m    801\u001b[0m \u001b[38;5;28;01mif\u001b[39;00m context\u001b[38;5;241m.\u001b[39mget(\u001b[38;5;124m\"\u001b[39m\u001b[38;5;124mreading\u001b[39m\u001b[38;5;124m\"\u001b[39m, \u001b[38;5;28;01mTrue\u001b[39;00m):\n\u001b[1;32m    802\u001b[0m     \u001b[38;5;28mself\u001b[39m\u001b[38;5;241m.\u001b[39mhook_before_read_members(\n\u001b[1;32m    803\u001b[0m         chunk\u001b[38;5;241m=\u001b[39mchunk, cursor\u001b[38;5;241m=\u001b[39mcursor, context\u001b[38;5;241m=\u001b[39mcontext, file\u001b[38;5;241m=\u001b[39mfile\n\u001b[1;32m    804\u001b[0m     )\n\u001b[0;32m--> 806\u001b[0m     \u001b[38;5;28;43mself\u001b[39;49m\u001b[38;5;241;43m.\u001b[39;49m\u001b[43mread_members\u001b[49m\u001b[43m(\u001b[49m\u001b[43mchunk\u001b[49m\u001b[43m,\u001b[49m\u001b[43m \u001b[49m\u001b[43mcursor\u001b[49m\u001b[43m,\u001b[49m\u001b[43m \u001b[49m\u001b[43mcontext\u001b[49m\u001b[43m,\u001b[49m\u001b[43m \u001b[49m\u001b[43mfile\u001b[49m\u001b[43m)\u001b[49m\n\u001b[1;32m    808\u001b[0m     \u001b[38;5;28mself\u001b[39m\u001b[38;5;241m.\u001b[39mhook_after_read_members(\n\u001b[1;32m    809\u001b[0m         chunk\u001b[38;5;241m=\u001b[39mchunk, cursor\u001b[38;5;241m=\u001b[39mcursor, context\u001b[38;5;241m=\u001b[39mcontext, file\u001b[38;5;241m=\u001b[39mfile\n\u001b[1;32m    810\u001b[0m     )\n\u001b[1;32m    812\u001b[0m \u001b[38;5;28mself\u001b[39m\u001b[38;5;241m.\u001b[39mcheck_numbytes(chunk, cursor, context)\n",
      "File \u001b[0;32m<dynamic>:13\u001b[0m, in \u001b[0;36mread_members\u001b[0;34m(self, chunk, cursor, context, file)\u001b[0m\n",
      "File \u001b[0;32m~/anaconda3/lib/python3.9/site-packages/uproot/containers.py:895\u001b[0m, in \u001b[0;36mAsVector.read\u001b[0;34m(self, chunk, cursor, context, file, selffile, parent, header)\u001b[0m\n\u001b[1;32m    892\u001b[0m     \u001b[38;5;28;01mif\u001b[39;00m is_memberwise:\n\u001b[1;32m    893\u001b[0m         \u001b[38;5;66;03m# let's hard-code in logic for std::pair<T1,T2> for now\u001b[39;00m\n\u001b[1;32m    894\u001b[0m         \u001b[38;5;28;01mif\u001b[39;00m \u001b[38;5;129;01mnot\u001b[39;00m _value_typename\u001b[38;5;241m.\u001b[39mstartswith(\u001b[38;5;124m\"\u001b[39m\u001b[38;5;124mpair\u001b[39m\u001b[38;5;124m\"\u001b[39m):\n\u001b[0;32m--> 895\u001b[0m             \u001b[38;5;28;01mraise\u001b[39;00m \u001b[38;5;167;01mNotImplementedError\u001b[39;00m(\n\u001b[1;32m    896\u001b[0m \u001b[38;5;250m                \u001b[39m\u001b[38;5;124;03m\"\"\"memberwise serialization of {}({})\u001b[39;00m\n\u001b[1;32m    897\u001b[0m \u001b[38;5;124;03min file {}\"\"\"\u001b[39;00m\u001b[38;5;241m.\u001b[39mformat(\n\u001b[1;32m    898\u001b[0m                     \u001b[38;5;28mtype\u001b[39m(\u001b[38;5;28mself\u001b[39m)\u001b[38;5;241m.\u001b[39m\u001b[38;5;18m__name__\u001b[39m, _value_typename, selffile\u001b[38;5;241m.\u001b[39mfile_path\n\u001b[1;32m    899\u001b[0m                 )\n\u001b[1;32m    900\u001b[0m             )\n\u001b[1;32m    902\u001b[0m         \u001b[38;5;28;01mif\u001b[39;00m \u001b[38;5;129;01mnot\u001b[39;00m \u001b[38;5;28missubclass\u001b[39m(\u001b[38;5;28mself\u001b[39m\u001b[38;5;241m.\u001b[39m_values, uproot\u001b[38;5;241m.\u001b[39mmodel\u001b[38;5;241m.\u001b[39mDispatchByVersion):\n\u001b[1;32m    903\u001b[0m             \u001b[38;5;28;01mraise\u001b[39;00m \u001b[38;5;167;01mNotImplementedError\u001b[39;00m(\n\u001b[1;32m    904\u001b[0m \u001b[38;5;250m                \u001b[39m\u001b[38;5;124;03m\"\"\"streamerless memberwise serialization of class {}({})\u001b[39;00m\n\u001b[1;32m    905\u001b[0m \u001b[38;5;124;03min file {}\"\"\"\u001b[39;00m\u001b[38;5;241m.\u001b[39mformat(\n\u001b[1;32m    906\u001b[0m                     \u001b[38;5;28mtype\u001b[39m(\u001b[38;5;28mself\u001b[39m)\u001b[38;5;241m.\u001b[39m\u001b[38;5;18m__name__\u001b[39m, _value_typename, selffile\u001b[38;5;241m.\u001b[39mfile_path\n\u001b[1;32m    907\u001b[0m                 )\n\u001b[1;32m    908\u001b[0m             )\n",
      "\u001b[0;31mNotImplementedError\u001b[0m: memberwise serialization of AsVector(IoSdStation)\n    in file /cr/auger02/Prod/SDdata/2023/11/sd_2023_11_01_10h58.root"
     ]
    }
   ],
   "source": [
    "print(file[file.keys()[0]])"
   ]
  },
  {
   "cell_type": "code",
   "execution_count": 2,
   "metadata": {},
   "outputs": [
    {
     "name": "stdout",
     "output_type": "stream",
     "text": [
      "Welcome to JupyROOT 6.24/00\n"
     ]
    }
   ],
   "source": [
    "import ROOT"
   ]
  },
  {
   "cell_type": "code",
   "execution_count": 5,
   "metadata": {},
   "outputs": [
    {
     "data": {
      "text/plain": [
       "<cppyy.gbl.IoSdEvent object at 0x55ad8eae7ef0>"
      ]
     },
     "execution_count": 5,
     "metadata": {},
     "output_type": "execute_result"
    }
   ],
   "source": [
    "myFile = ROOT.TFile.Open(\"/cr/auger02/Prod/SDdata/2023/11/sd_2023_11_01_10h58.root\")\n",
    "myFile.Get(\"74122430#0#2C1&3C2&4C4#1382913684#5\")"
   ]
  },
  {
   "cell_type": "code",
   "execution_count": null,
   "metadata": {},
   "outputs": [],
   "source": []
  }
 ],
 "metadata": {
  "kernelspec": {
   "display_name": "base",
   "language": "python",
   "name": "python3"
  },
  "language_info": {
   "codemirror_mode": {
    "name": "ipython",
    "version": 3
   },
   "file_extension": ".py",
   "mimetype": "text/x-python",
   "name": "python",
   "nbconvert_exporter": "python",
   "pygments_lexer": "ipython3",
   "version": "3.9.12"
  }
 },
 "nbformat": 4,
 "nbformat_minor": 2
}
