{
 "cells": [
  {
   "cell_type": "code",
   "execution_count": null,
   "metadata": {},
   "outputs": [],
   "source": [
    "import sys, os\n",
    "\n",
    "sys.path.append(\"/cr/users/filip/bin/\")\n",
    "\n",
    "# from utils.Auger.SD import Monitoring\n",
    "\n",
    "from utils.binaries import *\n",
    "from utils.plotting import *"
   ]
  },
  {
   "cell_type": "code",
   "execution_count": null,
   "metadata": {},
   "outputs": [],
   "source": [
    "from scipy.stats import norm\n",
    "\n",
    "# see Station.h in Framework/SDetector\n",
    "ADC_bin_edges = np.array([2 * k for k in range(100)] + [200 + 8 * k for k in range(51)])\n",
    "ADC = 0.5 * (ADC_bin_edges[1:] + ADC_bin_edges[:-1])\n",
    "ADC_width = np.diff(ADC_bin_edges)\n",
    "\n",
    "\n",
    "def make_histo(counts):\n",
    "\n",
    "    histo = []\n",
    "    skip_to_peak = 5\n",
    "\n",
    "    for i, count in enumerate(counts[skip_to_peak:100]):\n",
    "        idx = i + skip_to_peak\n",
    "        width = ADC_width[idx]\n",
    "        wiggle = np.random.uniform(-0.5 * width, 0.5 * width, int(count))\n",
    "        array = np.array([ADC[idx] for _ in range(int(count))])\n",
    "        histo += [w + a for w, a in zip(wiggle, array)]\n",
    "\n",
    "    return histo\n",
    "\n",
    "\n",
    "def gauss(x, A, mu, sigma):\n",
    "    return A * np.exp(((x - mu) / (np.sqrt(2) * sigma)) ** 2)"
   ]
  },
  {
   "cell_type": "code",
   "execution_count": null,
   "metadata": {},
   "outputs": [],
   "source": [
    "def create_data():\n",
    "    container = []\n",
    "    for month in [\n",
    "        \"2021_12\",\n",
    "        \"2022_03\",\n",
    "        \"2022_06\",\n",
    "        \"2022_09\",\n",
    "        \"2022_12\",\n",
    "        \"2023_03\",\n",
    "        \"2023_06\",\n",
    "        \"2023_09\",\n",
    "        \"2023_12\",\n",
    "    ]:\n",
    "        # for month in ['dec2021', 'dec2022', 'dec2023']:\n",
    "        # for month in ['jun2022', 'jun2023']:\n",
    "        # for month in ['dec2023']:\n",
    "        # for month in []\n",
    "\n",
    "        print(f\"going through month: {month}\")\n",
    "\n",
    "        try:\n",
    "            data = np.loadtxt(f\"/cr/users/filip/Data/SDMonitHistos/out_{month}.txt\")\n",
    "        except FileNotFoundError:\n",
    "            print(f\"{month} not in data yet, please create it Ü ...\")\n",
    "            continue\n",
    "\n",
    "        for i, row in enumerate(data):\n",
    "            print(f\"event {i+1}/{len(data)}\", end=\"\\r\")\n",
    "            _id, time, *histo = row\n",
    "            histogram = make_histo(histo)\n",
    "            mip_peak, std = norm.fit(histogram)\n",
    "\n",
    "            rate_above_cut = sum([h > 1.75 * mip_peak for h in histogram]) / 61\n",
    "            ratio = rate_above_cut / mip_peak\n",
    "            container.append(\n",
    "                [str(int(_id)), month, time, mip_peak, rate_above_cut, ratio, histo]\n",
    "            )\n",
    "\n",
    "            # break\n",
    "        # break\n",
    "\n",
    "    df = pd.DataFrame(container, columns=(\"id\", \"month\", \"time\", \"histo\"))\n",
    "    df.to_csv(f\"uub_randoms_histos_{month}.csv\")\n",
    "\n",
    "    return df\n",
    "\n",
    "\n",
    "if os.path.isfile(\n",
    "    f\"/cr/tempdata01/filip/SSDCalib/BootstrapHistos/uub_randoms_histos.csv\"\n",
    "):\n",
    "    df = pd.read_csv(\n",
    "        \"/cr/tempdata01/filip/SSDCalib/BootstrapHistos/uub_randoms_histos.csv\",\n",
    "        index_col=0,\n",
    "    )\n",
    "    df[\"id\"] = df[\"id\"].astype(str)\n",
    "else:\n",
    "    df = create_data()"
   ]
  },
  {
   "cell_type": "code",
   "execution_count": null,
   "metadata": {},
   "outputs": [],
   "source": [
    "df.head()"
   ]
  },
  {
   "cell_type": "code",
   "execution_count": null,
   "metadata": {},
   "outputs": [],
   "source": [
    "so.jointplot(df, x=\"mip_peak\", y=\"rate_above_cut\", kind=\"scatter\", hue=\"id\")"
   ]
  },
  {
   "cell_type": "code",
   "execution_count": null,
   "metadata": {},
   "outputs": [],
   "source": [
    "high_rate = df.loc[df.rate_above_cut == df.rate_above_cut.max()]\n",
    "low_rate = df.loc[df.rate_above_cut == df.rate_above_cut.min()]\n",
    "average_event = df.loc[5]\n",
    "\n",
    "d = lambda x: np.array([float(a) for a in x[1:-1].split(\",\")])\n",
    "\n",
    "plt.plot(ADC, d(average_event.histo) / 61, label='\"average rate\"')\n",
    "plt.axvline(average_event.mip_peak, c=\"k\")\n",
    "plt.plot(ADC, d(high_rate.histo.values[0]) / 61, label='\"high rate\"')\n",
    "plt.axvline(high_rate.mip_peak.values[0], c=\"red\", ls=\"--\")\n",
    "plt.plot(ADC, d(low_rate.histo.values[0]) / 61, label='\"low rate\"')\n",
    "plt.axvline(low_rate.mip_peak.values[0], c=\"blue\", ls=\":\")\n",
    "plt.legend()\n",
    "\n",
    "plt.yscale(\"log\")"
   ]
  },
  {
   "cell_type": "code",
   "execution_count": null,
   "metadata": {},
   "outputs": [],
   "source": [
    "dBins = 0.5 * (ADC[1:] + ADC[:-1])\n",
    "ddBins = 0.5 * (dBins[1:] + dBins[:-1])\n",
    "\n",
    "Y = d(average_event.histo)\n",
    "Y /= np.max(Y)\n",
    "dY = np.diff(Y)\n",
    "dY /= np.max(dY)\n",
    "ddY = np.diff(dY)\n",
    "ddY /= np.max(ddY)\n",
    "\n",
    "plt.plot(ADC, Y, label=\"histo\")\n",
    "plt.plot(dBins, dY, label=\"histo'\")\n",
    "plt.plot(ddBins, ddY, label=\"histo''\")\n",
    "\n",
    "plt.xlim(0, 120)\n",
    "plt.legend()"
   ]
  },
  {
   "cell_type": "code",
   "execution_count": null,
   "metadata": {},
   "outputs": [],
   "source": [
    "station_container = []\n",
    "\n",
    "for station in np.unique(df.id.values):\n",
    "    selected_rows = df.loc[df[\"id\"] == station]\n",
    "    x, y = selected_rows[\"mip_peak\"], selected_rows[\"rate_above_cut\"]\n",
    "\n",
    "    try:\n",
    "        fit, residuals, _, _, _ = np.polyfit(x, y, 1, full=True)\n",
    "    except SystemError:\n",
    "        continue\n",
    "\n",
    "    chi_sqr = residuals\n",
    "    station_container.append([station, *fit, chi_sqr])\n",
    "\n",
    "df_station = pd.DataFrame(\n",
    "    station_container, columns=(\"id\", \"slope\", \"intercept\", \"chi_sqr\")\n",
    ")\n",
    "so.scatterplot(df_station, x=\"intercept\", y=\"slope\")"
   ]
  },
  {
   "cell_type": "code",
   "execution_count": null,
   "metadata": {},
   "outputs": [],
   "source": [
    "import datetime\n",
    "\n",
    "gps_unix_offset = 315964800\n",
    "\n",
    "plt.scatter(\n",
    "    [datetime.datetime.fromtimestamp(int(x) + gps_unix_offset) for x in df.time.values],\n",
    "    df.mip_peak.values,\n",
    "    alpha=0.05,\n",
    ")\n",
    "\n",
    "print(\n",
    "    f\"Peak to peak = {(df.mip_peak.max() - df.mip_peak.min()) / df.mip_peak.mean() * 100 :.2f}%\"\n",
    ")\n",
    "print(f\"std. dev. = {df.mip_peak.std()/df.mip_peak.mean() * 100 :.2f}%\")"
   ]
  },
  {
   "cell_type": "code",
   "execution_count": null,
   "metadata": {},
   "outputs": [],
   "source": [
    "x_data = [datetime.datetime.fromtimestamp(x) for x in df.time.values % 24 * 3600]\n",
    "plot.box_series(x_data, df.mip_peak.values, fmt=\"%H:%M\", bins=100)\n",
    "\n",
    "plt.xlabel(\"time of day\")\n",
    "plt.ylabel(\"MIP peak / ADC\")"
   ]
  },
  {
   "cell_type": "markdown",
   "metadata": {},
   "source": [
    "# Bootstrapping events to create continuous histos"
   ]
  },
  {
   "cell_type": "code",
   "execution_count": null,
   "metadata": {},
   "outputs": [],
   "source": [
    "with open(\"/cr/tempdata01/filip/SSDCalib/BootstrapHistos/histos.csv\", \"w\") as file:\n",
    "    for i, (mip, counts) in enumerate(zip(df.mip_peak, df.histo)):\n",
    "        print(i + 1, \"/\", len(df), end=\"\\r\")\n",
    "        counts = [int(float(a)) for a in counts[1:-1].split(\",\")]\n",
    "        histogram = make_histo(counts)\n",
    "\n",
    "        file.write(f\"{mip:.3f} {' '.join([str(np.round(_, 3)) for _ in histogram])}\\n\")"
   ]
  },
  {
   "cell_type": "code",
   "execution_count": null,
   "metadata": {},
   "outputs": [],
   "source": []
  }
 ],
 "metadata": {
  "kernelspec": {
   "display_name": "base",
   "language": "python",
   "name": "python3"
  },
  "language_info": {
   "codemirror_mode": {
    "name": "ipython",
    "version": 3
   },
   "file_extension": ".py",
   "mimetype": "text/x-python",
   "name": "python",
   "nbconvert_exporter": "python",
   "pygments_lexer": "ipython3",
   "version": "3.10.12"
  }
 },
 "nbformat": 4,
 "nbformat_minor": 2
}
