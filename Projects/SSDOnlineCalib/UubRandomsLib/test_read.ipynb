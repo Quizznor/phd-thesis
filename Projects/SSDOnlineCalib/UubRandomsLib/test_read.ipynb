{
 "cells": [
  {
   "cell_type": "code",
   "execution_count": 1,
   "metadata": {},
   "outputs": [
    {
     "name": "stderr",
     "output_type": "stream",
     "text": [
      "\u001b[1;32m16:34:33 [INFO] utils         \u001b[0m -- (\u001b[1;35m+26142ms\u001b[0m) -- import \u001b[1m\u001b[91mlogging\u001b[0m\n",
      "\u001b[1;32m16:34:33 [INFO] utils.binaries\u001b[0m -- (\u001b[1;35m   +95ms\u001b[0m) -- import \u001b[1m\u001b[91mnumpy\u001b[0m as \u001b[1m\u001b[91mnp\u001b[0m\n",
      "\u001b[1;32m16:34:33 [INFO] utils.binaries\u001b[0m -- (\u001b[1;35m    +9ms\u001b[0m) -- import \u001b[1m\u001b[91muncertainties\u001b[0m\n",
      "\u001b[1;32m16:34:33 [INFO] utils.binaries\u001b[0m -- (\u001b[1;35m  +170ms\u001b[0m) -- import \u001b[1m\u001b[91mpandas\u001b[0m as \u001b[1m\u001b[91mpd\u001b[0m\n",
      "\u001b[1;32m16:34:33 [INFO] utils.binaries\u001b[0m -- (\u001b[1;35m    +1ms\u001b[0m) -- import \u001b[1m\u001b[91mbinaries.tools\u001b[0m as \u001b[1m\u001b[91mtools\u001b[0m\n",
      "\u001b[1;32m16:34:33 [INFO] utils.plotting\u001b[0m -- (\u001b[1;35m  +271ms\u001b[0m) -- import \u001b[1m\u001b[91mmatplotlib.pyplot\u001b[0m as \u001b[1m\u001b[91mplt\u001b[0m\n",
      "\u001b[1;32m16:34:33 [INFO] utils.plotting\u001b[0m -- (\u001b[1;35m  +340ms\u001b[0m) -- import \u001b[1m\u001b[91mseaborn\u001b[0m as \u001b[1m\u001b[91mso\u001b[0m\n",
      "\u001b[1;36m16:34:33 [DBUG] utils.plotting\u001b[0m -- (\u001b[1;35m    +7ms\u001b[0m) -- font size set to 9.5\u001b[0m\n",
      "\u001b[1;36m16:34:33 [DBUG] utils.plotting\u001b[0m -- (\u001b[1;35m    +1ms\u001b[0m) -- label size set to 13.0\u001b[0m\n",
      "\u001b[1;36m16:34:34 [DBUG] utils.plotting\u001b[0m -- (\u001b[1;35m    +1ms\u001b[0m) -- figure size set to [6.6, 3.3]\u001b[0m\n",
      "\u001b[1;36m16:34:34 [DBUG] utils.plotting\u001b[0m -- (\u001b[1;35m    +1ms\u001b[0m) -- markersize set to 2.0\u001b[0m\n",
      "\u001b[1;36m16:34:34 [DBUG] utils.plotting\u001b[0m -- (\u001b[1;35m    +1ms\u001b[0m) -- usetex set to False\u001b[0m\n",
      "\u001b[1;32m16:34:34 [INFO] utils.plotting\u001b[0m -- (\u001b[1;35m    +2ms\u001b[0m) -- import \u001b[1m\u001b[91mplotting.tools\u001b[0m as \u001b[1m\u001b[91mplot\u001b[0m\n"
     ]
    }
   ],
   "source": [
    "import sys, os\n",
    "\n",
    "sys.path.append('/cr/users/filip/bin')\n",
    "\n",
    "from utils.binaries import *\n",
    "from utils.plotting import *"
   ]
  },
  {
   "cell_type": "code",
   "execution_count": 58,
   "metadata": {},
   "outputs": [],
   "source": [
    "ssd_fmt = np.dtype(('<i4, (2049,)i2'))\n",
    "ssd = np.fromfile('/cr/data02/AugerPrime/UUB/UubRandoms/2022_11/Peru/randoms0000.ssd', dtype=ssd_fmt)\n",
    "\n",
    "wcd_fmt = np.dtype(('<i4, (2049,)i2', (3,)))\n",
    "wcd = np.fromfile('/cr/data02/AugerPrime/UUB/UubRandoms/2022_11/Peru/randoms0000.wcd', dtype=wcd_fmt)"
   ]
  },
  {
   "cell_type": "code",
   "execution_count": 60,
   "metadata": {},
   "outputs": [
    {
     "name": "stdout",
     "output_type": "stream",
     "text": [
      "(5000, 3)\n",
      "(5000,)\n"
     ]
    }
   ],
   "source": [
    "print(wcd.shape)\n",
    "print(ssd.shape)"
   ]
  },
  {
   "cell_type": "code",
   "execution_count": null,
   "metadata": {},
   "outputs": [],
   "source": [
    "print(data)"
   ]
  },
  {
   "cell_type": "code",
   "execution_count": null,
   "metadata": {},
   "outputs": [],
   "source": []
  }
 ],
 "metadata": {
  "kernelspec": {
   "display_name": ".venv",
   "language": "python",
   "name": "python3"
  },
  "language_info": {
   "codemirror_mode": {
    "name": "ipython",
    "version": 3
   },
   "file_extension": ".py",
   "mimetype": "text/x-python",
   "name": "python",
   "nbconvert_exporter": "python",
   "pygments_lexer": "ipython3",
   "version": "3.10.12"
  }
 },
 "nbformat": 4,
 "nbformat_minor": 2
}
