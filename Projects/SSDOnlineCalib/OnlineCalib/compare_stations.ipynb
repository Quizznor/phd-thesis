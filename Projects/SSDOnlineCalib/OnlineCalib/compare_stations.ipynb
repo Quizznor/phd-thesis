{
 "cells": [
  {
   "cell_type": "code",
   "execution_count": 107,
   "metadata": {},
   "outputs": [],
   "source": [
    "import os\n",
    "import numpy as np\n",
    "import matplotlib.pyplot as plt\n",
    "from scipy.optimize import curve_fit\n",
    "from scipy.integrate import quad\n",
    "import scipy.stats as stats\n",
    "\n",
    "%matplotlib inline"
   ]
  },
  {
   "cell_type": "code",
   "execution_count": 127,
   "metadata": {},
   "outputs": [],
   "source": [
    "def offline_MIP(station):\n",
    "\n",
    "    data_dir = f\"/cr/tempdata01/filip/SSDCalib/UubRates/{station}\"\n",
    "    rates = np.zeros(350)\n",
    "\n",
    "    for file in os.listdir(data_dir):\n",
    "        rates += np.loadtxt(f\"{data_dir}/{file}\")\n",
    "\n",
    "    x_min, x_max = np.argmin(np.diff(rates)) + 10, 80\n",
    "    mu = -np.log(rates[x_max] / rates[x_min]) / (x_max - x_min)\n",
    "\n",
    "    background = lambda x: rates[x_min] * np.exp(-mu * (x-x_min))\n",
    "    landau = lambda x, A, loc, scale: A * stats.moyal(loc, scale).pdf(x)\n",
    "    residuals = rates[x_min:x_max] - background(range(x_min, x_max))\n",
    "\n",
    "    popt, pcov = curve_fit(landau, range(x_min, x_max), residuals, [32, 10, 160])\n",
    "\n",
    "    # Calculate uncertainty in mean from MC analysis\n",
    "    means = []\n",
    "\n",
    "    for i in range(1000):\n",
    "        mu = np.random.normal(popt[1], np.sqrt(np.diag(pcov)[1]))\n",
    "        s = np.random.normal(popt[2], np.sqrt(np.diag(pcov)[2]))\n",
    "        means.append(stats.moyal(mu, s).mean())\n",
    "\n",
    "    #X = range(x_min, x_max)\n",
    "    #plt.plot(range(1,351), rates)\n",
    "    #plt.plot(X, background(X) + landau(X, *popt))\n",
    "    #plt.yscale(\"log\")\n",
    "    #plt.ylim(1e4, 2e5)np.sqrt(row[3])/row[4]\n",
    "    #plt.xlim(x_min - 10, x_max + 10)\n",
    "\n",
    "    return np.mean(means), np.std(means)\n",
    "\n",
    "def online_MIP(station):\n",
    "\n",
    "    data = np.loadtxt(f'/cr/tempdata01/filip/SSDCalib/OnlineCalib/OnlineThresholds/{station}.dat')\n",
    "\n",
    "    if data.shape == (5,):\n",
    "        return [[ data[0], data[2], 1 ]]\n",
    "    else:\n",
    "        online_rates = []\n",
    "        for row in data:\n",
    "            online_rates.append([ row[0], row[2], 1 ])\n",
    "        \n",
    "        return online_rates\n"
   ]
  },
  {
   "cell_type": "code",
   "execution_count": 134,
   "metadata": {},
   "outputs": [
    {
     "data": {
      "text/plain": [
       "<matplotlib.legend.Legend at 0x7fe1e1b591c0>"
      ]
     },
     "execution_count": 134,
     "metadata": {},
     "output_type": "execute_result"
    },
    {
     "data": {
      "image/png": "[encoded data removed]",
      "text/plain": [
       "<Figure size 640x480 with 1 Axes>"
      ]
     },
     "metadata": {},
     "output_type": "display_data"
    }
   ],
   "source": [
    "stations = [\"NuriaJr\", \"Peru\"]\n",
    "cycle = plt.rcParams['axes.prop_cycle'].by_key()['color']\n",
    "color, ratios = {}, {}\n",
    "\n",
    "for i, station in enumerate(stations):\n",
    "    OFFLINE_MIP = offline_MIP(station)\n",
    "    ONLINE_MIP = online_MIP(station)\n",
    "\n",
    "    for mip in ONLINE_MIP:\n",
    "        \n",
    "        ratio = mip[1] / OFFLINE_MIP[0]\n",
    "        error = np.sqrt( (mip[2]/OFFLINE_MIP[0])**2 + (mip[1]/OFFLINE_MIP[0]**2 * OFFLINE_MIP[1])**2 )\n",
    "\n",
    "        try:\n",
    "            _ = color[mip[0]]\n",
    "            ratios[mip[0]].append(ratio)\n",
    "        except KeyError:\n",
    "            color[mip[0]] = len(color)\n",
    "            ratios[mip[0]] = [ratio]\n",
    "\n",
    "        plt.errorbar(i, ratio, yerr=error, color=cycle[color[mip[0]]], fmt='o', capsize=3)\n",
    "\n",
    "for rate, c in color.items():\n",
    "    plt.axhline(np.mean(ratios[rate]), c=cycle[c], ls='--')\n",
    "    plt.scatter([],[], color=cycle[c], label=f\"$t_{{{int(rate)}}} = {np.mean(ratios[rate]):.2f} \\pm {np.std(ratios[rate]):.3f}$\")\n",
    "\n",
    "_ = plt.ylabel(r\"MIP$_\\mathrm{Rate}$ / MIP$_\\mathrm{Histo}$\")\n",
    "plt.xticks(range(len(stations)), stations)\n",
    "plt.xlim(-0.5, i + 0.5)\n",
    "plt.legend()"
   ]
  },
  {
   "cell_type": "code",
   "execution_count": null,
   "metadata": {},
   "outputs": [],
   "source": []
  }
 ],
 "metadata": {
  "kernelspec": {
   "display_name": "base",
   "language": "python",
   "name": "python3"
  },
  "language_info": {
   "codemirror_mode": {
    "name": "ipython",
    "version": 3
   },
   "file_extension": ".py",
   "mimetype": "text/x-python",
   "name": "python",
   "nbconvert_exporter": "python",
   "pygments_lexer": "ipython3",
   "version": "3.9.12"
  },
  "orig_nbformat": 4
 },
 "nbformat": 4,
 "nbformat_minor": 2
}
