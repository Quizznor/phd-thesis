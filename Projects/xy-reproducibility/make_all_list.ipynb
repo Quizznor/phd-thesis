{
 "cells": [
  {
   "cell_type": "code",
   "execution_count": null,
   "metadata": {
    "metadata": {}
   },
   "outputs": [],
   "source": [
    "from utils.binaries import *"
   ]
  },
  {
   "cell_type": "code",
   "execution_count": null,
   "metadata": {
    "metadata": {}
   },
   "outputs": [],
   "source": [
    "runlist =  pd.read_csv(f'/cr/data01/filip/xy-calibration/config/calib_runlists/calib_runs_2022-10.list', sep=';')\n",
    "runlist['comment'] = [comment.strip() for comment in runlist['comment']]\n",
    "runlist['source'] = [source.strip() for source in runlist['source']]\n",
    "\n",
    "# add new runlists here!\n",
    "for month in ['2023-10', '2023-11']:\n",
    "    this_runlist = pd.read_csv(f'/cr/data01/filip/xy-calibration/config/calib_runlists/calib_runs_{month}.list', sep=';')\n",
    "    this_runlist['comment'] = [comment.strip() for comment in this_runlist['comment']]\n",
    "    this_runlist['source'] = [source.strip() for source in this_runlist['source']]\n",
    "\n",
    "    runlist = pd.concat([runlist, this_runlist], ignore_index=True)\n",
    "\n"
   ]
  },
  {
   "cell_type": "code",
   "execution_count": null,
   "metadata": {
    "metadata": {}
   },
   "outputs": [],
   "source": [
    "runlist"
   ]
  },
  {
   "cell_type": "code",
   "execution_count": null,
   "metadata": {
    "metadata": {}
   },
   "outputs": [],
   "source": [
    "only_xy_runs = runlist\n",
    "only_xy_runs = runlist.drop(runlist[runlist['comment'] != '\"\"'].index)\n",
    "only_xy_runs = only_xy_runs.drop(only_xy_runs[only_xy_runs['source'] != '\"OLO\"'].index)\n",
    "only_xy_runs = only_xy_runs.drop(only_xy_runs[only_xy_runs['forDB'] == 0].index)\n",
    "only_xy_runs"
   ]
  },
  {
   "cell_type": "code",
   "execution_count": null,
   "metadata": {
    "metadata": {}
   },
   "outputs": [],
   "source": [
    "XY_measurements = {}\n",
    "\n",
    "for index, measurement in only_xy_runs.iterrows():\n",
    "\n",
    "    try:\n",
    "        _ = XY_measurements[measurement['telescope'].strip()]\n",
    "    except KeyError:\n",
    "        XY_measurements[measurement['telescope'].strip()] = []\n",
    "\n",
    "    (runid, telescope), date = measurement[:2], measurement['date'].strip()\n",
    "\n",
    "    same_day = runlist[[d.strip() == date for d in runlist['date']]]\n",
    "    same_telescope = same_day[[t.strip() == telescope.strip() for t in same_day['telescope']]]\n",
    "\n",
    "    year, month, day = date.split('-')\n",
    "\n",
    "    XY_measurement = {'XY' : measurement['#runid'],\n",
    "                      'CalA_closed_shutter' : [None, None],\n",
    "                      'CalA_open_shutter' : [None, None], \n",
    "                      'date' : f\"{year}{month}\".replace('10','oct').replace('11','nov')}\n",
    "\n",
    "    # find Cal A closed shutter\n",
    "    for candidate_index, candidate in same_telescope.iterrows():\n",
    "        if candidate['comment'] == '\"Cal A\"':\n",
    "            if candidate_index < index: XY_measurement['CalA_closed_shutter'][0] = candidate['#runid']\n",
    "            if candidate_index > index: XY_measurement['CalA_closed_shutter'][1] = candidate['#runid']\n",
    "        if candidate['comment'] == '\"Cal A open shutter\"':\n",
    "            if candidate_index < index: XY_measurement['CalA_open_shutter'][0] = candidate['#runid']\n",
    "            if candidate_index > index: XY_measurement['CalA_open_shutter'][1] = candidate['#runid']\n",
    "\n",
    "    XY_measurements[telescope.strip()].append(XY_measurement)"
   ]
  },
  {
   "cell_type": "code",
   "execution_count": null,
   "metadata": {
    "metadata": {}
   },
   "outputs": [],
   "source": [
    "XY_measurements"
   ]
  },
  {
   "cell_type": "code",
   "execution_count": null,
   "metadata": {
    "metadata": {}
   },
   "outputs": [],
   "source": [
    "import pickle\n",
    "\n",
    "# save events to disk\n",
    "with open('/cr/users/filip/bin/utils/Auger/FD/xy_measurements.pkl', \"wb\") as f:\n",
    "    pickle.dump(XY_measurements, f, pickle.HIGHEST_PROTOCOL)"
   ]
  },
  {
   "cell_type": "code",
   "execution_count": 1,
   "metadata": {
    "metadata": {}
   },
   "outputs": [
    {
     "name": "stderr",
     "output_type": "stream",
     "text": [
      "\u001b[5m\u001b[1m\u001b[32m20:11:58\u001b[0m (\u001b[1m\u001b[35m   +1.8s\u001b[0m) \u001b[5m\u001b[1m\u001b[32m[INFO   ]\u001b[0m -- import \u001b[5m\u001b[1m\u001b[31mlogging\u001b[0m\n",
      "\u001b[5m\u001b[1m\u001b[32m20:11:59\u001b[0m (\u001b[1m\u001b[35m  +397ms\u001b[0m) \u001b[5m\u001b[1m\u001b[32m[INFO   ]\u001b[0m -- import \u001b[5m\u001b[1m\u001b[31mmatplotlib.pyplot\u001b[0m as \u001b[5m\u001b[1m\u001b[31mplt\u001b[0m\n",
      "\u001b[5m\u001b[1m\u001b[32m20:11:59\u001b[0m (\u001b[1m\u001b[35m  +599ms\u001b[0m) \u001b[5m\u001b[1m\u001b[32m[INFO   ]\u001b[0m -- import \u001b[5m\u001b[1m\u001b[31mseaborn\u001b[0m as \u001b[5m\u001b[1m\u001b[31mso\u001b[0m\n",
      "\u001b[5m\u001b[1m\u001b[34m20:11:59\u001b[0m (\u001b[1m\u001b[35m    +7ms\u001b[0m) \u001b[5m\u001b[1m\u001b[34m[DEBUG  ]\u001b[0m -- font size set to 9.5\n",
      "\u001b[5m\u001b[1m\u001b[34m20:11:59\u001b[0m (\u001b[1m\u001b[35m    +0ms\u001b[0m) \u001b[5m\u001b[1m\u001b[34m[DEBUG  ]\u001b[0m -- label size set to 13.0\n",
      "\u001b[5m\u001b[1m\u001b[34m20:11:59\u001b[0m (\u001b[1m\u001b[35m    +1ms\u001b[0m) \u001b[5m\u001b[1m\u001b[34m[DEBUG  ]\u001b[0m -- figure size set to [6.6, 3.3]\n",
      "\u001b[5m\u001b[1m\u001b[34m20:11:59\u001b[0m (\u001b[1m\u001b[35m    +1ms\u001b[0m) \u001b[5m\u001b[1m\u001b[34m[DEBUG  ]\u001b[0m -- markersize set to 2.0\n",
      "\u001b[5m\u001b[1m\u001b[34m20:11:59\u001b[0m (\u001b[1m\u001b[35m    +1ms\u001b[0m) \u001b[5m\u001b[1m\u001b[34m[DEBUG  ]\u001b[0m -- usetex set to False\n",
      "\u001b[5m\u001b[1m\u001b[32m20:11:59\u001b[0m (\u001b[1m\u001b[35m    +2ms\u001b[0m) \u001b[5m\u001b[1m\u001b[32m[INFO   ]\u001b[0m -- import \u001b[5m\u001b[1m\u001b[31mnumpy\u001b[0m as \u001b[5m\u001b[1m\u001b[31mnp\u001b[0m\n",
      "\u001b[5m\u001b[1m\u001b[32m20:11:59\u001b[0m (\u001b[1m\u001b[35m    +7ms\u001b[0m) \u001b[5m\u001b[1m\u001b[32m[INFO   ]\u001b[0m -- import \u001b[5m\u001b[1m\u001b[31muncertainties\u001b[0m\n",
      "\u001b[5m\u001b[1m\u001b[32m20:11:59\u001b[0m (\u001b[1m\u001b[35m    +1ms\u001b[0m) \u001b[5m\u001b[1m\u001b[32m[INFO   ]\u001b[0m -- import \u001b[5m\u001b[1m\u001b[31mpandas\u001b[0m as \u001b[5m\u001b[1m\u001b[31mpd\u001b[0m\n",
      "\u001b[5m\u001b[1m\u001b[33m20:11:59\u001b[0m (\u001b[1m\u001b[35m    +1ms\u001b[0m) \u001b[5m\u001b[1m\u001b[33m[WARNING]\u001b[0m -- pandas support to be dropped at some point!\n",
      "\u001b[5m\u001b[1m\u001b[32m20:11:59\u001b[0m (\u001b[1m\u001b[35m    +2ms\u001b[0m) \u001b[5m\u001b[1m\u001b[32m[INFO   ]\u001b[0m -- import \u001b[5m\u001b[1m\u001b[31mbinaries.tools\u001b[0m as \u001b[5m\u001b[1m\u001b[31mtools\u001b[0m\n",
      "\u001b[5m\u001b[1m\u001b[32m20:11:59\u001b[0m (\u001b[1m\u001b[35m    +1ms\u001b[0m) \u001b[5m\u001b[1m\u001b[32m[INFO   ]\u001b[0m -- import \u001b[5m\u001b[1m\u001b[31mplotting.tools\u001b[0m as \u001b[5m\u001b[1m\u001b[31mplot\u001b[0m\n"
     ]
    }
   ],
   "source": [
    "from utils.Auger.FD import XYscanner"
   ]
  },
  {
   "cell_type": "code",
   "execution_count": 6,
   "metadata": {},
   "outputs": [
    {
     "name": "stdout",
     "output_type": "stream",
     "text": [
      "{'XY': '15941x', 'CalA_closed_shutter': ['15929m21', '15956m21'], 'CalA_open_shutter': ['15940', '15950'], 'date': '2023nov'}\n"
     ]
    }
   ],
   "source": [
    "print(XYscanner.get_run_numbers('co3', '2023nov'))"
   ]
  },
  {
   "cell_type": "code",
   "execution_count": 4,
   "metadata": {},
   "outputs": [
    {
     "name": "stdout",
     "output_type": "stream",
     "text": [
      "[{'XY': '15448', 'CalA_closed_shutter': ['15440m21', '15459m21'], 'CalA_open_shutter': ['15447', '15449'], 'date': '2022oct'}, {'XY': '15941x', 'CalA_closed_shutter': ['15929m21', '15956m21'], 'CalA_open_shutter': ['15940', '15950'], 'date': '2023nov'}]\n"
     ]
    }
   ],
   "source": [
    "import pickle\n",
    "\n",
    "with open('/cr/users/filip/bin/utils/Auger/FD/xy_measurements.pkl', 'rb') as f:\n",
    "    data = pickle.load(f)\n",
    "\n",
    "\n",
    "print(data['co3'])"
   ]
  },
  {
   "cell_type": "code",
   "execution_count": 5,
   "metadata": {},
   "outputs": [
    {
     "name": "stdout",
     "output_type": "stream",
     "text": [
      "{'XY': '15448', 'CalA_closed_shutter': ['15440m21', '15459m21'], 'CalA_open_shutter': ['15447', '15449'], 'date': '2022oct'}\n",
      "{'XY': '15941x', 'CalA_closed_shutter': ['15929m21', '15956m21'], 'CalA_open_shutter': ['15940', '15950'], 'date': '2023nov'}\n"
     ]
    }
   ],
   "source": [
    "for measurement in data['co3']:\n",
    "    print(measurement)"
   ]
  },
  {
   "cell_type": "code",
   "execution_count": null,
   "metadata": {},
   "outputs": [],
   "source": []
  }
 ],
 "metadata": {
  "kernelspec": {
   "display_name": ".venv",
   "language": "python",
   "name": "python3"
  },
  "language_info": {
   "codemirror_mode": {
    "name": "ipython",
    "version": 3
   },
   "file_extension": ".py",
   "mimetype": "text/x-python",
   "name": "python",
   "nbconvert_exporter": "python",
   "pygments_lexer": "ipython3",
   "version": "3.10.12"
  }
 },
 "nbformat": 4,
 "nbformat_minor": 2
}
