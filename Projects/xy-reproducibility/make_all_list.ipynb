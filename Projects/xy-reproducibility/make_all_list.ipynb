{
 "cells": [
  {
   "cell_type": "code",
   "execution_count": null,
   "metadata": {
    "metadata": {}
   },
   "outputs": [],
   "source": [
    "from utils.binaries import *"
   ]
  },
  {
   "cell_type": "code",
   "execution_count": null,
   "metadata": {
    "metadata": {}
   },
   "outputs": [],
   "source": [
    "runlist =  pd.read_csv(f'/cr/data01/filip/xy-calibration/config/calib_runlists/calib_runs_2022-10.list', sep=';')\n",
    "runlist['comment'] = [comment.strip() for comment in runlist['comment']]\n",
    "runlist['source'] = [source.strip() for source in runlist['source']]\n",
    "\n",
    "\n",
    "for month in ['2023-10', '2023-11']:\n",
    "    this_runlist = pd.read_csv(f'/cr/data01/filip/xy-calibration/config/calib_runlists/calib_runs_{month}.list', sep=';')\n",
    "    this_runlist['comment'] = [comment.strip() for comment in this_runlist['comment']]\n",
    "    this_runlist['source'] = [source.strip() for source in this_runlist['source']]\n",
    "\n",
    "    runlist = pd.concat([runlist, this_runlist])\n",
    "\n"
   ]
  },
  {
   "cell_type": "code",
   "execution_count": null,
   "metadata": {
    "metadata": {}
   },
   "outputs": [],
   "source": [
    "runlist"
   ]
  },
  {
   "cell_type": "code",
   "execution_count": null,
   "metadata": {
    "metadata": {}
   },
   "outputs": [],
   "source": [
    "runlist['source'].keys()"
   ]
  },
  {
   "cell_type": "code",
   "execution_count": null,
   "metadata": {
    "metadata": {}
   },
   "outputs": [],
   "source": [
    "only_xy_runs = runlist\n",
    "# only_xy_runs = runlist.drop(runlist[runlist['comment'] != '\"\"'].index)\n",
    "only_xy_runs = runlist.drop(runlist[runlist['source'] != '\"OLO\"'].index)\n",
    "# only_xy_runs = runlist.drop(runlist[runlist['forDB'] == 0].index)\n",
    "only_xy_runs"
   ]
  },
  {
   "cell_type": "code",
   "execution_count": null,
   "metadata": {
    "metadata": {}
   },
   "outputs": [],
   "source": [
    "XY_measurements = {}\n",
    "\n",
    "for index, measurement in only_xy_runs.iterrows():\n",
    "\n",
    "    try:\n",
    "        _ = XY_measurements[measurement['telescope'].strip()]\n",
    "    except KeyError:\n",
    "        XY_measurements[measurement['telescope'].strip()] = []\n",
    "\n",
    "    (runid, telescope), date = measurement[:2], measurement['date'].strip()\n",
    "\n",
    "    same_day = runlist[[d.strip() == date for d in runlist['date']]]\n",
    "    same_telescope = same_day[[t.strip() == telescope.strip() for t in same_day['telescope']]]\n",
    "\n",
    "    year, month, day = date.split('-')\n",
    "\n",
    "    XY_measurement = {'XY' : measurement['#runid'],\n",
    "                      'CalA_open_shutter' : [None, None], \n",
    "                      'date' : f\"{year}{month}\".replace('10','oct').replace('11','nov')}\n",
    "\n",
    "    # find Cal A closed shutter\n",
    "    for candidate_index, candidate in same_telescope.iterrows():\n",
    "        if candidate['comment'] == '\"Cal A\"':\n",
    "            if candidate_index < index: XY_measurement['CalA_closed_shutter'][0] = candidate['#runid']\n",
    "            if candidate_index > index: XY_measurement['CalA_closed_shutter'][1] = candidate['#runid']\n",
    "        if candidate['comment'] == '\"Cal A open shutter\"':\n",
    "            if candidate_index < index: XY_measurement['CalA_open_shutter'][0] = candidate['#runid']\n",
    "            if candidate_index > index: XY_measurement['CalA_open_shutter'][1] = candidate['#runid']\n",
    "\n",
    "    XY_measurements[telescope.strip()].append(XY_measurement)"
   ]
  },
  {
   "cell_type": "code",
   "execution_count": null,
   "metadata": {
    "metadata": {}
   },
   "outputs": [],
   "source": [
    "XY_measurements"
   ]
  },
  {
   "cell_type": "code",
   "execution_count": null,
   "metadata": {
    "metadata": {}
   },
   "outputs": [],
   "source": [
    "import pickle\n",
    "\n",
    "# save events to disk\n",
    "with open('/cr/users/filip/Projects/xy-reproducibility/reproducibility_dataset.pkl', \"wb\") as f:\n",
    "    pickle.dump(XY_measurements, f, pickle.HIGHEST_PROTOCOL)"
   ]
  },
  {
   "cell_type": "code",
   "execution_count": null,
   "metadata": {
    "metadata": {}
   },
   "outputs": [],
   "source": []
  }
 ],
 "metadata": {
  "kernelspec": {
   "display_name": ".venv",
   "language": "python",
   "name": "python3"
  },
  "language_info": {
   "codemirror_mode": {
    "name": "ipython",
    "version": 3
   },
   "file_extension": ".py",
   "mimetype": "text/x-python",
   "name": "python",
   "nbconvert_exporter": "python",
   "pygments_lexer": "ipython3",
   "version": "3.10.12"
  }
 },
 "nbformat": 4,
 "nbformat_minor": 2
}
